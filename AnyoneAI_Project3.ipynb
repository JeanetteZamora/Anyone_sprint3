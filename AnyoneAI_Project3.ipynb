{
 "cells": [
  {
   "cell_type": "markdown",
   "id": "9d3c07ee-c3bf-4530-812a-36405502b38d",
   "metadata": {
    "id": "9d3c07ee-c3bf-4530-812a-36405502b38d"
   },
   "source": [
    "# Anyone AI"
   ]
  },
  {
   "cell_type": "markdown",
   "id": "12c65989-2d1a-4e6e-9332-092ff6830d29",
   "metadata": {
    "id": "12c65989-2d1a-4e6e-9332-092ff6830d29"
   },
   "source": [
    "# Project III - Home Credit Default Risk"
   ]
  },
  {
   "cell_type": "markdown",
   "id": "b5a8ce13-f23a-41bf-a8c7-d432ebcbe0c1",
   "metadata": {
    "id": "b5a8ce13-f23a-41bf-a8c7-d432ebcbe0c1"
   },
   "source": [
    "You've been learning a lot about Machine Learning Algorithms, now we you're gonna be asked to put it all together. "
   ]
  },
  {
   "cell_type": "markdown",
   "id": "58ca3658-e8a1-41ba-a823-1a88ca9ef34b",
   "metadata": {
    "id": "58ca3658-e8a1-41ba-a823-1a88ca9ef34b"
   },
   "source": [
    "You will create a complete pipeline to preprocess the data, train your model and then predict values for the [Home Credit Default Risk](https://www.kaggle.com/competitions/home-credit-default-risk/) Kaggle competition."
   ]
  },
  {
   "cell_type": "markdown",
   "id": "e396c950-04b0-453e-b930-a22a96cee2d1",
   "metadata": {
    "id": "e396c950-04b0-453e-b930-a22a96cee2d1"
   },
   "source": [
    "## Introduction"
   ]
  },
  {
   "cell_type": "markdown",
   "id": "6a305c07-e042-4c59-8aea-03475afc09dd",
   "metadata": {
    "id": "6a305c07-e042-4c59-8aea-03475afc09dd"
   },
   "source": [
    "Kaggle is a web platform and community for data scientist and machine learning engineers where competetitions and datasets are regularly published.\n",
    "\n",
    "This particular competition is a binary Classification task: we want to predict whether the person applying for a home credit will be able to repay its debt or not. The competition finished 4 years ago, so you will find a lot of blog posts and code written for it, we encourage you to read everything you can about it.\n",
    "\n",
    "The dataset is composed of multiple files with different information about loands taken. In this project we're going to exclusively work with the main files: application_train.csv and application_test.csv.\n",
    "\n",
    "The competition uses [Area Under the ROC Curve](https://developers.google.com/machine-learning/crash-course/classification/roc-and-auc?hl=es_419) as the evaluation metric, so our models will have to return the probabilities that a loan is not paid for each row."
   ]
  },
  {
   "cell_type": "code",
   "execution_count": null,
   "id": "PlJnA8GQcGln",
   "metadata": {
    "colab": {
     "base_uri": "https://localhost:8080/"
    },
    "id": "PlJnA8GQcGln",
    "outputId": "c87b4333-4114-49df-b74a-80a4ef654ac9"
   },
   "outputs": [],
   "source": [
    "# pip install category_encoders\n"
   ]
  },
  {
   "cell_type": "code",
   "execution_count": 8,
   "id": "jczLbUK8Ml8l",
   "metadata": {
    "colab": {
     "base_uri": "https://localhost:8080/"
    },
    "id": "jczLbUK8Ml8l",
    "outputId": "f80dd53e-6736-4a8d-d9c0-02438d3e68bc"
   },
   "outputs": [],
   "source": [
    "import pandas as pd\n",
    "pd.options.display.max_columns = None\n",
    "pd.options.display.max_rows = None\n",
    "import numpy as np\n",
    "import matplotlib.pyplot as plt\n",
    "import seaborn as sns\n",
    "from sklearn.impute import SimpleImputer\n",
    "import category_encoders as ce\n",
    "from sklearn.preprocessing import OneHotEncoder\n",
    "from sklearn.preprocessing import MinMaxScaler\n",
    "from sklearn.linear_model import LogisticRegression\n",
    "from sklearn.model_selection import train_test_split\n",
    "from sklearn.metrics import roc_auc_score\n",
    "from sklearn.metrics import mean_absolute_error\n",
    "from sklearn.ensemble import RandomForestClassifier\n",
    "from sklearn.model_selection import RandomizedSearchCV"
   ]
  },
  {
   "cell_type": "markdown",
   "id": "3ab085b5-379c-4e02-9f96-08edf5dbf887",
   "metadata": {
    "id": "3ab085b5-379c-4e02-9f96-08edf5dbf887"
   },
   "source": [
    "### Getting the data"
   ]
  },
  {
   "cell_type": "markdown",
   "id": "73354ae2-3adf-43c7-b3f3-849db316bfd3",
   "metadata": {
    "id": "73354ae2-3adf-43c7-b3f3-849db316bfd3"
   },
   "source": [
    "1- Login to Kaggle (if you don't have an account you'll have to register to get it) and download the [complete dataset](https://www.kaggle.com/competitions/home-credit-default-risk/data). Read the information about the data. What does a row in the main file represent? What does the target variable means?"
   ]
  },
  {
   "cell_type": "markdown",
   "id": "c4f50673-a197-4ea4-99df-3d4435bd643d",
   "metadata": {
    "id": "c4f50673-a197-4ea4-99df-3d4435bd643d"
   },
   "source": [
    "One row represents one loan in our data sample.\n",
    "The target variable says wether the loan was repaid (0) or not (1)"
   ]
  },
  {
   "cell_type": "markdown",
   "id": "25a0a724-ceb1-40cb-b123-b8c907a9c06f",
   "metadata": {
    "id": "25a0a724-ceb1-40cb-b123-b8c907a9c06f"
   },
   "source": [
    "2- Load the training and test datasets, we're only going to work withe \"application_train.csv\" and \"application_test.csv\" for now"
   ]
  },
  {
   "cell_type": "code",
   "execution_count": 21,
   "id": "1d62ba4d-a3f6-443b-8c3e-65582a85d8a6",
   "metadata": {
    "id": "1d62ba4d-a3f6-443b-8c3e-65582a85d8a6"
   },
   "outputs": [],
   "source": [
    "application_train = pd.read_csv(\"application_train.csv\")"
   ]
  },
  {
   "cell_type": "code",
   "execution_count": 22,
   "id": "O0iQl_JNM4dq",
   "metadata": {
    "id": "O0iQl_JNM4dq"
   },
   "outputs": [],
   "source": [
    "application_test = pd.read_csv(\"application_test.csv\")"
   ]
  },
  {
   "cell_type": "markdown",
   "id": "7c10a608-5c38-44f4-8158-18225619e7ae",
   "metadata": {
    "id": "7c10a608-5c38-44f4-8158-18225619e7ae",
    "tags": []
   },
   "source": [
    "### Exploratory Data Analysis"
   ]
  },
  {
   "cell_type": "markdown",
   "id": "6bc490ab-a7b3-4590-a93c-70df44787682",
   "metadata": {
    "id": "6bc490ab-a7b3-4590-a93c-70df44787682"
   },
   "source": [
    "A lot of the analysis of the data can be found on public available Kaggle kernels or blog posts, but you need to make sure you understand the datasets properties before starting working on it, so we'll do exploratory data analysis for the main files"
   ]
  },
  {
   "cell_type": "markdown",
   "id": "2ea774d3-e12c-4c2b-846d-8c5c03e70928",
   "metadata": {
    "id": "2ea774d3-e12c-4c2b-846d-8c5c03e70928"
   },
   "source": [
    "**Dataset Basics**"
   ]
  },
  {
   "cell_type": "markdown",
   "id": "9f0b4817-5768-49d2-b5f2-907827541f16",
   "metadata": {
    "id": "9f0b4817-5768-49d2-b5f2-907827541f16"
   },
   "source": [
    "1- Show the shape of the training and test datasets."
   ]
  },
  {
   "cell_type": "code",
   "execution_count": null,
   "id": "1jyLkE5R0pYg",
   "metadata": {
    "colab": {
     "base_uri": "https://localhost:8080/"
    },
    "id": "1jyLkE5R0pYg",
    "outputId": "11175193-711c-414b-9069-bcef3c760bdc"
   },
   "outputs": [],
   "source": [
    "print(f\"The dataset has {application_train.index.shape} observations and {len(application_train.columns)} columns.\")"
   ]
  },
  {
   "cell_type": "code",
   "execution_count": null,
   "id": "NzTbFd4b1M4V",
   "metadata": {
    "colab": {
     "base_uri": "https://localhost:8080/"
    },
    "id": "NzTbFd4b1M4V",
    "outputId": "ffc5571b-aee4-40ca-b413-f7d8afe980ea"
   },
   "outputs": [],
   "source": [
    "print(f\"The dataset has {application_test.index.shape} observations and {len(application_test.columns)} columns.\")"
   ]
  },
  {
   "cell_type": "markdown",
   "id": "eoMRxDP-1c7l",
   "metadata": {
    "id": "eoMRxDP-1c7l"
   },
   "source": [
    "**The training dataset include the Target**."
   ]
  },
  {
   "cell_type": "markdown",
   "id": "74e7a95b-8288-4ead-8c1e-f2cf68167d8e",
   "metadata": {
    "id": "74e7a95b-8288-4ead-8c1e-f2cf68167d8e"
   },
   "source": [
    "2- List all columns in the train dataset\n"
   ]
  },
  {
   "cell_type": "code",
   "execution_count": null,
   "id": "UwbBxeXRNhV2",
   "metadata": {
    "id": "UwbBxeXRNhV2"
   },
   "outputs": [],
   "source": [
    "columns = list(application_train.columns)"
   ]
  },
  {
   "cell_type": "code",
   "execution_count": null,
   "id": "RMdP6QyhRQ-P",
   "metadata": {
    "colab": {
     "base_uri": "https://localhost:8080/"
    },
    "id": "RMdP6QyhRQ-P",
    "outputId": "205c1773-cab5-406f-f0a5-b2ba79e9e0d1"
   },
   "outputs": [],
   "source": [
    "print(f\"Columns name: {columns}\")"
   ]
  },
  {
   "cell_type": "code",
   "execution_count": null,
   "id": "LYHrQw23ROHi",
   "metadata": {
    "colab": {
     "base_uri": "https://localhost:8080/"
    },
    "id": "LYHrQw23ROHi",
    "outputId": "6dd18d33-9dde-49ac-973e-02dd9d7e9520"
   },
   "outputs": [],
   "source": [
    "print(f\"Number of columns: {len(columns)}\")"
   ]
  },
  {
   "cell_type": "markdown",
   "id": "2dc4835f-90c3-4049-9ec2-44d102201104",
   "metadata": {
    "id": "2dc4835f-90c3-4049-9ec2-44d102201104"
   },
   "source": [
    "3- Show the first 5 records of the training dataset, transpose the dataframe to see each record as a column and features as rows, make sure all features are visualized. Take your time to review what kind of information you can gather from this data."
   ]
  },
  {
   "cell_type": "code",
   "execution_count": null,
   "id": "ac9c85b3-52e0-4b80-9753-afb81f92bd0d",
   "metadata": {
    "colab": {
     "base_uri": "https://localhost:8080/",
     "height": 1000
    },
    "id": "ac9c85b3-52e0-4b80-9753-afb81f92bd0d",
    "outputId": "f4947db9-9de0-4f6a-d760-20e24359102c"
   },
   "outputs": [],
   "source": [
    "print(f\"Data from the first 5 records:\")\n",
    "\n",
    "application_train.head(6).transpose()"
   ]
  },
  {
   "cell_type": "markdown",
   "id": "59da8f46-e503-4b67-8e73-ac61c394824c",
   "metadata": {
    "id": "59da8f46-e503-4b67-8e73-ac61c394824c"
   },
   "source": [
    "4- Show the distribution of the target variable values: print the total value count and the percentage of each value, plot this relationship."
   ]
  },
  {
   "cell_type": "code",
   "execution_count": null,
   "id": "8855d370-c825-415b-9dd0-9dbdd576fada",
   "metadata": {
    "colab": {
     "base_uri": "https://localhost:8080/"
    },
    "id": "8855d370-c825-415b-9dd0-9dbdd576fada",
    "outputId": "03b94e46-8081-4920-af9c-02f1a7c51921"
   },
   "outputs": [],
   "source": [
    "print(f\"Summary of statistics pertaining to the Target column:\")\n",
    "\n",
    "application_train[\"TARGET\"].describe()"
   ]
  },
  {
   "cell_type": "code",
   "execution_count": null,
   "id": "gpWX2r1q_EI8",
   "metadata": {
    "colab": {
     "base_uri": "https://localhost:8080/"
    },
    "id": "gpWX2r1q_EI8",
    "outputId": "4d1ac831-fb85-4fa6-96d4-34db8eb8871b"
   },
   "outputs": [],
   "source": [
    "print(f\"Quantity per label:\\n\\n {application_train['TARGET'].value_counts()}\")"
   ]
  },
  {
   "cell_type": "code",
   "execution_count": null,
   "id": "sqMI4QtNHik-",
   "metadata": {
    "colab": {
     "base_uri": "https://localhost:8080/"
    },
    "id": "sqMI4QtNHik-",
    "outputId": "0890dc3d-e12a-451d-b977-4c519df1e387"
   },
   "outputs": [],
   "source": [
    "Percentage = round(application_train.groupby(\"TARGET\").size()/len(\n",
    "    application_train[\"TARGET\"])*100,2).sort_values(ascending=False)\n",
    "    \n",
    "print(f\"Percentage of each value: {Percentage}\")"
   ]
  },
  {
   "cell_type": "code",
   "execution_count": null,
   "id": "v23zvriNEz1G",
   "metadata": {
    "colab": {
     "base_uri": "https://localhost:8080/",
     "height": 402
    },
    "id": "v23zvriNEz1G",
    "outputId": "f8d75fa7-f78b-4ef1-c075-fbd3eda26df8"
   },
   "outputs": [],
   "source": [
    "fig, axes = plt.subplots(figsize=(10, 5))\n",
    "sns.histplot(data=application_train, x=\"TARGET\", bins=2)\n",
    "fig.tight_layout()\n",
    "plt.title(\"Target total value count \")"
   ]
  },
  {
   "cell_type": "markdown",
   "id": "cc7b5a63-da31-4a61-9e91-9708dc7633a7",
   "metadata": {
    "id": "cc7b5a63-da31-4a61-9e91-9708dc7633a7"
   },
   "source": [
    "5- Show the number of columns of each data type"
   ]
  },
  {
   "cell_type": "code",
   "execution_count": null,
   "id": "b74878dd-cc48-4e69-bc35-e90457d54b3a",
   "metadata": {
    "colab": {
     "base_uri": "https://localhost:8080/"
    },
    "id": "b74878dd-cc48-4e69-bc35-e90457d54b3a",
    "outputId": "56914994-ce32-4c81-f0b5-6c5320ea347a"
   },
   "outputs": [],
   "source": [
    "application_train.dtypes.value_counts()"
   ]
  },
  {
   "cell_type": "markdown",
   "id": "c0a8799e-d32a-4239-a85d-6ff29ab4682f",
   "metadata": {
    "id": "c0a8799e-d32a-4239-a85d-6ff29ab4682f"
   },
   "source": [
    "6- For categorical variables, show the number of distinct values in each column (number of labels)"
   ]
  },
  {
   "cell_type": "code",
   "execution_count": null,
   "id": "8b294976-dc0d-44bd-9bf6-29ba1f6a2e2b",
   "metadata": {
    "colab": {
     "base_uri": "https://localhost:8080/"
    },
    "id": "8b294976-dc0d-44bd-9bf6-29ba1f6a2e2b",
    "outputId": "7e8c714d-0751-40e5-9c18-6422897f5bdd"
   },
   "outputs": [],
   "source": [
    "categorical_features = application_train.select_dtypes(include=['object'])\n",
    "print(f\"Categorical variables:\\n {categorical_features.columns}\\n\")\n",
    "print(f\"Number of categorical variables: {len(categorical_features.columns)}\")"
   ]
  },
  {
   "cell_type": "code",
   "execution_count": null,
   "id": "b51VQkFuNGBr",
   "metadata": {
    "colab": {
     "base_uri": "https://localhost:8080/"
    },
    "id": "b51VQkFuNGBr",
    "outputId": "1f4d5ffe-5ee3-4eaf-cb19-9d59f4575586"
   },
   "outputs": [],
   "source": [
    "list_train = []\n",
    "for column in categorical_features:\n",
    "  print(f'Number of labels {column}:{len(dict(categorical_features.groupby(column).size()).keys())}\\n')\n",
    "  print(f'Labels {column}:{dict(categorical_features.groupby(column).size()).keys()}\\n')\n",
    "  list_train += (dict(categorical_features.groupby(column).size()).keys())"
   ]
  },
  {
   "cell_type": "code",
   "execution_count": null,
   "id": "e8NLt2JQR-Hg",
   "metadata": {
    "colab": {
     "base_uri": "https://localhost:8080/"
    },
    "id": "e8NLt2JQR-Hg",
    "outputId": "5b3c6356-d120-4cb1-e651-a36d79c3c866"
   },
   "outputs": [],
   "source": [
    "categorical_features_test = application_test.select_dtypes(include=['object'])\n",
    "print(f\"Categorical variables:\\n {categorical_features_test.columns}\\n\")\n",
    "print(f\"Number of categorical variables: {len(categorical_features_test.columns)}\")"
   ]
  },
  {
   "cell_type": "code",
   "execution_count": null,
   "id": "D47NEL48SFlc",
   "metadata": {
    "colab": {
     "base_uri": "https://localhost:8080/"
    },
    "id": "D47NEL48SFlc",
    "outputId": "f49288ec-e35f-4080-dbd5-4557294c1c60"
   },
   "outputs": [],
   "source": [
    "list_test = []\n",
    "\n",
    "for column in categorical_features_test:\n",
    "  print(f'Number of labels {column}:{len(dict(categorical_features_test.groupby(column).size()).keys())}\\n')\n",
    "  print(f'Labels {column}:{dict(categorical_features_test.groupby(column).size()).keys()}\\n')\n",
    "  list_test += (dict(categorical_features_test.groupby(column).size()).keys())"
   ]
  },
  {
   "cell_type": "code",
   "execution_count": null,
   "id": "kZdsnDMgS1d9",
   "metadata": {
    "colab": {
     "base_uri": "https://localhost:8080/"
    },
    "id": "kZdsnDMgS1d9",
    "outputId": "0ae92760-5534-41f0-cc24-6edb7b2bc0c1"
   },
   "outputs": [],
   "source": [
    "set(list_train) - set(list_test)"
   ]
  },
  {
   "cell_type": "markdown",
   "id": "fC6hR15bU2Wm",
   "metadata": {
    "id": "fC6hR15bU2Wm"
   },
   "source": [
    "**The datatrain has labels that the datatest does not.**\n",
    "\n",
    "- MATERNITY LEAVE\n",
    "- UNKNOWN\n",
    "- XNA en gender"
   ]
  },
  {
   "cell_type": "markdown",
   "id": "967d1938-e27d-4fbd-9bdc-f26364f5fdfd",
   "metadata": {
    "id": "967d1938-e27d-4fbd-9bdc-f26364f5fdfd"
   },
   "source": [
    "7- Analyzing missing data: show the percentage of missing data for each column ordered by percentage descending (show only the 20 columns with higher missing pct)"
   ]
  },
  {
   "cell_type": "code",
   "execution_count": null,
   "id": "Gg8Rtjt8Qd_E",
   "metadata": {
    "colab": {
     "base_uri": "https://localhost:8080/"
    },
    "id": "Gg8Rtjt8Qd_E",
    "outputId": "fe1d2311-02eb-40da-ea2b-9abde548a64a"
   },
   "outputs": [],
   "source": [
    "PercentageMissing = round((application_train.isnull().sum()/len(application_train))*100,2\n",
    "      ).sort_values(ascending=False)\n",
    "\n",
    "print(f\"Percentage of missing data for each column:\\n {PercentageMissing[0:20]}\")\n",
    "print(f\"Number of columns with more than half of their null values: {len(PercentageMissing[PercentageMissing > 40])}\")\n"
   ]
  },
  {
   "cell_type": "markdown",
   "id": "783c5bb6-6b6d-4e34-bbe2-3a5dc319a4f0",
   "metadata": {
    "id": "783c5bb6-6b6d-4e34-bbe2-3a5dc319a4f0"
   },
   "source": [
    "**Analyzing distribution of variables**"
   ]
  },
  {
   "cell_type": "markdown",
   "id": "9c79d319-bde8-47a4-890d-6694edf221e2",
   "metadata": {
    "id": "9c79d319-bde8-47a4-890d-6694edf221e2"
   },
   "source": [
    "1- Show the distribution of credit amounts"
   ]
  },
  {
   "cell_type": "code",
   "execution_count": null,
   "id": "ETP9me7x-p4-",
   "metadata": {
    "colab": {
     "base_uri": "https://localhost:8080/",
     "height": 346
    },
    "id": "ETP9me7x-p4-",
    "outputId": "3d5b71f1-ecab-4022-95fd-b4733167c91e"
   },
   "outputs": [],
   "source": [
    "ax = sns.distplot(application_train['AMT_CREDIT'])"
   ]
  },
  {
   "cell_type": "markdown",
   "id": "f4e7bf4a-25c7-47c0-aea8-ed916d8827f6",
   "metadata": {
    "id": "f4e7bf4a-25c7-47c0-aea8-ed916d8827f6"
   },
   "source": [
    "2- Plot the education level of the credit applicants, show the percentages of each category. Also print the total counts for each category."
   ]
  },
  {
   "cell_type": "code",
   "execution_count": null,
   "id": "406d7d06-b21a-4938-8e3d-11798def489b",
   "metadata": {
    "colab": {
     "base_uri": "https://localhost:8080/"
    },
    "id": "406d7d06-b21a-4938-8e3d-11798def489b",
    "outputId": "c9ee71eb-9b89-4d80-a542-a949f6be23c9"
   },
   "outputs": [],
   "source": [
    "application_train.groupby(\"NAME_EDUCATION_TYPE\").size()"
   ]
  },
  {
   "cell_type": "code",
   "execution_count": null,
   "id": "ECkt-p3RTJKB",
   "metadata": {
    "colab": {
     "base_uri": "https://localhost:8080/"
    },
    "id": "ECkt-p3RTJKB",
    "outputId": "6e33762e-c2c1-4650-a4d4-6b57d4cbf128"
   },
   "outputs": [],
   "source": [
    "round(application_train.groupby(\"NAME_EDUCATION_TYPE\").size()/len(\n",
    "    application_train[\"NAME_EDUCATION_TYPE\"])*100,2).sort_values(ascending=False)"
   ]
  },
  {
   "cell_type": "markdown",
   "id": "78e17d30-acce-4b7f-bacc-af488cda3e7d",
   "metadata": {
    "id": "78e17d30-acce-4b7f-bacc-af488cda3e7d"
   },
   "source": [
    "3- Plot the distribution of ocupation of the loan applicants"
   ]
  },
  {
   "cell_type": "code",
   "execution_count": null,
   "id": "UgeGkWEDOV1H",
   "metadata": {
    "colab": {
     "base_uri": "https://localhost:8080/"
    },
    "id": "UgeGkWEDOV1H",
    "outputId": "002661bb-ca51-47d2-8b5c-dd7375f0a6c7"
   },
   "outputs": [],
   "source": [
    "round(application_train.groupby(\"OCCUPATION_TYPE\").size()/len(\n",
    "    application_train[\"OCCUPATION_TYPE\"])*100,2).sort_values(ascending=False)"
   ]
  },
  {
   "cell_type": "markdown",
   "id": "824b1bc0-4dad-4ce8-b574-cbae5984a589",
   "metadata": {
    "id": "824b1bc0-4dad-4ce8-b574-cbae5984a589"
   },
   "source": [
    "4- Plot the family status of the applicants"
   ]
  },
  {
   "cell_type": "code",
   "execution_count": null,
   "id": "95463328-4392-435e-a203-95e28998930b",
   "metadata": {
    "colab": {
     "base_uri": "https://localhost:8080/"
    },
    "id": "95463328-4392-435e-a203-95e28998930b",
    "outputId": "dc9b44bd-aa45-4dd7-8859-715a7aebeb13"
   },
   "outputs": [],
   "source": [
    "round(application_train.groupby(\"NAME_FAMILY_STATUS\").size()/len(\n",
    "    application_train[\"NAME_FAMILY_STATUS\"])*100,2).sort_values(ascending=False)\n"
   ]
  },
  {
   "cell_type": "markdown",
   "id": "efa77db6-a50a-454e-b1b2-83abe3c8baae",
   "metadata": {
    "id": "efa77db6-a50a-454e-b1b2-83abe3c8baae"
   },
   "source": [
    "5- Plot the income type of applicants grouped by the target variable"
   ]
  },
  {
   "cell_type": "code",
   "execution_count": null,
   "id": "V-efPOlIZsAm",
   "metadata": {
    "colab": {
     "base_uri": "https://localhost:8080/"
    },
    "id": "V-efPOlIZsAm",
    "outputId": "1b81847d-ed97-4e48-9026-13f1a577aa74"
   },
   "outputs": [],
   "source": [
    "round(application_train.groupby(\"NAME_INCOME_TYPE\").size()/len(\n",
    "    application_train[\"NAME_INCOME_TYPE\"])*100,2).sort_values(ascending=False)"
   ]
  },
  {
   "cell_type": "code",
   "execution_count": null,
   "id": "2a3-8zjiVOhW",
   "metadata": {
    "colab": {
     "base_uri": "https://localhost:8080/",
     "height": 488
    },
    "id": "2a3-8zjiVOhW",
    "outputId": "791a6447-e2a2-4c4e-b212-6991eac00ab6"
   },
   "outputs": [],
   "source": [
    "INCOME_TYPE = pd.DataFrame(round(application_train.groupby([\"NAME_INCOME_TYPE\",\"TARGET\"]).size()/len(\n",
    "    application_train[\"NAME_INCOME_TYPE\"])*100,2).reset_index(name=\"Count\").sort_values(by=\"Count\", ascending=False))\n",
    "\n",
    "INCOME_TYPE"
   ]
  },
  {
   "cell_type": "code",
   "execution_count": null,
   "id": "HvdLsrUUOryu",
   "metadata": {
    "colab": {
     "base_uri": "https://localhost:8080/",
     "height": 386
    },
    "id": "HvdLsrUUOryu",
    "outputId": "ca371c46-4aad-4da8-a5b7-11420c30de61"
   },
   "outputs": [],
   "source": [
    "sns.catplot(y=\"NAME_INCOME_TYPE\",x=\"Count\", hue=\"TARGET\", kind=\"bar\" ,data=INCOME_TYPE)"
   ]
  },
  {
   "cell_type": "markdown",
   "id": "HaOfVLPgVgJo",
   "metadata": {
    "id": "HaOfVLPgVgJo"
   },
   "source": [
    "**The maternity leave and unknown tags have null values, the XNA in gender will be corrected.**"
   ]
  },
  {
   "cell_type": "markdown",
   "id": "qB7jnNjlOCAK",
   "metadata": {
    "id": "qB7jnNjlOCAK"
   },
   "source": [
    "**Graph for each qualitative variable**"
   ]
  },
  {
   "cell_type": "code",
   "execution_count": null,
   "id": "cZQDaZiMMIpj",
   "metadata": {
    "colab": {
     "base_uri": "https://localhost:8080/",
     "height": 726
    },
    "id": "cZQDaZiMMIpj",
    "outputId": "233a3021-b7de-4368-fd41-6b8eca23d5ca"
   },
   "outputs": [],
   "source": [
    "# Graph for each qualitative variable\n",
    "\n",
    "fig, axes = plt.subplots(nrows=2, ncols=2, figsize=(15, 10))\n",
    "axes = axes.flat\n",
    "columnas_object = application_train[[\"NAME_INCOME_TYPE\",\"NAME_FAMILY_STATUS\",\n",
    "                                     \"OCCUPATION_TYPE\",\"NAME_EDUCATION_TYPE\"]\n",
    "                                    ].columns\n",
    "\n",
    "for i, colum in enumerate(columnas_object):\n",
    "    application_train[colum].value_counts().plot.barh(ax = axes[i])\n",
    "    axes[i].set_title(colum, fontsize = 10, fontweight = \"bold\")\n",
    "    axes[i].tick_params(labelsize = 10)\n",
    "    axes[i].set_xlabel(\"\")\n",
    "    \n",
    "fig.tight_layout()\n",
    "plt.subplots_adjust(top=0.9)\n",
    "fig.suptitle('Distribution of qualitative variables',\n",
    "             fontsize = 10, fontweight = \"bold\");"
   ]
  },
  {
   "cell_type": "markdown",
   "id": "30GXvqghZH0f",
   "metadata": {
    "id": "30GXvqghZH0f"
   },
   "source": [
    "**We have a very unbalanced dataset since only 8% of the target variable corresponds to an approved loan.\n",
    "Regarding the applicants, we can see that half obtain their income from a job, the majority are workers, are married (>50%) and have a secondary/special secondary level of study.**"
   ]
  },
  {
   "cell_type": "markdown",
   "id": "vRbl_vJ8aO4s",
   "metadata": {
    "id": "vRbl_vJ8aO4s"
   },
   "source": [
    "**Of 122 columns, 41 have more than half of their null values.**"
   ]
  },
  {
   "cell_type": "markdown",
   "id": "xzwkp-nMV8kI",
   "metadata": {
    "id": "xzwkp-nMV8kI"
   },
   "source": [
    "**Columns with more than 50% of their null values will be removed.**"
   ]
  },
  {
   "cell_type": "markdown",
   "id": "675b1ae3-c943-4737-bdb8-2ecff733b27b",
   "metadata": {
    "id": "675b1ae3-c943-4737-bdb8-2ecff733b27b"
   },
   "source": [
    "## Preprocessing"
   ]
  },
  {
   "cell_type": "markdown",
   "id": "51397c38-0204-454b-8fe6-011dc8c38418",
   "metadata": {
    "id": "51397c38-0204-454b-8fe6-011dc8c38418"
   },
   "source": [
    "In this section, you will code a function to make all the data pre processing for the dataset. What you have to deliver is a function that takes the train and test dataframes, processes all features, and returns the transformed data as numpy arrays ready to be used for training."
   ]
  },
  {
   "cell_type": "markdown",
   "id": "b72d36eb-3ae5-40b3-b9d2-48f6abdeb734",
   "metadata": {
    "id": "b72d36eb-3ae5-40b3-b9d2-48f6abdeb734"
   },
   "source": [
    "The function should perform these activities:\n",
    "\n",
    "- Correct outliers/anomalous values in numerical columns (hint: take a look at the DAYS_EMPLOYED column)\n",
    "- Impute values for all columns with missing data (use median as imputing value)\n",
    "- Encode categorical features:\n",
    "    - If feature has 2 categories encode using binary encoding\n",
    "    - More than 2 categories, use one hot encoding \n",
    "- Feature scaling\n",
    "\n",
    "Keep in mind that you could get different number of columns in train and test because some category could only be present in one of the dataframes, this could create more one hot encoded columns. You should align train and test to have the same number of columns"
   ]
  },
  {
   "cell_type": "code",
   "execution_count": null,
   "id": "4IcUdj-eqeZb",
   "metadata": {
    "id": "4IcUdj-eqeZb"
   },
   "outputs": [],
   "source": [
    "numerical_features = application_train.select_dtypes(exclude=['object'])"
   ]
  },
  {
   "cell_type": "code",
   "execution_count": null,
   "id": "ljZ-Lzrz3EeX",
   "metadata": {
    "colab": {
     "base_uri": "https://localhost:8080/"
    },
    "id": "ljZ-Lzrz3EeX",
    "outputId": "e909139e-7ccc-4929-cd42-08543b972500"
   },
   "outputs": [],
   "source": [
    "numerical_features.columns"
   ]
  },
  {
   "cell_type": "code",
   "execution_count": null,
   "id": "xx73P7Mq6Ui4",
   "metadata": {
    "colab": {
     "base_uri": "https://localhost:8080/"
    },
    "id": "xx73P7Mq6Ui4",
    "outputId": "5dcad20e-5d97-424a-a4fe-5a4b2cc2ff09"
   },
   "outputs": [],
   "source": [
    "corr_matrix = numerical_features.corr()\n",
    "print(corr_matrix[\"TARGET\"].sort_values(ascending=False)[0:5])\n",
    "print(\"\\n------------------------------------\\n\")\n",
    "print(corr_matrix[\"TARGET\"].sort_values(ascending=True)[0:5])\n"
   ]
  },
  {
   "cell_type": "code",
   "execution_count": null,
   "id": "cExQZTadbXjM",
   "metadata": {
    "id": "cExQZTadbXjM"
   },
   "outputs": [],
   "source": [
    "valores_unicos = []\n",
    "\n",
    "for (index, colname) in enumerate(numerical_features):\n",
    "    valor_unico = {\n",
    "        colname: len(application_train[colname].unique())}\n",
    "    \n",
    "    valores_unicos.append(valor_unico)"
   ]
  },
  {
   "cell_type": "code",
   "execution_count": null,
   "id": "WbJ5s66VQbcI",
   "metadata": {
    "id": "WbJ5s66VQbcI"
   },
   "outputs": [],
   "source": [
    "columns_features = []\n",
    "\n",
    "for i in valores_unicos:\n",
    "  for j,k in i.items():\n",
    "    if k > 3:\n",
    "      columns_features.append(j)"
   ]
  },
  {
   "cell_type": "code",
   "execution_count": null,
   "id": "AsoO2h5da7KI",
   "metadata": {
    "id": "AsoO2h5da7KI"
   },
   "outputs": [],
   "source": [
    "columns_categorics = []\n",
    "\n",
    "for i in application_train.columns:\n",
    "  if i not in columns_features:\n",
    "    if i != \"TARGET\":\n",
    "      columns_categorics.append(i)"
   ]
  },
  {
   "cell_type": "code",
   "execution_count": null,
   "id": "Yi9s4rJ5bP1H",
   "metadata": {
    "id": "Yi9s4rJ5bP1H"
   },
   "outputs": [],
   "source": [
    "numerical_features = application_train.drop(list(columns_categorics), axis=1)"
   ]
  },
  {
   "cell_type": "code",
   "execution_count": null,
   "id": "5mIjSQZaW9jO",
   "metadata": {
    "colab": {
     "base_uri": "https://localhost:8080/",
     "height": 1000
    },
    "id": "5mIjSQZaW9jO",
    "outputId": "d7c46ed1-7226-4937-97fa-a4516877d027"
   },
   "outputs": [],
   "source": [
    "plt.figure(figsize=(25, 25))\n",
    "for i, col in enumerate(numerical_features.columns):\n",
    "    plt.subplot(16, 5, i+1)\n",
    "    sns.boxplot(data=numerical_features, x=col)\n",
    "    plt.title(col)"
   ]
  },
  {
   "cell_type": "markdown",
   "id": "t6voMoCee3hr",
   "metadata": {
    "id": "t6voMoCee3hr"
   },
   "source": [
    "**Tenemos puntos atipicos en AMT_INCOME_TOTAL, OWN_CAR_AGE, DAYS_EMPLOYED.**"
   ]
  },
  {
   "cell_type": "code",
   "execution_count": null,
   "id": "Ll7IzHT8cBJt",
   "metadata": {
    "colab": {
     "base_uri": "https://localhost:8080/"
    },
    "id": "Ll7IzHT8cBJt",
    "outputId": "3a2aef08-2dcb-4095-9ab6-f656923f0d6f"
   },
   "outputs": [],
   "source": [
    "print(f\"{application_train['DAYS_EMPLOYED'].value_counts(ascending=False).head(5)}, \")\n",
    "print(f\"{application_train['AMT_INCOME_TOTAL'].sort_values(ascending=False).head(5)}\")\n",
    "print(f\"{application_train['AMT_INCOME_TOTAL'].value_counts(ascending=False).head(5)}\")\n",
    "print(f\"{application_train['OWN_CAR_AGE'].value_counts(ascending=False).head(5)}\")\n",
    "print(f\"{application_train['OWN_CAR_AGE'].sort_values(ascending=False).head(5)}\")"
   ]
  },
  {
   "cell_type": "markdown",
   "id": "Pw8dCCGAnNjv",
   "metadata": {
    "id": "Pw8dCCGAnNjv"
   },
   "source": [
    "**We will transform the positive employee days into NaN and then replace them with the average.\n",
    "In the case of AMT_INCOME_TOTAL it looks like a missing value so we'll remove it just like in the case of OWN_CAR_AGE.**"
   ]
  },
  {
   "cell_type": "code",
   "execution_count": null,
   "id": "6IzeyhCX60kt",
   "metadata": {
    "colab": {
     "base_uri": "https://localhost:8080/"
    },
    "id": "6IzeyhCX60kt",
    "outputId": "05392d00-c00a-4420-ac8b-15b0294a31df"
   },
   "outputs": [],
   "source": [
    "application_train.shape, application_test.shape"
   ]
  },
  {
   "cell_type": "code",
   "execution_count": 9,
   "id": "tp3RBK-VlUo_",
   "metadata": {
    "id": "tp3RBK-VlUo_"
   },
   "outputs": [
    {
     "ename": "NameError",
     "evalue": "name 'application_train' is not defined",
     "output_type": "error",
     "traceback": [
      "\u001b[0;31m---------------------------------------------------------------------------\u001b[0m",
      "\u001b[0;31mNameError\u001b[0m                                 Traceback (most recent call last)",
      "Cell \u001b[0;32mIn [9], line 1\u001b[0m\n\u001b[0;32m----> 1\u001b[0m X_train \u001b[38;5;241m=\u001b[39m \u001b[43mapplication_train\u001b[49m\u001b[38;5;241m.\u001b[39mcopy()\n\u001b[1;32m      2\u001b[0m X_test \u001b[38;5;241m=\u001b[39m application_test\u001b[38;5;241m.\u001b[39mcopy()\n",
      "\u001b[0;31mNameError\u001b[0m: name 'application_train' is not defined"
     ]
    }
   ],
   "source": [
    "X_train = application_train.copy()\n",
    "X_test = application_test.copy()"
   ]
  },
  {
   "cell_type": "code",
   "execution_count": 7,
   "id": "kK7rzSC1oBmN",
   "metadata": {
    "id": "kK7rzSC1oBmN"
   },
   "outputs": [],
   "source": [
    "def preprocessing(data):\n",
    "\n",
    "#We remove the columns that have more than 40% null values#\n",
    "  \n",
    "  columns_drop = []\n",
    "  for i, col in enumerate(data):\n",
    "    if data[col].isnull().sum()/len(data) > 0.4:\n",
    "      columns_drop.append(col)\n",
    "\n",
    "  data = data.drop(columns_drop, axis=1)\n",
    "  \n",
    "\n",
    "#Correction of outliers#\n",
    "  try:\n",
    "    data.drop(data[data[\"CODE_GENDER\"] == \"XNA\"].index, inplace=True)\n",
    "    data.drop(data[data[\"NAME_INCOME_TYPE\"] == \"Maternity leave\"].index, inplace=True)\n",
    "    data.drop(data[data[\"NAME_FAMILY_STATUS\"] == \"Unknown\"].index, inplace=True)\n",
    "    data.drop(data[data[\"AMT_INCOME_TOTAL\"] == 117000000].index, inplace=True)\n",
    "    data.drop(data[data[\"OWN_CAR_AGE\"] == 91].index, inplace=True)\n",
    "    data[\"DAYS_EMPLOYED\"] = data[\"DAYS_EMPLOYED\"].replace(365243, 0)\n",
    "  except:\n",
    "    pass\n",
    " \n",
    "#Correction missing values#\n",
    "  imputer = SimpleImputer(strategy=\"mean\")\n",
    "  data_num = data.select_dtypes(exclude=['object'])\n",
    "  data_num = data_num.drop(\"SK_ID_CURR\", axis=1).reset_index(drop=True)\n",
    "  columns_num = data_num.columns\n",
    "  imputer.fit(data_num)\n",
    "  X = imputer.transform(data_num)\n",
    "  data_tr = pd.DataFrame(X, columns=columns_num,\n",
    "                          index=data_num.index)\n",
    "    \n",
    "#Encode categorical features#\n",
    "  Binary_Encoder = []\n",
    "  One_Hot_Encoder = []\n",
    "\n",
    "  data_cat = data.select_dtypes(include=['object'])  \n",
    "\n",
    "  for i, col in enumerate(data_cat):\n",
    "    if data_cat[col].nunique() == 2:\n",
    "      Binary_Encoder.append(col)\n",
    "    else:\n",
    "      One_Hot_Encoder.append(col)\n",
    "\n",
    "  data_cat_binary = data_cat[Binary_Encoder].reset_index(drop=True)\n",
    "  data_cat_OneHot = data_cat[One_Hot_Encoder].reset_index(drop=True)\n",
    "\n",
    "  #\"More than 2 categories\"#\n",
    "\n",
    "  cat_encoder1 = OneHotEncoder()  \n",
    "  data_cat_1Hot = cat_encoder1.fit_transform(data_cat_OneHot).toarray()\n",
    "  cat_encoder1_names = cat_encoder1.get_feature_names_out()\n",
    "  data_1Hot = pd.DataFrame(data_cat_1Hot, columns = cat_encoder1_names)\n",
    "\n",
    "  #2 categories#\n",
    "\n",
    "  cat_encoder2 = ce.BinaryEncoder(cols=Binary_Encoder,return_df=True)\n",
    "  data_binary = cat_encoder2.fit_transform(data_cat_binary)\n",
    "\n",
    "  #\"merge df\"#\n",
    "  \n",
    "  df_cat = data_1Hot.merge(data_binary, left_index=True,\n",
    "                                    right_index=True).reset_index(drop=True)\n",
    "\n",
    "#Feature scaling#\n",
    "  scaler = MinMaxScaler()\n",
    "  scaler.fit(data_tr)\n",
    "  data_tr[columns_num] = scaler.transform(data_tr[columns_num])\n",
    "  data_tr = data_tr.reset_index(drop=True)\n",
    "\n",
    "#Preprocessed dataframe#    \n",
    "\n",
    "  df = data_tr.merge(df_cat, left_index=True,\n",
    "                                    right_index=True).reset_index(drop=True)\n",
    "\n",
    "  return df\n"
   ]
  },
  {
   "cell_type": "code",
   "execution_count": 8,
   "id": "_6H2UiejX-7I",
   "metadata": {
    "id": "_6H2UiejX-7I"
   },
   "outputs": [],
   "source": [
    "X_train_p = preprocessing(X_train)"
   ]
  },
  {
   "cell_type": "code",
   "execution_count": 9,
   "id": "tbAZa5Xhqy3F",
   "metadata": {
    "id": "tbAZa5Xhqy3F"
   },
   "outputs": [],
   "source": [
    "X_test_p = preprocessing(X_test)"
   ]
  },
  {
   "cell_type": "code",
   "execution_count": null,
   "id": "857fa3d4",
   "metadata": {},
   "outputs": [],
   "source": [
    "#save the dataset because the preprocess function is prolonged"
   ]
  },
  {
   "cell_type": "code",
   "execution_count": 10,
   "id": "o7o5JCCs_equ",
   "metadata": {
    "colab": {
     "base_uri": "https://localhost:8080/"
    },
    "id": "o7o5JCCs_equ",
    "outputId": "73b0f270-9802-4bbc-be6e-7e3ce594fc2c"
   },
   "outputs": [
    {
     "data": {
      "text/plain": [
       "((307499, 183), (48744, 182))"
      ]
     },
     "execution_count": 10,
     "metadata": {},
     "output_type": "execute_result"
    }
   ],
   "source": [
    "X_train_p.shape, X_test_p.shape"
   ]
  },
  {
   "cell_type": "code",
   "execution_count": 11,
   "id": "6d0ae96b",
   "metadata": {},
   "outputs": [
    {
     "data": {
      "text/html": [
       "<div>\n",
       "<style scoped>\n",
       "    .dataframe tbody tr th:only-of-type {\n",
       "        vertical-align: middle;\n",
       "    }\n",
       "\n",
       "    .dataframe tbody tr th {\n",
       "        vertical-align: top;\n",
       "    }\n",
       "\n",
       "    .dataframe thead th {\n",
       "        text-align: right;\n",
       "    }\n",
       "</style>\n",
       "<table border=\"1\" class=\"dataframe\">\n",
       "  <thead>\n",
       "    <tr style=\"text-align: right;\">\n",
       "      <th></th>\n",
       "      <th>CNT_CHILDREN</th>\n",
       "      <th>AMT_INCOME_TOTAL</th>\n",
       "      <th>AMT_CREDIT</th>\n",
       "      <th>AMT_ANNUITY</th>\n",
       "      <th>AMT_GOODS_PRICE</th>\n",
       "      <th>REGION_POPULATION_RELATIVE</th>\n",
       "      <th>DAYS_BIRTH</th>\n",
       "      <th>DAYS_EMPLOYED</th>\n",
       "      <th>DAYS_REGISTRATION</th>\n",
       "      <th>DAYS_ID_PUBLISH</th>\n",
       "      <th>FLAG_MOBIL</th>\n",
       "      <th>FLAG_EMP_PHONE</th>\n",
       "      <th>FLAG_WORK_PHONE</th>\n",
       "      <th>FLAG_CONT_MOBILE</th>\n",
       "      <th>FLAG_PHONE</th>\n",
       "      <th>FLAG_EMAIL</th>\n",
       "      <th>CNT_FAM_MEMBERS</th>\n",
       "      <th>REGION_RATING_CLIENT</th>\n",
       "      <th>REGION_RATING_CLIENT_W_CITY</th>\n",
       "      <th>HOUR_APPR_PROCESS_START</th>\n",
       "      <th>REG_REGION_NOT_LIVE_REGION</th>\n",
       "      <th>REG_REGION_NOT_WORK_REGION</th>\n",
       "      <th>LIVE_REGION_NOT_WORK_REGION</th>\n",
       "      <th>REG_CITY_NOT_LIVE_CITY</th>\n",
       "      <th>REG_CITY_NOT_WORK_CITY</th>\n",
       "      <th>LIVE_CITY_NOT_WORK_CITY</th>\n",
       "      <th>EXT_SOURCE_2</th>\n",
       "      <th>EXT_SOURCE_3</th>\n",
       "      <th>OBS_30_CNT_SOCIAL_CIRCLE</th>\n",
       "      <th>DEF_30_CNT_SOCIAL_CIRCLE</th>\n",
       "      <th>OBS_60_CNT_SOCIAL_CIRCLE</th>\n",
       "      <th>DEF_60_CNT_SOCIAL_CIRCLE</th>\n",
       "      <th>DAYS_LAST_PHONE_CHANGE</th>\n",
       "      <th>FLAG_DOCUMENT_2</th>\n",
       "      <th>FLAG_DOCUMENT_3</th>\n",
       "      <th>FLAG_DOCUMENT_4</th>\n",
       "      <th>FLAG_DOCUMENT_5</th>\n",
       "      <th>FLAG_DOCUMENT_6</th>\n",
       "      <th>FLAG_DOCUMENT_7</th>\n",
       "      <th>FLAG_DOCUMENT_8</th>\n",
       "      <th>FLAG_DOCUMENT_9</th>\n",
       "      <th>FLAG_DOCUMENT_10</th>\n",
       "      <th>FLAG_DOCUMENT_11</th>\n",
       "      <th>FLAG_DOCUMENT_12</th>\n",
       "      <th>FLAG_DOCUMENT_13</th>\n",
       "      <th>FLAG_DOCUMENT_14</th>\n",
       "      <th>FLAG_DOCUMENT_15</th>\n",
       "      <th>FLAG_DOCUMENT_16</th>\n",
       "      <th>FLAG_DOCUMENT_17</th>\n",
       "      <th>FLAG_DOCUMENT_18</th>\n",
       "      <th>FLAG_DOCUMENT_19</th>\n",
       "      <th>FLAG_DOCUMENT_20</th>\n",
       "      <th>FLAG_DOCUMENT_21</th>\n",
       "      <th>AMT_REQ_CREDIT_BUREAU_HOUR</th>\n",
       "      <th>AMT_REQ_CREDIT_BUREAU_DAY</th>\n",
       "      <th>AMT_REQ_CREDIT_BUREAU_WEEK</th>\n",
       "      <th>AMT_REQ_CREDIT_BUREAU_MON</th>\n",
       "      <th>AMT_REQ_CREDIT_BUREAU_QRT</th>\n",
       "      <th>AMT_REQ_CREDIT_BUREAU_YEAR</th>\n",
       "      <th>NAME_TYPE_SUITE_Children</th>\n",
       "      <th>NAME_TYPE_SUITE_Family</th>\n",
       "      <th>NAME_TYPE_SUITE_Group of people</th>\n",
       "      <th>NAME_TYPE_SUITE_Other_A</th>\n",
       "      <th>NAME_TYPE_SUITE_Other_B</th>\n",
       "      <th>NAME_TYPE_SUITE_Spouse, partner</th>\n",
       "      <th>NAME_TYPE_SUITE_Unaccompanied</th>\n",
       "      <th>NAME_TYPE_SUITE_nan</th>\n",
       "      <th>NAME_INCOME_TYPE_Businessman</th>\n",
       "      <th>NAME_INCOME_TYPE_Commercial associate</th>\n",
       "      <th>NAME_INCOME_TYPE_Pensioner</th>\n",
       "      <th>NAME_INCOME_TYPE_State servant</th>\n",
       "      <th>NAME_INCOME_TYPE_Student</th>\n",
       "      <th>NAME_INCOME_TYPE_Unemployed</th>\n",
       "      <th>NAME_INCOME_TYPE_Working</th>\n",
       "      <th>NAME_EDUCATION_TYPE_Academic degree</th>\n",
       "      <th>NAME_EDUCATION_TYPE_Higher education</th>\n",
       "      <th>NAME_EDUCATION_TYPE_Incomplete higher</th>\n",
       "      <th>NAME_EDUCATION_TYPE_Lower secondary</th>\n",
       "      <th>NAME_EDUCATION_TYPE_Secondary / secondary special</th>\n",
       "      <th>NAME_FAMILY_STATUS_Civil marriage</th>\n",
       "      <th>NAME_FAMILY_STATUS_Married</th>\n",
       "      <th>NAME_FAMILY_STATUS_Separated</th>\n",
       "      <th>NAME_FAMILY_STATUS_Single / not married</th>\n",
       "      <th>NAME_FAMILY_STATUS_Widow</th>\n",
       "      <th>NAME_HOUSING_TYPE_Co-op apartment</th>\n",
       "      <th>NAME_HOUSING_TYPE_House / apartment</th>\n",
       "      <th>NAME_HOUSING_TYPE_Municipal apartment</th>\n",
       "      <th>NAME_HOUSING_TYPE_Office apartment</th>\n",
       "      <th>NAME_HOUSING_TYPE_Rented apartment</th>\n",
       "      <th>NAME_HOUSING_TYPE_With parents</th>\n",
       "      <th>OCCUPATION_TYPE_Accountants</th>\n",
       "      <th>OCCUPATION_TYPE_Cleaning staff</th>\n",
       "      <th>OCCUPATION_TYPE_Cooking staff</th>\n",
       "      <th>OCCUPATION_TYPE_Core staff</th>\n",
       "      <th>OCCUPATION_TYPE_Drivers</th>\n",
       "      <th>OCCUPATION_TYPE_HR staff</th>\n",
       "      <th>OCCUPATION_TYPE_High skill tech staff</th>\n",
       "      <th>OCCUPATION_TYPE_IT staff</th>\n",
       "      <th>OCCUPATION_TYPE_Laborers</th>\n",
       "      <th>OCCUPATION_TYPE_Low-skill Laborers</th>\n",
       "      <th>OCCUPATION_TYPE_Managers</th>\n",
       "      <th>OCCUPATION_TYPE_Medicine staff</th>\n",
       "      <th>OCCUPATION_TYPE_Private service staff</th>\n",
       "      <th>OCCUPATION_TYPE_Realty agents</th>\n",
       "      <th>OCCUPATION_TYPE_Sales staff</th>\n",
       "      <th>OCCUPATION_TYPE_Secretaries</th>\n",
       "      <th>OCCUPATION_TYPE_Security staff</th>\n",
       "      <th>OCCUPATION_TYPE_Waiters/barmen staff</th>\n",
       "      <th>OCCUPATION_TYPE_nan</th>\n",
       "      <th>WEEKDAY_APPR_PROCESS_START_FRIDAY</th>\n",
       "      <th>WEEKDAY_APPR_PROCESS_START_MONDAY</th>\n",
       "      <th>WEEKDAY_APPR_PROCESS_START_SATURDAY</th>\n",
       "      <th>WEEKDAY_APPR_PROCESS_START_SUNDAY</th>\n",
       "      <th>WEEKDAY_APPR_PROCESS_START_THURSDAY</th>\n",
       "      <th>WEEKDAY_APPR_PROCESS_START_TUESDAY</th>\n",
       "      <th>WEEKDAY_APPR_PROCESS_START_WEDNESDAY</th>\n",
       "      <th>ORGANIZATION_TYPE_Advertising</th>\n",
       "      <th>ORGANIZATION_TYPE_Agriculture</th>\n",
       "      <th>ORGANIZATION_TYPE_Bank</th>\n",
       "      <th>ORGANIZATION_TYPE_Business Entity Type 1</th>\n",
       "      <th>ORGANIZATION_TYPE_Business Entity Type 2</th>\n",
       "      <th>ORGANIZATION_TYPE_Business Entity Type 3</th>\n",
       "      <th>ORGANIZATION_TYPE_Cleaning</th>\n",
       "      <th>ORGANIZATION_TYPE_Construction</th>\n",
       "      <th>ORGANIZATION_TYPE_Culture</th>\n",
       "      <th>ORGANIZATION_TYPE_Electricity</th>\n",
       "      <th>ORGANIZATION_TYPE_Emergency</th>\n",
       "      <th>ORGANIZATION_TYPE_Government</th>\n",
       "      <th>ORGANIZATION_TYPE_Hotel</th>\n",
       "      <th>ORGANIZATION_TYPE_Housing</th>\n",
       "      <th>ORGANIZATION_TYPE_Industry: type 1</th>\n",
       "      <th>ORGANIZATION_TYPE_Industry: type 10</th>\n",
       "      <th>ORGANIZATION_TYPE_Industry: type 11</th>\n",
       "      <th>ORGANIZATION_TYPE_Industry: type 12</th>\n",
       "      <th>ORGANIZATION_TYPE_Industry: type 13</th>\n",
       "      <th>ORGANIZATION_TYPE_Industry: type 2</th>\n",
       "      <th>ORGANIZATION_TYPE_Industry: type 3</th>\n",
       "      <th>ORGANIZATION_TYPE_Industry: type 4</th>\n",
       "      <th>ORGANIZATION_TYPE_Industry: type 5</th>\n",
       "      <th>ORGANIZATION_TYPE_Industry: type 6</th>\n",
       "      <th>ORGANIZATION_TYPE_Industry: type 7</th>\n",
       "      <th>ORGANIZATION_TYPE_Industry: type 8</th>\n",
       "      <th>ORGANIZATION_TYPE_Industry: type 9</th>\n",
       "      <th>ORGANIZATION_TYPE_Insurance</th>\n",
       "      <th>ORGANIZATION_TYPE_Kindergarten</th>\n",
       "      <th>ORGANIZATION_TYPE_Legal Services</th>\n",
       "      <th>ORGANIZATION_TYPE_Medicine</th>\n",
       "      <th>ORGANIZATION_TYPE_Military</th>\n",
       "      <th>ORGANIZATION_TYPE_Mobile</th>\n",
       "      <th>ORGANIZATION_TYPE_Other</th>\n",
       "      <th>ORGANIZATION_TYPE_Police</th>\n",
       "      <th>ORGANIZATION_TYPE_Postal</th>\n",
       "      <th>ORGANIZATION_TYPE_Realtor</th>\n",
       "      <th>ORGANIZATION_TYPE_Religion</th>\n",
       "      <th>ORGANIZATION_TYPE_Restaurant</th>\n",
       "      <th>ORGANIZATION_TYPE_School</th>\n",
       "      <th>ORGANIZATION_TYPE_Security</th>\n",
       "      <th>ORGANIZATION_TYPE_Security Ministries</th>\n",
       "      <th>ORGANIZATION_TYPE_Self-employed</th>\n",
       "      <th>ORGANIZATION_TYPE_Services</th>\n",
       "      <th>ORGANIZATION_TYPE_Telecom</th>\n",
       "      <th>ORGANIZATION_TYPE_Trade: type 1</th>\n",
       "      <th>ORGANIZATION_TYPE_Trade: type 2</th>\n",
       "      <th>ORGANIZATION_TYPE_Trade: type 3</th>\n",
       "      <th>ORGANIZATION_TYPE_Trade: type 4</th>\n",
       "      <th>ORGANIZATION_TYPE_Trade: type 5</th>\n",
       "      <th>ORGANIZATION_TYPE_Trade: type 6</th>\n",
       "      <th>ORGANIZATION_TYPE_Trade: type 7</th>\n",
       "      <th>ORGANIZATION_TYPE_Transport: type 1</th>\n",
       "      <th>ORGANIZATION_TYPE_Transport: type 2</th>\n",
       "      <th>ORGANIZATION_TYPE_Transport: type 3</th>\n",
       "      <th>ORGANIZATION_TYPE_Transport: type 4</th>\n",
       "      <th>ORGANIZATION_TYPE_University</th>\n",
       "      <th>ORGANIZATION_TYPE_XNA</th>\n",
       "      <th>NAME_CONTRACT_TYPE_0</th>\n",
       "      <th>NAME_CONTRACT_TYPE_1</th>\n",
       "      <th>CODE_GENDER_0</th>\n",
       "      <th>CODE_GENDER_1</th>\n",
       "      <th>FLAG_OWN_CAR_0</th>\n",
       "      <th>FLAG_OWN_CAR_1</th>\n",
       "      <th>FLAG_OWN_REALTY_0</th>\n",
       "      <th>FLAG_OWN_REALTY_1</th>\n",
       "    </tr>\n",
       "  </thead>\n",
       "  <tbody>\n",
       "    <tr>\n",
       "      <th>0</th>\n",
       "      <td>0.0</td>\n",
       "      <td>0.024654</td>\n",
       "      <td>0.238037</td>\n",
       "      <td>0.102453</td>\n",
       "      <td>0.184049</td>\n",
       "      <td>0.25738</td>\n",
       "      <td>0.333427</td>\n",
       "      <td>0.039545</td>\n",
       "      <td>0.782059</td>\n",
       "      <td>0.872086</td>\n",
       "      <td>1.0</td>\n",
       "      <td>1.0</td>\n",
       "      <td>0.0</td>\n",
       "      <td>1.0</td>\n",
       "      <td>0.0</td>\n",
       "      <td>1.0</td>\n",
       "      <td>0.05</td>\n",
       "      <td>0.5</td>\n",
       "      <td>0.75</td>\n",
       "      <td>0.782609</td>\n",
       "      <td>0.0</td>\n",
       "      <td>0.0</td>\n",
       "      <td>0.0</td>\n",
       "      <td>0.0</td>\n",
       "      <td>0.0</td>\n",
       "      <td>0.0</td>\n",
       "      <td>0.923572</td>\n",
       "      <td>0.180263</td>\n",
       "      <td>0.0</td>\n",
       "      <td>0.0</td>\n",
       "      <td>0.0</td>\n",
       "      <td>0.0</td>\n",
       "      <td>0.601009</td>\n",
       "      <td>0.0</td>\n",
       "      <td>1.0</td>\n",
       "      <td>0.0</td>\n",
       "      <td>0.0</td>\n",
       "      <td>0.0</td>\n",
       "      <td>0.0</td>\n",
       "      <td>0.0</td>\n",
       "      <td>0.0</td>\n",
       "      <td>0.0</td>\n",
       "      <td>0.0</td>\n",
       "      <td>0.0</td>\n",
       "      <td>0.0</td>\n",
       "      <td>0.0</td>\n",
       "      <td>0.0</td>\n",
       "      <td>0.0</td>\n",
       "      <td>0.0</td>\n",
       "      <td>0.0</td>\n",
       "      <td>0.0</td>\n",
       "      <td>0.0</td>\n",
       "      <td>0.0</td>\n",
       "      <td>0.0</td>\n",
       "      <td>0.0</td>\n",
       "      <td>0.0</td>\n",
       "      <td>0.0</td>\n",
       "      <td>0.0</td>\n",
       "      <td>0.0</td>\n",
       "      <td>0.0</td>\n",
       "      <td>0.0</td>\n",
       "      <td>0.0</td>\n",
       "      <td>0.0</td>\n",
       "      <td>0.0</td>\n",
       "      <td>0.0</td>\n",
       "      <td>1.0</td>\n",
       "      <td>0.0</td>\n",
       "      <td>0.0</td>\n",
       "      <td>0.0</td>\n",
       "      <td>0.0</td>\n",
       "      <td>0.0</td>\n",
       "      <td>0.0</td>\n",
       "      <td>0.0</td>\n",
       "      <td>1.0</td>\n",
       "      <td>0.0</td>\n",
       "      <td>1.0</td>\n",
       "      <td>0.0</td>\n",
       "      <td>0.0</td>\n",
       "      <td>0.0</td>\n",
       "      <td>0.0</td>\n",
       "      <td>1.0</td>\n",
       "      <td>0.0</td>\n",
       "      <td>0.0</td>\n",
       "      <td>0.0</td>\n",
       "      <td>0.0</td>\n",
       "      <td>1.0</td>\n",
       "      <td>0.0</td>\n",
       "      <td>0.0</td>\n",
       "      <td>0.0</td>\n",
       "      <td>0.0</td>\n",
       "      <td>0.0</td>\n",
       "      <td>0.0</td>\n",
       "      <td>0.0</td>\n",
       "      <td>0.0</td>\n",
       "      <td>0.0</td>\n",
       "      <td>0.0</td>\n",
       "      <td>0.0</td>\n",
       "      <td>0.0</td>\n",
       "      <td>0.0</td>\n",
       "      <td>0.0</td>\n",
       "      <td>0.0</td>\n",
       "      <td>0.0</td>\n",
       "      <td>0.0</td>\n",
       "      <td>0.0</td>\n",
       "      <td>0.0</td>\n",
       "      <td>0.0</td>\n",
       "      <td>0.0</td>\n",
       "      <td>0.0</td>\n",
       "      <td>1.0</td>\n",
       "      <td>0.0</td>\n",
       "      <td>0.0</td>\n",
       "      <td>0.0</td>\n",
       "      <td>0.0</td>\n",
       "      <td>0.0</td>\n",
       "      <td>1.0</td>\n",
       "      <td>0.0</td>\n",
       "      <td>0.0</td>\n",
       "      <td>0.0</td>\n",
       "      <td>0.0</td>\n",
       "      <td>0.0</td>\n",
       "      <td>0.0</td>\n",
       "      <td>0.0</td>\n",
       "      <td>0.0</td>\n",
       "      <td>0.0</td>\n",
       "      <td>0.0</td>\n",
       "      <td>0.0</td>\n",
       "      <td>0.0</td>\n",
       "      <td>0.0</td>\n",
       "      <td>0.0</td>\n",
       "      <td>0.0</td>\n",
       "      <td>0.0</td>\n",
       "      <td>0.0</td>\n",
       "      <td>0.0</td>\n",
       "      <td>0.0</td>\n",
       "      <td>0.0</td>\n",
       "      <td>0.0</td>\n",
       "      <td>0.0</td>\n",
       "      <td>0.0</td>\n",
       "      <td>0.0</td>\n",
       "      <td>0.0</td>\n",
       "      <td>0.0</td>\n",
       "      <td>0.0</td>\n",
       "      <td>0.0</td>\n",
       "      <td>0.0</td>\n",
       "      <td>1.0</td>\n",
       "      <td>0.0</td>\n",
       "      <td>0.0</td>\n",
       "      <td>0.0</td>\n",
       "      <td>0.0</td>\n",
       "      <td>0.0</td>\n",
       "      <td>0.0</td>\n",
       "      <td>0.0</td>\n",
       "      <td>0.0</td>\n",
       "      <td>0.0</td>\n",
       "      <td>0.0</td>\n",
       "      <td>0.0</td>\n",
       "      <td>0.0</td>\n",
       "      <td>0.0</td>\n",
       "      <td>0.0</td>\n",
       "      <td>0.0</td>\n",
       "      <td>0.0</td>\n",
       "      <td>0.0</td>\n",
       "      <td>0.0</td>\n",
       "      <td>0.0</td>\n",
       "      <td>0.0</td>\n",
       "      <td>0.0</td>\n",
       "      <td>0.0</td>\n",
       "      <td>0.0</td>\n",
       "      <td>0.0</td>\n",
       "      <td>0.0</td>\n",
       "      <td>0.0</td>\n",
       "      <td>0.0</td>\n",
       "      <td>0.0</td>\n",
       "      <td>0.0</td>\n",
       "      <td>0</td>\n",
       "      <td>1</td>\n",
       "      <td>0</td>\n",
       "      <td>1</td>\n",
       "      <td>0</td>\n",
       "      <td>1</td>\n",
       "      <td>0</td>\n",
       "      <td>1</td>\n",
       "    </tr>\n",
       "  </tbody>\n",
       "</table>\n",
       "</div>"
      ],
      "text/plain": [
       "   CNT_CHILDREN  AMT_INCOME_TOTAL  AMT_CREDIT  AMT_ANNUITY  AMT_GOODS_PRICE  \\\n",
       "0           0.0          0.024654    0.238037     0.102453         0.184049   \n",
       "\n",
       "   REGION_POPULATION_RELATIVE  DAYS_BIRTH  DAYS_EMPLOYED  DAYS_REGISTRATION  \\\n",
       "0                     0.25738    0.333427       0.039545           0.782059   \n",
       "\n",
       "   DAYS_ID_PUBLISH  FLAG_MOBIL  FLAG_EMP_PHONE  FLAG_WORK_PHONE  \\\n",
       "0         0.872086         1.0             1.0              0.0   \n",
       "\n",
       "   FLAG_CONT_MOBILE  FLAG_PHONE  FLAG_EMAIL  CNT_FAM_MEMBERS  \\\n",
       "0               1.0         0.0         1.0             0.05   \n",
       "\n",
       "   REGION_RATING_CLIENT  REGION_RATING_CLIENT_W_CITY  HOUR_APPR_PROCESS_START  \\\n",
       "0                   0.5                         0.75                 0.782609   \n",
       "\n",
       "   REG_REGION_NOT_LIVE_REGION  REG_REGION_NOT_WORK_REGION  \\\n",
       "0                         0.0                         0.0   \n",
       "\n",
       "   LIVE_REGION_NOT_WORK_REGION  REG_CITY_NOT_LIVE_CITY  \\\n",
       "0                          0.0                     0.0   \n",
       "\n",
       "   REG_CITY_NOT_WORK_CITY  LIVE_CITY_NOT_WORK_CITY  EXT_SOURCE_2  \\\n",
       "0                     0.0                      0.0      0.923572   \n",
       "\n",
       "   EXT_SOURCE_3  OBS_30_CNT_SOCIAL_CIRCLE  DEF_30_CNT_SOCIAL_CIRCLE  \\\n",
       "0      0.180263                       0.0                       0.0   \n",
       "\n",
       "   OBS_60_CNT_SOCIAL_CIRCLE  DEF_60_CNT_SOCIAL_CIRCLE  DAYS_LAST_PHONE_CHANGE  \\\n",
       "0                       0.0                       0.0                0.601009   \n",
       "\n",
       "   FLAG_DOCUMENT_2  FLAG_DOCUMENT_3  FLAG_DOCUMENT_4  FLAG_DOCUMENT_5  \\\n",
       "0              0.0              1.0              0.0              0.0   \n",
       "\n",
       "   FLAG_DOCUMENT_6  FLAG_DOCUMENT_7  FLAG_DOCUMENT_8  FLAG_DOCUMENT_9  \\\n",
       "0              0.0              0.0              0.0              0.0   \n",
       "\n",
       "   FLAG_DOCUMENT_10  FLAG_DOCUMENT_11  FLAG_DOCUMENT_12  FLAG_DOCUMENT_13  \\\n",
       "0               0.0               0.0               0.0               0.0   \n",
       "\n",
       "   FLAG_DOCUMENT_14  FLAG_DOCUMENT_15  FLAG_DOCUMENT_16  FLAG_DOCUMENT_17  \\\n",
       "0               0.0               0.0               0.0               0.0   \n",
       "\n",
       "   FLAG_DOCUMENT_18  FLAG_DOCUMENT_19  FLAG_DOCUMENT_20  FLAG_DOCUMENT_21  \\\n",
       "0               0.0               0.0               0.0               0.0   \n",
       "\n",
       "   AMT_REQ_CREDIT_BUREAU_HOUR  AMT_REQ_CREDIT_BUREAU_DAY  \\\n",
       "0                         0.0                        0.0   \n",
       "\n",
       "   AMT_REQ_CREDIT_BUREAU_WEEK  AMT_REQ_CREDIT_BUREAU_MON  \\\n",
       "0                         0.0                        0.0   \n",
       "\n",
       "   AMT_REQ_CREDIT_BUREAU_QRT  AMT_REQ_CREDIT_BUREAU_YEAR  \\\n",
       "0                        0.0                         0.0   \n",
       "\n",
       "   NAME_TYPE_SUITE_Children  NAME_TYPE_SUITE_Family  \\\n",
       "0                       0.0                     0.0   \n",
       "\n",
       "   NAME_TYPE_SUITE_Group of people  NAME_TYPE_SUITE_Other_A  \\\n",
       "0                              0.0                      0.0   \n",
       "\n",
       "   NAME_TYPE_SUITE_Other_B  NAME_TYPE_SUITE_Spouse, partner  \\\n",
       "0                      0.0                              0.0   \n",
       "\n",
       "   NAME_TYPE_SUITE_Unaccompanied  NAME_TYPE_SUITE_nan  \\\n",
       "0                            1.0                  0.0   \n",
       "\n",
       "   NAME_INCOME_TYPE_Businessman  NAME_INCOME_TYPE_Commercial associate  \\\n",
       "0                           0.0                                    0.0   \n",
       "\n",
       "   NAME_INCOME_TYPE_Pensioner  NAME_INCOME_TYPE_State servant  \\\n",
       "0                         0.0                             0.0   \n",
       "\n",
       "   NAME_INCOME_TYPE_Student  NAME_INCOME_TYPE_Unemployed  \\\n",
       "0                       0.0                          0.0   \n",
       "\n",
       "   NAME_INCOME_TYPE_Working  NAME_EDUCATION_TYPE_Academic degree  \\\n",
       "0                       1.0                                  0.0   \n",
       "\n",
       "   NAME_EDUCATION_TYPE_Higher education  \\\n",
       "0                                   1.0   \n",
       "\n",
       "   NAME_EDUCATION_TYPE_Incomplete higher  NAME_EDUCATION_TYPE_Lower secondary  \\\n",
       "0                                    0.0                                  0.0   \n",
       "\n",
       "   NAME_EDUCATION_TYPE_Secondary / secondary special  \\\n",
       "0                                                0.0   \n",
       "\n",
       "   NAME_FAMILY_STATUS_Civil marriage  NAME_FAMILY_STATUS_Married  \\\n",
       "0                                0.0                         1.0   \n",
       "\n",
       "   NAME_FAMILY_STATUS_Separated  NAME_FAMILY_STATUS_Single / not married  \\\n",
       "0                           0.0                                      0.0   \n",
       "\n",
       "   NAME_FAMILY_STATUS_Widow  NAME_HOUSING_TYPE_Co-op apartment  \\\n",
       "0                       0.0                                0.0   \n",
       "\n",
       "   NAME_HOUSING_TYPE_House / apartment  NAME_HOUSING_TYPE_Municipal apartment  \\\n",
       "0                                  1.0                                    0.0   \n",
       "\n",
       "   NAME_HOUSING_TYPE_Office apartment  NAME_HOUSING_TYPE_Rented apartment  \\\n",
       "0                                 0.0                                 0.0   \n",
       "\n",
       "   NAME_HOUSING_TYPE_With parents  OCCUPATION_TYPE_Accountants  \\\n",
       "0                             0.0                          0.0   \n",
       "\n",
       "   OCCUPATION_TYPE_Cleaning staff  OCCUPATION_TYPE_Cooking staff  \\\n",
       "0                             0.0                            0.0   \n",
       "\n",
       "   OCCUPATION_TYPE_Core staff  OCCUPATION_TYPE_Drivers  \\\n",
       "0                         0.0                      0.0   \n",
       "\n",
       "   OCCUPATION_TYPE_HR staff  OCCUPATION_TYPE_High skill tech staff  \\\n",
       "0                       0.0                                    0.0   \n",
       "\n",
       "   OCCUPATION_TYPE_IT staff  OCCUPATION_TYPE_Laborers  \\\n",
       "0                       0.0                       0.0   \n",
       "\n",
       "   OCCUPATION_TYPE_Low-skill Laborers  OCCUPATION_TYPE_Managers  \\\n",
       "0                                 0.0                       0.0   \n",
       "\n",
       "   OCCUPATION_TYPE_Medicine staff  OCCUPATION_TYPE_Private service staff  \\\n",
       "0                             0.0                                    0.0   \n",
       "\n",
       "   OCCUPATION_TYPE_Realty agents  OCCUPATION_TYPE_Sales staff  \\\n",
       "0                            0.0                          0.0   \n",
       "\n",
       "   OCCUPATION_TYPE_Secretaries  OCCUPATION_TYPE_Security staff  \\\n",
       "0                          0.0                             0.0   \n",
       "\n",
       "   OCCUPATION_TYPE_Waiters/barmen staff  OCCUPATION_TYPE_nan  \\\n",
       "0                                   0.0                  1.0   \n",
       "\n",
       "   WEEKDAY_APPR_PROCESS_START_FRIDAY  WEEKDAY_APPR_PROCESS_START_MONDAY  \\\n",
       "0                                0.0                                0.0   \n",
       "\n",
       "   WEEKDAY_APPR_PROCESS_START_SATURDAY  WEEKDAY_APPR_PROCESS_START_SUNDAY  \\\n",
       "0                                  0.0                                0.0   \n",
       "\n",
       "   WEEKDAY_APPR_PROCESS_START_THURSDAY  WEEKDAY_APPR_PROCESS_START_TUESDAY  \\\n",
       "0                                  0.0                                 1.0   \n",
       "\n",
       "   WEEKDAY_APPR_PROCESS_START_WEDNESDAY  ORGANIZATION_TYPE_Advertising  \\\n",
       "0                                   0.0                            0.0   \n",
       "\n",
       "   ORGANIZATION_TYPE_Agriculture  ORGANIZATION_TYPE_Bank  \\\n",
       "0                            0.0                     0.0   \n",
       "\n",
       "   ORGANIZATION_TYPE_Business Entity Type 1  \\\n",
       "0                                       0.0   \n",
       "\n",
       "   ORGANIZATION_TYPE_Business Entity Type 2  \\\n",
       "0                                       0.0   \n",
       "\n",
       "   ORGANIZATION_TYPE_Business Entity Type 3  ORGANIZATION_TYPE_Cleaning  \\\n",
       "0                                       0.0                         0.0   \n",
       "\n",
       "   ORGANIZATION_TYPE_Construction  ORGANIZATION_TYPE_Culture  \\\n",
       "0                             0.0                        0.0   \n",
       "\n",
       "   ORGANIZATION_TYPE_Electricity  ORGANIZATION_TYPE_Emergency  \\\n",
       "0                            0.0                          0.0   \n",
       "\n",
       "   ORGANIZATION_TYPE_Government  ORGANIZATION_TYPE_Hotel  \\\n",
       "0                           0.0                      0.0   \n",
       "\n",
       "   ORGANIZATION_TYPE_Housing  ORGANIZATION_TYPE_Industry: type 1  \\\n",
       "0                        0.0                                 0.0   \n",
       "\n",
       "   ORGANIZATION_TYPE_Industry: type 10  ORGANIZATION_TYPE_Industry: type 11  \\\n",
       "0                                  0.0                                  0.0   \n",
       "\n",
       "   ORGANIZATION_TYPE_Industry: type 12  ORGANIZATION_TYPE_Industry: type 13  \\\n",
       "0                                  0.0                                  0.0   \n",
       "\n",
       "   ORGANIZATION_TYPE_Industry: type 2  ORGANIZATION_TYPE_Industry: type 3  \\\n",
       "0                                 0.0                                 0.0   \n",
       "\n",
       "   ORGANIZATION_TYPE_Industry: type 4  ORGANIZATION_TYPE_Industry: type 5  \\\n",
       "0                                 0.0                                 0.0   \n",
       "\n",
       "   ORGANIZATION_TYPE_Industry: type 6  ORGANIZATION_TYPE_Industry: type 7  \\\n",
       "0                                 0.0                                 0.0   \n",
       "\n",
       "   ORGANIZATION_TYPE_Industry: type 8  ORGANIZATION_TYPE_Industry: type 9  \\\n",
       "0                                 0.0                                 0.0   \n",
       "\n",
       "   ORGANIZATION_TYPE_Insurance  ORGANIZATION_TYPE_Kindergarten  \\\n",
       "0                          0.0                             1.0   \n",
       "\n",
       "   ORGANIZATION_TYPE_Legal Services  ORGANIZATION_TYPE_Medicine  \\\n",
       "0                               0.0                         0.0   \n",
       "\n",
       "   ORGANIZATION_TYPE_Military  ORGANIZATION_TYPE_Mobile  \\\n",
       "0                         0.0                       0.0   \n",
       "\n",
       "   ORGANIZATION_TYPE_Other  ORGANIZATION_TYPE_Police  \\\n",
       "0                      0.0                       0.0   \n",
       "\n",
       "   ORGANIZATION_TYPE_Postal  ORGANIZATION_TYPE_Realtor  \\\n",
       "0                       0.0                        0.0   \n",
       "\n",
       "   ORGANIZATION_TYPE_Religion  ORGANIZATION_TYPE_Restaurant  \\\n",
       "0                         0.0                           0.0   \n",
       "\n",
       "   ORGANIZATION_TYPE_School  ORGANIZATION_TYPE_Security  \\\n",
       "0                       0.0                         0.0   \n",
       "\n",
       "   ORGANIZATION_TYPE_Security Ministries  ORGANIZATION_TYPE_Self-employed  \\\n",
       "0                                    0.0                              0.0   \n",
       "\n",
       "   ORGANIZATION_TYPE_Services  ORGANIZATION_TYPE_Telecom  \\\n",
       "0                         0.0                        0.0   \n",
       "\n",
       "   ORGANIZATION_TYPE_Trade: type 1  ORGANIZATION_TYPE_Trade: type 2  \\\n",
       "0                              0.0                              0.0   \n",
       "\n",
       "   ORGANIZATION_TYPE_Trade: type 3  ORGANIZATION_TYPE_Trade: type 4  \\\n",
       "0                              0.0                              0.0   \n",
       "\n",
       "   ORGANIZATION_TYPE_Trade: type 5  ORGANIZATION_TYPE_Trade: type 6  \\\n",
       "0                              0.0                              0.0   \n",
       "\n",
       "   ORGANIZATION_TYPE_Trade: type 7  ORGANIZATION_TYPE_Transport: type 1  \\\n",
       "0                              0.0                                  0.0   \n",
       "\n",
       "   ORGANIZATION_TYPE_Transport: type 2  ORGANIZATION_TYPE_Transport: type 3  \\\n",
       "0                                  0.0                                  0.0   \n",
       "\n",
       "   ORGANIZATION_TYPE_Transport: type 4  ORGANIZATION_TYPE_University  \\\n",
       "0                                  0.0                           0.0   \n",
       "\n",
       "   ORGANIZATION_TYPE_XNA  NAME_CONTRACT_TYPE_0  NAME_CONTRACT_TYPE_1  \\\n",
       "0                    0.0                     0                     1   \n",
       "\n",
       "   CODE_GENDER_0  CODE_GENDER_1  FLAG_OWN_CAR_0  FLAG_OWN_CAR_1  \\\n",
       "0              0              1               0               1   \n",
       "\n",
       "   FLAG_OWN_REALTY_0  FLAG_OWN_REALTY_1  \n",
       "0                  0                  1  "
      ]
     },
     "execution_count": 11,
     "metadata": {},
     "output_type": "execute_result"
    }
   ],
   "source": [
    "X_test_p.head(1)"
   ]
  },
  {
   "cell_type": "code",
   "execution_count": 3,
   "id": "6894e0a4",
   "metadata": {},
   "outputs": [
    {
     "ename": "NameError",
     "evalue": "name 'X_train_p' is not defined",
     "output_type": "error",
     "traceback": [
      "\u001b[0;31m---------------------------------------------------------------------------\u001b[0m",
      "\u001b[0;31mNameError\u001b[0m                                 Traceback (most recent call last)",
      "Cell \u001b[0;32mIn [3], line 1\u001b[0m\n\u001b[0;32m----> 1\u001b[0m \u001b[43mX_train_p\u001b[49m\u001b[38;5;241m.\u001b[39mto_csv(\u001b[38;5;124m'\u001b[39m\u001b[38;5;124mX_train_p.csv\u001b[39m\u001b[38;5;124m'\u001b[39m, index\u001b[38;5;241m=\u001b[39m\u001b[38;5;28;01mFalse\u001b[39;00m)\n",
      "\u001b[0;31mNameError\u001b[0m: name 'X_train_p' is not defined"
     ]
    }
   ],
   "source": [
    "X_train_p.to_csv('X_train_p.csv', index=False)"
   ]
  },
  {
   "cell_type": "code",
   "execution_count": 4,
   "id": "b6e803f1",
   "metadata": {},
   "outputs": [
    {
     "ename": "NameError",
     "evalue": "name 'X_test_p' is not defined",
     "output_type": "error",
     "traceback": [
      "\u001b[0;31m---------------------------------------------------------------------------\u001b[0m",
      "\u001b[0;31mNameError\u001b[0m                                 Traceback (most recent call last)",
      "Cell \u001b[0;32mIn [4], line 1\u001b[0m\n\u001b[0;32m----> 1\u001b[0m \u001b[43mX_test_p\u001b[49m\u001b[38;5;241m.\u001b[39mto_csv(\u001b[38;5;124m'\u001b[39m\u001b[38;5;124mX_test_p.csv\u001b[39m\u001b[38;5;124m'\u001b[39m, index\u001b[38;5;241m=\u001b[39m\u001b[38;5;28;01mFalse\u001b[39;00m)\n",
      "\u001b[0;31mNameError\u001b[0m: name 'X_test_p' is not defined"
     ]
    }
   ],
   "source": [
    "X_test_p.to_csv('X_test_p.csv', index=False)"
   ]
  },
  {
   "cell_type": "markdown",
   "id": "2f5df1e8-1f03-4f14-9dbd-292d3b84859d",
   "metadata": {
    "id": "2f5df1e8-1f03-4f14-9dbd-292d3b84859d"
   },
   "source": [
    "## Training Models"
   ]
  },
  {
   "cell_type": "markdown",
   "id": "83062f02-7157-4083-b57b-78fbc95fe39b",
   "metadata": {
    "id": "83062f02-7157-4083-b57b-78fbc95fe39b"
   },
   "source": [
    "As usual, you will start training simple models and will progressively move to more complex models and pipelines."
   ]
  },
  {
   "cell_type": "markdown",
   "id": "7e99a786-a17e-4caa-9ac7-48fced40fa71",
   "metadata": {
    "id": "7e99a786-a17e-4caa-9ac7-48fced40fa71"
   },
   "source": [
    "### Baseline: LogisticRegression"
   ]
  },
  {
   "cell_type": "markdown",
   "id": "91e10796-6d86-4fce-8738-4b9c4fbbf359",
   "metadata": {
    "id": "91e10796-6d86-4fce-8738-4b9c4fbbf359"
   },
   "source": [
    "1- Import LogisticRegression from sklearn and train a model using the preprocesed train data from the previous section, and just default parameters. If you receive a warning because the algorithm failed to converge, try increasing the number of iterations or decreasing the C parameter "
   ]
  },
  {
   "cell_type": "code",
   "execution_count": 10,
   "id": "10abecbc",
   "metadata": {},
   "outputs": [],
   "source": [
    "X_train_p = pd.read_csv('X_train_p.csv')\n",
    "X_test_p = pd.read_csv('X_test_p.csv')"
   ]
  },
  {
   "cell_type": "code",
   "execution_count": 11,
   "id": "d3HIqM9jucEt",
   "metadata": {
    "id": "d3HIqM9jucEt"
   },
   "outputs": [],
   "source": [
    "y = X_train_p[[\"TARGET\"]]\n",
    "X = X_train_p.drop(\"TARGET\", axis=1)"
   ]
  },
  {
   "cell_type": "code",
   "execution_count": 15,
   "id": "63c49702",
   "metadata": {},
   "outputs": [
    {
     "data": {
      "text/html": [
       "<div>\n",
       "<style scoped>\n",
       "    .dataframe tbody tr th:only-of-type {\n",
       "        vertical-align: middle;\n",
       "    }\n",
       "\n",
       "    .dataframe tbody tr th {\n",
       "        vertical-align: top;\n",
       "    }\n",
       "\n",
       "    .dataframe thead th {\n",
       "        text-align: right;\n",
       "    }\n",
       "</style>\n",
       "<table border=\"1\" class=\"dataframe\">\n",
       "  <thead>\n",
       "    <tr style=\"text-align: right;\">\n",
       "      <th></th>\n",
       "      <th>CNT_CHILDREN</th>\n",
       "      <th>AMT_INCOME_TOTAL</th>\n",
       "      <th>AMT_CREDIT</th>\n",
       "      <th>AMT_ANNUITY</th>\n",
       "      <th>AMT_GOODS_PRICE</th>\n",
       "      <th>REGION_POPULATION_RELATIVE</th>\n",
       "      <th>DAYS_BIRTH</th>\n",
       "      <th>DAYS_EMPLOYED</th>\n",
       "      <th>DAYS_REGISTRATION</th>\n",
       "      <th>DAYS_ID_PUBLISH</th>\n",
       "      <th>FLAG_MOBIL</th>\n",
       "      <th>FLAG_EMP_PHONE</th>\n",
       "      <th>FLAG_WORK_PHONE</th>\n",
       "      <th>FLAG_CONT_MOBILE</th>\n",
       "      <th>FLAG_PHONE</th>\n",
       "      <th>FLAG_EMAIL</th>\n",
       "      <th>CNT_FAM_MEMBERS</th>\n",
       "      <th>REGION_RATING_CLIENT</th>\n",
       "      <th>REGION_RATING_CLIENT_W_CITY</th>\n",
       "      <th>HOUR_APPR_PROCESS_START</th>\n",
       "      <th>REG_REGION_NOT_LIVE_REGION</th>\n",
       "      <th>REG_REGION_NOT_WORK_REGION</th>\n",
       "      <th>LIVE_REGION_NOT_WORK_REGION</th>\n",
       "      <th>REG_CITY_NOT_LIVE_CITY</th>\n",
       "      <th>REG_CITY_NOT_WORK_CITY</th>\n",
       "      <th>LIVE_CITY_NOT_WORK_CITY</th>\n",
       "      <th>EXT_SOURCE_2</th>\n",
       "      <th>EXT_SOURCE_3</th>\n",
       "      <th>OBS_30_CNT_SOCIAL_CIRCLE</th>\n",
       "      <th>DEF_30_CNT_SOCIAL_CIRCLE</th>\n",
       "      <th>OBS_60_CNT_SOCIAL_CIRCLE</th>\n",
       "      <th>DEF_60_CNT_SOCIAL_CIRCLE</th>\n",
       "      <th>DAYS_LAST_PHONE_CHANGE</th>\n",
       "      <th>FLAG_DOCUMENT_2</th>\n",
       "      <th>FLAG_DOCUMENT_3</th>\n",
       "      <th>FLAG_DOCUMENT_4</th>\n",
       "      <th>FLAG_DOCUMENT_5</th>\n",
       "      <th>FLAG_DOCUMENT_6</th>\n",
       "      <th>FLAG_DOCUMENT_7</th>\n",
       "      <th>FLAG_DOCUMENT_8</th>\n",
       "      <th>FLAG_DOCUMENT_9</th>\n",
       "      <th>FLAG_DOCUMENT_10</th>\n",
       "      <th>FLAG_DOCUMENT_11</th>\n",
       "      <th>FLAG_DOCUMENT_12</th>\n",
       "      <th>FLAG_DOCUMENT_13</th>\n",
       "      <th>FLAG_DOCUMENT_14</th>\n",
       "      <th>FLAG_DOCUMENT_15</th>\n",
       "      <th>FLAG_DOCUMENT_16</th>\n",
       "      <th>FLAG_DOCUMENT_17</th>\n",
       "      <th>FLAG_DOCUMENT_18</th>\n",
       "      <th>FLAG_DOCUMENT_19</th>\n",
       "      <th>FLAG_DOCUMENT_20</th>\n",
       "      <th>FLAG_DOCUMENT_21</th>\n",
       "      <th>AMT_REQ_CREDIT_BUREAU_HOUR</th>\n",
       "      <th>AMT_REQ_CREDIT_BUREAU_DAY</th>\n",
       "      <th>AMT_REQ_CREDIT_BUREAU_WEEK</th>\n",
       "      <th>AMT_REQ_CREDIT_BUREAU_MON</th>\n",
       "      <th>AMT_REQ_CREDIT_BUREAU_QRT</th>\n",
       "      <th>AMT_REQ_CREDIT_BUREAU_YEAR</th>\n",
       "      <th>NAME_TYPE_SUITE_Children</th>\n",
       "      <th>NAME_TYPE_SUITE_Family</th>\n",
       "      <th>NAME_TYPE_SUITE_Group of people</th>\n",
       "      <th>NAME_TYPE_SUITE_Other_A</th>\n",
       "      <th>NAME_TYPE_SUITE_Other_B</th>\n",
       "      <th>NAME_TYPE_SUITE_Spouse, partner</th>\n",
       "      <th>NAME_TYPE_SUITE_Unaccompanied</th>\n",
       "      <th>NAME_TYPE_SUITE_nan</th>\n",
       "      <th>NAME_INCOME_TYPE_Businessman</th>\n",
       "      <th>NAME_INCOME_TYPE_Commercial associate</th>\n",
       "      <th>NAME_INCOME_TYPE_Pensioner</th>\n",
       "      <th>NAME_INCOME_TYPE_State servant</th>\n",
       "      <th>NAME_INCOME_TYPE_Student</th>\n",
       "      <th>NAME_INCOME_TYPE_Unemployed</th>\n",
       "      <th>NAME_INCOME_TYPE_Working</th>\n",
       "      <th>NAME_EDUCATION_TYPE_Academic degree</th>\n",
       "      <th>NAME_EDUCATION_TYPE_Higher education</th>\n",
       "      <th>NAME_EDUCATION_TYPE_Incomplete higher</th>\n",
       "      <th>NAME_EDUCATION_TYPE_Lower secondary</th>\n",
       "      <th>NAME_EDUCATION_TYPE_Secondary / secondary special</th>\n",
       "      <th>NAME_FAMILY_STATUS_Civil marriage</th>\n",
       "      <th>NAME_FAMILY_STATUS_Married</th>\n",
       "      <th>NAME_FAMILY_STATUS_Separated</th>\n",
       "      <th>NAME_FAMILY_STATUS_Single / not married</th>\n",
       "      <th>NAME_FAMILY_STATUS_Widow</th>\n",
       "      <th>NAME_HOUSING_TYPE_Co-op apartment</th>\n",
       "      <th>NAME_HOUSING_TYPE_House / apartment</th>\n",
       "      <th>NAME_HOUSING_TYPE_Municipal apartment</th>\n",
       "      <th>NAME_HOUSING_TYPE_Office apartment</th>\n",
       "      <th>NAME_HOUSING_TYPE_Rented apartment</th>\n",
       "      <th>NAME_HOUSING_TYPE_With parents</th>\n",
       "      <th>OCCUPATION_TYPE_Accountants</th>\n",
       "      <th>OCCUPATION_TYPE_Cleaning staff</th>\n",
       "      <th>OCCUPATION_TYPE_Cooking staff</th>\n",
       "      <th>OCCUPATION_TYPE_Core staff</th>\n",
       "      <th>OCCUPATION_TYPE_Drivers</th>\n",
       "      <th>OCCUPATION_TYPE_HR staff</th>\n",
       "      <th>OCCUPATION_TYPE_High skill tech staff</th>\n",
       "      <th>OCCUPATION_TYPE_IT staff</th>\n",
       "      <th>OCCUPATION_TYPE_Laborers</th>\n",
       "      <th>OCCUPATION_TYPE_Low-skill Laborers</th>\n",
       "      <th>OCCUPATION_TYPE_Managers</th>\n",
       "      <th>OCCUPATION_TYPE_Medicine staff</th>\n",
       "      <th>OCCUPATION_TYPE_Private service staff</th>\n",
       "      <th>OCCUPATION_TYPE_Realty agents</th>\n",
       "      <th>OCCUPATION_TYPE_Sales staff</th>\n",
       "      <th>OCCUPATION_TYPE_Secretaries</th>\n",
       "      <th>OCCUPATION_TYPE_Security staff</th>\n",
       "      <th>OCCUPATION_TYPE_Waiters/barmen staff</th>\n",
       "      <th>OCCUPATION_TYPE_nan</th>\n",
       "      <th>WEEKDAY_APPR_PROCESS_START_FRIDAY</th>\n",
       "      <th>WEEKDAY_APPR_PROCESS_START_MONDAY</th>\n",
       "      <th>WEEKDAY_APPR_PROCESS_START_SATURDAY</th>\n",
       "      <th>WEEKDAY_APPR_PROCESS_START_SUNDAY</th>\n",
       "      <th>WEEKDAY_APPR_PROCESS_START_THURSDAY</th>\n",
       "      <th>WEEKDAY_APPR_PROCESS_START_TUESDAY</th>\n",
       "      <th>WEEKDAY_APPR_PROCESS_START_WEDNESDAY</th>\n",
       "      <th>ORGANIZATION_TYPE_Advertising</th>\n",
       "      <th>ORGANIZATION_TYPE_Agriculture</th>\n",
       "      <th>ORGANIZATION_TYPE_Bank</th>\n",
       "      <th>ORGANIZATION_TYPE_Business Entity Type 1</th>\n",
       "      <th>ORGANIZATION_TYPE_Business Entity Type 2</th>\n",
       "      <th>ORGANIZATION_TYPE_Business Entity Type 3</th>\n",
       "      <th>ORGANIZATION_TYPE_Cleaning</th>\n",
       "      <th>ORGANIZATION_TYPE_Construction</th>\n",
       "      <th>ORGANIZATION_TYPE_Culture</th>\n",
       "      <th>ORGANIZATION_TYPE_Electricity</th>\n",
       "      <th>ORGANIZATION_TYPE_Emergency</th>\n",
       "      <th>ORGANIZATION_TYPE_Government</th>\n",
       "      <th>ORGANIZATION_TYPE_Hotel</th>\n",
       "      <th>ORGANIZATION_TYPE_Housing</th>\n",
       "      <th>ORGANIZATION_TYPE_Industry: type 1</th>\n",
       "      <th>ORGANIZATION_TYPE_Industry: type 10</th>\n",
       "      <th>ORGANIZATION_TYPE_Industry: type 11</th>\n",
       "      <th>ORGANIZATION_TYPE_Industry: type 12</th>\n",
       "      <th>ORGANIZATION_TYPE_Industry: type 13</th>\n",
       "      <th>ORGANIZATION_TYPE_Industry: type 2</th>\n",
       "      <th>ORGANIZATION_TYPE_Industry: type 3</th>\n",
       "      <th>ORGANIZATION_TYPE_Industry: type 4</th>\n",
       "      <th>ORGANIZATION_TYPE_Industry: type 5</th>\n",
       "      <th>ORGANIZATION_TYPE_Industry: type 6</th>\n",
       "      <th>ORGANIZATION_TYPE_Industry: type 7</th>\n",
       "      <th>ORGANIZATION_TYPE_Industry: type 8</th>\n",
       "      <th>ORGANIZATION_TYPE_Industry: type 9</th>\n",
       "      <th>ORGANIZATION_TYPE_Insurance</th>\n",
       "      <th>ORGANIZATION_TYPE_Kindergarten</th>\n",
       "      <th>ORGANIZATION_TYPE_Legal Services</th>\n",
       "      <th>ORGANIZATION_TYPE_Medicine</th>\n",
       "      <th>ORGANIZATION_TYPE_Military</th>\n",
       "      <th>ORGANIZATION_TYPE_Mobile</th>\n",
       "      <th>ORGANIZATION_TYPE_Other</th>\n",
       "      <th>ORGANIZATION_TYPE_Police</th>\n",
       "      <th>ORGANIZATION_TYPE_Postal</th>\n",
       "      <th>ORGANIZATION_TYPE_Realtor</th>\n",
       "      <th>ORGANIZATION_TYPE_Religion</th>\n",
       "      <th>ORGANIZATION_TYPE_Restaurant</th>\n",
       "      <th>ORGANIZATION_TYPE_School</th>\n",
       "      <th>ORGANIZATION_TYPE_Security</th>\n",
       "      <th>ORGANIZATION_TYPE_Security Ministries</th>\n",
       "      <th>ORGANIZATION_TYPE_Self-employed</th>\n",
       "      <th>ORGANIZATION_TYPE_Services</th>\n",
       "      <th>ORGANIZATION_TYPE_Telecom</th>\n",
       "      <th>ORGANIZATION_TYPE_Trade: type 1</th>\n",
       "      <th>ORGANIZATION_TYPE_Trade: type 2</th>\n",
       "      <th>ORGANIZATION_TYPE_Trade: type 3</th>\n",
       "      <th>ORGANIZATION_TYPE_Trade: type 4</th>\n",
       "      <th>ORGANIZATION_TYPE_Trade: type 5</th>\n",
       "      <th>ORGANIZATION_TYPE_Trade: type 6</th>\n",
       "      <th>ORGANIZATION_TYPE_Trade: type 7</th>\n",
       "      <th>ORGANIZATION_TYPE_Transport: type 1</th>\n",
       "      <th>ORGANIZATION_TYPE_Transport: type 2</th>\n",
       "      <th>ORGANIZATION_TYPE_Transport: type 3</th>\n",
       "      <th>ORGANIZATION_TYPE_Transport: type 4</th>\n",
       "      <th>ORGANIZATION_TYPE_University</th>\n",
       "      <th>ORGANIZATION_TYPE_XNA</th>\n",
       "      <th>NAME_CONTRACT_TYPE_0</th>\n",
       "      <th>NAME_CONTRACT_TYPE_1</th>\n",
       "      <th>CODE_GENDER_0</th>\n",
       "      <th>CODE_GENDER_1</th>\n",
       "      <th>FLAG_OWN_CAR_0</th>\n",
       "      <th>FLAG_OWN_CAR_1</th>\n",
       "      <th>FLAG_OWN_REALTY_0</th>\n",
       "      <th>FLAG_OWN_REALTY_1</th>\n",
       "    </tr>\n",
       "  </thead>\n",
       "  <tbody>\n",
       "    <tr>\n",
       "      <th>0</th>\n",
       "      <td>0.0</td>\n",
       "      <td>0.009839</td>\n",
       "      <td>0.090287</td>\n",
       "      <td>0.090032</td>\n",
       "      <td>0.077441</td>\n",
       "      <td>0.256321</td>\n",
       "      <td>0.888839</td>\n",
       "      <td>0.045086</td>\n",
       "      <td>0.852140</td>\n",
       "      <td>0.705433</td>\n",
       "      <td>1.0</td>\n",
       "      <td>1.0</td>\n",
       "      <td>0.0</td>\n",
       "      <td>1.0</td>\n",
       "      <td>1.0</td>\n",
       "      <td>0.0</td>\n",
       "      <td>0.000000</td>\n",
       "      <td>0.5</td>\n",
       "      <td>0.5</td>\n",
       "      <td>0.434783</td>\n",
       "      <td>0.0</td>\n",
       "      <td>0.0</td>\n",
       "      <td>0.0</td>\n",
       "      <td>0.0</td>\n",
       "      <td>0.0</td>\n",
       "      <td>0.0</td>\n",
       "      <td>0.307542</td>\n",
       "      <td>0.155054</td>\n",
       "      <td>0.005747</td>\n",
       "      <td>0.058824</td>\n",
       "      <td>0.005814</td>\n",
       "      <td>0.083333</td>\n",
       "      <td>0.735788</td>\n",
       "      <td>0.0</td>\n",
       "      <td>1.0</td>\n",
       "      <td>0.0</td>\n",
       "      <td>0.0</td>\n",
       "      <td>0.0</td>\n",
       "      <td>0.0</td>\n",
       "      <td>0.0</td>\n",
       "      <td>0.0</td>\n",
       "      <td>0.0</td>\n",
       "      <td>0.0</td>\n",
       "      <td>0.0</td>\n",
       "      <td>0.0</td>\n",
       "      <td>0.0</td>\n",
       "      <td>0.0</td>\n",
       "      <td>0.0</td>\n",
       "      <td>0.0</td>\n",
       "      <td>0.0</td>\n",
       "      <td>0.0</td>\n",
       "      <td>0.0</td>\n",
       "      <td>0.0</td>\n",
       "      <td>0.000000</td>\n",
       "      <td>0.000000</td>\n",
       "      <td>0.000000</td>\n",
       "      <td>0.000000</td>\n",
       "      <td>0.000000</td>\n",
       "      <td>0.040000</td>\n",
       "      <td>0.0</td>\n",
       "      <td>0.0</td>\n",
       "      <td>0.0</td>\n",
       "      <td>0.0</td>\n",
       "      <td>0.0</td>\n",
       "      <td>0.0</td>\n",
       "      <td>1.0</td>\n",
       "      <td>0.0</td>\n",
       "      <td>0.0</td>\n",
       "      <td>0.0</td>\n",
       "      <td>0.0</td>\n",
       "      <td>0.0</td>\n",
       "      <td>0.0</td>\n",
       "      <td>0.0</td>\n",
       "      <td>1.0</td>\n",
       "      <td>0.0</td>\n",
       "      <td>0.0</td>\n",
       "      <td>0.0</td>\n",
       "      <td>0.0</td>\n",
       "      <td>1.0</td>\n",
       "      <td>0.0</td>\n",
       "      <td>0.0</td>\n",
       "      <td>0.0</td>\n",
       "      <td>1.0</td>\n",
       "      <td>0.0</td>\n",
       "      <td>0.0</td>\n",
       "      <td>1.0</td>\n",
       "      <td>0.0</td>\n",
       "      <td>0.0</td>\n",
       "      <td>0.0</td>\n",
       "      <td>0.0</td>\n",
       "      <td>0.0</td>\n",
       "      <td>0.0</td>\n",
       "      <td>0.0</td>\n",
       "      <td>0.0</td>\n",
       "      <td>0.0</td>\n",
       "      <td>0.0</td>\n",
       "      <td>0.0</td>\n",
       "      <td>0.0</td>\n",
       "      <td>1.0</td>\n",
       "      <td>0.0</td>\n",
       "      <td>0.0</td>\n",
       "      <td>0.0</td>\n",
       "      <td>0.0</td>\n",
       "      <td>0.0</td>\n",
       "      <td>0.0</td>\n",
       "      <td>0.0</td>\n",
       "      <td>0.0</td>\n",
       "      <td>0.0</td>\n",
       "      <td>0.0</td>\n",
       "      <td>0.0</td>\n",
       "      <td>0.0</td>\n",
       "      <td>0.0</td>\n",
       "      <td>0.0</td>\n",
       "      <td>0.0</td>\n",
       "      <td>0.0</td>\n",
       "      <td>1.0</td>\n",
       "      <td>0.0</td>\n",
       "      <td>0.0</td>\n",
       "      <td>0.0</td>\n",
       "      <td>0.0</td>\n",
       "      <td>0.0</td>\n",
       "      <td>1.0</td>\n",
       "      <td>0.0</td>\n",
       "      <td>0.0</td>\n",
       "      <td>0.0</td>\n",
       "      <td>0.0</td>\n",
       "      <td>0.0</td>\n",
       "      <td>0.0</td>\n",
       "      <td>0.0</td>\n",
       "      <td>0.0</td>\n",
       "      <td>0.0</td>\n",
       "      <td>0.0</td>\n",
       "      <td>0.0</td>\n",
       "      <td>0.0</td>\n",
       "      <td>0.0</td>\n",
       "      <td>0.0</td>\n",
       "      <td>0.0</td>\n",
       "      <td>0.0</td>\n",
       "      <td>0.0</td>\n",
       "      <td>0.0</td>\n",
       "      <td>0.0</td>\n",
       "      <td>0.0</td>\n",
       "      <td>0.0</td>\n",
       "      <td>0.0</td>\n",
       "      <td>0.0</td>\n",
       "      <td>0.0</td>\n",
       "      <td>0.0</td>\n",
       "      <td>0.0</td>\n",
       "      <td>0.0</td>\n",
       "      <td>0.0</td>\n",
       "      <td>0.0</td>\n",
       "      <td>0.0</td>\n",
       "      <td>0.0</td>\n",
       "      <td>0.0</td>\n",
       "      <td>0.0</td>\n",
       "      <td>0.0</td>\n",
       "      <td>0.0</td>\n",
       "      <td>0.0</td>\n",
       "      <td>0.0</td>\n",
       "      <td>0.0</td>\n",
       "      <td>0.0</td>\n",
       "      <td>0.0</td>\n",
       "      <td>0.0</td>\n",
       "      <td>0.0</td>\n",
       "      <td>0.0</td>\n",
       "      <td>0.0</td>\n",
       "      <td>0.0</td>\n",
       "      <td>0.0</td>\n",
       "      <td>0.0</td>\n",
       "      <td>0.0</td>\n",
       "      <td>0.0</td>\n",
       "      <td>0.0</td>\n",
       "      <td>0.0</td>\n",
       "      <td>0.0</td>\n",
       "      <td>0</td>\n",
       "      <td>1</td>\n",
       "      <td>0</td>\n",
       "      <td>1</td>\n",
       "      <td>0</td>\n",
       "      <td>1</td>\n",
       "      <td>0</td>\n",
       "      <td>1</td>\n",
       "    </tr>\n",
       "    <tr>\n",
       "      <th>1</th>\n",
       "      <td>0.0</td>\n",
       "      <td>0.013594</td>\n",
       "      <td>0.311736</td>\n",
       "      <td>0.132924</td>\n",
       "      <td>0.271605</td>\n",
       "      <td>0.045016</td>\n",
       "      <td>0.477114</td>\n",
       "      <td>0.043648</td>\n",
       "      <td>0.951929</td>\n",
       "      <td>0.959566</td>\n",
       "      <td>1.0</td>\n",
       "      <td>1.0</td>\n",
       "      <td>0.0</td>\n",
       "      <td>1.0</td>\n",
       "      <td>1.0</td>\n",
       "      <td>0.0</td>\n",
       "      <td>0.052632</td>\n",
       "      <td>0.0</td>\n",
       "      <td>0.0</td>\n",
       "      <td>0.478261</td>\n",
       "      <td>0.0</td>\n",
       "      <td>0.0</td>\n",
       "      <td>0.0</td>\n",
       "      <td>0.0</td>\n",
       "      <td>0.0</td>\n",
       "      <td>0.0</td>\n",
       "      <td>0.727773</td>\n",
       "      <td>0.569894</td>\n",
       "      <td>0.002874</td>\n",
       "      <td>0.000000</td>\n",
       "      <td>0.002907</td>\n",
       "      <td>0.000000</td>\n",
       "      <td>0.807083</td>\n",
       "      <td>0.0</td>\n",
       "      <td>1.0</td>\n",
       "      <td>0.0</td>\n",
       "      <td>0.0</td>\n",
       "      <td>0.0</td>\n",
       "      <td>0.0</td>\n",
       "      <td>0.0</td>\n",
       "      <td>0.0</td>\n",
       "      <td>0.0</td>\n",
       "      <td>0.0</td>\n",
       "      <td>0.0</td>\n",
       "      <td>0.0</td>\n",
       "      <td>0.0</td>\n",
       "      <td>0.0</td>\n",
       "      <td>0.0</td>\n",
       "      <td>0.0</td>\n",
       "      <td>0.0</td>\n",
       "      <td>0.0</td>\n",
       "      <td>0.0</td>\n",
       "      <td>0.0</td>\n",
       "      <td>0.000000</td>\n",
       "      <td>0.000000</td>\n",
       "      <td>0.000000</td>\n",
       "      <td>0.000000</td>\n",
       "      <td>0.000000</td>\n",
       "      <td>0.000000</td>\n",
       "      <td>0.0</td>\n",
       "      <td>1.0</td>\n",
       "      <td>0.0</td>\n",
       "      <td>0.0</td>\n",
       "      <td>0.0</td>\n",
       "      <td>0.0</td>\n",
       "      <td>0.0</td>\n",
       "      <td>0.0</td>\n",
       "      <td>0.0</td>\n",
       "      <td>0.0</td>\n",
       "      <td>0.0</td>\n",
       "      <td>1.0</td>\n",
       "      <td>0.0</td>\n",
       "      <td>0.0</td>\n",
       "      <td>0.0</td>\n",
       "      <td>0.0</td>\n",
       "      <td>1.0</td>\n",
       "      <td>0.0</td>\n",
       "      <td>0.0</td>\n",
       "      <td>0.0</td>\n",
       "      <td>0.0</td>\n",
       "      <td>1.0</td>\n",
       "      <td>0.0</td>\n",
       "      <td>0.0</td>\n",
       "      <td>0.0</td>\n",
       "      <td>0.0</td>\n",
       "      <td>1.0</td>\n",
       "      <td>0.0</td>\n",
       "      <td>0.0</td>\n",
       "      <td>0.0</td>\n",
       "      <td>0.0</td>\n",
       "      <td>0.0</td>\n",
       "      <td>0.0</td>\n",
       "      <td>0.0</td>\n",
       "      <td>1.0</td>\n",
       "      <td>0.0</td>\n",
       "      <td>0.0</td>\n",
       "      <td>0.0</td>\n",
       "      <td>0.0</td>\n",
       "      <td>0.0</td>\n",
       "      <td>0.0</td>\n",
       "      <td>0.0</td>\n",
       "      <td>0.0</td>\n",
       "      <td>0.0</td>\n",
       "      <td>0.0</td>\n",
       "      <td>0.0</td>\n",
       "      <td>0.0</td>\n",
       "      <td>0.0</td>\n",
       "      <td>0.0</td>\n",
       "      <td>0.0</td>\n",
       "      <td>0.0</td>\n",
       "      <td>1.0</td>\n",
       "      <td>0.0</td>\n",
       "      <td>0.0</td>\n",
       "      <td>0.0</td>\n",
       "      <td>0.0</td>\n",
       "      <td>0.0</td>\n",
       "      <td>0.0</td>\n",
       "      <td>0.0</td>\n",
       "      <td>0.0</td>\n",
       "      <td>0.0</td>\n",
       "      <td>0.0</td>\n",
       "      <td>0.0</td>\n",
       "      <td>0.0</td>\n",
       "      <td>0.0</td>\n",
       "      <td>0.0</td>\n",
       "      <td>0.0</td>\n",
       "      <td>0.0</td>\n",
       "      <td>0.0</td>\n",
       "      <td>0.0</td>\n",
       "      <td>0.0</td>\n",
       "      <td>0.0</td>\n",
       "      <td>0.0</td>\n",
       "      <td>0.0</td>\n",
       "      <td>0.0</td>\n",
       "      <td>0.0</td>\n",
       "      <td>0.0</td>\n",
       "      <td>0.0</td>\n",
       "      <td>0.0</td>\n",
       "      <td>0.0</td>\n",
       "      <td>0.0</td>\n",
       "      <td>0.0</td>\n",
       "      <td>0.0</td>\n",
       "      <td>0.0</td>\n",
       "      <td>0.0</td>\n",
       "      <td>0.0</td>\n",
       "      <td>0.0</td>\n",
       "      <td>0.0</td>\n",
       "      <td>0.0</td>\n",
       "      <td>0.0</td>\n",
       "      <td>0.0</td>\n",
       "      <td>0.0</td>\n",
       "      <td>0.0</td>\n",
       "      <td>0.0</td>\n",
       "      <td>0.0</td>\n",
       "      <td>0.0</td>\n",
       "      <td>1.0</td>\n",
       "      <td>0.0</td>\n",
       "      <td>0.0</td>\n",
       "      <td>0.0</td>\n",
       "      <td>0.0</td>\n",
       "      <td>0.0</td>\n",
       "      <td>0.0</td>\n",
       "      <td>0.0</td>\n",
       "      <td>0.0</td>\n",
       "      <td>0.0</td>\n",
       "      <td>0.0</td>\n",
       "      <td>0.0</td>\n",
       "      <td>0.0</td>\n",
       "      <td>0.0</td>\n",
       "      <td>0.0</td>\n",
       "      <td>0.0</td>\n",
       "      <td>0.0</td>\n",
       "      <td>0.0</td>\n",
       "      <td>0.0</td>\n",
       "      <td>0</td>\n",
       "      <td>1</td>\n",
       "      <td>1</td>\n",
       "      <td>0</td>\n",
       "      <td>0</td>\n",
       "      <td>1</td>\n",
       "      <td>1</td>\n",
       "      <td>0</td>\n",
       "    </tr>\n",
       "    <tr>\n",
       "      <th>2</th>\n",
       "      <td>0.0</td>\n",
       "      <td>0.002328</td>\n",
       "      <td>0.022472</td>\n",
       "      <td>0.020025</td>\n",
       "      <td>0.023569</td>\n",
       "      <td>0.134897</td>\n",
       "      <td>0.348534</td>\n",
       "      <td>0.046161</td>\n",
       "      <td>0.827335</td>\n",
       "      <td>0.648326</td>\n",
       "      <td>1.0</td>\n",
       "      <td>1.0</td>\n",
       "      <td>1.0</td>\n",
       "      <td>1.0</td>\n",
       "      <td>1.0</td>\n",
       "      <td>0.0</td>\n",
       "      <td>0.000000</td>\n",
       "      <td>0.5</td>\n",
       "      <td>0.5</td>\n",
       "      <td>0.391304</td>\n",
       "      <td>0.0</td>\n",
       "      <td>0.0</td>\n",
       "      <td>0.0</td>\n",
       "      <td>0.0</td>\n",
       "      <td>0.0</td>\n",
       "      <td>0.0</td>\n",
       "      <td>0.650190</td>\n",
       "      <td>0.814130</td>\n",
       "      <td>0.000000</td>\n",
       "      <td>0.000000</td>\n",
       "      <td>0.000000</td>\n",
       "      <td>0.000000</td>\n",
       "      <td>0.810112</td>\n",
       "      <td>0.0</td>\n",
       "      <td>0.0</td>\n",
       "      <td>0.0</td>\n",
       "      <td>0.0</td>\n",
       "      <td>0.0</td>\n",
       "      <td>0.0</td>\n",
       "      <td>0.0</td>\n",
       "      <td>0.0</td>\n",
       "      <td>0.0</td>\n",
       "      <td>0.0</td>\n",
       "      <td>0.0</td>\n",
       "      <td>0.0</td>\n",
       "      <td>0.0</td>\n",
       "      <td>0.0</td>\n",
       "      <td>0.0</td>\n",
       "      <td>0.0</td>\n",
       "      <td>0.0</td>\n",
       "      <td>0.0</td>\n",
       "      <td>0.0</td>\n",
       "      <td>0.0</td>\n",
       "      <td>0.000000</td>\n",
       "      <td>0.000000</td>\n",
       "      <td>0.000000</td>\n",
       "      <td>0.000000</td>\n",
       "      <td>0.000000</td>\n",
       "      <td>0.000000</td>\n",
       "      <td>0.0</td>\n",
       "      <td>0.0</td>\n",
       "      <td>0.0</td>\n",
       "      <td>0.0</td>\n",
       "      <td>0.0</td>\n",
       "      <td>0.0</td>\n",
       "      <td>1.0</td>\n",
       "      <td>0.0</td>\n",
       "      <td>0.0</td>\n",
       "      <td>0.0</td>\n",
       "      <td>0.0</td>\n",
       "      <td>0.0</td>\n",
       "      <td>0.0</td>\n",
       "      <td>0.0</td>\n",
       "      <td>1.0</td>\n",
       "      <td>0.0</td>\n",
       "      <td>0.0</td>\n",
       "      <td>0.0</td>\n",
       "      <td>0.0</td>\n",
       "      <td>1.0</td>\n",
       "      <td>0.0</td>\n",
       "      <td>0.0</td>\n",
       "      <td>0.0</td>\n",
       "      <td>1.0</td>\n",
       "      <td>0.0</td>\n",
       "      <td>0.0</td>\n",
       "      <td>1.0</td>\n",
       "      <td>0.0</td>\n",
       "      <td>0.0</td>\n",
       "      <td>0.0</td>\n",
       "      <td>0.0</td>\n",
       "      <td>0.0</td>\n",
       "      <td>0.0</td>\n",
       "      <td>0.0</td>\n",
       "      <td>0.0</td>\n",
       "      <td>0.0</td>\n",
       "      <td>0.0</td>\n",
       "      <td>0.0</td>\n",
       "      <td>0.0</td>\n",
       "      <td>1.0</td>\n",
       "      <td>0.0</td>\n",
       "      <td>0.0</td>\n",
       "      <td>0.0</td>\n",
       "      <td>0.0</td>\n",
       "      <td>0.0</td>\n",
       "      <td>0.0</td>\n",
       "      <td>0.0</td>\n",
       "      <td>0.0</td>\n",
       "      <td>0.0</td>\n",
       "      <td>0.0</td>\n",
       "      <td>0.0</td>\n",
       "      <td>1.0</td>\n",
       "      <td>0.0</td>\n",
       "      <td>0.0</td>\n",
       "      <td>0.0</td>\n",
       "      <td>0.0</td>\n",
       "      <td>0.0</td>\n",
       "      <td>0.0</td>\n",
       "      <td>0.0</td>\n",
       "      <td>0.0</td>\n",
       "      <td>0.0</td>\n",
       "      <td>0.0</td>\n",
       "      <td>0.0</td>\n",
       "      <td>0.0</td>\n",
       "      <td>0.0</td>\n",
       "      <td>0.0</td>\n",
       "      <td>0.0</td>\n",
       "      <td>0.0</td>\n",
       "      <td>1.0</td>\n",
       "      <td>0.0</td>\n",
       "      <td>0.0</td>\n",
       "      <td>0.0</td>\n",
       "      <td>0.0</td>\n",
       "      <td>0.0</td>\n",
       "      <td>0.0</td>\n",
       "      <td>0.0</td>\n",
       "      <td>0.0</td>\n",
       "      <td>0.0</td>\n",
       "      <td>0.0</td>\n",
       "      <td>0.0</td>\n",
       "      <td>0.0</td>\n",
       "      <td>0.0</td>\n",
       "      <td>0.0</td>\n",
       "      <td>0.0</td>\n",
       "      <td>0.0</td>\n",
       "      <td>0.0</td>\n",
       "      <td>0.0</td>\n",
       "      <td>0.0</td>\n",
       "      <td>0.0</td>\n",
       "      <td>0.0</td>\n",
       "      <td>0.0</td>\n",
       "      <td>0.0</td>\n",
       "      <td>0.0</td>\n",
       "      <td>0.0</td>\n",
       "      <td>0.0</td>\n",
       "      <td>0.0</td>\n",
       "      <td>0.0</td>\n",
       "      <td>0.0</td>\n",
       "      <td>0.0</td>\n",
       "      <td>0.0</td>\n",
       "      <td>0.0</td>\n",
       "      <td>0.0</td>\n",
       "      <td>0.0</td>\n",
       "      <td>0.0</td>\n",
       "      <td>0.0</td>\n",
       "      <td>0.0</td>\n",
       "      <td>0.0</td>\n",
       "      <td>0.0</td>\n",
       "      <td>0.0</td>\n",
       "      <td>0.0</td>\n",
       "      <td>0.0</td>\n",
       "      <td>0.0</td>\n",
       "      <td>0.0</td>\n",
       "      <td>0.0</td>\n",
       "      <td>0.0</td>\n",
       "      <td>1</td>\n",
       "      <td>0</td>\n",
       "      <td>0</td>\n",
       "      <td>1</td>\n",
       "      <td>1</td>\n",
       "      <td>0</td>\n",
       "      <td>0</td>\n",
       "      <td>1</td>\n",
       "    </tr>\n",
       "    <tr>\n",
       "      <th>3</th>\n",
       "      <td>0.0</td>\n",
       "      <td>0.006084</td>\n",
       "      <td>0.066837</td>\n",
       "      <td>0.109477</td>\n",
       "      <td>0.063973</td>\n",
       "      <td>0.107023</td>\n",
       "      <td>0.350846</td>\n",
       "      <td>0.038817</td>\n",
       "      <td>0.601451</td>\n",
       "      <td>0.661387</td>\n",
       "      <td>1.0</td>\n",
       "      <td>1.0</td>\n",
       "      <td>0.0</td>\n",
       "      <td>1.0</td>\n",
       "      <td>0.0</td>\n",
       "      <td>0.0</td>\n",
       "      <td>0.052632</td>\n",
       "      <td>0.5</td>\n",
       "      <td>0.5</td>\n",
       "      <td>0.739130</td>\n",
       "      <td>0.0</td>\n",
       "      <td>0.0</td>\n",
       "      <td>0.0</td>\n",
       "      <td>0.0</td>\n",
       "      <td>0.0</td>\n",
       "      <td>0.0</td>\n",
       "      <td>0.760751</td>\n",
       "      <td>0.569894</td>\n",
       "      <td>0.005747</td>\n",
       "      <td>0.000000</td>\n",
       "      <td>0.005814</td>\n",
       "      <td>0.000000</td>\n",
       "      <td>0.856244</td>\n",
       "      <td>0.0</td>\n",
       "      <td>1.0</td>\n",
       "      <td>0.0</td>\n",
       "      <td>0.0</td>\n",
       "      <td>0.0</td>\n",
       "      <td>0.0</td>\n",
       "      <td>0.0</td>\n",
       "      <td>0.0</td>\n",
       "      <td>0.0</td>\n",
       "      <td>0.0</td>\n",
       "      <td>0.0</td>\n",
       "      <td>0.0</td>\n",
       "      <td>0.0</td>\n",
       "      <td>0.0</td>\n",
       "      <td>0.0</td>\n",
       "      <td>0.0</td>\n",
       "      <td>0.0</td>\n",
       "      <td>0.0</td>\n",
       "      <td>0.0</td>\n",
       "      <td>0.0</td>\n",
       "      <td>0.001601</td>\n",
       "      <td>0.000778</td>\n",
       "      <td>0.004295</td>\n",
       "      <td>0.009903</td>\n",
       "      <td>0.001017</td>\n",
       "      <td>0.075999</td>\n",
       "      <td>0.0</td>\n",
       "      <td>0.0</td>\n",
       "      <td>0.0</td>\n",
       "      <td>0.0</td>\n",
       "      <td>0.0</td>\n",
       "      <td>0.0</td>\n",
       "      <td>1.0</td>\n",
       "      <td>0.0</td>\n",
       "      <td>0.0</td>\n",
       "      <td>0.0</td>\n",
       "      <td>0.0</td>\n",
       "      <td>0.0</td>\n",
       "      <td>0.0</td>\n",
       "      <td>0.0</td>\n",
       "      <td>1.0</td>\n",
       "      <td>0.0</td>\n",
       "      <td>0.0</td>\n",
       "      <td>0.0</td>\n",
       "      <td>0.0</td>\n",
       "      <td>1.0</td>\n",
       "      <td>1.0</td>\n",
       "      <td>0.0</td>\n",
       "      <td>0.0</td>\n",
       "      <td>0.0</td>\n",
       "      <td>0.0</td>\n",
       "      <td>0.0</td>\n",
       "      <td>1.0</td>\n",
       "      <td>0.0</td>\n",
       "      <td>0.0</td>\n",
       "      <td>0.0</td>\n",
       "      <td>0.0</td>\n",
       "      <td>0.0</td>\n",
       "      <td>0.0</td>\n",
       "      <td>0.0</td>\n",
       "      <td>0.0</td>\n",
       "      <td>0.0</td>\n",
       "      <td>0.0</td>\n",
       "      <td>0.0</td>\n",
       "      <td>0.0</td>\n",
       "      <td>1.0</td>\n",
       "      <td>0.0</td>\n",
       "      <td>0.0</td>\n",
       "      <td>0.0</td>\n",
       "      <td>0.0</td>\n",
       "      <td>0.0</td>\n",
       "      <td>0.0</td>\n",
       "      <td>0.0</td>\n",
       "      <td>0.0</td>\n",
       "      <td>0.0</td>\n",
       "      <td>0.0</td>\n",
       "      <td>0.0</td>\n",
       "      <td>0.0</td>\n",
       "      <td>0.0</td>\n",
       "      <td>0.0</td>\n",
       "      <td>0.0</td>\n",
       "      <td>0.0</td>\n",
       "      <td>1.0</td>\n",
       "      <td>0.0</td>\n",
       "      <td>0.0</td>\n",
       "      <td>0.0</td>\n",
       "      <td>0.0</td>\n",
       "      <td>0.0</td>\n",
       "      <td>1.0</td>\n",
       "      <td>0.0</td>\n",
       "      <td>0.0</td>\n",
       "      <td>0.0</td>\n",
       "      <td>0.0</td>\n",
       "      <td>0.0</td>\n",
       "      <td>0.0</td>\n",
       "      <td>0.0</td>\n",
       "      <td>0.0</td>\n",
       "      <td>0.0</td>\n",
       "      <td>0.0</td>\n",
       "      <td>0.0</td>\n",
       "      <td>0.0</td>\n",
       "      <td>0.0</td>\n",
       "      <td>0.0</td>\n",
       "      <td>0.0</td>\n",
       "      <td>0.0</td>\n",
       "      <td>0.0</td>\n",
       "      <td>0.0</td>\n",
       "      <td>0.0</td>\n",
       "      <td>0.0</td>\n",
       "      <td>0.0</td>\n",
       "      <td>0.0</td>\n",
       "      <td>0.0</td>\n",
       "      <td>0.0</td>\n",
       "      <td>0.0</td>\n",
       "      <td>0.0</td>\n",
       "      <td>0.0</td>\n",
       "      <td>0.0</td>\n",
       "      <td>0.0</td>\n",
       "      <td>0.0</td>\n",
       "      <td>0.0</td>\n",
       "      <td>0.0</td>\n",
       "      <td>0.0</td>\n",
       "      <td>0.0</td>\n",
       "      <td>0.0</td>\n",
       "      <td>0.0</td>\n",
       "      <td>0.0</td>\n",
       "      <td>0.0</td>\n",
       "      <td>0.0</td>\n",
       "      <td>0.0</td>\n",
       "      <td>0.0</td>\n",
       "      <td>0.0</td>\n",
       "      <td>0.0</td>\n",
       "      <td>0.0</td>\n",
       "      <td>0.0</td>\n",
       "      <td>0.0</td>\n",
       "      <td>0.0</td>\n",
       "      <td>0.0</td>\n",
       "      <td>0.0</td>\n",
       "      <td>0.0</td>\n",
       "      <td>0.0</td>\n",
       "      <td>0.0</td>\n",
       "      <td>0</td>\n",
       "      <td>1</td>\n",
       "      <td>1</td>\n",
       "      <td>0</td>\n",
       "      <td>0</td>\n",
       "      <td>1</td>\n",
       "      <td>0</td>\n",
       "      <td>1</td>\n",
       "    </tr>\n",
       "    <tr>\n",
       "      <th>4</th>\n",
       "      <td>0.0</td>\n",
       "      <td>0.005333</td>\n",
       "      <td>0.116854</td>\n",
       "      <td>0.078975</td>\n",
       "      <td>0.117845</td>\n",
       "      <td>0.392880</td>\n",
       "      <td>0.298591</td>\n",
       "      <td>0.038820</td>\n",
       "      <td>0.825268</td>\n",
       "      <td>0.519522</td>\n",
       "      <td>1.0</td>\n",
       "      <td>1.0</td>\n",
       "      <td>0.0</td>\n",
       "      <td>1.0</td>\n",
       "      <td>0.0</td>\n",
       "      <td>0.0</td>\n",
       "      <td>0.000000</td>\n",
       "      <td>0.5</td>\n",
       "      <td>0.5</td>\n",
       "      <td>0.478261</td>\n",
       "      <td>0.0</td>\n",
       "      <td>0.0</td>\n",
       "      <td>0.0</td>\n",
       "      <td>0.0</td>\n",
       "      <td>1.0</td>\n",
       "      <td>1.0</td>\n",
       "      <td>0.377472</td>\n",
       "      <td>0.569894</td>\n",
       "      <td>0.000000</td>\n",
       "      <td>0.000000</td>\n",
       "      <td>0.000000</td>\n",
       "      <td>0.000000</td>\n",
       "      <td>0.742311</td>\n",
       "      <td>0.0</td>\n",
       "      <td>0.0</td>\n",
       "      <td>0.0</td>\n",
       "      <td>0.0</td>\n",
       "      <td>0.0</td>\n",
       "      <td>0.0</td>\n",
       "      <td>1.0</td>\n",
       "      <td>0.0</td>\n",
       "      <td>0.0</td>\n",
       "      <td>0.0</td>\n",
       "      <td>0.0</td>\n",
       "      <td>0.0</td>\n",
       "      <td>0.0</td>\n",
       "      <td>0.0</td>\n",
       "      <td>0.0</td>\n",
       "      <td>0.0</td>\n",
       "      <td>0.0</td>\n",
       "      <td>0.0</td>\n",
       "      <td>0.0</td>\n",
       "      <td>0.0</td>\n",
       "      <td>0.000000</td>\n",
       "      <td>0.000000</td>\n",
       "      <td>0.000000</td>\n",
       "      <td>0.000000</td>\n",
       "      <td>0.000000</td>\n",
       "      <td>0.000000</td>\n",
       "      <td>0.0</td>\n",
       "      <td>0.0</td>\n",
       "      <td>0.0</td>\n",
       "      <td>0.0</td>\n",
       "      <td>0.0</td>\n",
       "      <td>0.0</td>\n",
       "      <td>1.0</td>\n",
       "      <td>0.0</td>\n",
       "      <td>0.0</td>\n",
       "      <td>0.0</td>\n",
       "      <td>0.0</td>\n",
       "      <td>0.0</td>\n",
       "      <td>0.0</td>\n",
       "      <td>0.0</td>\n",
       "      <td>1.0</td>\n",
       "      <td>0.0</td>\n",
       "      <td>0.0</td>\n",
       "      <td>0.0</td>\n",
       "      <td>0.0</td>\n",
       "      <td>1.0</td>\n",
       "      <td>0.0</td>\n",
       "      <td>0.0</td>\n",
       "      <td>0.0</td>\n",
       "      <td>1.0</td>\n",
       "      <td>0.0</td>\n",
       "      <td>0.0</td>\n",
       "      <td>1.0</td>\n",
       "      <td>0.0</td>\n",
       "      <td>0.0</td>\n",
       "      <td>0.0</td>\n",
       "      <td>0.0</td>\n",
       "      <td>0.0</td>\n",
       "      <td>0.0</td>\n",
       "      <td>0.0</td>\n",
       "      <td>1.0</td>\n",
       "      <td>0.0</td>\n",
       "      <td>0.0</td>\n",
       "      <td>0.0</td>\n",
       "      <td>0.0</td>\n",
       "      <td>0.0</td>\n",
       "      <td>0.0</td>\n",
       "      <td>0.0</td>\n",
       "      <td>0.0</td>\n",
       "      <td>0.0</td>\n",
       "      <td>0.0</td>\n",
       "      <td>0.0</td>\n",
       "      <td>0.0</td>\n",
       "      <td>0.0</td>\n",
       "      <td>0.0</td>\n",
       "      <td>0.0</td>\n",
       "      <td>0.0</td>\n",
       "      <td>0.0</td>\n",
       "      <td>0.0</td>\n",
       "      <td>0.0</td>\n",
       "      <td>1.0</td>\n",
       "      <td>0.0</td>\n",
       "      <td>0.0</td>\n",
       "      <td>0.0</td>\n",
       "      <td>0.0</td>\n",
       "      <td>0.0</td>\n",
       "      <td>0.0</td>\n",
       "      <td>0.0</td>\n",
       "      <td>0.0</td>\n",
       "      <td>0.0</td>\n",
       "      <td>0.0</td>\n",
       "      <td>0.0</td>\n",
       "      <td>0.0</td>\n",
       "      <td>0.0</td>\n",
       "      <td>0.0</td>\n",
       "      <td>0.0</td>\n",
       "      <td>0.0</td>\n",
       "      <td>0.0</td>\n",
       "      <td>0.0</td>\n",
       "      <td>0.0</td>\n",
       "      <td>0.0</td>\n",
       "      <td>0.0</td>\n",
       "      <td>0.0</td>\n",
       "      <td>0.0</td>\n",
       "      <td>0.0</td>\n",
       "      <td>0.0</td>\n",
       "      <td>0.0</td>\n",
       "      <td>0.0</td>\n",
       "      <td>0.0</td>\n",
       "      <td>0.0</td>\n",
       "      <td>0.0</td>\n",
       "      <td>0.0</td>\n",
       "      <td>0.0</td>\n",
       "      <td>0.0</td>\n",
       "      <td>0.0</td>\n",
       "      <td>0.0</td>\n",
       "      <td>0.0</td>\n",
       "      <td>0.0</td>\n",
       "      <td>0.0</td>\n",
       "      <td>0.0</td>\n",
       "      <td>1.0</td>\n",
       "      <td>0.0</td>\n",
       "      <td>0.0</td>\n",
       "      <td>0.0</td>\n",
       "      <td>0.0</td>\n",
       "      <td>0.0</td>\n",
       "      <td>0.0</td>\n",
       "      <td>0.0</td>\n",
       "      <td>0.0</td>\n",
       "      <td>0.0</td>\n",
       "      <td>0.0</td>\n",
       "      <td>0.0</td>\n",
       "      <td>0.0</td>\n",
       "      <td>0.0</td>\n",
       "      <td>0.0</td>\n",
       "      <td>0.0</td>\n",
       "      <td>0.0</td>\n",
       "      <td>0.0</td>\n",
       "      <td>0.0</td>\n",
       "      <td>0.0</td>\n",
       "      <td>0.0</td>\n",
       "      <td>0</td>\n",
       "      <td>1</td>\n",
       "      <td>0</td>\n",
       "      <td>1</td>\n",
       "      <td>0</td>\n",
       "      <td>1</td>\n",
       "      <td>0</td>\n",
       "      <td>1</td>\n",
       "    </tr>\n",
       "  </tbody>\n",
       "</table>\n",
       "</div>"
      ],
      "text/plain": [
       "   CNT_CHILDREN  AMT_INCOME_TOTAL  AMT_CREDIT  AMT_ANNUITY  AMT_GOODS_PRICE  \\\n",
       "0           0.0          0.009839    0.090287     0.090032         0.077441   \n",
       "1           0.0          0.013594    0.311736     0.132924         0.271605   \n",
       "2           0.0          0.002328    0.022472     0.020025         0.023569   \n",
       "3           0.0          0.006084    0.066837     0.109477         0.063973   \n",
       "4           0.0          0.005333    0.116854     0.078975         0.117845   \n",
       "\n",
       "   REGION_POPULATION_RELATIVE  DAYS_BIRTH  DAYS_EMPLOYED  DAYS_REGISTRATION  \\\n",
       "0                    0.256321    0.888839       0.045086           0.852140   \n",
       "1                    0.045016    0.477114       0.043648           0.951929   \n",
       "2                    0.134897    0.348534       0.046161           0.827335   \n",
       "3                    0.107023    0.350846       0.038817           0.601451   \n",
       "4                    0.392880    0.298591       0.038820           0.825268   \n",
       "\n",
       "   DAYS_ID_PUBLISH  FLAG_MOBIL  FLAG_EMP_PHONE  FLAG_WORK_PHONE  \\\n",
       "0         0.705433         1.0             1.0              0.0   \n",
       "1         0.959566         1.0             1.0              0.0   \n",
       "2         0.648326         1.0             1.0              1.0   \n",
       "3         0.661387         1.0             1.0              0.0   \n",
       "4         0.519522         1.0             1.0              0.0   \n",
       "\n",
       "   FLAG_CONT_MOBILE  FLAG_PHONE  FLAG_EMAIL  CNT_FAM_MEMBERS  \\\n",
       "0               1.0         1.0         0.0         0.000000   \n",
       "1               1.0         1.0         0.0         0.052632   \n",
       "2               1.0         1.0         0.0         0.000000   \n",
       "3               1.0         0.0         0.0         0.052632   \n",
       "4               1.0         0.0         0.0         0.000000   \n",
       "\n",
       "   REGION_RATING_CLIENT  REGION_RATING_CLIENT_W_CITY  HOUR_APPR_PROCESS_START  \\\n",
       "0                   0.5                          0.5                 0.434783   \n",
       "1                   0.0                          0.0                 0.478261   \n",
       "2                   0.5                          0.5                 0.391304   \n",
       "3                   0.5                          0.5                 0.739130   \n",
       "4                   0.5                          0.5                 0.478261   \n",
       "\n",
       "   REG_REGION_NOT_LIVE_REGION  REG_REGION_NOT_WORK_REGION  \\\n",
       "0                         0.0                         0.0   \n",
       "1                         0.0                         0.0   \n",
       "2                         0.0                         0.0   \n",
       "3                         0.0                         0.0   \n",
       "4                         0.0                         0.0   \n",
       "\n",
       "   LIVE_REGION_NOT_WORK_REGION  REG_CITY_NOT_LIVE_CITY  \\\n",
       "0                          0.0                     0.0   \n",
       "1                          0.0                     0.0   \n",
       "2                          0.0                     0.0   \n",
       "3                          0.0                     0.0   \n",
       "4                          0.0                     0.0   \n",
       "\n",
       "   REG_CITY_NOT_WORK_CITY  LIVE_CITY_NOT_WORK_CITY  EXT_SOURCE_2  \\\n",
       "0                     0.0                      0.0      0.307542   \n",
       "1                     0.0                      0.0      0.727773   \n",
       "2                     0.0                      0.0      0.650190   \n",
       "3                     0.0                      0.0      0.760751   \n",
       "4                     1.0                      1.0      0.377472   \n",
       "\n",
       "   EXT_SOURCE_3  OBS_30_CNT_SOCIAL_CIRCLE  DEF_30_CNT_SOCIAL_CIRCLE  \\\n",
       "0      0.155054                  0.005747                  0.058824   \n",
       "1      0.569894                  0.002874                  0.000000   \n",
       "2      0.814130                  0.000000                  0.000000   \n",
       "3      0.569894                  0.005747                  0.000000   \n",
       "4      0.569894                  0.000000                  0.000000   \n",
       "\n",
       "   OBS_60_CNT_SOCIAL_CIRCLE  DEF_60_CNT_SOCIAL_CIRCLE  DAYS_LAST_PHONE_CHANGE  \\\n",
       "0                  0.005814                  0.083333                0.735788   \n",
       "1                  0.002907                  0.000000                0.807083   \n",
       "2                  0.000000                  0.000000                0.810112   \n",
       "3                  0.005814                  0.000000                0.856244   \n",
       "4                  0.000000                  0.000000                0.742311   \n",
       "\n",
       "   FLAG_DOCUMENT_2  FLAG_DOCUMENT_3  FLAG_DOCUMENT_4  FLAG_DOCUMENT_5  \\\n",
       "0              0.0              1.0              0.0              0.0   \n",
       "1              0.0              1.0              0.0              0.0   \n",
       "2              0.0              0.0              0.0              0.0   \n",
       "3              0.0              1.0              0.0              0.0   \n",
       "4              0.0              0.0              0.0              0.0   \n",
       "\n",
       "   FLAG_DOCUMENT_6  FLAG_DOCUMENT_7  FLAG_DOCUMENT_8  FLAG_DOCUMENT_9  \\\n",
       "0              0.0              0.0              0.0              0.0   \n",
       "1              0.0              0.0              0.0              0.0   \n",
       "2              0.0              0.0              0.0              0.0   \n",
       "3              0.0              0.0              0.0              0.0   \n",
       "4              0.0              0.0              1.0              0.0   \n",
       "\n",
       "   FLAG_DOCUMENT_10  FLAG_DOCUMENT_11  FLAG_DOCUMENT_12  FLAG_DOCUMENT_13  \\\n",
       "0               0.0               0.0               0.0               0.0   \n",
       "1               0.0               0.0               0.0               0.0   \n",
       "2               0.0               0.0               0.0               0.0   \n",
       "3               0.0               0.0               0.0               0.0   \n",
       "4               0.0               0.0               0.0               0.0   \n",
       "\n",
       "   FLAG_DOCUMENT_14  FLAG_DOCUMENT_15  FLAG_DOCUMENT_16  FLAG_DOCUMENT_17  \\\n",
       "0               0.0               0.0               0.0               0.0   \n",
       "1               0.0               0.0               0.0               0.0   \n",
       "2               0.0               0.0               0.0               0.0   \n",
       "3               0.0               0.0               0.0               0.0   \n",
       "4               0.0               0.0               0.0               0.0   \n",
       "\n",
       "   FLAG_DOCUMENT_18  FLAG_DOCUMENT_19  FLAG_DOCUMENT_20  FLAG_DOCUMENT_21  \\\n",
       "0               0.0               0.0               0.0               0.0   \n",
       "1               0.0               0.0               0.0               0.0   \n",
       "2               0.0               0.0               0.0               0.0   \n",
       "3               0.0               0.0               0.0               0.0   \n",
       "4               0.0               0.0               0.0               0.0   \n",
       "\n",
       "   AMT_REQ_CREDIT_BUREAU_HOUR  AMT_REQ_CREDIT_BUREAU_DAY  \\\n",
       "0                    0.000000                   0.000000   \n",
       "1                    0.000000                   0.000000   \n",
       "2                    0.000000                   0.000000   \n",
       "3                    0.001601                   0.000778   \n",
       "4                    0.000000                   0.000000   \n",
       "\n",
       "   AMT_REQ_CREDIT_BUREAU_WEEK  AMT_REQ_CREDIT_BUREAU_MON  \\\n",
       "0                    0.000000                   0.000000   \n",
       "1                    0.000000                   0.000000   \n",
       "2                    0.000000                   0.000000   \n",
       "3                    0.004295                   0.009903   \n",
       "4                    0.000000                   0.000000   \n",
       "\n",
       "   AMT_REQ_CREDIT_BUREAU_QRT  AMT_REQ_CREDIT_BUREAU_YEAR  \\\n",
       "0                   0.000000                    0.040000   \n",
       "1                   0.000000                    0.000000   \n",
       "2                   0.000000                    0.000000   \n",
       "3                   0.001017                    0.075999   \n",
       "4                   0.000000                    0.000000   \n",
       "\n",
       "   NAME_TYPE_SUITE_Children  NAME_TYPE_SUITE_Family  \\\n",
       "0                       0.0                     0.0   \n",
       "1                       0.0                     1.0   \n",
       "2                       0.0                     0.0   \n",
       "3                       0.0                     0.0   \n",
       "4                       0.0                     0.0   \n",
       "\n",
       "   NAME_TYPE_SUITE_Group of people  NAME_TYPE_SUITE_Other_A  \\\n",
       "0                              0.0                      0.0   \n",
       "1                              0.0                      0.0   \n",
       "2                              0.0                      0.0   \n",
       "3                              0.0                      0.0   \n",
       "4                              0.0                      0.0   \n",
       "\n",
       "   NAME_TYPE_SUITE_Other_B  NAME_TYPE_SUITE_Spouse, partner  \\\n",
       "0                      0.0                              0.0   \n",
       "1                      0.0                              0.0   \n",
       "2                      0.0                              0.0   \n",
       "3                      0.0                              0.0   \n",
       "4                      0.0                              0.0   \n",
       "\n",
       "   NAME_TYPE_SUITE_Unaccompanied  NAME_TYPE_SUITE_nan  \\\n",
       "0                            1.0                  0.0   \n",
       "1                            0.0                  0.0   \n",
       "2                            1.0                  0.0   \n",
       "3                            1.0                  0.0   \n",
       "4                            1.0                  0.0   \n",
       "\n",
       "   NAME_INCOME_TYPE_Businessman  NAME_INCOME_TYPE_Commercial associate  \\\n",
       "0                           0.0                                    0.0   \n",
       "1                           0.0                                    0.0   \n",
       "2                           0.0                                    0.0   \n",
       "3                           0.0                                    0.0   \n",
       "4                           0.0                                    0.0   \n",
       "\n",
       "   NAME_INCOME_TYPE_Pensioner  NAME_INCOME_TYPE_State servant  \\\n",
       "0                         0.0                             0.0   \n",
       "1                         0.0                             1.0   \n",
       "2                         0.0                             0.0   \n",
       "3                         0.0                             0.0   \n",
       "4                         0.0                             0.0   \n",
       "\n",
       "   NAME_INCOME_TYPE_Student  NAME_INCOME_TYPE_Unemployed  \\\n",
       "0                       0.0                          0.0   \n",
       "1                       0.0                          0.0   \n",
       "2                       0.0                          0.0   \n",
       "3                       0.0                          0.0   \n",
       "4                       0.0                          0.0   \n",
       "\n",
       "   NAME_INCOME_TYPE_Working  NAME_EDUCATION_TYPE_Academic degree  \\\n",
       "0                       1.0                                  0.0   \n",
       "1                       0.0                                  0.0   \n",
       "2                       1.0                                  0.0   \n",
       "3                       1.0                                  0.0   \n",
       "4                       1.0                                  0.0   \n",
       "\n",
       "   NAME_EDUCATION_TYPE_Higher education  \\\n",
       "0                                   0.0   \n",
       "1                                   1.0   \n",
       "2                                   0.0   \n",
       "3                                   0.0   \n",
       "4                                   0.0   \n",
       "\n",
       "   NAME_EDUCATION_TYPE_Incomplete higher  NAME_EDUCATION_TYPE_Lower secondary  \\\n",
       "0                                    0.0                                  0.0   \n",
       "1                                    0.0                                  0.0   \n",
       "2                                    0.0                                  0.0   \n",
       "3                                    0.0                                  0.0   \n",
       "4                                    0.0                                  0.0   \n",
       "\n",
       "   NAME_EDUCATION_TYPE_Secondary / secondary special  \\\n",
       "0                                                1.0   \n",
       "1                                                0.0   \n",
       "2                                                1.0   \n",
       "3                                                1.0   \n",
       "4                                                1.0   \n",
       "\n",
       "   NAME_FAMILY_STATUS_Civil marriage  NAME_FAMILY_STATUS_Married  \\\n",
       "0                                0.0                         0.0   \n",
       "1                                0.0                         1.0   \n",
       "2                                0.0                         0.0   \n",
       "3                                1.0                         0.0   \n",
       "4                                0.0                         0.0   \n",
       "\n",
       "   NAME_FAMILY_STATUS_Separated  NAME_FAMILY_STATUS_Single / not married  \\\n",
       "0                           0.0                                      1.0   \n",
       "1                           0.0                                      0.0   \n",
       "2                           0.0                                      1.0   \n",
       "3                           0.0                                      0.0   \n",
       "4                           0.0                                      1.0   \n",
       "\n",
       "   NAME_FAMILY_STATUS_Widow  NAME_HOUSING_TYPE_Co-op apartment  \\\n",
       "0                       0.0                                0.0   \n",
       "1                       0.0                                0.0   \n",
       "2                       0.0                                0.0   \n",
       "3                       0.0                                0.0   \n",
       "4                       0.0                                0.0   \n",
       "\n",
       "   NAME_HOUSING_TYPE_House / apartment  NAME_HOUSING_TYPE_Municipal apartment  \\\n",
       "0                                  1.0                                    0.0   \n",
       "1                                  1.0                                    0.0   \n",
       "2                                  1.0                                    0.0   \n",
       "3                                  1.0                                    0.0   \n",
       "4                                  1.0                                    0.0   \n",
       "\n",
       "   NAME_HOUSING_TYPE_Office apartment  NAME_HOUSING_TYPE_Rented apartment  \\\n",
       "0                                 0.0                                 0.0   \n",
       "1                                 0.0                                 0.0   \n",
       "2                                 0.0                                 0.0   \n",
       "3                                 0.0                                 0.0   \n",
       "4                                 0.0                                 0.0   \n",
       "\n",
       "   NAME_HOUSING_TYPE_With parents  OCCUPATION_TYPE_Accountants  \\\n",
       "0                             0.0                          0.0   \n",
       "1                             0.0                          0.0   \n",
       "2                             0.0                          0.0   \n",
       "3                             0.0                          0.0   \n",
       "4                             0.0                          0.0   \n",
       "\n",
       "   OCCUPATION_TYPE_Cleaning staff  OCCUPATION_TYPE_Cooking staff  \\\n",
       "0                             0.0                            0.0   \n",
       "1                             0.0                            0.0   \n",
       "2                             0.0                            0.0   \n",
       "3                             0.0                            0.0   \n",
       "4                             0.0                            0.0   \n",
       "\n",
       "   OCCUPATION_TYPE_Core staff  OCCUPATION_TYPE_Drivers  \\\n",
       "0                         0.0                      0.0   \n",
       "1                         1.0                      0.0   \n",
       "2                         0.0                      0.0   \n",
       "3                         0.0                      0.0   \n",
       "4                         1.0                      0.0   \n",
       "\n",
       "   OCCUPATION_TYPE_HR staff  OCCUPATION_TYPE_High skill tech staff  \\\n",
       "0                       0.0                                    0.0   \n",
       "1                       0.0                                    0.0   \n",
       "2                       0.0                                    0.0   \n",
       "3                       0.0                                    0.0   \n",
       "4                       0.0                                    0.0   \n",
       "\n",
       "   OCCUPATION_TYPE_IT staff  OCCUPATION_TYPE_Laborers  \\\n",
       "0                       0.0                       1.0   \n",
       "1                       0.0                       0.0   \n",
       "2                       0.0                       1.0   \n",
       "3                       0.0                       1.0   \n",
       "4                       0.0                       0.0   \n",
       "\n",
       "   OCCUPATION_TYPE_Low-skill Laborers  OCCUPATION_TYPE_Managers  \\\n",
       "0                                 0.0                       0.0   \n",
       "1                                 0.0                       0.0   \n",
       "2                                 0.0                       0.0   \n",
       "3                                 0.0                       0.0   \n",
       "4                                 0.0                       0.0   \n",
       "\n",
       "   OCCUPATION_TYPE_Medicine staff  OCCUPATION_TYPE_Private service staff  \\\n",
       "0                             0.0                                    0.0   \n",
       "1                             0.0                                    0.0   \n",
       "2                             0.0                                    0.0   \n",
       "3                             0.0                                    0.0   \n",
       "4                             0.0                                    0.0   \n",
       "\n",
       "   OCCUPATION_TYPE_Realty agents  OCCUPATION_TYPE_Sales staff  \\\n",
       "0                            0.0                          0.0   \n",
       "1                            0.0                          0.0   \n",
       "2                            0.0                          0.0   \n",
       "3                            0.0                          0.0   \n",
       "4                            0.0                          0.0   \n",
       "\n",
       "   OCCUPATION_TYPE_Secretaries  OCCUPATION_TYPE_Security staff  \\\n",
       "0                          0.0                             0.0   \n",
       "1                          0.0                             0.0   \n",
       "2                          0.0                             0.0   \n",
       "3                          0.0                             0.0   \n",
       "4                          0.0                             0.0   \n",
       "\n",
       "   OCCUPATION_TYPE_Waiters/barmen staff  OCCUPATION_TYPE_nan  \\\n",
       "0                                   0.0                  0.0   \n",
       "1                                   0.0                  0.0   \n",
       "2                                   0.0                  0.0   \n",
       "3                                   0.0                  0.0   \n",
       "4                                   0.0                  0.0   \n",
       "\n",
       "   WEEKDAY_APPR_PROCESS_START_FRIDAY  WEEKDAY_APPR_PROCESS_START_MONDAY  \\\n",
       "0                                0.0                                0.0   \n",
       "1                                0.0                                1.0   \n",
       "2                                0.0                                1.0   \n",
       "3                                0.0                                0.0   \n",
       "4                                0.0                                0.0   \n",
       "\n",
       "   WEEKDAY_APPR_PROCESS_START_SATURDAY  WEEKDAY_APPR_PROCESS_START_SUNDAY  \\\n",
       "0                                  0.0                                0.0   \n",
       "1                                  0.0                                0.0   \n",
       "2                                  0.0                                0.0   \n",
       "3                                  0.0                                0.0   \n",
       "4                                  0.0                                0.0   \n",
       "\n",
       "   WEEKDAY_APPR_PROCESS_START_THURSDAY  WEEKDAY_APPR_PROCESS_START_TUESDAY  \\\n",
       "0                                  0.0                                 0.0   \n",
       "1                                  0.0                                 0.0   \n",
       "2                                  0.0                                 0.0   \n",
       "3                                  0.0                                 0.0   \n",
       "4                                  1.0                                 0.0   \n",
       "\n",
       "   WEEKDAY_APPR_PROCESS_START_WEDNESDAY  ORGANIZATION_TYPE_Advertising  \\\n",
       "0                                   1.0                            0.0   \n",
       "1                                   0.0                            0.0   \n",
       "2                                   0.0                            0.0   \n",
       "3                                   1.0                            0.0   \n",
       "4                                   0.0                            0.0   \n",
       "\n",
       "   ORGANIZATION_TYPE_Agriculture  ORGANIZATION_TYPE_Bank  \\\n",
       "0                            0.0                     0.0   \n",
       "1                            0.0                     0.0   \n",
       "2                            0.0                     0.0   \n",
       "3                            0.0                     0.0   \n",
       "4                            0.0                     0.0   \n",
       "\n",
       "   ORGANIZATION_TYPE_Business Entity Type 1  \\\n",
       "0                                       0.0   \n",
       "1                                       0.0   \n",
       "2                                       0.0   \n",
       "3                                       0.0   \n",
       "4                                       0.0   \n",
       "\n",
       "   ORGANIZATION_TYPE_Business Entity Type 2  \\\n",
       "0                                       0.0   \n",
       "1                                       0.0   \n",
       "2                                       0.0   \n",
       "3                                       0.0   \n",
       "4                                       0.0   \n",
       "\n",
       "   ORGANIZATION_TYPE_Business Entity Type 3  ORGANIZATION_TYPE_Cleaning  \\\n",
       "0                                       1.0                         0.0   \n",
       "1                                       0.0                         0.0   \n",
       "2                                       0.0                         0.0   \n",
       "3                                       1.0                         0.0   \n",
       "4                                       0.0                         0.0   \n",
       "\n",
       "   ORGANIZATION_TYPE_Construction  ORGANIZATION_TYPE_Culture  \\\n",
       "0                             0.0                        0.0   \n",
       "1                             0.0                        0.0   \n",
       "2                             0.0                        0.0   \n",
       "3                             0.0                        0.0   \n",
       "4                             0.0                        0.0   \n",
       "\n",
       "   ORGANIZATION_TYPE_Electricity  ORGANIZATION_TYPE_Emergency  \\\n",
       "0                            0.0                          0.0   \n",
       "1                            0.0                          0.0   \n",
       "2                            0.0                          0.0   \n",
       "3                            0.0                          0.0   \n",
       "4                            0.0                          0.0   \n",
       "\n",
       "   ORGANIZATION_TYPE_Government  ORGANIZATION_TYPE_Hotel  \\\n",
       "0                           0.0                      0.0   \n",
       "1                           0.0                      0.0   \n",
       "2                           1.0                      0.0   \n",
       "3                           0.0                      0.0   \n",
       "4                           0.0                      0.0   \n",
       "\n",
       "   ORGANIZATION_TYPE_Housing  ORGANIZATION_TYPE_Industry: type 1  \\\n",
       "0                        0.0                                 0.0   \n",
       "1                        0.0                                 0.0   \n",
       "2                        0.0                                 0.0   \n",
       "3                        0.0                                 0.0   \n",
       "4                        0.0                                 0.0   \n",
       "\n",
       "   ORGANIZATION_TYPE_Industry: type 10  ORGANIZATION_TYPE_Industry: type 11  \\\n",
       "0                                  0.0                                  0.0   \n",
       "1                                  0.0                                  0.0   \n",
       "2                                  0.0                                  0.0   \n",
       "3                                  0.0                                  0.0   \n",
       "4                                  0.0                                  0.0   \n",
       "\n",
       "   ORGANIZATION_TYPE_Industry: type 12  ORGANIZATION_TYPE_Industry: type 13  \\\n",
       "0                                  0.0                                  0.0   \n",
       "1                                  0.0                                  0.0   \n",
       "2                                  0.0                                  0.0   \n",
       "3                                  0.0                                  0.0   \n",
       "4                                  0.0                                  0.0   \n",
       "\n",
       "   ORGANIZATION_TYPE_Industry: type 2  ORGANIZATION_TYPE_Industry: type 3  \\\n",
       "0                                 0.0                                 0.0   \n",
       "1                                 0.0                                 0.0   \n",
       "2                                 0.0                                 0.0   \n",
       "3                                 0.0                                 0.0   \n",
       "4                                 0.0                                 0.0   \n",
       "\n",
       "   ORGANIZATION_TYPE_Industry: type 4  ORGANIZATION_TYPE_Industry: type 5  \\\n",
       "0                                 0.0                                 0.0   \n",
       "1                                 0.0                                 0.0   \n",
       "2                                 0.0                                 0.0   \n",
       "3                                 0.0                                 0.0   \n",
       "4                                 0.0                                 0.0   \n",
       "\n",
       "   ORGANIZATION_TYPE_Industry: type 6  ORGANIZATION_TYPE_Industry: type 7  \\\n",
       "0                                 0.0                                 0.0   \n",
       "1                                 0.0                                 0.0   \n",
       "2                                 0.0                                 0.0   \n",
       "3                                 0.0                                 0.0   \n",
       "4                                 0.0                                 0.0   \n",
       "\n",
       "   ORGANIZATION_TYPE_Industry: type 8  ORGANIZATION_TYPE_Industry: type 9  \\\n",
       "0                                 0.0                                 0.0   \n",
       "1                                 0.0                                 0.0   \n",
       "2                                 0.0                                 0.0   \n",
       "3                                 0.0                                 0.0   \n",
       "4                                 0.0                                 0.0   \n",
       "\n",
       "   ORGANIZATION_TYPE_Insurance  ORGANIZATION_TYPE_Kindergarten  \\\n",
       "0                          0.0                             0.0   \n",
       "1                          0.0                             0.0   \n",
       "2                          0.0                             0.0   \n",
       "3                          0.0                             0.0   \n",
       "4                          0.0                             0.0   \n",
       "\n",
       "   ORGANIZATION_TYPE_Legal Services  ORGANIZATION_TYPE_Medicine  \\\n",
       "0                               0.0                         0.0   \n",
       "1                               0.0                         0.0   \n",
       "2                               0.0                         0.0   \n",
       "3                               0.0                         0.0   \n",
       "4                               0.0                         0.0   \n",
       "\n",
       "   ORGANIZATION_TYPE_Military  ORGANIZATION_TYPE_Mobile  \\\n",
       "0                         0.0                       0.0   \n",
       "1                         0.0                       0.0   \n",
       "2                         0.0                       0.0   \n",
       "3                         0.0                       0.0   \n",
       "4                         0.0                       0.0   \n",
       "\n",
       "   ORGANIZATION_TYPE_Other  ORGANIZATION_TYPE_Police  \\\n",
       "0                      0.0                       0.0   \n",
       "1                      0.0                       0.0   \n",
       "2                      0.0                       0.0   \n",
       "3                      0.0                       0.0   \n",
       "4                      0.0                       0.0   \n",
       "\n",
       "   ORGANIZATION_TYPE_Postal  ORGANIZATION_TYPE_Realtor  \\\n",
       "0                       0.0                        0.0   \n",
       "1                       0.0                        0.0   \n",
       "2                       0.0                        0.0   \n",
       "3                       0.0                        0.0   \n",
       "4                       0.0                        0.0   \n",
       "\n",
       "   ORGANIZATION_TYPE_Religion  ORGANIZATION_TYPE_Restaurant  \\\n",
       "0                         0.0                           0.0   \n",
       "1                         0.0                           0.0   \n",
       "2                         0.0                           0.0   \n",
       "3                         0.0                           0.0   \n",
       "4                         1.0                           0.0   \n",
       "\n",
       "   ORGANIZATION_TYPE_School  ORGANIZATION_TYPE_Security  \\\n",
       "0                       0.0                         0.0   \n",
       "1                       1.0                         0.0   \n",
       "2                       0.0                         0.0   \n",
       "3                       0.0                         0.0   \n",
       "4                       0.0                         0.0   \n",
       "\n",
       "   ORGANIZATION_TYPE_Security Ministries  ORGANIZATION_TYPE_Self-employed  \\\n",
       "0                                    0.0                              0.0   \n",
       "1                                    0.0                              0.0   \n",
       "2                                    0.0                              0.0   \n",
       "3                                    0.0                              0.0   \n",
       "4                                    0.0                              0.0   \n",
       "\n",
       "   ORGANIZATION_TYPE_Services  ORGANIZATION_TYPE_Telecom  \\\n",
       "0                         0.0                        0.0   \n",
       "1                         0.0                        0.0   \n",
       "2                         0.0                        0.0   \n",
       "3                         0.0                        0.0   \n",
       "4                         0.0                        0.0   \n",
       "\n",
       "   ORGANIZATION_TYPE_Trade: type 1  ORGANIZATION_TYPE_Trade: type 2  \\\n",
       "0                              0.0                              0.0   \n",
       "1                              0.0                              0.0   \n",
       "2                              0.0                              0.0   \n",
       "3                              0.0                              0.0   \n",
       "4                              0.0                              0.0   \n",
       "\n",
       "   ORGANIZATION_TYPE_Trade: type 3  ORGANIZATION_TYPE_Trade: type 4  \\\n",
       "0                              0.0                              0.0   \n",
       "1                              0.0                              0.0   \n",
       "2                              0.0                              0.0   \n",
       "3                              0.0                              0.0   \n",
       "4                              0.0                              0.0   \n",
       "\n",
       "   ORGANIZATION_TYPE_Trade: type 5  ORGANIZATION_TYPE_Trade: type 6  \\\n",
       "0                              0.0                              0.0   \n",
       "1                              0.0                              0.0   \n",
       "2                              0.0                              0.0   \n",
       "3                              0.0                              0.0   \n",
       "4                              0.0                              0.0   \n",
       "\n",
       "   ORGANIZATION_TYPE_Trade: type 7  ORGANIZATION_TYPE_Transport: type 1  \\\n",
       "0                              0.0                                  0.0   \n",
       "1                              0.0                                  0.0   \n",
       "2                              0.0                                  0.0   \n",
       "3                              0.0                                  0.0   \n",
       "4                              0.0                                  0.0   \n",
       "\n",
       "   ORGANIZATION_TYPE_Transport: type 2  ORGANIZATION_TYPE_Transport: type 3  \\\n",
       "0                                  0.0                                  0.0   \n",
       "1                                  0.0                                  0.0   \n",
       "2                                  0.0                                  0.0   \n",
       "3                                  0.0                                  0.0   \n",
       "4                                  0.0                                  0.0   \n",
       "\n",
       "   ORGANIZATION_TYPE_Transport: type 4  ORGANIZATION_TYPE_University  \\\n",
       "0                                  0.0                           0.0   \n",
       "1                                  0.0                           0.0   \n",
       "2                                  0.0                           0.0   \n",
       "3                                  0.0                           0.0   \n",
       "4                                  0.0                           0.0   \n",
       "\n",
       "   ORGANIZATION_TYPE_XNA  NAME_CONTRACT_TYPE_0  NAME_CONTRACT_TYPE_1  \\\n",
       "0                    0.0                     0                     1   \n",
       "1                    0.0                     0                     1   \n",
       "2                    0.0                     1                     0   \n",
       "3                    0.0                     0                     1   \n",
       "4                    0.0                     0                     1   \n",
       "\n",
       "   CODE_GENDER_0  CODE_GENDER_1  FLAG_OWN_CAR_0  FLAG_OWN_CAR_1  \\\n",
       "0              0              1               0               1   \n",
       "1              1              0               0               1   \n",
       "2              0              1               1               0   \n",
       "3              1              0               0               1   \n",
       "4              0              1               0               1   \n",
       "\n",
       "   FLAG_OWN_REALTY_0  FLAG_OWN_REALTY_1  \n",
       "0                  0                  1  \n",
       "1                  1                  0  \n",
       "2                  0                  1  \n",
       "3                  0                  1  \n",
       "4                  0                  1  "
      ]
     },
     "execution_count": 15,
     "metadata": {},
     "output_type": "execute_result"
    }
   ],
   "source": [
    "X.head()"
   ]
  },
  {
   "cell_type": "code",
   "execution_count": 18,
   "id": "e1285054-4ea6-4bdb-9477-e774fc3d04c5",
   "metadata": {
    "colab": {
     "base_uri": "https://localhost:8080/"
    },
    "id": "e1285054-4ea6-4bdb-9477-e774fc3d04c5",
    "outputId": "0ad412b8-d6c8-4ba6-b817-af6455f75070"
   },
   "outputs": [
    {
     "name": "stderr",
     "output_type": "stream",
     "text": [
      "/home/app/.local/lib/python3.8/site-packages/sklearn/utils/validation.py:1111: DataConversionWarning: A column-vector y was passed when a 1d array was expected. Please change the shape of y to (n_samples, ), for example using ravel().\n",
      "  y = column_or_1d(y, warn=True)\n"
     ]
    }
   ],
   "source": [
    "model = LogisticRegression(max_iter=1000, C=0.5)\n",
    "model.fit(X, y)\n",
    "y_pred_1 = model.predict(X_test_p)\n",
    "y_prob_1 = model.predict_proba(X_test_p)"
   ]
  },
  {
   "cell_type": "markdown",
   "id": "018d5c7e-012f-47cc-8bfc-0332de907ae9",
   "metadata": {
    "id": "018d5c7e-012f-47cc-8bfc-0332de907ae9"
   },
   "source": [
    "2- Use the trained model to predict probabilites for the test data, and then save the results to a csv in the format expected in the competition: a SK_ID_CURR column and a TARGET column with probabilities. REMEMBER: the TARGET columns should ONLY contain the probabilities that the debt is not repaid (equivalent to the class 1)."
   ]
  },
  {
   "cell_type": "code",
   "execution_count": 19,
   "id": "21rwJWLVgpbJ",
   "metadata": {
    "id": "21rwJWLVgpbJ"
   },
   "outputs": [],
   "source": [
    "y_prob_1 = pd.DataFrame(y_prob_1, columns=['PREDICTION_0', 'TARGET']\n",
    "                        ).reset_index(drop=True)"
   ]
  },
  {
   "cell_type": "code",
   "execution_count": 23,
   "id": "wuCSM-Zt2RWw",
   "metadata": {
    "id": "wuCSM-Zt2RWw"
   },
   "outputs": [],
   "source": [
    "X_ID =  application_test[[\"SK_ID_CURR\"]].reset_index(drop=True)"
   ]
  },
  {
   "cell_type": "code",
   "execution_count": 24,
   "id": "VN6G_68Xpn3r",
   "metadata": {
    "id": "VN6G_68Xpn3r"
   },
   "outputs": [],
   "source": [
    "y_LogisticRegression = y_prob_1.merge(X_ID, left_index=True, right_index=True)"
   ]
  },
  {
   "cell_type": "code",
   "execution_count": 25,
   "id": "vLctc_OglQas",
   "metadata": {
    "colab": {
     "base_uri": "https://localhost:8080/"
    },
    "id": "vLctc_OglQas",
    "outputId": "c1349757-9961-4090-9b94-43e0acdf5d7e"
   },
   "outputs": [
    {
     "name": "stdout",
     "output_type": "stream",
     "text": [
      "<class 'pandas.core.frame.DataFrame'>\n",
      "RangeIndex: 48744 entries, 0 to 48743\n",
      "Data columns (total 3 columns):\n",
      " #   Column        Non-Null Count  Dtype  \n",
      "---  ------        --------------  -----  \n",
      " 0   PREDICTION_0  48744 non-null  float64\n",
      " 1   TARGET        48744 non-null  float64\n",
      " 2   SK_ID_CURR    48744 non-null  int64  \n",
      "dtypes: float64(2), int64(1)\n",
      "memory usage: 1.1 MB\n"
     ]
    }
   ],
   "source": [
    "y_LogisticRegression.info()"
   ]
  },
  {
   "cell_type": "code",
   "execution_count": 26,
   "id": "jlZj-d8W5nDj",
   "metadata": {
    "id": "jlZj-d8W5nDj"
   },
   "outputs": [],
   "source": [
    "y_LogisticRegression['TARGET'] = round(y_LogisticRegression['TARGET']).astype(\"int32\")"
   ]
  },
  {
   "cell_type": "code",
   "execution_count": 27,
   "id": "OTzar-ZD2gfz",
   "metadata": {
    "id": "OTzar-ZD2gfz"
   },
   "outputs": [],
   "source": [
    "y_LogisticRegression = y_LogisticRegression[[\"SK_ID_CURR\", \"TARGET\"]]"
   ]
  },
  {
   "cell_type": "code",
   "execution_count": 29,
   "id": "pxl-wbh164qg",
   "metadata": {
    "colab": {
     "base_uri": "https://localhost:8080/",
     "height": 206
    },
    "id": "pxl-wbh164qg",
    "outputId": "e6d3b78b-d211-4757-cc68-639e614fd9cd"
   },
   "outputs": [
    {
     "data": {
      "text/plain": [
       "TARGET\n",
       "0    48649\n",
       "1       95\n",
       "dtype: int64"
      ]
     },
     "execution_count": 29,
     "metadata": {},
     "output_type": "execute_result"
    }
   ],
   "source": [
    "y_LogisticRegression.groupby(\"TARGET\").size()"
   ]
  },
  {
   "cell_type": "code",
   "execution_count": 30,
   "id": "sjJHg0a024Kh",
   "metadata": {
    "id": "sjJHg0a024Kh"
   },
   "outputs": [],
   "source": [
    "y_LogisticRegression.to_csv('csv_LR.csv', index=False)"
   ]
  },
  {
   "cell_type": "markdown",
   "id": "b0826305-4900-4ba1-bf25-48205be980c6",
   "metadata": {
    "id": "b0826305-4900-4ba1-bf25-48205be980c6"
   },
   "source": [
    "3- Go to the Kaggle competition, and in the [submissions page](https://www.kaggle.com/competitions/home-credit-default-risk/submit) load your csv file. Report here the result in the private score you obtained."
   ]
  },
  {
   "cell_type": "markdown",
   "id": "AHx_OjWFJUfZ",
   "metadata": {
    "id": "AHx_OjWFJUfZ"
   },
   "source": [
    "**0.50216**"
   ]
  },
  {
   "cell_type": "markdown",
   "id": "4d889582-0c21-4789-acac-4d58f8eb74d9",
   "metadata": {
    "id": "4d889582-0c21-4789-acac-4d58f8eb74d9"
   },
   "source": [
    "At this point, the model should produce a result around 0.67 "
   ]
  },
  {
   "cell_type": "markdown",
   "id": "8f8300cc-d8be-4303-9042-757cb9e15d3e",
   "metadata": {
    "id": "8f8300cc-d8be-4303-9042-757cb9e15d3e"
   },
   "source": [
    "### Training a Random Forest Classifier "
   ]
  },
  {
   "cell_type": "markdown",
   "id": "05280b49-11af-4fe6-9236-95f31fb5e0d5",
   "metadata": {
    "id": "05280b49-11af-4fe6-9236-95f31fb5e0d5"
   },
   "source": [
    "You're gonna start working in more complex models: ensambles, particularly, you're going to use the Random Forest Classifier from Scikit Learn. "
   ]
  },
  {
   "cell_type": "markdown",
   "id": "0efdfd67-ec68-49b3-8727-7ab9784b5e54",
   "metadata": {
    "id": "0efdfd67-ec68-49b3-8727-7ab9784b5e54"
   },
   "source": [
    "1- Train a RandomForestClassifier, print the time taken by the fit function. Just use default hyperparameters, except for n_jobs, which should be set to \"-1\" to allow the library to use all CPU cores to speed up training time."
   ]
  },
  {
   "cell_type": "code",
   "execution_count": null,
   "id": "YI4KuHiMg4tg",
   "metadata": {
    "colab": {
     "base_uri": "https://localhost:8080/"
    },
    "id": "YI4KuHiMg4tg",
    "outputId": "4210e8cf-3f4c-45e3-b04b-c8e7587e7204"
   },
   "outputs": [],
   "source": [
    "model2 = RandomForestClassifier()\n",
    "model2.fit(X, y)\n",
    "y_pred_2 = model.predict_proba(X_test_p)"
   ]
  },
  {
   "cell_type": "markdown",
   "id": "3b12a0a5-8ff1-4cb6-9928-37122d2a3435",
   "metadata": {
    "id": "3b12a0a5-8ff1-4cb6-9928-37122d2a3435"
   },
   "source": [
    "2- Use the classifier to predict probabilities on the test set, and save the results to a csv file."
   ]
  },
  {
   "cell_type": "code",
   "execution_count": null,
   "id": "gvG51Z3dJjdz",
   "metadata": {
    "id": "gvG51Z3dJjdz"
   },
   "outputs": [],
   "source": [
    "y_pred_2 = pd.DataFrame(y_pred_2, columns=['PREDICTION_0', 'TARGET']\n",
    "                        ).reset_index(drop=True)"
   ]
  },
  {
   "cell_type": "code",
   "execution_count": null,
   "id": "Wk6_mgwLJjdz",
   "metadata": {
    "id": "Wk6_mgwLJjdz"
   },
   "outputs": [],
   "source": [
    "y_RandomForestClassifier = y_pred_2.merge(X_ID, left_index=True, right_index=True)"
   ]
  },
  {
   "cell_type": "code",
   "execution_count": null,
   "id": "cJugjBWLJjdz",
   "metadata": {
    "colab": {
     "base_uri": "https://localhost:8080/"
    },
    "id": "cJugjBWLJjdz",
    "outputId": "8ea324d3-7cb9-4973-dfcc-d16476bafa70"
   },
   "outputs": [],
   "source": [
    "y_RandomForestClassifier.info()"
   ]
  },
  {
   "cell_type": "code",
   "execution_count": null,
   "id": "siB89ZqwJjd0",
   "metadata": {
    "id": "siB89ZqwJjd0"
   },
   "outputs": [],
   "source": [
    "y_RandomForestClassifier['TARGET'] = round(y_RandomForestClassifier['TARGET']).astype(\"int32\")"
   ]
  },
  {
   "cell_type": "code",
   "execution_count": null,
   "id": "8npFTzvuJjd0",
   "metadata": {
    "id": "8npFTzvuJjd0"
   },
   "outputs": [],
   "source": [
    "y_RandomForestClassifier = y_RandomForestClassifier[[\"SK_ID_CURR\", \"TARGET\"]]"
   ]
  },
  {
   "cell_type": "code",
   "execution_count": null,
   "id": "MN8V6hGIJjd0",
   "metadata": {
    "colab": {
     "base_uri": "https://localhost:8080/",
     "height": 206
    },
    "id": "MN8V6hGIJjd0",
    "outputId": "a9005f47-13f0-4610-f100-c5745dcdafa5"
   },
   "outputs": [],
   "source": [
    "y_RandomForestClassifier.head()"
   ]
  },
  {
   "cell_type": "code",
   "execution_count": null,
   "id": "-xv0vAAaJjd0",
   "metadata": {
    "id": "-xv0vAAaJjd0"
   },
   "outputs": [],
   "source": [
    "y_RandomForestClassifier.to_csv('csv_RFC.csv', index=False)"
   ]
  },
  {
   "cell_type": "markdown",
   "id": "40be1079-e800-42b1-96b0-dce1d04c0a86",
   "metadata": {
    "id": "40be1079-e800-42b1-96b0-dce1d04c0a86"
   },
   "source": [
    "3- Load the predictions to the competition. Report the private score here."
   ]
  },
  {
   "cell_type": "markdown",
   "id": "8TVMutwlK6ZT",
   "metadata": {
    "id": "8TVMutwlK6ZT"
   },
   "source": [
    "**0.50216**"
   ]
  },
  {
   "cell_type": "markdown",
   "id": "4acfcc24-62b6-4118-9c42-a0268dcf5c53",
   "metadata": {
    "id": "4acfcc24-62b6-4118-9c42-a0268dcf5c53"
   },
   "source": [
    "### Randomized Search with Cross Validation"
   ]
  },
  {
   "cell_type": "markdown",
   "id": "dd634b2b-68af-4db1-b062-1496f8d1179e",
   "metadata": {
    "id": "dd634b2b-68af-4db1-b062-1496f8d1179e"
   },
   "source": [
    "So far, we've only created models using the default hyperparameters of each algorithm. This is usually something that we would only do for baseline models, hyperparameter tuning is a very important part of the modeling process and is often the difference between having an acceptable model or not.\n",
    "\n",
    "But, there are usually lots of hyperparameters to tune and a finite amount of time to do it, you have to consider the time and resources it takes to find an optimal combination of them. In the previous section you trained a random forest classifier and saw how much it took to train it once in your PC. If you want to do hyperparameter optimization you now have to consider that you will have to train the algorithm N number of times, with N being the cartesian product of all parameters. \n",
    "\n",
    "Furthermore, you can't validate the performance of your trained models on the test set, as this data should only be used to validate the final model. So we have to implement a validation strategy, K-Fold Cross Validation being the most common. But this also adds time complexity to our training, because we will have to train each combinations of hyperparameters M number of times, X being the number of folds in which we divided our dataset, so the total number of training iterations will be NxM... this resulting number can grow VERY quickly.\n",
    "\n",
    "Fortunately there are strategies to mitigate this, here you're going to select a small number of hyperparameters to test a RandomForestClassifier, and use a Randomized Search algorithm with K-Fold Cross Validation to avoid doing a full search across the grid. \n",
    "\n",
    "Remember: take in consideration how much time it took to train a single classifier, and define the number of cross validations folds and iterations of the search accordingly. \n",
    "A recommendation: run the training process, go make yourself a cup of coffee, sit somewhere comfortably and forget about it for a while.\n"
   ]
  },
  {
   "cell_type": "markdown",
   "id": "c49a11c7-156f-46bb-8bba-be29d1b2ed1a",
   "metadata": {
    "id": "c49a11c7-156f-46bb-8bba-be29d1b2ed1a"
   },
   "source": [
    "1- Use RandomizedSearchCV to find the best combination of hyperparameters for a RandomForestClassifier. The validation metric used to evaluate the models should be \"roc_auc\"."
   ]
  },
  {
   "cell_type": "code",
   "execution_count": null,
   "id": "0cb4c536-82d8-49f8-a0b6-fede491055c1",
   "metadata": {
    "colab": {
     "base_uri": "https://localhost:8080/"
    },
    "id": "0cb4c536-82d8-49f8-a0b6-fede491055c1",
    "outputId": "dd761d09-c2a2-460f-e19b-f8d269ee2870"
   },
   "outputs": [],
   "source": [
    "### Complete in this cell: Use RandomizedSearchCV to find the best combination of hyperparameters for a RandomForestClassifier\n",
    "example_hyperparameter_grid = {\n",
    " 'bootstrap': [True, False],\n",
    " 'max_depth': [10, 50, 100, None],\n",
    " 'max_features': ['auto', 'sqrt'],\n",
    " 'min_samples_leaf': [1, 2, 4],\n",
    " 'min_samples_split': [2, 5, 10],\n",
    " 'n_estimators': [100, 200]\n",
    "}\n",
    "clf = RandomizedSearchCV(model2, example_hyperparameter_grid, random_state=0)\n",
    "search = clf.fit(X, y)\n",
    "search.best_params_"
   ]
  },
  {
   "cell_type": "markdown",
   "id": "4aHPFbO34yNC",
   "metadata": {
    "id": "4aHPFbO34yNC"
   },
   "source": [
    "{'bootstrap': False,\n",
    " 'max_depth': 50,\n",
    " 'max_features': 'auto',\n",
    " 'min_samples_leaf': 1,\n",
    " 'min_samples_split': 5,\n",
    " 'n_estimators': 100}"
   ]
  },
  {
   "cell_type": "code",
   "execution_count": null,
   "id": "lC9loiTcC_Up",
   "metadata": {
    "colab": {
     "base_uri": "https://localhost:8080/"
    },
    "id": "lC9loiTcC_Up",
    "outputId": "60ec29ca-d97e-45c7-82cb-9a8e9125b1d3"
   },
   "outputs": [],
   "source": [
    "model2 = RandomForestClassifier(bootstrap= False,\n",
    "                                max_depth= 50,\n",
    "                                max_features= 'auto',\n",
    "                                min_samples_leaf= 1,\n",
    "                                min_samples_split= 5,\n",
    "                                n_estimators= 100)\n",
    "model2.fit(X, y)\n",
    "y_pred_3 = model.predict_proba(X_test_p) "
   ]
  },
  {
   "cell_type": "markdown",
   "id": "b09205aa-5afc-481a-b45b-d5e80b56d804",
   "metadata": {
    "id": "b09205aa-5afc-481a-b45b-d5e80b56d804"
   },
   "source": [
    "2- Use the classifier to predict probabilities on the test set, and save the results to a csv file."
   ]
  },
  {
   "cell_type": "code",
   "execution_count": null,
   "id": "h3Hro0wcU90b",
   "metadata": {
    "id": "h3Hro0wcU90b"
   },
   "outputs": [],
   "source": [
    "y_pred_3 = pd.DataFrame(y_pred_3, columns=['PREDICTION_0', 'TARGET']\n",
    "                        ).reset_index(drop=True)"
   ]
  },
  {
   "cell_type": "code",
   "execution_count": null,
   "id": "ZKb8ukdsU90b",
   "metadata": {
    "id": "ZKb8ukdsU90b"
   },
   "outputs": [],
   "source": [
    "y_RandomizedSearch = y_pred_3.merge(X_ID, left_index=True, right_index=True)"
   ]
  },
  {
   "cell_type": "code",
   "execution_count": null,
   "id": "WiCx7ukCU90b",
   "metadata": {
    "colab": {
     "base_uri": "https://localhost:8080/"
    },
    "id": "WiCx7ukCU90b",
    "outputId": "2450a2b0-2891-4289-a5ac-2e9a1b0f4489"
   },
   "outputs": [],
   "source": [
    "y_RandomizedSearch.info()"
   ]
  },
  {
   "cell_type": "code",
   "execution_count": null,
   "id": "HWqfDV0HU90c",
   "metadata": {
    "id": "HWqfDV0HU90c"
   },
   "outputs": [],
   "source": [
    "y_RandomizedSearch['TARGET'] = round(y_RandomizedSearch['TARGET']).astype(\"int32\")"
   ]
  },
  {
   "cell_type": "code",
   "execution_count": null,
   "id": "YcWZ5R6lU90c",
   "metadata": {
    "id": "YcWZ5R6lU90c"
   },
   "outputs": [],
   "source": [
    "y_RandomizedSearch = y_RandomizedSearch[[\"SK_ID_CURR\", \"TARGET\"]]"
   ]
  },
  {
   "cell_type": "code",
   "execution_count": null,
   "id": "J3N0jF99U90c",
   "metadata": {
    "colab": {
     "base_uri": "https://localhost:8080/",
     "height": 206
    },
    "id": "J3N0jF99U90c",
    "outputId": "24fa36d8-187d-43e1-a1a9-723a261a4d15"
   },
   "outputs": [],
   "source": [
    "y_RandomizedSearch.head()"
   ]
  },
  {
   "cell_type": "code",
   "execution_count": null,
   "id": "5ssdI69KU90c",
   "metadata": {
    "id": "5ssdI69KU90c"
   },
   "outputs": [],
   "source": [
    "y_RandomizedSearch.to_csv('csv_RS.csv', index=False)"
   ]
  },
  {
   "cell_type": "markdown",
   "id": "e645e849-a7e0-43af-b7d1-0b84c29f0e70",
   "metadata": {
    "id": "e645e849-a7e0-43af-b7d1-0b84c29f0e70"
   },
   "source": [
    "3- Load the predictions to the competition. Report the private score here."
   ]
  },
  {
   "cell_type": "markdown",
   "id": "HgyNN4-CuvKL",
   "metadata": {
    "id": "HgyNN4-CuvKL"
   },
   "source": [
    "**0.50216**"
   ]
  },
  {
   "cell_type": "markdown",
   "id": "be101430-3682-468d-a43d-8c78f60f96a5",
   "metadata": {
    "id": "be101430-3682-468d-a43d-8c78f60f96a5"
   },
   "source": [
    "4- If you have the time and resources, you can train the model for longer iterations, or select more estimator sizes. This is optional, but if you, we would love to see your results."
   ]
  },
  {
   "cell_type": "markdown",
   "id": "d72e7335-f3cc-410d-81f2-f110f3fbb252",
   "metadata": {
    "id": "d72e7335-f3cc-410d-81f2-f110f3fbb252"
   },
   "source": [
    "### Optional: Training a LightGBM model "
   ]
  },
  {
   "cell_type": "markdown",
   "id": "015d58b7-9f70-4bfb-8b72-20a626e00ea0",
   "metadata": {
    "id": "015d58b7-9f70-4bfb-8b72-20a626e00ea0"
   },
   "source": [
    "Gradient Boosting Machine is one of the most used machine learning algorithms for tabular data. Lots of competitions have been won using models from libraries like XGBoost or LightGBM. You can try using [LightGBM](https://lightgbm.readthedocs.io/en/latest/) to train a new model an see how it performs compared to the other classifiers you trained. "
   ]
  },
  {
   "cell_type": "code",
   "execution_count": null,
   "id": "91d497eb-2b8b-43fe-945e-26a04b8fc004",
   "metadata": {
    "id": "91d497eb-2b8b-43fe-945e-26a04b8fc004"
   },
   "outputs": [],
   "source": [
    "### Complete in this cell: train a LightGBM model\n"
   ]
  },
  {
   "cell_type": "markdown",
   "id": "c2d1a1f4-5e1e-4982-a6ae-a27b8c11428e",
   "metadata": {
    "id": "c2d1a1f4-5e1e-4982-a6ae-a27b8c11428e"
   },
   "source": [
    "### Optional: Using Scikit Learn Pipelines "
   ]
  },
  {
   "cell_type": "markdown",
   "id": "2e4f95fb-73bf-42c4-97a3-80078f2496aa",
   "metadata": {
    "id": "2e4f95fb-73bf-42c4-97a3-80078f2496aa"
   },
   "source": [
    "So far you've created special functions or blocks or code to chain operations on data and then train the models. But, reproducibility is important, and you don't want to have to remember the correct steps to follow each time you have new data to train your models. There are a lots of tools out there that can help you with that, here you can use a [Sklearn Pipeline](https://scikit-learn.org/stable/modules/generated/sklearn.pipeline.Pipeline.html) to process your data."
   ]
  }
 ],
 "metadata": {
  "colab": {
   "collapsed_sections": [
    "9d3c07ee-c3bf-4530-812a-36405502b38d"
   ],
   "provenance": []
  },
  "kernelspec": {
   "display_name": "Python 3 (ipykernel)",
   "language": "python",
   "name": "python3"
  },
  "language_info": {
   "codemirror_mode": {
    "name": "ipython",
    "version": 3
   },
   "file_extension": ".py",
   "mimetype": "text/x-python",
   "name": "python",
   "nbconvert_exporter": "python",
   "pygments_lexer": "ipython3",
   "version": "3.8.13"
  },
  "vscode": {
   "interpreter": {
    "hash": "916dbcbb3f70747c44a77c7bcd40155683ae19c65e1c03b4aa3499c5328201f1"
   }
  }
 },
 "nbformat": 4,
 "nbformat_minor": 5
}
