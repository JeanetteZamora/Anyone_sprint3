{
 "cells": [
  {
   "cell_type": "markdown",
   "id": "9d3c07ee-c3bf-4530-812a-36405502b38d",
   "metadata": {
    "id": "9d3c07ee-c3bf-4530-812a-36405502b38d"
   },
   "source": [
    "# Anyone AI"
   ]
  },
  {
   "cell_type": "markdown",
   "id": "12c65989-2d1a-4e6e-9332-092ff6830d29",
   "metadata": {
    "id": "12c65989-2d1a-4e6e-9332-092ff6830d29"
   },
   "source": [
    "# Project III - Home Credit Default Risk"
   ]
  },
  {
   "cell_type": "markdown",
   "id": "b5a8ce13-f23a-41bf-a8c7-d432ebcbe0c1",
   "metadata": {
    "id": "b5a8ce13-f23a-41bf-a8c7-d432ebcbe0c1"
   },
   "source": [
    "You've been learning a lot about Machine Learning Algorithms, now we you're gonna be asked to put it all together. "
   ]
  },
  {
   "cell_type": "markdown",
   "id": "58ca3658-e8a1-41ba-a823-1a88ca9ef34b",
   "metadata": {
    "id": "58ca3658-e8a1-41ba-a823-1a88ca9ef34b"
   },
   "source": [
    "You will create a complete pipeline to preprocess the data, train your model and then predict values for the [Home Credit Default Risk](https://www.kaggle.com/competitions/home-credit-default-risk/) Kaggle competition."
   ]
  },
  {
   "cell_type": "markdown",
   "id": "e396c950-04b0-453e-b930-a22a96cee2d1",
   "metadata": {
    "id": "e396c950-04b0-453e-b930-a22a96cee2d1"
   },
   "source": [
    "## Introduction"
   ]
  },
  {
   "cell_type": "markdown",
   "id": "6a305c07-e042-4c59-8aea-03475afc09dd",
   "metadata": {
    "id": "6a305c07-e042-4c59-8aea-03475afc09dd"
   },
   "source": [
    "Kaggle is a web platform and community for data scientist and machine learning engineers where competetitions and datasets are regularly published.\n",
    "\n",
    "This particular competition is a binary Classification task: we want to predict whether the person applying for a home credit will be able to repay its debt or not. The competition finished 4 years ago, so you will find a lot of blog posts and code written for it, we encourage you to read everything you can about it.\n",
    "\n",
    "The dataset is composed of multiple files with different information about loands taken. In this project we're going to exclusively work with the main files: application_train.csv and application_test.csv.\n",
    "\n",
    "The competition uses [Area Under the ROC Curve](https://developers.google.com/machine-learning/crash-course/classification/roc-and-auc?hl=es_419) as the evaluation metric, so our models will have to return the probabilities that a loan is not paid for each row."
   ]
  },
  {
   "cell_type": "code",
   "execution_count": null,
   "id": "j8e1Yb55HIYH",
   "metadata": {
    "colab": {
     "base_uri": "https://localhost:8080/"
    },
    "id": "j8e1Yb55HIYH",
    "outputId": "39ba3183-a5bd-45cc-92a7-efcd1b52d2d1"
   },
   "outputs": [
    {
     "name": "stdout",
     "output_type": "stream",
     "text": [
      "Drive already mounted at /content/drive; to attempt to forcibly remount, call drive.mount(\"/content/drive\", force_remount=True).\n"
     ]
    }
   ],
   "source": [
    "from google.colab import drive\n",
    "drive.mount('/content/drive')"
   ]
  },
  {
   "cell_type": "code",
   "execution_count": null,
   "id": "PlJnA8GQcGln",
   "metadata": {
    "colab": {
     "base_uri": "https://localhost:8080/"
    },
    "id": "PlJnA8GQcGln",
    "outputId": "c87b4333-4114-49df-b74a-80a4ef654ac9"
   },
   "outputs": [
    {
     "name": "stdout",
     "output_type": "stream",
     "text": [
      "Looking in indexes: https://pypi.org/simple, https://us-python.pkg.dev/colab-wheels/public/simple/\n",
      "Collecting category_encoders\n",
      "  Downloading category_encoders-2.4.1-py2.py3-none-any.whl (80 kB)\n",
      "\u001b[K     |████████████████████████████████| 80 kB 6.0 MB/s \n",
      "\u001b[?25hRequirement already satisfied: scipy>=1.0.0 in /usr/local/lib/python3.7/dist-packages (from category_encoders) (1.4.1)\n",
      "Requirement already satisfied: statsmodels>=0.9.0 in /usr/local/lib/python3.7/dist-packages (from category_encoders) (0.10.2)\n",
      "Requirement already satisfied: numpy>=1.14.0 in /usr/local/lib/python3.7/dist-packages (from category_encoders) (1.21.6)\n",
      "Requirement already satisfied: scikit-learn>=0.20.0 in /usr/local/lib/python3.7/dist-packages (from category_encoders) (1.0.2)\n",
      "Requirement already satisfied: pandas>=0.21.1 in /usr/local/lib/python3.7/dist-packages (from category_encoders) (1.3.5)\n",
      "Requirement already satisfied: patsy>=0.5.1 in /usr/local/lib/python3.7/dist-packages (from category_encoders) (0.5.2)\n",
      "Requirement already satisfied: pytz>=2017.3 in /usr/local/lib/python3.7/dist-packages (from pandas>=0.21.1->category_encoders) (2022.1)\n",
      "Requirement already satisfied: python-dateutil>=2.7.3 in /usr/local/lib/python3.7/dist-packages (from pandas>=0.21.1->category_encoders) (2.8.2)\n",
      "Requirement already satisfied: six in /usr/local/lib/python3.7/dist-packages (from patsy>=0.5.1->category_encoders) (1.15.0)\n",
      "Requirement already satisfied: joblib>=0.11 in /usr/local/lib/python3.7/dist-packages (from scikit-learn>=0.20.0->category_encoders) (1.1.0)\n",
      "Requirement already satisfied: threadpoolctl>=2.0.0 in /usr/local/lib/python3.7/dist-packages (from scikit-learn>=0.20.0->category_encoders) (3.1.0)\n",
      "Installing collected packages: category-encoders\n",
      "Successfully installed category-encoders-2.4.1\n"
     ]
    }
   ],
   "source": [
    "pip install category_encoders\n"
   ]
  },
  {
   "cell_type": "code",
   "execution_count": null,
   "id": "jczLbUK8Ml8l",
   "metadata": {
    "colab": {
     "base_uri": "https://localhost:8080/"
    },
    "id": "jczLbUK8Ml8l",
    "outputId": "f80dd53e-6736-4a8d-d9c0-02438d3e68bc"
   },
   "outputs": [
    {
     "name": "stderr",
     "output_type": "stream",
     "text": [
      "/usr/local/lib/python3.7/dist-packages/statsmodels/tools/_testing.py:19: FutureWarning: pandas.util.testing is deprecated. Use the functions in the public API at pandas.testing instead.\n",
      "  import pandas.util.testing as tm\n"
     ]
    }
   ],
   "source": [
    "import pandas as pd\n",
    "pd.options.display.max_columns = None\n",
    "pd.options.display.max_rows = None\n",
    "import numpy as np\n",
    "import matplotlib.pyplot as plt\n",
    "import seaborn as sns\n",
    "from sklearn.impute import SimpleImputer\n",
    "import category_encoders as ce\n",
    "from sklearn.preprocessing import OneHotEncoder\n",
    "from sklearn.preprocessing import MinMaxScaler\n",
    "from sklearn.linear_model import LogisticRegression\n",
    "from sklearn.model_selection import train_test_split\n",
    "from sklearn.metrics import roc_auc_score\n",
    "from sklearn.metrics import mean_absolute_error\n",
    "from sklearn.ensemble import RandomForestClassifier\n",
    "from sklearn.model_selection import RandomizedSearchCV"
   ]
  },
  {
   "cell_type": "markdown",
   "id": "3ab085b5-379c-4e02-9f96-08edf5dbf887",
   "metadata": {
    "id": "3ab085b5-379c-4e02-9f96-08edf5dbf887"
   },
   "source": [
    "### Getting the data"
   ]
  },
  {
   "cell_type": "markdown",
   "id": "73354ae2-3adf-43c7-b3f3-849db316bfd3",
   "metadata": {
    "id": "73354ae2-3adf-43c7-b3f3-849db316bfd3"
   },
   "source": [
    "1- Login to Kaggle (if you don't have an account you'll have to register to get it) and download the [complete dataset](https://www.kaggle.com/competitions/home-credit-default-risk/data). Read the information about the data. What does a row in the main file represent? What does the target variable means?"
   ]
  },
  {
   "cell_type": "markdown",
   "id": "c4f50673-a197-4ea4-99df-3d4435bd643d",
   "metadata": {
    "id": "c4f50673-a197-4ea4-99df-3d4435bd643d"
   },
   "source": [
    "One row represents one loan in our data sample.\n",
    "The target variable says wether the loan was repaid (0) or not (1)"
   ]
  },
  {
   "cell_type": "markdown",
   "id": "25a0a724-ceb1-40cb-b123-b8c907a9c06f",
   "metadata": {
    "id": "25a0a724-ceb1-40cb-b123-b8c907a9c06f"
   },
   "source": [
    "2- Load the training and test datasets, we're only going to work withe \"application_train.csv\" and \"application_test.csv\" for now"
   ]
  },
  {
   "cell_type": "code",
   "execution_count": null,
   "id": "1d62ba4d-a3f6-443b-8c3e-65582a85d8a6",
   "metadata": {
    "id": "1d62ba4d-a3f6-443b-8c3e-65582a85d8a6"
   },
   "outputs": [],
   "source": [
    "application_train = pd.read_csv(\"/content/drive/MyDrive/Anyone-IA/Unidad III/sprint3/application_train.csv\")"
   ]
  },
  {
   "cell_type": "code",
   "execution_count": null,
   "id": "O0iQl_JNM4dq",
   "metadata": {
    "id": "O0iQl_JNM4dq"
   },
   "outputs": [],
   "source": [
    "application_test = pd.read_csv(\"/content/drive/MyDrive/Anyone-IA/Unidad III/sprint3/application_test.csv\")"
   ]
  },
  {
   "cell_type": "markdown",
   "id": "7c10a608-5c38-44f4-8158-18225619e7ae",
   "metadata": {
    "id": "7c10a608-5c38-44f4-8158-18225619e7ae",
    "tags": []
   },
   "source": [
    "### Exploratory Data Analysis"
   ]
  },
  {
   "cell_type": "markdown",
   "id": "6bc490ab-a7b3-4590-a93c-70df44787682",
   "metadata": {
    "id": "6bc490ab-a7b3-4590-a93c-70df44787682"
   },
   "source": [
    "A lot of the analysis of the data can be found on public available Kaggle kernels or blog posts, but you need to make sure you understand the datasets properties before starting working on it, so we'll do exploratory data analysis for the main files"
   ]
  },
  {
   "cell_type": "markdown",
   "id": "2ea774d3-e12c-4c2b-846d-8c5c03e70928",
   "metadata": {
    "id": "2ea774d3-e12c-4c2b-846d-8c5c03e70928"
   },
   "source": [
    "**Dataset Basics**"
   ]
  },
  {
   "cell_type": "markdown",
   "id": "9f0b4817-5768-49d2-b5f2-907827541f16",
   "metadata": {
    "id": "9f0b4817-5768-49d2-b5f2-907827541f16"
   },
   "source": [
    "1- Show the shape of the training and test datasets."
   ]
  },
  {
   "cell_type": "code",
   "execution_count": null,
   "id": "1jyLkE5R0pYg",
   "metadata": {
    "colab": {
     "base_uri": "https://localhost:8080/"
    },
    "id": "1jyLkE5R0pYg",
    "outputId": "11175193-711c-414b-9069-bcef3c760bdc"
   },
   "outputs": [
    {
     "name": "stdout",
     "output_type": "stream",
     "text": [
      "The dataset has (307511,) observations and 122 columns.\n"
     ]
    }
   ],
   "source": [
    "print(f\"The dataset has {application_train.index.shape} observations and {len(application_train.columns)} columns.\")"
   ]
  },
  {
   "cell_type": "code",
   "execution_count": null,
   "id": "NzTbFd4b1M4V",
   "metadata": {
    "colab": {
     "base_uri": "https://localhost:8080/"
    },
    "id": "NzTbFd4b1M4V",
    "outputId": "ffc5571b-aee4-40ca-b413-f7d8afe980ea"
   },
   "outputs": [
    {
     "name": "stdout",
     "output_type": "stream",
     "text": [
      "The dataset has (48744,) observations and 121 columns.\n"
     ]
    }
   ],
   "source": [
    "print(f\"The dataset has {application_test.index.shape} observations and {len(application_test.columns)} columns.\")"
   ]
  },
  {
   "cell_type": "markdown",
   "id": "eoMRxDP-1c7l",
   "metadata": {
    "id": "eoMRxDP-1c7l"
   },
   "source": [
    "**The training dataset include the Target**."
   ]
  },
  {
   "cell_type": "markdown",
   "id": "74e7a95b-8288-4ead-8c1e-f2cf68167d8e",
   "metadata": {
    "id": "74e7a95b-8288-4ead-8c1e-f2cf68167d8e"
   },
   "source": [
    "2- List all columns in the train dataset\n"
   ]
  },
  {
   "cell_type": "code",
   "execution_count": null,
   "id": "UwbBxeXRNhV2",
   "metadata": {
    "id": "UwbBxeXRNhV2"
   },
   "outputs": [],
   "source": [
    "columns = list(application_train.columns)"
   ]
  },
  {
   "cell_type": "code",
   "execution_count": null,
   "id": "RMdP6QyhRQ-P",
   "metadata": {
    "colab": {
     "base_uri": "https://localhost:8080/"
    },
    "id": "RMdP6QyhRQ-P",
    "outputId": "205c1773-cab5-406f-f0a5-b2ba79e9e0d1"
   },
   "outputs": [
    {
     "name": "stdout",
     "output_type": "stream",
     "text": [
      "Columns name: ['SK_ID_CURR', 'TARGET', 'NAME_CONTRACT_TYPE', 'CODE_GENDER', 'FLAG_OWN_CAR', 'FLAG_OWN_REALTY', 'CNT_CHILDREN', 'AMT_INCOME_TOTAL', 'AMT_CREDIT', 'AMT_ANNUITY', 'AMT_GOODS_PRICE', 'NAME_TYPE_SUITE', 'NAME_INCOME_TYPE', 'NAME_EDUCATION_TYPE', 'NAME_FAMILY_STATUS', 'NAME_HOUSING_TYPE', 'REGION_POPULATION_RELATIVE', 'DAYS_BIRTH', 'DAYS_EMPLOYED', 'DAYS_REGISTRATION', 'DAYS_ID_PUBLISH', 'OWN_CAR_AGE', 'FLAG_MOBIL', 'FLAG_EMP_PHONE', 'FLAG_WORK_PHONE', 'FLAG_CONT_MOBILE', 'FLAG_PHONE', 'FLAG_EMAIL', 'OCCUPATION_TYPE', 'CNT_FAM_MEMBERS', 'REGION_RATING_CLIENT', 'REGION_RATING_CLIENT_W_CITY', 'WEEKDAY_APPR_PROCESS_START', 'HOUR_APPR_PROCESS_START', 'REG_REGION_NOT_LIVE_REGION', 'REG_REGION_NOT_WORK_REGION', 'LIVE_REGION_NOT_WORK_REGION', 'REG_CITY_NOT_LIVE_CITY', 'REG_CITY_NOT_WORK_CITY', 'LIVE_CITY_NOT_WORK_CITY', 'ORGANIZATION_TYPE', 'EXT_SOURCE_1', 'EXT_SOURCE_2', 'EXT_SOURCE_3', 'APARTMENTS_AVG', 'BASEMENTAREA_AVG', 'YEARS_BEGINEXPLUATATION_AVG', 'YEARS_BUILD_AVG', 'COMMONAREA_AVG', 'ELEVATORS_AVG', 'ENTRANCES_AVG', 'FLOORSMAX_AVG', 'FLOORSMIN_AVG', 'LANDAREA_AVG', 'LIVINGAPARTMENTS_AVG', 'LIVINGAREA_AVG', 'NONLIVINGAPARTMENTS_AVG', 'NONLIVINGAREA_AVG', 'APARTMENTS_MODE', 'BASEMENTAREA_MODE', 'YEARS_BEGINEXPLUATATION_MODE', 'YEARS_BUILD_MODE', 'COMMONAREA_MODE', 'ELEVATORS_MODE', 'ENTRANCES_MODE', 'FLOORSMAX_MODE', 'FLOORSMIN_MODE', 'LANDAREA_MODE', 'LIVINGAPARTMENTS_MODE', 'LIVINGAREA_MODE', 'NONLIVINGAPARTMENTS_MODE', 'NONLIVINGAREA_MODE', 'APARTMENTS_MEDI', 'BASEMENTAREA_MEDI', 'YEARS_BEGINEXPLUATATION_MEDI', 'YEARS_BUILD_MEDI', 'COMMONAREA_MEDI', 'ELEVATORS_MEDI', 'ENTRANCES_MEDI', 'FLOORSMAX_MEDI', 'FLOORSMIN_MEDI', 'LANDAREA_MEDI', 'LIVINGAPARTMENTS_MEDI', 'LIVINGAREA_MEDI', 'NONLIVINGAPARTMENTS_MEDI', 'NONLIVINGAREA_MEDI', 'FONDKAPREMONT_MODE', 'HOUSETYPE_MODE', 'TOTALAREA_MODE', 'WALLSMATERIAL_MODE', 'EMERGENCYSTATE_MODE', 'OBS_30_CNT_SOCIAL_CIRCLE', 'DEF_30_CNT_SOCIAL_CIRCLE', 'OBS_60_CNT_SOCIAL_CIRCLE', 'DEF_60_CNT_SOCIAL_CIRCLE', 'DAYS_LAST_PHONE_CHANGE', 'FLAG_DOCUMENT_2', 'FLAG_DOCUMENT_3', 'FLAG_DOCUMENT_4', 'FLAG_DOCUMENT_5', 'FLAG_DOCUMENT_6', 'FLAG_DOCUMENT_7', 'FLAG_DOCUMENT_8', 'FLAG_DOCUMENT_9', 'FLAG_DOCUMENT_10', 'FLAG_DOCUMENT_11', 'FLAG_DOCUMENT_12', 'FLAG_DOCUMENT_13', 'FLAG_DOCUMENT_14', 'FLAG_DOCUMENT_15', 'FLAG_DOCUMENT_16', 'FLAG_DOCUMENT_17', 'FLAG_DOCUMENT_18', 'FLAG_DOCUMENT_19', 'FLAG_DOCUMENT_20', 'FLAG_DOCUMENT_21', 'AMT_REQ_CREDIT_BUREAU_HOUR', 'AMT_REQ_CREDIT_BUREAU_DAY', 'AMT_REQ_CREDIT_BUREAU_WEEK', 'AMT_REQ_CREDIT_BUREAU_MON', 'AMT_REQ_CREDIT_BUREAU_QRT', 'AMT_REQ_CREDIT_BUREAU_YEAR']\n"
     ]
    }
   ],
   "source": [
    "print(f\"Columns name: {columns}\")"
   ]
  },
  {
   "cell_type": "code",
   "execution_count": null,
   "id": "LYHrQw23ROHi",
   "metadata": {
    "colab": {
     "base_uri": "https://localhost:8080/"
    },
    "id": "LYHrQw23ROHi",
    "outputId": "6dd18d33-9dde-49ac-973e-02dd9d7e9520"
   },
   "outputs": [
    {
     "name": "stdout",
     "output_type": "stream",
     "text": [
      "Number of columns: 122\n"
     ]
    }
   ],
   "source": [
    "print(f\"Number of columns: {len(columns)}\")"
   ]
  },
  {
   "cell_type": "markdown",
   "id": "2dc4835f-90c3-4049-9ec2-44d102201104",
   "metadata": {
    "id": "2dc4835f-90c3-4049-9ec2-44d102201104"
   },
   "source": [
    "3- Show the first 5 records of the training dataset, transpose the dataframe to see each record as a column and features as rows, make sure all features are visualized. Take your time to review what kind of information you can gather from this data."
   ]
  },
  {
   "cell_type": "code",
   "execution_count": null,
   "id": "ac9c85b3-52e0-4b80-9753-afb81f92bd0d",
   "metadata": {
    "colab": {
     "base_uri": "https://localhost:8080/",
     "height": 1000
    },
    "id": "ac9c85b3-52e0-4b80-9753-afb81f92bd0d",
    "outputId": "f4947db9-9de0-4f6a-d760-20e24359102c"
   },
   "outputs": [
    {
     "name": "stdout",
     "output_type": "stream",
     "text": [
      "Data from the first 5 records:\n"
     ]
    },
    {
     "data": {
      "text/html": [
       "\n",
       "  <div id=\"df-52268705-3f00-415d-b81d-dc555d792ab1\">\n",
       "    <div class=\"colab-df-container\">\n",
       "      <div>\n",
       "<style scoped>\n",
       "    .dataframe tbody tr th:only-of-type {\n",
       "        vertical-align: middle;\n",
       "    }\n",
       "\n",
       "    .dataframe tbody tr th {\n",
       "        vertical-align: top;\n",
       "    }\n",
       "\n",
       "    .dataframe thead th {\n",
       "        text-align: right;\n",
       "    }\n",
       "</style>\n",
       "<table border=\"1\" class=\"dataframe\">\n",
       "  <thead>\n",
       "    <tr style=\"text-align: right;\">\n",
       "      <th></th>\n",
       "      <th>0</th>\n",
       "      <th>1</th>\n",
       "      <th>2</th>\n",
       "      <th>3</th>\n",
       "      <th>4</th>\n",
       "      <th>5</th>\n",
       "    </tr>\n",
       "  </thead>\n",
       "  <tbody>\n",
       "    <tr>\n",
       "      <th>SK_ID_CURR</th>\n",
       "      <td>100002</td>\n",
       "      <td>100003</td>\n",
       "      <td>100004</td>\n",
       "      <td>100006</td>\n",
       "      <td>100007</td>\n",
       "      <td>100008</td>\n",
       "    </tr>\n",
       "    <tr>\n",
       "      <th>TARGET</th>\n",
       "      <td>1</td>\n",
       "      <td>0</td>\n",
       "      <td>0</td>\n",
       "      <td>0</td>\n",
       "      <td>0</td>\n",
       "      <td>0</td>\n",
       "    </tr>\n",
       "    <tr>\n",
       "      <th>NAME_CONTRACT_TYPE</th>\n",
       "      <td>Cash loans</td>\n",
       "      <td>Cash loans</td>\n",
       "      <td>Revolving loans</td>\n",
       "      <td>Cash loans</td>\n",
       "      <td>Cash loans</td>\n",
       "      <td>Cash loans</td>\n",
       "    </tr>\n",
       "    <tr>\n",
       "      <th>CODE_GENDER</th>\n",
       "      <td>M</td>\n",
       "      <td>F</td>\n",
       "      <td>M</td>\n",
       "      <td>F</td>\n",
       "      <td>M</td>\n",
       "      <td>M</td>\n",
       "    </tr>\n",
       "    <tr>\n",
       "      <th>FLAG_OWN_CAR</th>\n",
       "      <td>N</td>\n",
       "      <td>N</td>\n",
       "      <td>Y</td>\n",
       "      <td>N</td>\n",
       "      <td>N</td>\n",
       "      <td>N</td>\n",
       "    </tr>\n",
       "    <tr>\n",
       "      <th>FLAG_OWN_REALTY</th>\n",
       "      <td>Y</td>\n",
       "      <td>N</td>\n",
       "      <td>Y</td>\n",
       "      <td>Y</td>\n",
       "      <td>Y</td>\n",
       "      <td>Y</td>\n",
       "    </tr>\n",
       "    <tr>\n",
       "      <th>CNT_CHILDREN</th>\n",
       "      <td>0</td>\n",
       "      <td>0</td>\n",
       "      <td>0</td>\n",
       "      <td>0</td>\n",
       "      <td>0</td>\n",
       "      <td>0</td>\n",
       "    </tr>\n",
       "    <tr>\n",
       "      <th>AMT_INCOME_TOTAL</th>\n",
       "      <td>202500.0</td>\n",
       "      <td>270000.0</td>\n",
       "      <td>67500.0</td>\n",
       "      <td>135000.0</td>\n",
       "      <td>121500.0</td>\n",
       "      <td>99000.0</td>\n",
       "    </tr>\n",
       "    <tr>\n",
       "      <th>AMT_CREDIT</th>\n",
       "      <td>406597.5</td>\n",
       "      <td>1293502.5</td>\n",
       "      <td>135000.0</td>\n",
       "      <td>312682.5</td>\n",
       "      <td>513000.0</td>\n",
       "      <td>490495.5</td>\n",
       "    </tr>\n",
       "    <tr>\n",
       "      <th>AMT_ANNUITY</th>\n",
       "      <td>24700.5</td>\n",
       "      <td>35698.5</td>\n",
       "      <td>6750.0</td>\n",
       "      <td>29686.5</td>\n",
       "      <td>21865.5</td>\n",
       "      <td>27517.5</td>\n",
       "    </tr>\n",
       "    <tr>\n",
       "      <th>AMT_GOODS_PRICE</th>\n",
       "      <td>351000.0</td>\n",
       "      <td>1129500.0</td>\n",
       "      <td>135000.0</td>\n",
       "      <td>297000.0</td>\n",
       "      <td>513000.0</td>\n",
       "      <td>454500.0</td>\n",
       "    </tr>\n",
       "    <tr>\n",
       "      <th>NAME_TYPE_SUITE</th>\n",
       "      <td>Unaccompanied</td>\n",
       "      <td>Family</td>\n",
       "      <td>Unaccompanied</td>\n",
       "      <td>Unaccompanied</td>\n",
       "      <td>Unaccompanied</td>\n",
       "      <td>Spouse, partner</td>\n",
       "    </tr>\n",
       "    <tr>\n",
       "      <th>NAME_INCOME_TYPE</th>\n",
       "      <td>Working</td>\n",
       "      <td>State servant</td>\n",
       "      <td>Working</td>\n",
       "      <td>Working</td>\n",
       "      <td>Working</td>\n",
       "      <td>State servant</td>\n",
       "    </tr>\n",
       "    <tr>\n",
       "      <th>NAME_EDUCATION_TYPE</th>\n",
       "      <td>Secondary / secondary special</td>\n",
       "      <td>Higher education</td>\n",
       "      <td>Secondary / secondary special</td>\n",
       "      <td>Secondary / secondary special</td>\n",
       "      <td>Secondary / secondary special</td>\n",
       "      <td>Secondary / secondary special</td>\n",
       "    </tr>\n",
       "    <tr>\n",
       "      <th>NAME_FAMILY_STATUS</th>\n",
       "      <td>Single / not married</td>\n",
       "      <td>Married</td>\n",
       "      <td>Single / not married</td>\n",
       "      <td>Civil marriage</td>\n",
       "      <td>Single / not married</td>\n",
       "      <td>Married</td>\n",
       "    </tr>\n",
       "    <tr>\n",
       "      <th>NAME_HOUSING_TYPE</th>\n",
       "      <td>House / apartment</td>\n",
       "      <td>House / apartment</td>\n",
       "      <td>House / apartment</td>\n",
       "      <td>House / apartment</td>\n",
       "      <td>House / apartment</td>\n",
       "      <td>House / apartment</td>\n",
       "    </tr>\n",
       "    <tr>\n",
       "      <th>REGION_POPULATION_RELATIVE</th>\n",
       "      <td>0.018801</td>\n",
       "      <td>0.003541</td>\n",
       "      <td>0.010032</td>\n",
       "      <td>0.008019</td>\n",
       "      <td>0.028663</td>\n",
       "      <td>0.035792</td>\n",
       "    </tr>\n",
       "    <tr>\n",
       "      <th>DAYS_BIRTH</th>\n",
       "      <td>-9461</td>\n",
       "      <td>-16765</td>\n",
       "      <td>-19046</td>\n",
       "      <td>-19005</td>\n",
       "      <td>-19932</td>\n",
       "      <td>-16941</td>\n",
       "    </tr>\n",
       "    <tr>\n",
       "      <th>DAYS_EMPLOYED</th>\n",
       "      <td>-637</td>\n",
       "      <td>-1188</td>\n",
       "      <td>-225</td>\n",
       "      <td>-3039</td>\n",
       "      <td>-3038</td>\n",
       "      <td>-1588</td>\n",
       "    </tr>\n",
       "    <tr>\n",
       "      <th>DAYS_REGISTRATION</th>\n",
       "      <td>-3648.0</td>\n",
       "      <td>-1186.0</td>\n",
       "      <td>-4260.0</td>\n",
       "      <td>-9833.0</td>\n",
       "      <td>-4311.0</td>\n",
       "      <td>-4970.0</td>\n",
       "    </tr>\n",
       "    <tr>\n",
       "      <th>DAYS_ID_PUBLISH</th>\n",
       "      <td>-2120</td>\n",
       "      <td>-291</td>\n",
       "      <td>-2531</td>\n",
       "      <td>-2437</td>\n",
       "      <td>-3458</td>\n",
       "      <td>-477</td>\n",
       "    </tr>\n",
       "    <tr>\n",
       "      <th>OWN_CAR_AGE</th>\n",
       "      <td>NaN</td>\n",
       "      <td>NaN</td>\n",
       "      <td>26.0</td>\n",
       "      <td>NaN</td>\n",
       "      <td>NaN</td>\n",
       "      <td>NaN</td>\n",
       "    </tr>\n",
       "    <tr>\n",
       "      <th>FLAG_MOBIL</th>\n",
       "      <td>1</td>\n",
       "      <td>1</td>\n",
       "      <td>1</td>\n",
       "      <td>1</td>\n",
       "      <td>1</td>\n",
       "      <td>1</td>\n",
       "    </tr>\n",
       "    <tr>\n",
       "      <th>FLAG_EMP_PHONE</th>\n",
       "      <td>1</td>\n",
       "      <td>1</td>\n",
       "      <td>1</td>\n",
       "      <td>1</td>\n",
       "      <td>1</td>\n",
       "      <td>1</td>\n",
       "    </tr>\n",
       "    <tr>\n",
       "      <th>FLAG_WORK_PHONE</th>\n",
       "      <td>0</td>\n",
       "      <td>0</td>\n",
       "      <td>1</td>\n",
       "      <td>0</td>\n",
       "      <td>0</td>\n",
       "      <td>1</td>\n",
       "    </tr>\n",
       "    <tr>\n",
       "      <th>FLAG_CONT_MOBILE</th>\n",
       "      <td>1</td>\n",
       "      <td>1</td>\n",
       "      <td>1</td>\n",
       "      <td>1</td>\n",
       "      <td>1</td>\n",
       "      <td>1</td>\n",
       "    </tr>\n",
       "    <tr>\n",
       "      <th>FLAG_PHONE</th>\n",
       "      <td>1</td>\n",
       "      <td>1</td>\n",
       "      <td>1</td>\n",
       "      <td>0</td>\n",
       "      <td>0</td>\n",
       "      <td>1</td>\n",
       "    </tr>\n",
       "    <tr>\n",
       "      <th>FLAG_EMAIL</th>\n",
       "      <td>0</td>\n",
       "      <td>0</td>\n",
       "      <td>0</td>\n",
       "      <td>0</td>\n",
       "      <td>0</td>\n",
       "      <td>0</td>\n",
       "    </tr>\n",
       "    <tr>\n",
       "      <th>OCCUPATION_TYPE</th>\n",
       "      <td>Laborers</td>\n",
       "      <td>Core staff</td>\n",
       "      <td>Laborers</td>\n",
       "      <td>Laborers</td>\n",
       "      <td>Core staff</td>\n",
       "      <td>Laborers</td>\n",
       "    </tr>\n",
       "    <tr>\n",
       "      <th>CNT_FAM_MEMBERS</th>\n",
       "      <td>1.0</td>\n",
       "      <td>2.0</td>\n",
       "      <td>1.0</td>\n",
       "      <td>2.0</td>\n",
       "      <td>1.0</td>\n",
       "      <td>2.0</td>\n",
       "    </tr>\n",
       "    <tr>\n",
       "      <th>REGION_RATING_CLIENT</th>\n",
       "      <td>2</td>\n",
       "      <td>1</td>\n",
       "      <td>2</td>\n",
       "      <td>2</td>\n",
       "      <td>2</td>\n",
       "      <td>2</td>\n",
       "    </tr>\n",
       "    <tr>\n",
       "      <th>REGION_RATING_CLIENT_W_CITY</th>\n",
       "      <td>2</td>\n",
       "      <td>1</td>\n",
       "      <td>2</td>\n",
       "      <td>2</td>\n",
       "      <td>2</td>\n",
       "      <td>2</td>\n",
       "    </tr>\n",
       "    <tr>\n",
       "      <th>WEEKDAY_APPR_PROCESS_START</th>\n",
       "      <td>WEDNESDAY</td>\n",
       "      <td>MONDAY</td>\n",
       "      <td>MONDAY</td>\n",
       "      <td>WEDNESDAY</td>\n",
       "      <td>THURSDAY</td>\n",
       "      <td>WEDNESDAY</td>\n",
       "    </tr>\n",
       "    <tr>\n",
       "      <th>HOUR_APPR_PROCESS_START</th>\n",
       "      <td>10</td>\n",
       "      <td>11</td>\n",
       "      <td>9</td>\n",
       "      <td>17</td>\n",
       "      <td>11</td>\n",
       "      <td>16</td>\n",
       "    </tr>\n",
       "    <tr>\n",
       "      <th>REG_REGION_NOT_LIVE_REGION</th>\n",
       "      <td>0</td>\n",
       "      <td>0</td>\n",
       "      <td>0</td>\n",
       "      <td>0</td>\n",
       "      <td>0</td>\n",
       "      <td>0</td>\n",
       "    </tr>\n",
       "    <tr>\n",
       "      <th>REG_REGION_NOT_WORK_REGION</th>\n",
       "      <td>0</td>\n",
       "      <td>0</td>\n",
       "      <td>0</td>\n",
       "      <td>0</td>\n",
       "      <td>0</td>\n",
       "      <td>0</td>\n",
       "    </tr>\n",
       "    <tr>\n",
       "      <th>LIVE_REGION_NOT_WORK_REGION</th>\n",
       "      <td>0</td>\n",
       "      <td>0</td>\n",
       "      <td>0</td>\n",
       "      <td>0</td>\n",
       "      <td>0</td>\n",
       "      <td>0</td>\n",
       "    </tr>\n",
       "    <tr>\n",
       "      <th>REG_CITY_NOT_LIVE_CITY</th>\n",
       "      <td>0</td>\n",
       "      <td>0</td>\n",
       "      <td>0</td>\n",
       "      <td>0</td>\n",
       "      <td>0</td>\n",
       "      <td>0</td>\n",
       "    </tr>\n",
       "    <tr>\n",
       "      <th>REG_CITY_NOT_WORK_CITY</th>\n",
       "      <td>0</td>\n",
       "      <td>0</td>\n",
       "      <td>0</td>\n",
       "      <td>0</td>\n",
       "      <td>1</td>\n",
       "      <td>0</td>\n",
       "    </tr>\n",
       "    <tr>\n",
       "      <th>LIVE_CITY_NOT_WORK_CITY</th>\n",
       "      <td>0</td>\n",
       "      <td>0</td>\n",
       "      <td>0</td>\n",
       "      <td>0</td>\n",
       "      <td>1</td>\n",
       "      <td>0</td>\n",
       "    </tr>\n",
       "    <tr>\n",
       "      <th>ORGANIZATION_TYPE</th>\n",
       "      <td>Business Entity Type 3</td>\n",
       "      <td>School</td>\n",
       "      <td>Government</td>\n",
       "      <td>Business Entity Type 3</td>\n",
       "      <td>Religion</td>\n",
       "      <td>Other</td>\n",
       "    </tr>\n",
       "    <tr>\n",
       "      <th>EXT_SOURCE_1</th>\n",
       "      <td>0.083037</td>\n",
       "      <td>0.311267</td>\n",
       "      <td>NaN</td>\n",
       "      <td>NaN</td>\n",
       "      <td>NaN</td>\n",
       "      <td>NaN</td>\n",
       "    </tr>\n",
       "    <tr>\n",
       "      <th>EXT_SOURCE_2</th>\n",
       "      <td>0.262949</td>\n",
       "      <td>0.622246</td>\n",
       "      <td>0.555912</td>\n",
       "      <td>0.650442</td>\n",
       "      <td>0.322738</td>\n",
       "      <td>0.354225</td>\n",
       "    </tr>\n",
       "    <tr>\n",
       "      <th>EXT_SOURCE_3</th>\n",
       "      <td>0.139376</td>\n",
       "      <td>NaN</td>\n",
       "      <td>0.729567</td>\n",
       "      <td>NaN</td>\n",
       "      <td>NaN</td>\n",
       "      <td>0.621226</td>\n",
       "    </tr>\n",
       "    <tr>\n",
       "      <th>APARTMENTS_AVG</th>\n",
       "      <td>0.0247</td>\n",
       "      <td>0.0959</td>\n",
       "      <td>NaN</td>\n",
       "      <td>NaN</td>\n",
       "      <td>NaN</td>\n",
       "      <td>NaN</td>\n",
       "    </tr>\n",
       "    <tr>\n",
       "      <th>BASEMENTAREA_AVG</th>\n",
       "      <td>0.0369</td>\n",
       "      <td>0.0529</td>\n",
       "      <td>NaN</td>\n",
       "      <td>NaN</td>\n",
       "      <td>NaN</td>\n",
       "      <td>NaN</td>\n",
       "    </tr>\n",
       "    <tr>\n",
       "      <th>YEARS_BEGINEXPLUATATION_AVG</th>\n",
       "      <td>0.9722</td>\n",
       "      <td>0.9851</td>\n",
       "      <td>NaN</td>\n",
       "      <td>NaN</td>\n",
       "      <td>NaN</td>\n",
       "      <td>NaN</td>\n",
       "    </tr>\n",
       "    <tr>\n",
       "      <th>YEARS_BUILD_AVG</th>\n",
       "      <td>0.6192</td>\n",
       "      <td>0.796</td>\n",
       "      <td>NaN</td>\n",
       "      <td>NaN</td>\n",
       "      <td>NaN</td>\n",
       "      <td>NaN</td>\n",
       "    </tr>\n",
       "    <tr>\n",
       "      <th>COMMONAREA_AVG</th>\n",
       "      <td>0.0143</td>\n",
       "      <td>0.0605</td>\n",
       "      <td>NaN</td>\n",
       "      <td>NaN</td>\n",
       "      <td>NaN</td>\n",
       "      <td>NaN</td>\n",
       "    </tr>\n",
       "    <tr>\n",
       "      <th>ELEVATORS_AVG</th>\n",
       "      <td>0.0</td>\n",
       "      <td>0.08</td>\n",
       "      <td>NaN</td>\n",
       "      <td>NaN</td>\n",
       "      <td>NaN</td>\n",
       "      <td>NaN</td>\n",
       "    </tr>\n",
       "    <tr>\n",
       "      <th>ENTRANCES_AVG</th>\n",
       "      <td>0.069</td>\n",
       "      <td>0.0345</td>\n",
       "      <td>NaN</td>\n",
       "      <td>NaN</td>\n",
       "      <td>NaN</td>\n",
       "      <td>NaN</td>\n",
       "    </tr>\n",
       "    <tr>\n",
       "      <th>FLOORSMAX_AVG</th>\n",
       "      <td>0.0833</td>\n",
       "      <td>0.2917</td>\n",
       "      <td>NaN</td>\n",
       "      <td>NaN</td>\n",
       "      <td>NaN</td>\n",
       "      <td>NaN</td>\n",
       "    </tr>\n",
       "    <tr>\n",
       "      <th>FLOORSMIN_AVG</th>\n",
       "      <td>0.125</td>\n",
       "      <td>0.3333</td>\n",
       "      <td>NaN</td>\n",
       "      <td>NaN</td>\n",
       "      <td>NaN</td>\n",
       "      <td>NaN</td>\n",
       "    </tr>\n",
       "    <tr>\n",
       "      <th>LANDAREA_AVG</th>\n",
       "      <td>0.0369</td>\n",
       "      <td>0.013</td>\n",
       "      <td>NaN</td>\n",
       "      <td>NaN</td>\n",
       "      <td>NaN</td>\n",
       "      <td>NaN</td>\n",
       "    </tr>\n",
       "    <tr>\n",
       "      <th>LIVINGAPARTMENTS_AVG</th>\n",
       "      <td>0.0202</td>\n",
       "      <td>0.0773</td>\n",
       "      <td>NaN</td>\n",
       "      <td>NaN</td>\n",
       "      <td>NaN</td>\n",
       "      <td>NaN</td>\n",
       "    </tr>\n",
       "    <tr>\n",
       "      <th>LIVINGAREA_AVG</th>\n",
       "      <td>0.019</td>\n",
       "      <td>0.0549</td>\n",
       "      <td>NaN</td>\n",
       "      <td>NaN</td>\n",
       "      <td>NaN</td>\n",
       "      <td>NaN</td>\n",
       "    </tr>\n",
       "    <tr>\n",
       "      <th>NONLIVINGAPARTMENTS_AVG</th>\n",
       "      <td>0.0</td>\n",
       "      <td>0.0039</td>\n",
       "      <td>NaN</td>\n",
       "      <td>NaN</td>\n",
       "      <td>NaN</td>\n",
       "      <td>NaN</td>\n",
       "    </tr>\n",
       "    <tr>\n",
       "      <th>NONLIVINGAREA_AVG</th>\n",
       "      <td>0.0</td>\n",
       "      <td>0.0098</td>\n",
       "      <td>NaN</td>\n",
       "      <td>NaN</td>\n",
       "      <td>NaN</td>\n",
       "      <td>NaN</td>\n",
       "    </tr>\n",
       "    <tr>\n",
       "      <th>APARTMENTS_MODE</th>\n",
       "      <td>0.0252</td>\n",
       "      <td>0.0924</td>\n",
       "      <td>NaN</td>\n",
       "      <td>NaN</td>\n",
       "      <td>NaN</td>\n",
       "      <td>NaN</td>\n",
       "    </tr>\n",
       "    <tr>\n",
       "      <th>BASEMENTAREA_MODE</th>\n",
       "      <td>0.0383</td>\n",
       "      <td>0.0538</td>\n",
       "      <td>NaN</td>\n",
       "      <td>NaN</td>\n",
       "      <td>NaN</td>\n",
       "      <td>NaN</td>\n",
       "    </tr>\n",
       "    <tr>\n",
       "      <th>YEARS_BEGINEXPLUATATION_MODE</th>\n",
       "      <td>0.9722</td>\n",
       "      <td>0.9851</td>\n",
       "      <td>NaN</td>\n",
       "      <td>NaN</td>\n",
       "      <td>NaN</td>\n",
       "      <td>NaN</td>\n",
       "    </tr>\n",
       "    <tr>\n",
       "      <th>YEARS_BUILD_MODE</th>\n",
       "      <td>0.6341</td>\n",
       "      <td>0.804</td>\n",
       "      <td>NaN</td>\n",
       "      <td>NaN</td>\n",
       "      <td>NaN</td>\n",
       "      <td>NaN</td>\n",
       "    </tr>\n",
       "    <tr>\n",
       "      <th>COMMONAREA_MODE</th>\n",
       "      <td>0.0144</td>\n",
       "      <td>0.0497</td>\n",
       "      <td>NaN</td>\n",
       "      <td>NaN</td>\n",
       "      <td>NaN</td>\n",
       "      <td>NaN</td>\n",
       "    </tr>\n",
       "    <tr>\n",
       "      <th>ELEVATORS_MODE</th>\n",
       "      <td>0.0</td>\n",
       "      <td>0.0806</td>\n",
       "      <td>NaN</td>\n",
       "      <td>NaN</td>\n",
       "      <td>NaN</td>\n",
       "      <td>NaN</td>\n",
       "    </tr>\n",
       "    <tr>\n",
       "      <th>ENTRANCES_MODE</th>\n",
       "      <td>0.069</td>\n",
       "      <td>0.0345</td>\n",
       "      <td>NaN</td>\n",
       "      <td>NaN</td>\n",
       "      <td>NaN</td>\n",
       "      <td>NaN</td>\n",
       "    </tr>\n",
       "    <tr>\n",
       "      <th>FLOORSMAX_MODE</th>\n",
       "      <td>0.0833</td>\n",
       "      <td>0.2917</td>\n",
       "      <td>NaN</td>\n",
       "      <td>NaN</td>\n",
       "      <td>NaN</td>\n",
       "      <td>NaN</td>\n",
       "    </tr>\n",
       "    <tr>\n",
       "      <th>FLOORSMIN_MODE</th>\n",
       "      <td>0.125</td>\n",
       "      <td>0.3333</td>\n",
       "      <td>NaN</td>\n",
       "      <td>NaN</td>\n",
       "      <td>NaN</td>\n",
       "      <td>NaN</td>\n",
       "    </tr>\n",
       "    <tr>\n",
       "      <th>LANDAREA_MODE</th>\n",
       "      <td>0.0377</td>\n",
       "      <td>0.0128</td>\n",
       "      <td>NaN</td>\n",
       "      <td>NaN</td>\n",
       "      <td>NaN</td>\n",
       "      <td>NaN</td>\n",
       "    </tr>\n",
       "    <tr>\n",
       "      <th>LIVINGAPARTMENTS_MODE</th>\n",
       "      <td>0.022</td>\n",
       "      <td>0.079</td>\n",
       "      <td>NaN</td>\n",
       "      <td>NaN</td>\n",
       "      <td>NaN</td>\n",
       "      <td>NaN</td>\n",
       "    </tr>\n",
       "    <tr>\n",
       "      <th>LIVINGAREA_MODE</th>\n",
       "      <td>0.0198</td>\n",
       "      <td>0.0554</td>\n",
       "      <td>NaN</td>\n",
       "      <td>NaN</td>\n",
       "      <td>NaN</td>\n",
       "      <td>NaN</td>\n",
       "    </tr>\n",
       "    <tr>\n",
       "      <th>NONLIVINGAPARTMENTS_MODE</th>\n",
       "      <td>0.0</td>\n",
       "      <td>0.0</td>\n",
       "      <td>NaN</td>\n",
       "      <td>NaN</td>\n",
       "      <td>NaN</td>\n",
       "      <td>NaN</td>\n",
       "    </tr>\n",
       "    <tr>\n",
       "      <th>NONLIVINGAREA_MODE</th>\n",
       "      <td>0.0</td>\n",
       "      <td>0.0</td>\n",
       "      <td>NaN</td>\n",
       "      <td>NaN</td>\n",
       "      <td>NaN</td>\n",
       "      <td>NaN</td>\n",
       "    </tr>\n",
       "    <tr>\n",
       "      <th>APARTMENTS_MEDI</th>\n",
       "      <td>0.025</td>\n",
       "      <td>0.0968</td>\n",
       "      <td>NaN</td>\n",
       "      <td>NaN</td>\n",
       "      <td>NaN</td>\n",
       "      <td>NaN</td>\n",
       "    </tr>\n",
       "    <tr>\n",
       "      <th>BASEMENTAREA_MEDI</th>\n",
       "      <td>0.0369</td>\n",
       "      <td>0.0529</td>\n",
       "      <td>NaN</td>\n",
       "      <td>NaN</td>\n",
       "      <td>NaN</td>\n",
       "      <td>NaN</td>\n",
       "    </tr>\n",
       "    <tr>\n",
       "      <th>YEARS_BEGINEXPLUATATION_MEDI</th>\n",
       "      <td>0.9722</td>\n",
       "      <td>0.9851</td>\n",
       "      <td>NaN</td>\n",
       "      <td>NaN</td>\n",
       "      <td>NaN</td>\n",
       "      <td>NaN</td>\n",
       "    </tr>\n",
       "    <tr>\n",
       "      <th>YEARS_BUILD_MEDI</th>\n",
       "      <td>0.6243</td>\n",
       "      <td>0.7987</td>\n",
       "      <td>NaN</td>\n",
       "      <td>NaN</td>\n",
       "      <td>NaN</td>\n",
       "      <td>NaN</td>\n",
       "    </tr>\n",
       "    <tr>\n",
       "      <th>COMMONAREA_MEDI</th>\n",
       "      <td>0.0144</td>\n",
       "      <td>0.0608</td>\n",
       "      <td>NaN</td>\n",
       "      <td>NaN</td>\n",
       "      <td>NaN</td>\n",
       "      <td>NaN</td>\n",
       "    </tr>\n",
       "    <tr>\n",
       "      <th>ELEVATORS_MEDI</th>\n",
       "      <td>0.0</td>\n",
       "      <td>0.08</td>\n",
       "      <td>NaN</td>\n",
       "      <td>NaN</td>\n",
       "      <td>NaN</td>\n",
       "      <td>NaN</td>\n",
       "    </tr>\n",
       "    <tr>\n",
       "      <th>ENTRANCES_MEDI</th>\n",
       "      <td>0.069</td>\n",
       "      <td>0.0345</td>\n",
       "      <td>NaN</td>\n",
       "      <td>NaN</td>\n",
       "      <td>NaN</td>\n",
       "      <td>NaN</td>\n",
       "    </tr>\n",
       "    <tr>\n",
       "      <th>FLOORSMAX_MEDI</th>\n",
       "      <td>0.0833</td>\n",
       "      <td>0.2917</td>\n",
       "      <td>NaN</td>\n",
       "      <td>NaN</td>\n",
       "      <td>NaN</td>\n",
       "      <td>NaN</td>\n",
       "    </tr>\n",
       "    <tr>\n",
       "      <th>FLOORSMIN_MEDI</th>\n",
       "      <td>0.125</td>\n",
       "      <td>0.3333</td>\n",
       "      <td>NaN</td>\n",
       "      <td>NaN</td>\n",
       "      <td>NaN</td>\n",
       "      <td>NaN</td>\n",
       "    </tr>\n",
       "    <tr>\n",
       "      <th>LANDAREA_MEDI</th>\n",
       "      <td>0.0375</td>\n",
       "      <td>0.0132</td>\n",
       "      <td>NaN</td>\n",
       "      <td>NaN</td>\n",
       "      <td>NaN</td>\n",
       "      <td>NaN</td>\n",
       "    </tr>\n",
       "    <tr>\n",
       "      <th>LIVINGAPARTMENTS_MEDI</th>\n",
       "      <td>0.0205</td>\n",
       "      <td>0.0787</td>\n",
       "      <td>NaN</td>\n",
       "      <td>NaN</td>\n",
       "      <td>NaN</td>\n",
       "      <td>NaN</td>\n",
       "    </tr>\n",
       "    <tr>\n",
       "      <th>LIVINGAREA_MEDI</th>\n",
       "      <td>0.0193</td>\n",
       "      <td>0.0558</td>\n",
       "      <td>NaN</td>\n",
       "      <td>NaN</td>\n",
       "      <td>NaN</td>\n",
       "      <td>NaN</td>\n",
       "    </tr>\n",
       "    <tr>\n",
       "      <th>NONLIVINGAPARTMENTS_MEDI</th>\n",
       "      <td>0.0</td>\n",
       "      <td>0.0039</td>\n",
       "      <td>NaN</td>\n",
       "      <td>NaN</td>\n",
       "      <td>NaN</td>\n",
       "      <td>NaN</td>\n",
       "    </tr>\n",
       "    <tr>\n",
       "      <th>NONLIVINGAREA_MEDI</th>\n",
       "      <td>0.0</td>\n",
       "      <td>0.01</td>\n",
       "      <td>NaN</td>\n",
       "      <td>NaN</td>\n",
       "      <td>NaN</td>\n",
       "      <td>NaN</td>\n",
       "    </tr>\n",
       "    <tr>\n",
       "      <th>FONDKAPREMONT_MODE</th>\n",
       "      <td>reg oper account</td>\n",
       "      <td>reg oper account</td>\n",
       "      <td>NaN</td>\n",
       "      <td>NaN</td>\n",
       "      <td>NaN</td>\n",
       "      <td>NaN</td>\n",
       "    </tr>\n",
       "    <tr>\n",
       "      <th>HOUSETYPE_MODE</th>\n",
       "      <td>block of flats</td>\n",
       "      <td>block of flats</td>\n",
       "      <td>NaN</td>\n",
       "      <td>NaN</td>\n",
       "      <td>NaN</td>\n",
       "      <td>NaN</td>\n",
       "    </tr>\n",
       "    <tr>\n",
       "      <th>TOTALAREA_MODE</th>\n",
       "      <td>0.0149</td>\n",
       "      <td>0.0714</td>\n",
       "      <td>NaN</td>\n",
       "      <td>NaN</td>\n",
       "      <td>NaN</td>\n",
       "      <td>NaN</td>\n",
       "    </tr>\n",
       "    <tr>\n",
       "      <th>WALLSMATERIAL_MODE</th>\n",
       "      <td>Stone, brick</td>\n",
       "      <td>Block</td>\n",
       "      <td>NaN</td>\n",
       "      <td>NaN</td>\n",
       "      <td>NaN</td>\n",
       "      <td>NaN</td>\n",
       "    </tr>\n",
       "    <tr>\n",
       "      <th>EMERGENCYSTATE_MODE</th>\n",
       "      <td>No</td>\n",
       "      <td>No</td>\n",
       "      <td>NaN</td>\n",
       "      <td>NaN</td>\n",
       "      <td>NaN</td>\n",
       "      <td>NaN</td>\n",
       "    </tr>\n",
       "    <tr>\n",
       "      <th>OBS_30_CNT_SOCIAL_CIRCLE</th>\n",
       "      <td>2.0</td>\n",
       "      <td>1.0</td>\n",
       "      <td>0.0</td>\n",
       "      <td>2.0</td>\n",
       "      <td>0.0</td>\n",
       "      <td>0.0</td>\n",
       "    </tr>\n",
       "    <tr>\n",
       "      <th>DEF_30_CNT_SOCIAL_CIRCLE</th>\n",
       "      <td>2.0</td>\n",
       "      <td>0.0</td>\n",
       "      <td>0.0</td>\n",
       "      <td>0.0</td>\n",
       "      <td>0.0</td>\n",
       "      <td>0.0</td>\n",
       "    </tr>\n",
       "    <tr>\n",
       "      <th>OBS_60_CNT_SOCIAL_CIRCLE</th>\n",
       "      <td>2.0</td>\n",
       "      <td>1.0</td>\n",
       "      <td>0.0</td>\n",
       "      <td>2.0</td>\n",
       "      <td>0.0</td>\n",
       "      <td>0.0</td>\n",
       "    </tr>\n",
       "    <tr>\n",
       "      <th>DEF_60_CNT_SOCIAL_CIRCLE</th>\n",
       "      <td>2.0</td>\n",
       "      <td>0.0</td>\n",
       "      <td>0.0</td>\n",
       "      <td>0.0</td>\n",
       "      <td>0.0</td>\n",
       "      <td>0.0</td>\n",
       "    </tr>\n",
       "    <tr>\n",
       "      <th>DAYS_LAST_PHONE_CHANGE</th>\n",
       "      <td>-1134.0</td>\n",
       "      <td>-828.0</td>\n",
       "      <td>-815.0</td>\n",
       "      <td>-617.0</td>\n",
       "      <td>-1106.0</td>\n",
       "      <td>-2536.0</td>\n",
       "    </tr>\n",
       "    <tr>\n",
       "      <th>FLAG_DOCUMENT_2</th>\n",
       "      <td>0</td>\n",
       "      <td>0</td>\n",
       "      <td>0</td>\n",
       "      <td>0</td>\n",
       "      <td>0</td>\n",
       "      <td>0</td>\n",
       "    </tr>\n",
       "    <tr>\n",
       "      <th>FLAG_DOCUMENT_3</th>\n",
       "      <td>1</td>\n",
       "      <td>1</td>\n",
       "      <td>0</td>\n",
       "      <td>1</td>\n",
       "      <td>0</td>\n",
       "      <td>1</td>\n",
       "    </tr>\n",
       "    <tr>\n",
       "      <th>FLAG_DOCUMENT_4</th>\n",
       "      <td>0</td>\n",
       "      <td>0</td>\n",
       "      <td>0</td>\n",
       "      <td>0</td>\n",
       "      <td>0</td>\n",
       "      <td>0</td>\n",
       "    </tr>\n",
       "    <tr>\n",
       "      <th>FLAG_DOCUMENT_5</th>\n",
       "      <td>0</td>\n",
       "      <td>0</td>\n",
       "      <td>0</td>\n",
       "      <td>0</td>\n",
       "      <td>0</td>\n",
       "      <td>0</td>\n",
       "    </tr>\n",
       "    <tr>\n",
       "      <th>FLAG_DOCUMENT_6</th>\n",
       "      <td>0</td>\n",
       "      <td>0</td>\n",
       "      <td>0</td>\n",
       "      <td>0</td>\n",
       "      <td>0</td>\n",
       "      <td>0</td>\n",
       "    </tr>\n",
       "    <tr>\n",
       "      <th>FLAG_DOCUMENT_7</th>\n",
       "      <td>0</td>\n",
       "      <td>0</td>\n",
       "      <td>0</td>\n",
       "      <td>0</td>\n",
       "      <td>0</td>\n",
       "      <td>0</td>\n",
       "    </tr>\n",
       "    <tr>\n",
       "      <th>FLAG_DOCUMENT_8</th>\n",
       "      <td>0</td>\n",
       "      <td>0</td>\n",
       "      <td>0</td>\n",
       "      <td>0</td>\n",
       "      <td>1</td>\n",
       "      <td>0</td>\n",
       "    </tr>\n",
       "    <tr>\n",
       "      <th>FLAG_DOCUMENT_9</th>\n",
       "      <td>0</td>\n",
       "      <td>0</td>\n",
       "      <td>0</td>\n",
       "      <td>0</td>\n",
       "      <td>0</td>\n",
       "      <td>0</td>\n",
       "    </tr>\n",
       "    <tr>\n",
       "      <th>FLAG_DOCUMENT_10</th>\n",
       "      <td>0</td>\n",
       "      <td>0</td>\n",
       "      <td>0</td>\n",
       "      <td>0</td>\n",
       "      <td>0</td>\n",
       "      <td>0</td>\n",
       "    </tr>\n",
       "    <tr>\n",
       "      <th>FLAG_DOCUMENT_11</th>\n",
       "      <td>0</td>\n",
       "      <td>0</td>\n",
       "      <td>0</td>\n",
       "      <td>0</td>\n",
       "      <td>0</td>\n",
       "      <td>0</td>\n",
       "    </tr>\n",
       "    <tr>\n",
       "      <th>FLAG_DOCUMENT_12</th>\n",
       "      <td>0</td>\n",
       "      <td>0</td>\n",
       "      <td>0</td>\n",
       "      <td>0</td>\n",
       "      <td>0</td>\n",
       "      <td>0</td>\n",
       "    </tr>\n",
       "    <tr>\n",
       "      <th>FLAG_DOCUMENT_13</th>\n",
       "      <td>0</td>\n",
       "      <td>0</td>\n",
       "      <td>0</td>\n",
       "      <td>0</td>\n",
       "      <td>0</td>\n",
       "      <td>0</td>\n",
       "    </tr>\n",
       "    <tr>\n",
       "      <th>FLAG_DOCUMENT_14</th>\n",
       "      <td>0</td>\n",
       "      <td>0</td>\n",
       "      <td>0</td>\n",
       "      <td>0</td>\n",
       "      <td>0</td>\n",
       "      <td>0</td>\n",
       "    </tr>\n",
       "    <tr>\n",
       "      <th>FLAG_DOCUMENT_15</th>\n",
       "      <td>0</td>\n",
       "      <td>0</td>\n",
       "      <td>0</td>\n",
       "      <td>0</td>\n",
       "      <td>0</td>\n",
       "      <td>0</td>\n",
       "    </tr>\n",
       "    <tr>\n",
       "      <th>FLAG_DOCUMENT_16</th>\n",
       "      <td>0</td>\n",
       "      <td>0</td>\n",
       "      <td>0</td>\n",
       "      <td>0</td>\n",
       "      <td>0</td>\n",
       "      <td>0</td>\n",
       "    </tr>\n",
       "    <tr>\n",
       "      <th>FLAG_DOCUMENT_17</th>\n",
       "      <td>0</td>\n",
       "      <td>0</td>\n",
       "      <td>0</td>\n",
       "      <td>0</td>\n",
       "      <td>0</td>\n",
       "      <td>0</td>\n",
       "    </tr>\n",
       "    <tr>\n",
       "      <th>FLAG_DOCUMENT_18</th>\n",
       "      <td>0</td>\n",
       "      <td>0</td>\n",
       "      <td>0</td>\n",
       "      <td>0</td>\n",
       "      <td>0</td>\n",
       "      <td>0</td>\n",
       "    </tr>\n",
       "    <tr>\n",
       "      <th>FLAG_DOCUMENT_19</th>\n",
       "      <td>0</td>\n",
       "      <td>0</td>\n",
       "      <td>0</td>\n",
       "      <td>0</td>\n",
       "      <td>0</td>\n",
       "      <td>0</td>\n",
       "    </tr>\n",
       "    <tr>\n",
       "      <th>FLAG_DOCUMENT_20</th>\n",
       "      <td>0</td>\n",
       "      <td>0</td>\n",
       "      <td>0</td>\n",
       "      <td>0</td>\n",
       "      <td>0</td>\n",
       "      <td>0</td>\n",
       "    </tr>\n",
       "    <tr>\n",
       "      <th>FLAG_DOCUMENT_21</th>\n",
       "      <td>0</td>\n",
       "      <td>0</td>\n",
       "      <td>0</td>\n",
       "      <td>0</td>\n",
       "      <td>0</td>\n",
       "      <td>0</td>\n",
       "    </tr>\n",
       "    <tr>\n",
       "      <th>AMT_REQ_CREDIT_BUREAU_HOUR</th>\n",
       "      <td>0.0</td>\n",
       "      <td>0.0</td>\n",
       "      <td>0.0</td>\n",
       "      <td>NaN</td>\n",
       "      <td>0.0</td>\n",
       "      <td>0.0</td>\n",
       "    </tr>\n",
       "    <tr>\n",
       "      <th>AMT_REQ_CREDIT_BUREAU_DAY</th>\n",
       "      <td>0.0</td>\n",
       "      <td>0.0</td>\n",
       "      <td>0.0</td>\n",
       "      <td>NaN</td>\n",
       "      <td>0.0</td>\n",
       "      <td>0.0</td>\n",
       "    </tr>\n",
       "    <tr>\n",
       "      <th>AMT_REQ_CREDIT_BUREAU_WEEK</th>\n",
       "      <td>0.0</td>\n",
       "      <td>0.0</td>\n",
       "      <td>0.0</td>\n",
       "      <td>NaN</td>\n",
       "      <td>0.0</td>\n",
       "      <td>0.0</td>\n",
       "    </tr>\n",
       "    <tr>\n",
       "      <th>AMT_REQ_CREDIT_BUREAU_MON</th>\n",
       "      <td>0.0</td>\n",
       "      <td>0.0</td>\n",
       "      <td>0.0</td>\n",
       "      <td>NaN</td>\n",
       "      <td>0.0</td>\n",
       "      <td>0.0</td>\n",
       "    </tr>\n",
       "    <tr>\n",
       "      <th>AMT_REQ_CREDIT_BUREAU_QRT</th>\n",
       "      <td>0.0</td>\n",
       "      <td>0.0</td>\n",
       "      <td>0.0</td>\n",
       "      <td>NaN</td>\n",
       "      <td>0.0</td>\n",
       "      <td>1.0</td>\n",
       "    </tr>\n",
       "    <tr>\n",
       "      <th>AMT_REQ_CREDIT_BUREAU_YEAR</th>\n",
       "      <td>1.0</td>\n",
       "      <td>0.0</td>\n",
       "      <td>0.0</td>\n",
       "      <td>NaN</td>\n",
       "      <td>0.0</td>\n",
       "      <td>1.0</td>\n",
       "    </tr>\n",
       "  </tbody>\n",
       "</table>\n",
       "</div>\n",
       "      <button class=\"colab-df-convert\" onclick=\"convertToInteractive('df-52268705-3f00-415d-b81d-dc555d792ab1')\"\n",
       "              title=\"Convert this dataframe to an interactive table.\"\n",
       "              style=\"display:none;\">\n",
       "        \n",
       "  <svg xmlns=\"http://www.w3.org/2000/svg\" height=\"24px\"viewBox=\"0 0 24 24\"\n",
       "       width=\"24px\">\n",
       "    <path d=\"M0 0h24v24H0V0z\" fill=\"none\"/>\n",
       "    <path d=\"M18.56 5.44l.94 2.06.94-2.06 2.06-.94-2.06-.94-.94-2.06-.94 2.06-2.06.94zm-11 1L8.5 8.5l.94-2.06 2.06-.94-2.06-.94L8.5 2.5l-.94 2.06-2.06.94zm10 10l.94 2.06.94-2.06 2.06-.94-2.06-.94-.94-2.06-.94 2.06-2.06.94z\"/><path d=\"M17.41 7.96l-1.37-1.37c-.4-.4-.92-.59-1.43-.59-.52 0-1.04.2-1.43.59L10.3 9.45l-7.72 7.72c-.78.78-.78 2.05 0 2.83L4 21.41c.39.39.9.59 1.41.59.51 0 1.02-.2 1.41-.59l7.78-7.78 2.81-2.81c.8-.78.8-2.07 0-2.86zM5.41 20L4 18.59l7.72-7.72 1.47 1.35L5.41 20z\"/>\n",
       "  </svg>\n",
       "      </button>\n",
       "      \n",
       "  <style>\n",
       "    .colab-df-container {\n",
       "      display:flex;\n",
       "      flex-wrap:wrap;\n",
       "      gap: 12px;\n",
       "    }\n",
       "\n",
       "    .colab-df-convert {\n",
       "      background-color: #E8F0FE;\n",
       "      border: none;\n",
       "      border-radius: 50%;\n",
       "      cursor: pointer;\n",
       "      display: none;\n",
       "      fill: #1967D2;\n",
       "      height: 32px;\n",
       "      padding: 0 0 0 0;\n",
       "      width: 32px;\n",
       "    }\n",
       "\n",
       "    .colab-df-convert:hover {\n",
       "      background-color: #E2EBFA;\n",
       "      box-shadow: 0px 1px 2px rgba(60, 64, 67, 0.3), 0px 1px 3px 1px rgba(60, 64, 67, 0.15);\n",
       "      fill: #174EA6;\n",
       "    }\n",
       "\n",
       "    [theme=dark] .colab-df-convert {\n",
       "      background-color: #3B4455;\n",
       "      fill: #D2E3FC;\n",
       "    }\n",
       "\n",
       "    [theme=dark] .colab-df-convert:hover {\n",
       "      background-color: #434B5C;\n",
       "      box-shadow: 0px 1px 3px 1px rgba(0, 0, 0, 0.15);\n",
       "      filter: drop-shadow(0px 1px 2px rgba(0, 0, 0, 0.3));\n",
       "      fill: #FFFFFF;\n",
       "    }\n",
       "  </style>\n",
       "\n",
       "      <script>\n",
       "        const buttonEl =\n",
       "          document.querySelector('#df-52268705-3f00-415d-b81d-dc555d792ab1 button.colab-df-convert');\n",
       "        buttonEl.style.display =\n",
       "          google.colab.kernel.accessAllowed ? 'block' : 'none';\n",
       "\n",
       "        async function convertToInteractive(key) {\n",
       "          const element = document.querySelector('#df-52268705-3f00-415d-b81d-dc555d792ab1');\n",
       "          const dataTable =\n",
       "            await google.colab.kernel.invokeFunction('convertToInteractive',\n",
       "                                                     [key], {});\n",
       "          if (!dataTable) return;\n",
       "\n",
       "          const docLinkHtml = 'Like what you see? Visit the ' +\n",
       "            '<a target=\"_blank\" href=https://colab.research.google.com/notebooks/data_table.ipynb>data table notebook</a>'\n",
       "            + ' to learn more about interactive tables.';\n",
       "          element.innerHTML = '';\n",
       "          dataTable['output_type'] = 'display_data';\n",
       "          await google.colab.output.renderOutput(dataTable, element);\n",
       "          const docLink = document.createElement('div');\n",
       "          docLink.innerHTML = docLinkHtml;\n",
       "          element.appendChild(docLink);\n",
       "        }\n",
       "      </script>\n",
       "    </div>\n",
       "  </div>\n",
       "  "
      ],
      "text/plain": [
       "                                                          0  \\\n",
       "SK_ID_CURR                                           100002   \n",
       "TARGET                                                    1   \n",
       "NAME_CONTRACT_TYPE                               Cash loans   \n",
       "CODE_GENDER                                               M   \n",
       "FLAG_OWN_CAR                                              N   \n",
       "FLAG_OWN_REALTY                                           Y   \n",
       "CNT_CHILDREN                                              0   \n",
       "AMT_INCOME_TOTAL                                   202500.0   \n",
       "AMT_CREDIT                                         406597.5   \n",
       "AMT_ANNUITY                                         24700.5   \n",
       "AMT_GOODS_PRICE                                    351000.0   \n",
       "NAME_TYPE_SUITE                               Unaccompanied   \n",
       "NAME_INCOME_TYPE                                    Working   \n",
       "NAME_EDUCATION_TYPE           Secondary / secondary special   \n",
       "NAME_FAMILY_STATUS                     Single / not married   \n",
       "NAME_HOUSING_TYPE                         House / apartment   \n",
       "REGION_POPULATION_RELATIVE                         0.018801   \n",
       "DAYS_BIRTH                                            -9461   \n",
       "DAYS_EMPLOYED                                          -637   \n",
       "DAYS_REGISTRATION                                   -3648.0   \n",
       "DAYS_ID_PUBLISH                                       -2120   \n",
       "OWN_CAR_AGE                                             NaN   \n",
       "FLAG_MOBIL                                                1   \n",
       "FLAG_EMP_PHONE                                            1   \n",
       "FLAG_WORK_PHONE                                           0   \n",
       "FLAG_CONT_MOBILE                                          1   \n",
       "FLAG_PHONE                                                1   \n",
       "FLAG_EMAIL                                                0   \n",
       "OCCUPATION_TYPE                                    Laborers   \n",
       "CNT_FAM_MEMBERS                                         1.0   \n",
       "REGION_RATING_CLIENT                                      2   \n",
       "REGION_RATING_CLIENT_W_CITY                               2   \n",
       "WEEKDAY_APPR_PROCESS_START                        WEDNESDAY   \n",
       "HOUR_APPR_PROCESS_START                                  10   \n",
       "REG_REGION_NOT_LIVE_REGION                                0   \n",
       "REG_REGION_NOT_WORK_REGION                                0   \n",
       "LIVE_REGION_NOT_WORK_REGION                               0   \n",
       "REG_CITY_NOT_LIVE_CITY                                    0   \n",
       "REG_CITY_NOT_WORK_CITY                                    0   \n",
       "LIVE_CITY_NOT_WORK_CITY                                   0   \n",
       "ORGANIZATION_TYPE                    Business Entity Type 3   \n",
       "EXT_SOURCE_1                                       0.083037   \n",
       "EXT_SOURCE_2                                       0.262949   \n",
       "EXT_SOURCE_3                                       0.139376   \n",
       "APARTMENTS_AVG                                       0.0247   \n",
       "BASEMENTAREA_AVG                                     0.0369   \n",
       "YEARS_BEGINEXPLUATATION_AVG                          0.9722   \n",
       "YEARS_BUILD_AVG                                      0.6192   \n",
       "COMMONAREA_AVG                                       0.0143   \n",
       "ELEVATORS_AVG                                           0.0   \n",
       "ENTRANCES_AVG                                         0.069   \n",
       "FLOORSMAX_AVG                                        0.0833   \n",
       "FLOORSMIN_AVG                                         0.125   \n",
       "LANDAREA_AVG                                         0.0369   \n",
       "LIVINGAPARTMENTS_AVG                                 0.0202   \n",
       "LIVINGAREA_AVG                                        0.019   \n",
       "NONLIVINGAPARTMENTS_AVG                                 0.0   \n",
       "NONLIVINGAREA_AVG                                       0.0   \n",
       "APARTMENTS_MODE                                      0.0252   \n",
       "BASEMENTAREA_MODE                                    0.0383   \n",
       "YEARS_BEGINEXPLUATATION_MODE                         0.9722   \n",
       "YEARS_BUILD_MODE                                     0.6341   \n",
       "COMMONAREA_MODE                                      0.0144   \n",
       "ELEVATORS_MODE                                          0.0   \n",
       "ENTRANCES_MODE                                        0.069   \n",
       "FLOORSMAX_MODE                                       0.0833   \n",
       "FLOORSMIN_MODE                                        0.125   \n",
       "LANDAREA_MODE                                        0.0377   \n",
       "LIVINGAPARTMENTS_MODE                                 0.022   \n",
       "LIVINGAREA_MODE                                      0.0198   \n",
       "NONLIVINGAPARTMENTS_MODE                                0.0   \n",
       "NONLIVINGAREA_MODE                                      0.0   \n",
       "APARTMENTS_MEDI                                       0.025   \n",
       "BASEMENTAREA_MEDI                                    0.0369   \n",
       "YEARS_BEGINEXPLUATATION_MEDI                         0.9722   \n",
       "YEARS_BUILD_MEDI                                     0.6243   \n",
       "COMMONAREA_MEDI                                      0.0144   \n",
       "ELEVATORS_MEDI                                          0.0   \n",
       "ENTRANCES_MEDI                                        0.069   \n",
       "FLOORSMAX_MEDI                                       0.0833   \n",
       "FLOORSMIN_MEDI                                        0.125   \n",
       "LANDAREA_MEDI                                        0.0375   \n",
       "LIVINGAPARTMENTS_MEDI                                0.0205   \n",
       "LIVINGAREA_MEDI                                      0.0193   \n",
       "NONLIVINGAPARTMENTS_MEDI                                0.0   \n",
       "NONLIVINGAREA_MEDI                                      0.0   \n",
       "FONDKAPREMONT_MODE                         reg oper account   \n",
       "HOUSETYPE_MODE                               block of flats   \n",
       "TOTALAREA_MODE                                       0.0149   \n",
       "WALLSMATERIAL_MODE                             Stone, brick   \n",
       "EMERGENCYSTATE_MODE                                      No   \n",
       "OBS_30_CNT_SOCIAL_CIRCLE                                2.0   \n",
       "DEF_30_CNT_SOCIAL_CIRCLE                                2.0   \n",
       "OBS_60_CNT_SOCIAL_CIRCLE                                2.0   \n",
       "DEF_60_CNT_SOCIAL_CIRCLE                                2.0   \n",
       "DAYS_LAST_PHONE_CHANGE                              -1134.0   \n",
       "FLAG_DOCUMENT_2                                           0   \n",
       "FLAG_DOCUMENT_3                                           1   \n",
       "FLAG_DOCUMENT_4                                           0   \n",
       "FLAG_DOCUMENT_5                                           0   \n",
       "FLAG_DOCUMENT_6                                           0   \n",
       "FLAG_DOCUMENT_7                                           0   \n",
       "FLAG_DOCUMENT_8                                           0   \n",
       "FLAG_DOCUMENT_9                                           0   \n",
       "FLAG_DOCUMENT_10                                          0   \n",
       "FLAG_DOCUMENT_11                                          0   \n",
       "FLAG_DOCUMENT_12                                          0   \n",
       "FLAG_DOCUMENT_13                                          0   \n",
       "FLAG_DOCUMENT_14                                          0   \n",
       "FLAG_DOCUMENT_15                                          0   \n",
       "FLAG_DOCUMENT_16                                          0   \n",
       "FLAG_DOCUMENT_17                                          0   \n",
       "FLAG_DOCUMENT_18                                          0   \n",
       "FLAG_DOCUMENT_19                                          0   \n",
       "FLAG_DOCUMENT_20                                          0   \n",
       "FLAG_DOCUMENT_21                                          0   \n",
       "AMT_REQ_CREDIT_BUREAU_HOUR                              0.0   \n",
       "AMT_REQ_CREDIT_BUREAU_DAY                               0.0   \n",
       "AMT_REQ_CREDIT_BUREAU_WEEK                              0.0   \n",
       "AMT_REQ_CREDIT_BUREAU_MON                               0.0   \n",
       "AMT_REQ_CREDIT_BUREAU_QRT                               0.0   \n",
       "AMT_REQ_CREDIT_BUREAU_YEAR                              1.0   \n",
       "\n",
       "                                              1  \\\n",
       "SK_ID_CURR                               100003   \n",
       "TARGET                                        0   \n",
       "NAME_CONTRACT_TYPE                   Cash loans   \n",
       "CODE_GENDER                                   F   \n",
       "FLAG_OWN_CAR                                  N   \n",
       "FLAG_OWN_REALTY                               N   \n",
       "CNT_CHILDREN                                  0   \n",
       "AMT_INCOME_TOTAL                       270000.0   \n",
       "AMT_CREDIT                            1293502.5   \n",
       "AMT_ANNUITY                             35698.5   \n",
       "AMT_GOODS_PRICE                       1129500.0   \n",
       "NAME_TYPE_SUITE                          Family   \n",
       "NAME_INCOME_TYPE                  State servant   \n",
       "NAME_EDUCATION_TYPE            Higher education   \n",
       "NAME_FAMILY_STATUS                      Married   \n",
       "NAME_HOUSING_TYPE             House / apartment   \n",
       "REGION_POPULATION_RELATIVE             0.003541   \n",
       "DAYS_BIRTH                               -16765   \n",
       "DAYS_EMPLOYED                             -1188   \n",
       "DAYS_REGISTRATION                       -1186.0   \n",
       "DAYS_ID_PUBLISH                            -291   \n",
       "OWN_CAR_AGE                                 NaN   \n",
       "FLAG_MOBIL                                    1   \n",
       "FLAG_EMP_PHONE                                1   \n",
       "FLAG_WORK_PHONE                               0   \n",
       "FLAG_CONT_MOBILE                              1   \n",
       "FLAG_PHONE                                    1   \n",
       "FLAG_EMAIL                                    0   \n",
       "OCCUPATION_TYPE                      Core staff   \n",
       "CNT_FAM_MEMBERS                             2.0   \n",
       "REGION_RATING_CLIENT                          1   \n",
       "REGION_RATING_CLIENT_W_CITY                   1   \n",
       "WEEKDAY_APPR_PROCESS_START               MONDAY   \n",
       "HOUR_APPR_PROCESS_START                      11   \n",
       "REG_REGION_NOT_LIVE_REGION                    0   \n",
       "REG_REGION_NOT_WORK_REGION                    0   \n",
       "LIVE_REGION_NOT_WORK_REGION                   0   \n",
       "REG_CITY_NOT_LIVE_CITY                        0   \n",
       "REG_CITY_NOT_WORK_CITY                        0   \n",
       "LIVE_CITY_NOT_WORK_CITY                       0   \n",
       "ORGANIZATION_TYPE                        School   \n",
       "EXT_SOURCE_1                           0.311267   \n",
       "EXT_SOURCE_2                           0.622246   \n",
       "EXT_SOURCE_3                                NaN   \n",
       "APARTMENTS_AVG                           0.0959   \n",
       "BASEMENTAREA_AVG                         0.0529   \n",
       "YEARS_BEGINEXPLUATATION_AVG              0.9851   \n",
       "YEARS_BUILD_AVG                           0.796   \n",
       "COMMONAREA_AVG                           0.0605   \n",
       "ELEVATORS_AVG                              0.08   \n",
       "ENTRANCES_AVG                            0.0345   \n",
       "FLOORSMAX_AVG                            0.2917   \n",
       "FLOORSMIN_AVG                            0.3333   \n",
       "LANDAREA_AVG                              0.013   \n",
       "LIVINGAPARTMENTS_AVG                     0.0773   \n",
       "LIVINGAREA_AVG                           0.0549   \n",
       "NONLIVINGAPARTMENTS_AVG                  0.0039   \n",
       "NONLIVINGAREA_AVG                        0.0098   \n",
       "APARTMENTS_MODE                          0.0924   \n",
       "BASEMENTAREA_MODE                        0.0538   \n",
       "YEARS_BEGINEXPLUATATION_MODE             0.9851   \n",
       "YEARS_BUILD_MODE                          0.804   \n",
       "COMMONAREA_MODE                          0.0497   \n",
       "ELEVATORS_MODE                           0.0806   \n",
       "ENTRANCES_MODE                           0.0345   \n",
       "FLOORSMAX_MODE                           0.2917   \n",
       "FLOORSMIN_MODE                           0.3333   \n",
       "LANDAREA_MODE                            0.0128   \n",
       "LIVINGAPARTMENTS_MODE                     0.079   \n",
       "LIVINGAREA_MODE                          0.0554   \n",
       "NONLIVINGAPARTMENTS_MODE                    0.0   \n",
       "NONLIVINGAREA_MODE                          0.0   \n",
       "APARTMENTS_MEDI                          0.0968   \n",
       "BASEMENTAREA_MEDI                        0.0529   \n",
       "YEARS_BEGINEXPLUATATION_MEDI             0.9851   \n",
       "YEARS_BUILD_MEDI                         0.7987   \n",
       "COMMONAREA_MEDI                          0.0608   \n",
       "ELEVATORS_MEDI                             0.08   \n",
       "ENTRANCES_MEDI                           0.0345   \n",
       "FLOORSMAX_MEDI                           0.2917   \n",
       "FLOORSMIN_MEDI                           0.3333   \n",
       "LANDAREA_MEDI                            0.0132   \n",
       "LIVINGAPARTMENTS_MEDI                    0.0787   \n",
       "LIVINGAREA_MEDI                          0.0558   \n",
       "NONLIVINGAPARTMENTS_MEDI                 0.0039   \n",
       "NONLIVINGAREA_MEDI                         0.01   \n",
       "FONDKAPREMONT_MODE             reg oper account   \n",
       "HOUSETYPE_MODE                   block of flats   \n",
       "TOTALAREA_MODE                           0.0714   \n",
       "WALLSMATERIAL_MODE                        Block   \n",
       "EMERGENCYSTATE_MODE                          No   \n",
       "OBS_30_CNT_SOCIAL_CIRCLE                    1.0   \n",
       "DEF_30_CNT_SOCIAL_CIRCLE                    0.0   \n",
       "OBS_60_CNT_SOCIAL_CIRCLE                    1.0   \n",
       "DEF_60_CNT_SOCIAL_CIRCLE                    0.0   \n",
       "DAYS_LAST_PHONE_CHANGE                   -828.0   \n",
       "FLAG_DOCUMENT_2                               0   \n",
       "FLAG_DOCUMENT_3                               1   \n",
       "FLAG_DOCUMENT_4                               0   \n",
       "FLAG_DOCUMENT_5                               0   \n",
       "FLAG_DOCUMENT_6                               0   \n",
       "FLAG_DOCUMENT_7                               0   \n",
       "FLAG_DOCUMENT_8                               0   \n",
       "FLAG_DOCUMENT_9                               0   \n",
       "FLAG_DOCUMENT_10                              0   \n",
       "FLAG_DOCUMENT_11                              0   \n",
       "FLAG_DOCUMENT_12                              0   \n",
       "FLAG_DOCUMENT_13                              0   \n",
       "FLAG_DOCUMENT_14                              0   \n",
       "FLAG_DOCUMENT_15                              0   \n",
       "FLAG_DOCUMENT_16                              0   \n",
       "FLAG_DOCUMENT_17                              0   \n",
       "FLAG_DOCUMENT_18                              0   \n",
       "FLAG_DOCUMENT_19                              0   \n",
       "FLAG_DOCUMENT_20                              0   \n",
       "FLAG_DOCUMENT_21                              0   \n",
       "AMT_REQ_CREDIT_BUREAU_HOUR                  0.0   \n",
       "AMT_REQ_CREDIT_BUREAU_DAY                   0.0   \n",
       "AMT_REQ_CREDIT_BUREAU_WEEK                  0.0   \n",
       "AMT_REQ_CREDIT_BUREAU_MON                   0.0   \n",
       "AMT_REQ_CREDIT_BUREAU_QRT                   0.0   \n",
       "AMT_REQ_CREDIT_BUREAU_YEAR                  0.0   \n",
       "\n",
       "                                                          2  \\\n",
       "SK_ID_CURR                                           100004   \n",
       "TARGET                                                    0   \n",
       "NAME_CONTRACT_TYPE                          Revolving loans   \n",
       "CODE_GENDER                                               M   \n",
       "FLAG_OWN_CAR                                              Y   \n",
       "FLAG_OWN_REALTY                                           Y   \n",
       "CNT_CHILDREN                                              0   \n",
       "AMT_INCOME_TOTAL                                    67500.0   \n",
       "AMT_CREDIT                                         135000.0   \n",
       "AMT_ANNUITY                                          6750.0   \n",
       "AMT_GOODS_PRICE                                    135000.0   \n",
       "NAME_TYPE_SUITE                               Unaccompanied   \n",
       "NAME_INCOME_TYPE                                    Working   \n",
       "NAME_EDUCATION_TYPE           Secondary / secondary special   \n",
       "NAME_FAMILY_STATUS                     Single / not married   \n",
       "NAME_HOUSING_TYPE                         House / apartment   \n",
       "REGION_POPULATION_RELATIVE                         0.010032   \n",
       "DAYS_BIRTH                                           -19046   \n",
       "DAYS_EMPLOYED                                          -225   \n",
       "DAYS_REGISTRATION                                   -4260.0   \n",
       "DAYS_ID_PUBLISH                                       -2531   \n",
       "OWN_CAR_AGE                                            26.0   \n",
       "FLAG_MOBIL                                                1   \n",
       "FLAG_EMP_PHONE                                            1   \n",
       "FLAG_WORK_PHONE                                           1   \n",
       "FLAG_CONT_MOBILE                                          1   \n",
       "FLAG_PHONE                                                1   \n",
       "FLAG_EMAIL                                                0   \n",
       "OCCUPATION_TYPE                                    Laborers   \n",
       "CNT_FAM_MEMBERS                                         1.0   \n",
       "REGION_RATING_CLIENT                                      2   \n",
       "REGION_RATING_CLIENT_W_CITY                               2   \n",
       "WEEKDAY_APPR_PROCESS_START                           MONDAY   \n",
       "HOUR_APPR_PROCESS_START                                   9   \n",
       "REG_REGION_NOT_LIVE_REGION                                0   \n",
       "REG_REGION_NOT_WORK_REGION                                0   \n",
       "LIVE_REGION_NOT_WORK_REGION                               0   \n",
       "REG_CITY_NOT_LIVE_CITY                                    0   \n",
       "REG_CITY_NOT_WORK_CITY                                    0   \n",
       "LIVE_CITY_NOT_WORK_CITY                                   0   \n",
       "ORGANIZATION_TYPE                                Government   \n",
       "EXT_SOURCE_1                                            NaN   \n",
       "EXT_SOURCE_2                                       0.555912   \n",
       "EXT_SOURCE_3                                       0.729567   \n",
       "APARTMENTS_AVG                                          NaN   \n",
       "BASEMENTAREA_AVG                                        NaN   \n",
       "YEARS_BEGINEXPLUATATION_AVG                             NaN   \n",
       "YEARS_BUILD_AVG                                         NaN   \n",
       "COMMONAREA_AVG                                          NaN   \n",
       "ELEVATORS_AVG                                           NaN   \n",
       "ENTRANCES_AVG                                           NaN   \n",
       "FLOORSMAX_AVG                                           NaN   \n",
       "FLOORSMIN_AVG                                           NaN   \n",
       "LANDAREA_AVG                                            NaN   \n",
       "LIVINGAPARTMENTS_AVG                                    NaN   \n",
       "LIVINGAREA_AVG                                          NaN   \n",
       "NONLIVINGAPARTMENTS_AVG                                 NaN   \n",
       "NONLIVINGAREA_AVG                                       NaN   \n",
       "APARTMENTS_MODE                                         NaN   \n",
       "BASEMENTAREA_MODE                                       NaN   \n",
       "YEARS_BEGINEXPLUATATION_MODE                            NaN   \n",
       "YEARS_BUILD_MODE                                        NaN   \n",
       "COMMONAREA_MODE                                         NaN   \n",
       "ELEVATORS_MODE                                          NaN   \n",
       "ENTRANCES_MODE                                          NaN   \n",
       "FLOORSMAX_MODE                                          NaN   \n",
       "FLOORSMIN_MODE                                          NaN   \n",
       "LANDAREA_MODE                                           NaN   \n",
       "LIVINGAPARTMENTS_MODE                                   NaN   \n",
       "LIVINGAREA_MODE                                         NaN   \n",
       "NONLIVINGAPARTMENTS_MODE                                NaN   \n",
       "NONLIVINGAREA_MODE                                      NaN   \n",
       "APARTMENTS_MEDI                                         NaN   \n",
       "BASEMENTAREA_MEDI                                       NaN   \n",
       "YEARS_BEGINEXPLUATATION_MEDI                            NaN   \n",
       "YEARS_BUILD_MEDI                                        NaN   \n",
       "COMMONAREA_MEDI                                         NaN   \n",
       "ELEVATORS_MEDI                                          NaN   \n",
       "ENTRANCES_MEDI                                          NaN   \n",
       "FLOORSMAX_MEDI                                          NaN   \n",
       "FLOORSMIN_MEDI                                          NaN   \n",
       "LANDAREA_MEDI                                           NaN   \n",
       "LIVINGAPARTMENTS_MEDI                                   NaN   \n",
       "LIVINGAREA_MEDI                                         NaN   \n",
       "NONLIVINGAPARTMENTS_MEDI                                NaN   \n",
       "NONLIVINGAREA_MEDI                                      NaN   \n",
       "FONDKAPREMONT_MODE                                      NaN   \n",
       "HOUSETYPE_MODE                                          NaN   \n",
       "TOTALAREA_MODE                                          NaN   \n",
       "WALLSMATERIAL_MODE                                      NaN   \n",
       "EMERGENCYSTATE_MODE                                     NaN   \n",
       "OBS_30_CNT_SOCIAL_CIRCLE                                0.0   \n",
       "DEF_30_CNT_SOCIAL_CIRCLE                                0.0   \n",
       "OBS_60_CNT_SOCIAL_CIRCLE                                0.0   \n",
       "DEF_60_CNT_SOCIAL_CIRCLE                                0.0   \n",
       "DAYS_LAST_PHONE_CHANGE                               -815.0   \n",
       "FLAG_DOCUMENT_2                                           0   \n",
       "FLAG_DOCUMENT_3                                           0   \n",
       "FLAG_DOCUMENT_4                                           0   \n",
       "FLAG_DOCUMENT_5                                           0   \n",
       "FLAG_DOCUMENT_6                                           0   \n",
       "FLAG_DOCUMENT_7                                           0   \n",
       "FLAG_DOCUMENT_8                                           0   \n",
       "FLAG_DOCUMENT_9                                           0   \n",
       "FLAG_DOCUMENT_10                                          0   \n",
       "FLAG_DOCUMENT_11                                          0   \n",
       "FLAG_DOCUMENT_12                                          0   \n",
       "FLAG_DOCUMENT_13                                          0   \n",
       "FLAG_DOCUMENT_14                                          0   \n",
       "FLAG_DOCUMENT_15                                          0   \n",
       "FLAG_DOCUMENT_16                                          0   \n",
       "FLAG_DOCUMENT_17                                          0   \n",
       "FLAG_DOCUMENT_18                                          0   \n",
       "FLAG_DOCUMENT_19                                          0   \n",
       "FLAG_DOCUMENT_20                                          0   \n",
       "FLAG_DOCUMENT_21                                          0   \n",
       "AMT_REQ_CREDIT_BUREAU_HOUR                              0.0   \n",
       "AMT_REQ_CREDIT_BUREAU_DAY                               0.0   \n",
       "AMT_REQ_CREDIT_BUREAU_WEEK                              0.0   \n",
       "AMT_REQ_CREDIT_BUREAU_MON                               0.0   \n",
       "AMT_REQ_CREDIT_BUREAU_QRT                               0.0   \n",
       "AMT_REQ_CREDIT_BUREAU_YEAR                              0.0   \n",
       "\n",
       "                                                          3  \\\n",
       "SK_ID_CURR                                           100006   \n",
       "TARGET                                                    0   \n",
       "NAME_CONTRACT_TYPE                               Cash loans   \n",
       "CODE_GENDER                                               F   \n",
       "FLAG_OWN_CAR                                              N   \n",
       "FLAG_OWN_REALTY                                           Y   \n",
       "CNT_CHILDREN                                              0   \n",
       "AMT_INCOME_TOTAL                                   135000.0   \n",
       "AMT_CREDIT                                         312682.5   \n",
       "AMT_ANNUITY                                         29686.5   \n",
       "AMT_GOODS_PRICE                                    297000.0   \n",
       "NAME_TYPE_SUITE                               Unaccompanied   \n",
       "NAME_INCOME_TYPE                                    Working   \n",
       "NAME_EDUCATION_TYPE           Secondary / secondary special   \n",
       "NAME_FAMILY_STATUS                           Civil marriage   \n",
       "NAME_HOUSING_TYPE                         House / apartment   \n",
       "REGION_POPULATION_RELATIVE                         0.008019   \n",
       "DAYS_BIRTH                                           -19005   \n",
       "DAYS_EMPLOYED                                         -3039   \n",
       "DAYS_REGISTRATION                                   -9833.0   \n",
       "DAYS_ID_PUBLISH                                       -2437   \n",
       "OWN_CAR_AGE                                             NaN   \n",
       "FLAG_MOBIL                                                1   \n",
       "FLAG_EMP_PHONE                                            1   \n",
       "FLAG_WORK_PHONE                                           0   \n",
       "FLAG_CONT_MOBILE                                          1   \n",
       "FLAG_PHONE                                                0   \n",
       "FLAG_EMAIL                                                0   \n",
       "OCCUPATION_TYPE                                    Laborers   \n",
       "CNT_FAM_MEMBERS                                         2.0   \n",
       "REGION_RATING_CLIENT                                      2   \n",
       "REGION_RATING_CLIENT_W_CITY                               2   \n",
       "WEEKDAY_APPR_PROCESS_START                        WEDNESDAY   \n",
       "HOUR_APPR_PROCESS_START                                  17   \n",
       "REG_REGION_NOT_LIVE_REGION                                0   \n",
       "REG_REGION_NOT_WORK_REGION                                0   \n",
       "LIVE_REGION_NOT_WORK_REGION                               0   \n",
       "REG_CITY_NOT_LIVE_CITY                                    0   \n",
       "REG_CITY_NOT_WORK_CITY                                    0   \n",
       "LIVE_CITY_NOT_WORK_CITY                                   0   \n",
       "ORGANIZATION_TYPE                    Business Entity Type 3   \n",
       "EXT_SOURCE_1                                            NaN   \n",
       "EXT_SOURCE_2                                       0.650442   \n",
       "EXT_SOURCE_3                                            NaN   \n",
       "APARTMENTS_AVG                                          NaN   \n",
       "BASEMENTAREA_AVG                                        NaN   \n",
       "YEARS_BEGINEXPLUATATION_AVG                             NaN   \n",
       "YEARS_BUILD_AVG                                         NaN   \n",
       "COMMONAREA_AVG                                          NaN   \n",
       "ELEVATORS_AVG                                           NaN   \n",
       "ENTRANCES_AVG                                           NaN   \n",
       "FLOORSMAX_AVG                                           NaN   \n",
       "FLOORSMIN_AVG                                           NaN   \n",
       "LANDAREA_AVG                                            NaN   \n",
       "LIVINGAPARTMENTS_AVG                                    NaN   \n",
       "LIVINGAREA_AVG                                          NaN   \n",
       "NONLIVINGAPARTMENTS_AVG                                 NaN   \n",
       "NONLIVINGAREA_AVG                                       NaN   \n",
       "APARTMENTS_MODE                                         NaN   \n",
       "BASEMENTAREA_MODE                                       NaN   \n",
       "YEARS_BEGINEXPLUATATION_MODE                            NaN   \n",
       "YEARS_BUILD_MODE                                        NaN   \n",
       "COMMONAREA_MODE                                         NaN   \n",
       "ELEVATORS_MODE                                          NaN   \n",
       "ENTRANCES_MODE                                          NaN   \n",
       "FLOORSMAX_MODE                                          NaN   \n",
       "FLOORSMIN_MODE                                          NaN   \n",
       "LANDAREA_MODE                                           NaN   \n",
       "LIVINGAPARTMENTS_MODE                                   NaN   \n",
       "LIVINGAREA_MODE                                         NaN   \n",
       "NONLIVINGAPARTMENTS_MODE                                NaN   \n",
       "NONLIVINGAREA_MODE                                      NaN   \n",
       "APARTMENTS_MEDI                                         NaN   \n",
       "BASEMENTAREA_MEDI                                       NaN   \n",
       "YEARS_BEGINEXPLUATATION_MEDI                            NaN   \n",
       "YEARS_BUILD_MEDI                                        NaN   \n",
       "COMMONAREA_MEDI                                         NaN   \n",
       "ELEVATORS_MEDI                                          NaN   \n",
       "ENTRANCES_MEDI                                          NaN   \n",
       "FLOORSMAX_MEDI                                          NaN   \n",
       "FLOORSMIN_MEDI                                          NaN   \n",
       "LANDAREA_MEDI                                           NaN   \n",
       "LIVINGAPARTMENTS_MEDI                                   NaN   \n",
       "LIVINGAREA_MEDI                                         NaN   \n",
       "NONLIVINGAPARTMENTS_MEDI                                NaN   \n",
       "NONLIVINGAREA_MEDI                                      NaN   \n",
       "FONDKAPREMONT_MODE                                      NaN   \n",
       "HOUSETYPE_MODE                                          NaN   \n",
       "TOTALAREA_MODE                                          NaN   \n",
       "WALLSMATERIAL_MODE                                      NaN   \n",
       "EMERGENCYSTATE_MODE                                     NaN   \n",
       "OBS_30_CNT_SOCIAL_CIRCLE                                2.0   \n",
       "DEF_30_CNT_SOCIAL_CIRCLE                                0.0   \n",
       "OBS_60_CNT_SOCIAL_CIRCLE                                2.0   \n",
       "DEF_60_CNT_SOCIAL_CIRCLE                                0.0   \n",
       "DAYS_LAST_PHONE_CHANGE                               -617.0   \n",
       "FLAG_DOCUMENT_2                                           0   \n",
       "FLAG_DOCUMENT_3                                           1   \n",
       "FLAG_DOCUMENT_4                                           0   \n",
       "FLAG_DOCUMENT_5                                           0   \n",
       "FLAG_DOCUMENT_6                                           0   \n",
       "FLAG_DOCUMENT_7                                           0   \n",
       "FLAG_DOCUMENT_8                                           0   \n",
       "FLAG_DOCUMENT_9                                           0   \n",
       "FLAG_DOCUMENT_10                                          0   \n",
       "FLAG_DOCUMENT_11                                          0   \n",
       "FLAG_DOCUMENT_12                                          0   \n",
       "FLAG_DOCUMENT_13                                          0   \n",
       "FLAG_DOCUMENT_14                                          0   \n",
       "FLAG_DOCUMENT_15                                          0   \n",
       "FLAG_DOCUMENT_16                                          0   \n",
       "FLAG_DOCUMENT_17                                          0   \n",
       "FLAG_DOCUMENT_18                                          0   \n",
       "FLAG_DOCUMENT_19                                          0   \n",
       "FLAG_DOCUMENT_20                                          0   \n",
       "FLAG_DOCUMENT_21                                          0   \n",
       "AMT_REQ_CREDIT_BUREAU_HOUR                              NaN   \n",
       "AMT_REQ_CREDIT_BUREAU_DAY                               NaN   \n",
       "AMT_REQ_CREDIT_BUREAU_WEEK                              NaN   \n",
       "AMT_REQ_CREDIT_BUREAU_MON                               NaN   \n",
       "AMT_REQ_CREDIT_BUREAU_QRT                               NaN   \n",
       "AMT_REQ_CREDIT_BUREAU_YEAR                              NaN   \n",
       "\n",
       "                                                          4  \\\n",
       "SK_ID_CURR                                           100007   \n",
       "TARGET                                                    0   \n",
       "NAME_CONTRACT_TYPE                               Cash loans   \n",
       "CODE_GENDER                                               M   \n",
       "FLAG_OWN_CAR                                              N   \n",
       "FLAG_OWN_REALTY                                           Y   \n",
       "CNT_CHILDREN                                              0   \n",
       "AMT_INCOME_TOTAL                                   121500.0   \n",
       "AMT_CREDIT                                         513000.0   \n",
       "AMT_ANNUITY                                         21865.5   \n",
       "AMT_GOODS_PRICE                                    513000.0   \n",
       "NAME_TYPE_SUITE                               Unaccompanied   \n",
       "NAME_INCOME_TYPE                                    Working   \n",
       "NAME_EDUCATION_TYPE           Secondary / secondary special   \n",
       "NAME_FAMILY_STATUS                     Single / not married   \n",
       "NAME_HOUSING_TYPE                         House / apartment   \n",
       "REGION_POPULATION_RELATIVE                         0.028663   \n",
       "DAYS_BIRTH                                           -19932   \n",
       "DAYS_EMPLOYED                                         -3038   \n",
       "DAYS_REGISTRATION                                   -4311.0   \n",
       "DAYS_ID_PUBLISH                                       -3458   \n",
       "OWN_CAR_AGE                                             NaN   \n",
       "FLAG_MOBIL                                                1   \n",
       "FLAG_EMP_PHONE                                            1   \n",
       "FLAG_WORK_PHONE                                           0   \n",
       "FLAG_CONT_MOBILE                                          1   \n",
       "FLAG_PHONE                                                0   \n",
       "FLAG_EMAIL                                                0   \n",
       "OCCUPATION_TYPE                                  Core staff   \n",
       "CNT_FAM_MEMBERS                                         1.0   \n",
       "REGION_RATING_CLIENT                                      2   \n",
       "REGION_RATING_CLIENT_W_CITY                               2   \n",
       "WEEKDAY_APPR_PROCESS_START                         THURSDAY   \n",
       "HOUR_APPR_PROCESS_START                                  11   \n",
       "REG_REGION_NOT_LIVE_REGION                                0   \n",
       "REG_REGION_NOT_WORK_REGION                                0   \n",
       "LIVE_REGION_NOT_WORK_REGION                               0   \n",
       "REG_CITY_NOT_LIVE_CITY                                    0   \n",
       "REG_CITY_NOT_WORK_CITY                                    1   \n",
       "LIVE_CITY_NOT_WORK_CITY                                   1   \n",
       "ORGANIZATION_TYPE                                  Religion   \n",
       "EXT_SOURCE_1                                            NaN   \n",
       "EXT_SOURCE_2                                       0.322738   \n",
       "EXT_SOURCE_3                                            NaN   \n",
       "APARTMENTS_AVG                                          NaN   \n",
       "BASEMENTAREA_AVG                                        NaN   \n",
       "YEARS_BEGINEXPLUATATION_AVG                             NaN   \n",
       "YEARS_BUILD_AVG                                         NaN   \n",
       "COMMONAREA_AVG                                          NaN   \n",
       "ELEVATORS_AVG                                           NaN   \n",
       "ENTRANCES_AVG                                           NaN   \n",
       "FLOORSMAX_AVG                                           NaN   \n",
       "FLOORSMIN_AVG                                           NaN   \n",
       "LANDAREA_AVG                                            NaN   \n",
       "LIVINGAPARTMENTS_AVG                                    NaN   \n",
       "LIVINGAREA_AVG                                          NaN   \n",
       "NONLIVINGAPARTMENTS_AVG                                 NaN   \n",
       "NONLIVINGAREA_AVG                                       NaN   \n",
       "APARTMENTS_MODE                                         NaN   \n",
       "BASEMENTAREA_MODE                                       NaN   \n",
       "YEARS_BEGINEXPLUATATION_MODE                            NaN   \n",
       "YEARS_BUILD_MODE                                        NaN   \n",
       "COMMONAREA_MODE                                         NaN   \n",
       "ELEVATORS_MODE                                          NaN   \n",
       "ENTRANCES_MODE                                          NaN   \n",
       "FLOORSMAX_MODE                                          NaN   \n",
       "FLOORSMIN_MODE                                          NaN   \n",
       "LANDAREA_MODE                                           NaN   \n",
       "LIVINGAPARTMENTS_MODE                                   NaN   \n",
       "LIVINGAREA_MODE                                         NaN   \n",
       "NONLIVINGAPARTMENTS_MODE                                NaN   \n",
       "NONLIVINGAREA_MODE                                      NaN   \n",
       "APARTMENTS_MEDI                                         NaN   \n",
       "BASEMENTAREA_MEDI                                       NaN   \n",
       "YEARS_BEGINEXPLUATATION_MEDI                            NaN   \n",
       "YEARS_BUILD_MEDI                                        NaN   \n",
       "COMMONAREA_MEDI                                         NaN   \n",
       "ELEVATORS_MEDI                                          NaN   \n",
       "ENTRANCES_MEDI                                          NaN   \n",
       "FLOORSMAX_MEDI                                          NaN   \n",
       "FLOORSMIN_MEDI                                          NaN   \n",
       "LANDAREA_MEDI                                           NaN   \n",
       "LIVINGAPARTMENTS_MEDI                                   NaN   \n",
       "LIVINGAREA_MEDI                                         NaN   \n",
       "NONLIVINGAPARTMENTS_MEDI                                NaN   \n",
       "NONLIVINGAREA_MEDI                                      NaN   \n",
       "FONDKAPREMONT_MODE                                      NaN   \n",
       "HOUSETYPE_MODE                                          NaN   \n",
       "TOTALAREA_MODE                                          NaN   \n",
       "WALLSMATERIAL_MODE                                      NaN   \n",
       "EMERGENCYSTATE_MODE                                     NaN   \n",
       "OBS_30_CNT_SOCIAL_CIRCLE                                0.0   \n",
       "DEF_30_CNT_SOCIAL_CIRCLE                                0.0   \n",
       "OBS_60_CNT_SOCIAL_CIRCLE                                0.0   \n",
       "DEF_60_CNT_SOCIAL_CIRCLE                                0.0   \n",
       "DAYS_LAST_PHONE_CHANGE                              -1106.0   \n",
       "FLAG_DOCUMENT_2                                           0   \n",
       "FLAG_DOCUMENT_3                                           0   \n",
       "FLAG_DOCUMENT_4                                           0   \n",
       "FLAG_DOCUMENT_5                                           0   \n",
       "FLAG_DOCUMENT_6                                           0   \n",
       "FLAG_DOCUMENT_7                                           0   \n",
       "FLAG_DOCUMENT_8                                           1   \n",
       "FLAG_DOCUMENT_9                                           0   \n",
       "FLAG_DOCUMENT_10                                          0   \n",
       "FLAG_DOCUMENT_11                                          0   \n",
       "FLAG_DOCUMENT_12                                          0   \n",
       "FLAG_DOCUMENT_13                                          0   \n",
       "FLAG_DOCUMENT_14                                          0   \n",
       "FLAG_DOCUMENT_15                                          0   \n",
       "FLAG_DOCUMENT_16                                          0   \n",
       "FLAG_DOCUMENT_17                                          0   \n",
       "FLAG_DOCUMENT_18                                          0   \n",
       "FLAG_DOCUMENT_19                                          0   \n",
       "FLAG_DOCUMENT_20                                          0   \n",
       "FLAG_DOCUMENT_21                                          0   \n",
       "AMT_REQ_CREDIT_BUREAU_HOUR                              0.0   \n",
       "AMT_REQ_CREDIT_BUREAU_DAY                               0.0   \n",
       "AMT_REQ_CREDIT_BUREAU_WEEK                              0.0   \n",
       "AMT_REQ_CREDIT_BUREAU_MON                               0.0   \n",
       "AMT_REQ_CREDIT_BUREAU_QRT                               0.0   \n",
       "AMT_REQ_CREDIT_BUREAU_YEAR                              0.0   \n",
       "\n",
       "                                                          5  \n",
       "SK_ID_CURR                                           100008  \n",
       "TARGET                                                    0  \n",
       "NAME_CONTRACT_TYPE                               Cash loans  \n",
       "CODE_GENDER                                               M  \n",
       "FLAG_OWN_CAR                                              N  \n",
       "FLAG_OWN_REALTY                                           Y  \n",
       "CNT_CHILDREN                                              0  \n",
       "AMT_INCOME_TOTAL                                    99000.0  \n",
       "AMT_CREDIT                                         490495.5  \n",
       "AMT_ANNUITY                                         27517.5  \n",
       "AMT_GOODS_PRICE                                    454500.0  \n",
       "NAME_TYPE_SUITE                             Spouse, partner  \n",
       "NAME_INCOME_TYPE                              State servant  \n",
       "NAME_EDUCATION_TYPE           Secondary / secondary special  \n",
       "NAME_FAMILY_STATUS                                  Married  \n",
       "NAME_HOUSING_TYPE                         House / apartment  \n",
       "REGION_POPULATION_RELATIVE                         0.035792  \n",
       "DAYS_BIRTH                                           -16941  \n",
       "DAYS_EMPLOYED                                         -1588  \n",
       "DAYS_REGISTRATION                                   -4970.0  \n",
       "DAYS_ID_PUBLISH                                        -477  \n",
       "OWN_CAR_AGE                                             NaN  \n",
       "FLAG_MOBIL                                                1  \n",
       "FLAG_EMP_PHONE                                            1  \n",
       "FLAG_WORK_PHONE                                           1  \n",
       "FLAG_CONT_MOBILE                                          1  \n",
       "FLAG_PHONE                                                1  \n",
       "FLAG_EMAIL                                                0  \n",
       "OCCUPATION_TYPE                                    Laborers  \n",
       "CNT_FAM_MEMBERS                                         2.0  \n",
       "REGION_RATING_CLIENT                                      2  \n",
       "REGION_RATING_CLIENT_W_CITY                               2  \n",
       "WEEKDAY_APPR_PROCESS_START                        WEDNESDAY  \n",
       "HOUR_APPR_PROCESS_START                                  16  \n",
       "REG_REGION_NOT_LIVE_REGION                                0  \n",
       "REG_REGION_NOT_WORK_REGION                                0  \n",
       "LIVE_REGION_NOT_WORK_REGION                               0  \n",
       "REG_CITY_NOT_LIVE_CITY                                    0  \n",
       "REG_CITY_NOT_WORK_CITY                                    0  \n",
       "LIVE_CITY_NOT_WORK_CITY                                   0  \n",
       "ORGANIZATION_TYPE                                     Other  \n",
       "EXT_SOURCE_1                                            NaN  \n",
       "EXT_SOURCE_2                                       0.354225  \n",
       "EXT_SOURCE_3                                       0.621226  \n",
       "APARTMENTS_AVG                                          NaN  \n",
       "BASEMENTAREA_AVG                                        NaN  \n",
       "YEARS_BEGINEXPLUATATION_AVG                             NaN  \n",
       "YEARS_BUILD_AVG                                         NaN  \n",
       "COMMONAREA_AVG                                          NaN  \n",
       "ELEVATORS_AVG                                           NaN  \n",
       "ENTRANCES_AVG                                           NaN  \n",
       "FLOORSMAX_AVG                                           NaN  \n",
       "FLOORSMIN_AVG                                           NaN  \n",
       "LANDAREA_AVG                                            NaN  \n",
       "LIVINGAPARTMENTS_AVG                                    NaN  \n",
       "LIVINGAREA_AVG                                          NaN  \n",
       "NONLIVINGAPARTMENTS_AVG                                 NaN  \n",
       "NONLIVINGAREA_AVG                                       NaN  \n",
       "APARTMENTS_MODE                                         NaN  \n",
       "BASEMENTAREA_MODE                                       NaN  \n",
       "YEARS_BEGINEXPLUATATION_MODE                            NaN  \n",
       "YEARS_BUILD_MODE                                        NaN  \n",
       "COMMONAREA_MODE                                         NaN  \n",
       "ELEVATORS_MODE                                          NaN  \n",
       "ENTRANCES_MODE                                          NaN  \n",
       "FLOORSMAX_MODE                                          NaN  \n",
       "FLOORSMIN_MODE                                          NaN  \n",
       "LANDAREA_MODE                                           NaN  \n",
       "LIVINGAPARTMENTS_MODE                                   NaN  \n",
       "LIVINGAREA_MODE                                         NaN  \n",
       "NONLIVINGAPARTMENTS_MODE                                NaN  \n",
       "NONLIVINGAREA_MODE                                      NaN  \n",
       "APARTMENTS_MEDI                                         NaN  \n",
       "BASEMENTAREA_MEDI                                       NaN  \n",
       "YEARS_BEGINEXPLUATATION_MEDI                            NaN  \n",
       "YEARS_BUILD_MEDI                                        NaN  \n",
       "COMMONAREA_MEDI                                         NaN  \n",
       "ELEVATORS_MEDI                                          NaN  \n",
       "ENTRANCES_MEDI                                          NaN  \n",
       "FLOORSMAX_MEDI                                          NaN  \n",
       "FLOORSMIN_MEDI                                          NaN  \n",
       "LANDAREA_MEDI                                           NaN  \n",
       "LIVINGAPARTMENTS_MEDI                                   NaN  \n",
       "LIVINGAREA_MEDI                                         NaN  \n",
       "NONLIVINGAPARTMENTS_MEDI                                NaN  \n",
       "NONLIVINGAREA_MEDI                                      NaN  \n",
       "FONDKAPREMONT_MODE                                      NaN  \n",
       "HOUSETYPE_MODE                                          NaN  \n",
       "TOTALAREA_MODE                                          NaN  \n",
       "WALLSMATERIAL_MODE                                      NaN  \n",
       "EMERGENCYSTATE_MODE                                     NaN  \n",
       "OBS_30_CNT_SOCIAL_CIRCLE                                0.0  \n",
       "DEF_30_CNT_SOCIAL_CIRCLE                                0.0  \n",
       "OBS_60_CNT_SOCIAL_CIRCLE                                0.0  \n",
       "DEF_60_CNT_SOCIAL_CIRCLE                                0.0  \n",
       "DAYS_LAST_PHONE_CHANGE                              -2536.0  \n",
       "FLAG_DOCUMENT_2                                           0  \n",
       "FLAG_DOCUMENT_3                                           1  \n",
       "FLAG_DOCUMENT_4                                           0  \n",
       "FLAG_DOCUMENT_5                                           0  \n",
       "FLAG_DOCUMENT_6                                           0  \n",
       "FLAG_DOCUMENT_7                                           0  \n",
       "FLAG_DOCUMENT_8                                           0  \n",
       "FLAG_DOCUMENT_9                                           0  \n",
       "FLAG_DOCUMENT_10                                          0  \n",
       "FLAG_DOCUMENT_11                                          0  \n",
       "FLAG_DOCUMENT_12                                          0  \n",
       "FLAG_DOCUMENT_13                                          0  \n",
       "FLAG_DOCUMENT_14                                          0  \n",
       "FLAG_DOCUMENT_15                                          0  \n",
       "FLAG_DOCUMENT_16                                          0  \n",
       "FLAG_DOCUMENT_17                                          0  \n",
       "FLAG_DOCUMENT_18                                          0  \n",
       "FLAG_DOCUMENT_19                                          0  \n",
       "FLAG_DOCUMENT_20                                          0  \n",
       "FLAG_DOCUMENT_21                                          0  \n",
       "AMT_REQ_CREDIT_BUREAU_HOUR                              0.0  \n",
       "AMT_REQ_CREDIT_BUREAU_DAY                               0.0  \n",
       "AMT_REQ_CREDIT_BUREAU_WEEK                              0.0  \n",
       "AMT_REQ_CREDIT_BUREAU_MON                               0.0  \n",
       "AMT_REQ_CREDIT_BUREAU_QRT                               1.0  \n",
       "AMT_REQ_CREDIT_BUREAU_YEAR                              1.0  "
      ]
     },
     "execution_count": 13,
     "metadata": {},
     "output_type": "execute_result"
    }
   ],
   "source": [
    "print(f\"Data from the first 5 records:\")\n",
    "\n",
    "application_train.head(6).transpose()"
   ]
  },
  {
   "cell_type": "markdown",
   "id": "59da8f46-e503-4b67-8e73-ac61c394824c",
   "metadata": {
    "id": "59da8f46-e503-4b67-8e73-ac61c394824c"
   },
   "source": [
    "4- Show the distribution of the target variable values: print the total value count and the percentage of each value, plot this relationship."
   ]
  },
  {
   "cell_type": "code",
   "execution_count": null,
   "id": "8855d370-c825-415b-9dd0-9dbdd576fada",
   "metadata": {
    "colab": {
     "base_uri": "https://localhost:8080/"
    },
    "id": "8855d370-c825-415b-9dd0-9dbdd576fada",
    "outputId": "03b94e46-8081-4920-af9c-02f1a7c51921"
   },
   "outputs": [
    {
     "name": "stdout",
     "output_type": "stream",
     "text": [
      "Summary of statistics pertaining to the Target column:\n"
     ]
    },
    {
     "data": {
      "text/plain": [
       "count    307511.000000\n",
       "mean          0.080729\n",
       "std           0.272419\n",
       "min           0.000000\n",
       "25%           0.000000\n",
       "50%           0.000000\n",
       "75%           0.000000\n",
       "max           1.000000\n",
       "Name: TARGET, dtype: float64"
      ]
     },
     "execution_count": 14,
     "metadata": {},
     "output_type": "execute_result"
    }
   ],
   "source": [
    "print(f\"Summary of statistics pertaining to the Target column:\")\n",
    "\n",
    "application_train[\"TARGET\"].describe()"
   ]
  },
  {
   "cell_type": "code",
   "execution_count": null,
   "id": "gpWX2r1q_EI8",
   "metadata": {
    "colab": {
     "base_uri": "https://localhost:8080/"
    },
    "id": "gpWX2r1q_EI8",
    "outputId": "4d1ac831-fb85-4fa6-96d4-34db8eb8871b"
   },
   "outputs": [
    {
     "name": "stdout",
     "output_type": "stream",
     "text": [
      "Quantity per label:\n",
      "\n",
      " 0    282686\n",
      "1     24825\n",
      "Name: TARGET, dtype: int64\n"
     ]
    }
   ],
   "source": [
    "print(f\"Quantity per label:\\n\\n {application_train['TARGET'].value_counts()}\")"
   ]
  },
  {
   "cell_type": "code",
   "execution_count": null,
   "id": "sqMI4QtNHik-",
   "metadata": {
    "colab": {
     "base_uri": "https://localhost:8080/"
    },
    "id": "sqMI4QtNHik-",
    "outputId": "0890dc3d-e12a-451d-b977-4c519df1e387"
   },
   "outputs": [
    {
     "name": "stdout",
     "output_type": "stream",
     "text": [
      "Percentage of each value: TARGET\n",
      "0    91.93\n",
      "1     8.07\n",
      "dtype: float64\n"
     ]
    }
   ],
   "source": [
    "Percentage = round(application_train.groupby(\"TARGET\").size()/len(\n",
    "    application_train[\"TARGET\"])*100,2).sort_values(ascending=False)\n",
    "    \n",
    "print(f\"Percentage of each value: {Percentage}\")"
   ]
  },
  {
   "cell_type": "code",
   "execution_count": null,
   "id": "v23zvriNEz1G",
   "metadata": {
    "colab": {
     "base_uri": "https://localhost:8080/",
     "height": 402
    },
    "id": "v23zvriNEz1G",
    "outputId": "f8d75fa7-f78b-4ef1-c075-fbd3eda26df8"
   },
   "outputs": [
    {
     "data": {
      "text/plain": [
       "Text(0.5, 1.0, 'Target total value count ')"
      ]
     },
     "execution_count": 17,
     "metadata": {},
     "output_type": "execute_result"
    },
    {
     "data": {
      "image/png": "[encoded data removed]",
      "text/plain": [
       "<Figure size 720x360 with 1 Axes>"
      ]
     },
     "metadata": {
      "needs_background": "light"
     },
     "output_type": "display_data"
    }
   ],
   "source": [
    "fig, axes = plt.subplots(figsize=(10, 5))\n",
    "sns.histplot(data=application_train, x=\"TARGET\", bins=2)\n",
    "fig.tight_layout()\n",
    "plt.title(\"Target total value count \")"
   ]
  },
  {
   "cell_type": "markdown",
   "id": "cc7b5a63-da31-4a61-9e91-9708dc7633a7",
   "metadata": {
    "id": "cc7b5a63-da31-4a61-9e91-9708dc7633a7"
   },
   "source": [
    "5- Show the number of columns of each data type"
   ]
  },
  {
   "cell_type": "code",
   "execution_count": null,
   "id": "b74878dd-cc48-4e69-bc35-e90457d54b3a",
   "metadata": {
    "colab": {
     "base_uri": "https://localhost:8080/"
    },
    "id": "b74878dd-cc48-4e69-bc35-e90457d54b3a",
    "outputId": "56914994-ce32-4c81-f0b5-6c5320ea347a"
   },
   "outputs": [
    {
     "data": {
      "text/plain": [
       "float64    65\n",
       "int64      41\n",
       "object     16\n",
       "dtype: int64"
      ]
     },
     "execution_count": 18,
     "metadata": {},
     "output_type": "execute_result"
    }
   ],
   "source": [
    "application_train.dtypes.value_counts()"
   ]
  },
  {
   "cell_type": "markdown",
   "id": "c0a8799e-d32a-4239-a85d-6ff29ab4682f",
   "metadata": {
    "id": "c0a8799e-d32a-4239-a85d-6ff29ab4682f"
   },
   "source": [
    "6- For categorical variables, show the number of distinct values in each column (number of labels)"
   ]
  },
  {
   "cell_type": "code",
   "execution_count": null,
   "id": "8b294976-dc0d-44bd-9bf6-29ba1f6a2e2b",
   "metadata": {
    "colab": {
     "base_uri": "https://localhost:8080/"
    },
    "id": "8b294976-dc0d-44bd-9bf6-29ba1f6a2e2b",
    "outputId": "7e8c714d-0751-40e5-9c18-6422897f5bdd"
   },
   "outputs": [
    {
     "name": "stdout",
     "output_type": "stream",
     "text": [
      "Categorical variables:\n",
      " Index(['NAME_CONTRACT_TYPE', 'CODE_GENDER', 'FLAG_OWN_CAR', 'FLAG_OWN_REALTY',\n",
      "       'NAME_TYPE_SUITE', 'NAME_INCOME_TYPE', 'NAME_EDUCATION_TYPE',\n",
      "       'NAME_FAMILY_STATUS', 'NAME_HOUSING_TYPE', 'OCCUPATION_TYPE',\n",
      "       'WEEKDAY_APPR_PROCESS_START', 'ORGANIZATION_TYPE', 'FONDKAPREMONT_MODE',\n",
      "       'HOUSETYPE_MODE', 'WALLSMATERIAL_MODE', 'EMERGENCYSTATE_MODE'],\n",
      "      dtype='object')\n",
      "\n",
      "Number of categorical variables: 16\n"
     ]
    }
   ],
   "source": [
    "categorical_features = application_train.select_dtypes(include=['object'])\n",
    "print(f\"Categorical variables:\\n {categorical_features.columns}\\n\")\n",
    "print(f\"Number of categorical variables: {len(categorical_features.columns)}\")"
   ]
  },
  {
   "cell_type": "code",
   "execution_count": null,
   "id": "b51VQkFuNGBr",
   "metadata": {
    "colab": {
     "base_uri": "https://localhost:8080/"
    },
    "id": "b51VQkFuNGBr",
    "outputId": "1f4d5ffe-5ee3-4eaf-cb19-9d59f4575586"
   },
   "outputs": [
    {
     "name": "stdout",
     "output_type": "stream",
     "text": [
      "Number of labels NAME_CONTRACT_TYPE:2\n",
      "\n",
      "Labels NAME_CONTRACT_TYPE:dict_keys(['Cash loans', 'Revolving loans'])\n",
      "\n",
      "Number of labels CODE_GENDER:3\n",
      "\n",
      "Labels CODE_GENDER:dict_keys(['F', 'M', 'XNA'])\n",
      "\n",
      "Number of labels FLAG_OWN_CAR:2\n",
      "\n",
      "Labels FLAG_OWN_CAR:dict_keys(['N', 'Y'])\n",
      "\n",
      "Number of labels FLAG_OWN_REALTY:2\n",
      "\n",
      "Labels FLAG_OWN_REALTY:dict_keys(['N', 'Y'])\n",
      "\n",
      "Number of labels NAME_TYPE_SUITE:7\n",
      "\n",
      "Labels NAME_TYPE_SUITE:dict_keys(['Children', 'Family', 'Group of people', 'Other_A', 'Other_B', 'Spouse, partner', 'Unaccompanied'])\n",
      "\n",
      "Number of labels NAME_INCOME_TYPE:8\n",
      "\n",
      "Labels NAME_INCOME_TYPE:dict_keys(['Businessman', 'Commercial associate', 'Maternity leave', 'Pensioner', 'State servant', 'Student', 'Unemployed', 'Working'])\n",
      "\n",
      "Number of labels NAME_EDUCATION_TYPE:5\n",
      "\n",
      "Labels NAME_EDUCATION_TYPE:dict_keys(['Academic degree', 'Higher education', 'Incomplete higher', 'Lower secondary', 'Secondary / secondary special'])\n",
      "\n",
      "Number of labels NAME_FAMILY_STATUS:6\n",
      "\n",
      "Labels NAME_FAMILY_STATUS:dict_keys(['Civil marriage', 'Married', 'Separated', 'Single / not married', 'Unknown', 'Widow'])\n",
      "\n",
      "Number of labels NAME_HOUSING_TYPE:6\n",
      "\n",
      "Labels NAME_HOUSING_TYPE:dict_keys(['Co-op apartment', 'House / apartment', 'Municipal apartment', 'Office apartment', 'Rented apartment', 'With parents'])\n",
      "\n",
      "Number of labels OCCUPATION_TYPE:18\n",
      "\n",
      "Labels OCCUPATION_TYPE:dict_keys(['Accountants', 'Cleaning staff', 'Cooking staff', 'Core staff', 'Drivers', 'HR staff', 'High skill tech staff', 'IT staff', 'Laborers', 'Low-skill Laborers', 'Managers', 'Medicine staff', 'Private service staff', 'Realty agents', 'Sales staff', 'Secretaries', 'Security staff', 'Waiters/barmen staff'])\n",
      "\n",
      "Number of labels WEEKDAY_APPR_PROCESS_START:7\n",
      "\n",
      "Labels WEEKDAY_APPR_PROCESS_START:dict_keys(['FRIDAY', 'MONDAY', 'SATURDAY', 'SUNDAY', 'THURSDAY', 'TUESDAY', 'WEDNESDAY'])\n",
      "\n",
      "Number of labels ORGANIZATION_TYPE:58\n",
      "\n",
      "Labels ORGANIZATION_TYPE:dict_keys(['Advertising', 'Agriculture', 'Bank', 'Business Entity Type 1', 'Business Entity Type 2', 'Business Entity Type 3', 'Cleaning', 'Construction', 'Culture', 'Electricity', 'Emergency', 'Government', 'Hotel', 'Housing', 'Industry: type 1', 'Industry: type 10', 'Industry: type 11', 'Industry: type 12', 'Industry: type 13', 'Industry: type 2', 'Industry: type 3', 'Industry: type 4', 'Industry: type 5', 'Industry: type 6', 'Industry: type 7', 'Industry: type 8', 'Industry: type 9', 'Insurance', 'Kindergarten', 'Legal Services', 'Medicine', 'Military', 'Mobile', 'Other', 'Police', 'Postal', 'Realtor', 'Religion', 'Restaurant', 'School', 'Security', 'Security Ministries', 'Self-employed', 'Services', 'Telecom', 'Trade: type 1', 'Trade: type 2', 'Trade: type 3', 'Trade: type 4', 'Trade: type 5', 'Trade: type 6', 'Trade: type 7', 'Transport: type 1', 'Transport: type 2', 'Transport: type 3', 'Transport: type 4', 'University', 'XNA'])\n",
      "\n",
      "Number of labels FONDKAPREMONT_MODE:4\n",
      "\n",
      "Labels FONDKAPREMONT_MODE:dict_keys(['not specified', 'org spec account', 'reg oper account', 'reg oper spec account'])\n",
      "\n",
      "Number of labels HOUSETYPE_MODE:3\n",
      "\n",
      "Labels HOUSETYPE_MODE:dict_keys(['block of flats', 'specific housing', 'terraced house'])\n",
      "\n",
      "Number of labels WALLSMATERIAL_MODE:7\n",
      "\n",
      "Labels WALLSMATERIAL_MODE:dict_keys(['Block', 'Mixed', 'Monolithic', 'Others', 'Panel', 'Stone, brick', 'Wooden'])\n",
      "\n",
      "Number of labels EMERGENCYSTATE_MODE:2\n",
      "\n",
      "Labels EMERGENCYSTATE_MODE:dict_keys(['No', 'Yes'])\n",
      "\n"
     ]
    }
   ],
   "source": [
    "list_train = []\n",
    "for column in categorical_features:\n",
    "  print(f'Number of labels {column}:{len(dict(categorical_features.groupby(column).size()).keys())}\\n')\n",
    "  print(f'Labels {column}:{dict(categorical_features.groupby(column).size()).keys()}\\n')\n",
    "  list_train += (dict(categorical_features.groupby(column).size()).keys())"
   ]
  },
  {
   "cell_type": "code",
   "execution_count": null,
   "id": "e8NLt2JQR-Hg",
   "metadata": {
    "colab": {
     "base_uri": "https://localhost:8080/"
    },
    "id": "e8NLt2JQR-Hg",
    "outputId": "5b3c6356-d120-4cb1-e651-a36d79c3c866"
   },
   "outputs": [
    {
     "name": "stdout",
     "output_type": "stream",
     "text": [
      "Categorical variables:\n",
      " Index(['NAME_CONTRACT_TYPE', 'CODE_GENDER', 'FLAG_OWN_CAR', 'FLAG_OWN_REALTY',\n",
      "       'NAME_TYPE_SUITE', 'NAME_INCOME_TYPE', 'NAME_EDUCATION_TYPE',\n",
      "       'NAME_FAMILY_STATUS', 'NAME_HOUSING_TYPE', 'OCCUPATION_TYPE',\n",
      "       'WEEKDAY_APPR_PROCESS_START', 'ORGANIZATION_TYPE', 'FONDKAPREMONT_MODE',\n",
      "       'HOUSETYPE_MODE', 'WALLSMATERIAL_MODE', 'EMERGENCYSTATE_MODE'],\n",
      "      dtype='object')\n",
      "\n",
      "Number of categorical variables: 16\n"
     ]
    }
   ],
   "source": [
    "categorical_features_test = application_test.select_dtypes(include=['object'])\n",
    "print(f\"Categorical variables:\\n {categorical_features_test.columns}\\n\")\n",
    "print(f\"Number of categorical variables: {len(categorical_features_test.columns)}\")"
   ]
  },
  {
   "cell_type": "code",
   "execution_count": null,
   "id": "D47NEL48SFlc",
   "metadata": {
    "colab": {
     "base_uri": "https://localhost:8080/"
    },
    "id": "D47NEL48SFlc",
    "outputId": "f49288ec-e35f-4080-dbd5-4557294c1c60"
   },
   "outputs": [
    {
     "name": "stdout",
     "output_type": "stream",
     "text": [
      "Number of labels NAME_CONTRACT_TYPE:2\n",
      "\n",
      "Labels NAME_CONTRACT_TYPE:dict_keys(['Cash loans', 'Revolving loans'])\n",
      "\n",
      "Number of labels CODE_GENDER:2\n",
      "\n",
      "Labels CODE_GENDER:dict_keys(['F', 'M'])\n",
      "\n",
      "Number of labels FLAG_OWN_CAR:2\n",
      "\n",
      "Labels FLAG_OWN_CAR:dict_keys(['N', 'Y'])\n",
      "\n",
      "Number of labels FLAG_OWN_REALTY:2\n",
      "\n",
      "Labels FLAG_OWN_REALTY:dict_keys(['N', 'Y'])\n",
      "\n",
      "Number of labels NAME_TYPE_SUITE:7\n",
      "\n",
      "Labels NAME_TYPE_SUITE:dict_keys(['Children', 'Family', 'Group of people', 'Other_A', 'Other_B', 'Spouse, partner', 'Unaccompanied'])\n",
      "\n",
      "Number of labels NAME_INCOME_TYPE:7\n",
      "\n",
      "Labels NAME_INCOME_TYPE:dict_keys(['Businessman', 'Commercial associate', 'Pensioner', 'State servant', 'Student', 'Unemployed', 'Working'])\n",
      "\n",
      "Number of labels NAME_EDUCATION_TYPE:5\n",
      "\n",
      "Labels NAME_EDUCATION_TYPE:dict_keys(['Academic degree', 'Higher education', 'Incomplete higher', 'Lower secondary', 'Secondary / secondary special'])\n",
      "\n",
      "Number of labels NAME_FAMILY_STATUS:5\n",
      "\n",
      "Labels NAME_FAMILY_STATUS:dict_keys(['Civil marriage', 'Married', 'Separated', 'Single / not married', 'Widow'])\n",
      "\n",
      "Number of labels NAME_HOUSING_TYPE:6\n",
      "\n",
      "Labels NAME_HOUSING_TYPE:dict_keys(['Co-op apartment', 'House / apartment', 'Municipal apartment', 'Office apartment', 'Rented apartment', 'With parents'])\n",
      "\n",
      "Number of labels OCCUPATION_TYPE:18\n",
      "\n",
      "Labels OCCUPATION_TYPE:dict_keys(['Accountants', 'Cleaning staff', 'Cooking staff', 'Core staff', 'Drivers', 'HR staff', 'High skill tech staff', 'IT staff', 'Laborers', 'Low-skill Laborers', 'Managers', 'Medicine staff', 'Private service staff', 'Realty agents', 'Sales staff', 'Secretaries', 'Security staff', 'Waiters/barmen staff'])\n",
      "\n",
      "Number of labels WEEKDAY_APPR_PROCESS_START:7\n",
      "\n",
      "Labels WEEKDAY_APPR_PROCESS_START:dict_keys(['FRIDAY', 'MONDAY', 'SATURDAY', 'SUNDAY', 'THURSDAY', 'TUESDAY', 'WEDNESDAY'])\n",
      "\n",
      "Number of labels ORGANIZATION_TYPE:58\n",
      "\n",
      "Labels ORGANIZATION_TYPE:dict_keys(['Advertising', 'Agriculture', 'Bank', 'Business Entity Type 1', 'Business Entity Type 2', 'Business Entity Type 3', 'Cleaning', 'Construction', 'Culture', 'Electricity', 'Emergency', 'Government', 'Hotel', 'Housing', 'Industry: type 1', 'Industry: type 10', 'Industry: type 11', 'Industry: type 12', 'Industry: type 13', 'Industry: type 2', 'Industry: type 3', 'Industry: type 4', 'Industry: type 5', 'Industry: type 6', 'Industry: type 7', 'Industry: type 8', 'Industry: type 9', 'Insurance', 'Kindergarten', 'Legal Services', 'Medicine', 'Military', 'Mobile', 'Other', 'Police', 'Postal', 'Realtor', 'Religion', 'Restaurant', 'School', 'Security', 'Security Ministries', 'Self-employed', 'Services', 'Telecom', 'Trade: type 1', 'Trade: type 2', 'Trade: type 3', 'Trade: type 4', 'Trade: type 5', 'Trade: type 6', 'Trade: type 7', 'Transport: type 1', 'Transport: type 2', 'Transport: type 3', 'Transport: type 4', 'University', 'XNA'])\n",
      "\n",
      "Number of labels FONDKAPREMONT_MODE:4\n",
      "\n",
      "Labels FONDKAPREMONT_MODE:dict_keys(['not specified', 'org spec account', 'reg oper account', 'reg oper spec account'])\n",
      "\n",
      "Number of labels HOUSETYPE_MODE:3\n",
      "\n",
      "Labels HOUSETYPE_MODE:dict_keys(['block of flats', 'specific housing', 'terraced house'])\n",
      "\n",
      "Number of labels WALLSMATERIAL_MODE:7\n",
      "\n",
      "Labels WALLSMATERIAL_MODE:dict_keys(['Block', 'Mixed', 'Monolithic', 'Others', 'Panel', 'Stone, brick', 'Wooden'])\n",
      "\n",
      "Number of labels EMERGENCYSTATE_MODE:2\n",
      "\n",
      "Labels EMERGENCYSTATE_MODE:dict_keys(['No', 'Yes'])\n",
      "\n"
     ]
    }
   ],
   "source": [
    "list_test = []\n",
    "\n",
    "for column in categorical_features_test:\n",
    "  print(f'Number of labels {column}:{len(dict(categorical_features_test.groupby(column).size()).keys())}\\n')\n",
    "  print(f'Labels {column}:{dict(categorical_features_test.groupby(column).size()).keys()}\\n')\n",
    "  list_test += (dict(categorical_features_test.groupby(column).size()).keys())"
   ]
  },
  {
   "cell_type": "code",
   "execution_count": null,
   "id": "kZdsnDMgS1d9",
   "metadata": {
    "colab": {
     "base_uri": "https://localhost:8080/"
    },
    "id": "kZdsnDMgS1d9",
    "outputId": "0ae92760-5534-41f0-cc24-6edb7b2bc0c1"
   },
   "outputs": [
    {
     "data": {
      "text/plain": [
       "{'Maternity leave', 'Unknown'}"
      ]
     },
     "execution_count": 23,
     "metadata": {},
     "output_type": "execute_result"
    }
   ],
   "source": [
    "set(list_train) - set(list_test)"
   ]
  },
  {
   "cell_type": "markdown",
   "id": "fC6hR15bU2Wm",
   "metadata": {
    "id": "fC6hR15bU2Wm"
   },
   "source": [
    "**The datatrain has labels that the datatest does not.**\n",
    "\n",
    "- MATERNITY LEAVE\n",
    "- UNKNOWN\n",
    "- XNA en gender"
   ]
  },
  {
   "cell_type": "markdown",
   "id": "967d1938-e27d-4fbd-9bdc-f26364f5fdfd",
   "metadata": {
    "id": "967d1938-e27d-4fbd-9bdc-f26364f5fdfd"
   },
   "source": [
    "7- Analyzing missing data: show the percentage of missing data for each column ordered by percentage descending (show only the 20 columns with higher missing pct)"
   ]
  },
  {
   "cell_type": "code",
   "execution_count": null,
   "id": "Gg8Rtjt8Qd_E",
   "metadata": {
    "colab": {
     "base_uri": "https://localhost:8080/"
    },
    "id": "Gg8Rtjt8Qd_E",
    "outputId": "fe1d2311-02eb-40da-ea2b-9abde548a64a"
   },
   "outputs": [
    {
     "name": "stdout",
     "output_type": "stream",
     "text": [
      "Percentage of missing data for each column:\n",
      " COMMONAREA_MEDI             69.87\n",
      "COMMONAREA_AVG              69.87\n",
      "COMMONAREA_MODE             69.87\n",
      "NONLIVINGAPARTMENTS_MODE    69.43\n",
      "NONLIVINGAPARTMENTS_AVG     69.43\n",
      "NONLIVINGAPARTMENTS_MEDI    69.43\n",
      "FONDKAPREMONT_MODE          68.39\n",
      "LIVINGAPARTMENTS_MODE       68.35\n",
      "LIVINGAPARTMENTS_AVG        68.35\n",
      "LIVINGAPARTMENTS_MEDI       68.35\n",
      "FLOORSMIN_AVG               67.85\n",
      "FLOORSMIN_MODE              67.85\n",
      "FLOORSMIN_MEDI              67.85\n",
      "YEARS_BUILD_MEDI            66.50\n",
      "YEARS_BUILD_MODE            66.50\n",
      "YEARS_BUILD_AVG             66.50\n",
      "OWN_CAR_AGE                 65.99\n",
      "LANDAREA_MEDI               59.38\n",
      "LANDAREA_MODE               59.38\n",
      "LANDAREA_AVG                59.38\n",
      "dtype: float64\n",
      "Number of columns with more than half of their null values: 49\n"
     ]
    }
   ],
   "source": [
    "PercentageMissing = round((application_train.isnull().sum()/len(application_train))*100,2\n",
    "      ).sort_values(ascending=False)\n",
    "\n",
    "print(f\"Percentage of missing data for each column:\\n {PercentageMissing[0:20]}\")\n",
    "print(f\"Number of columns with more than half of their null values: {len(PercentageMissing[PercentageMissing > 40])}\")\n"
   ]
  },
  {
   "cell_type": "markdown",
   "id": "783c5bb6-6b6d-4e34-bbe2-3a5dc319a4f0",
   "metadata": {
    "id": "783c5bb6-6b6d-4e34-bbe2-3a5dc319a4f0"
   },
   "source": [
    "**Analyzing distribution of variables**"
   ]
  },
  {
   "cell_type": "markdown",
   "id": "9c79d319-bde8-47a4-890d-6694edf221e2",
   "metadata": {
    "id": "9c79d319-bde8-47a4-890d-6694edf221e2"
   },
   "source": [
    "1- Show the distribution of credit amounts"
   ]
  },
  {
   "cell_type": "code",
   "execution_count": null,
   "id": "ETP9me7x-p4-",
   "metadata": {
    "colab": {
     "base_uri": "https://localhost:8080/",
     "height": 346
    },
    "id": "ETP9me7x-p4-",
    "outputId": "3d5b71f1-ecab-4022-95fd-b4733167c91e"
   },
   "outputs": [
    {
     "name": "stderr",
     "output_type": "stream",
     "text": [
      "/usr/local/lib/python3.7/dist-packages/seaborn/distributions.py:2619: FutureWarning: `distplot` is a deprecated function and will be removed in a future version. Please adapt your code to use either `displot` (a figure-level function with similar flexibility) or `histplot` (an axes-level function for histograms).\n",
      "  warnings.warn(msg, FutureWarning)\n"
     ]
    },
    {
     "data": {
      "image/png": "[encoded data removed]",
      "text/plain": [
       "<Figure size 432x288 with 1 Axes>"
      ]
     },
     "metadata": {
      "needs_background": "light"
     },
     "output_type": "display_data"
    }
   ],
   "source": [
    "ax = sns.distplot(application_train['AMT_CREDIT'])"
   ]
  },
  {
   "cell_type": "markdown",
   "id": "f4e7bf4a-25c7-47c0-aea8-ed916d8827f6",
   "metadata": {
    "id": "f4e7bf4a-25c7-47c0-aea8-ed916d8827f6"
   },
   "source": [
    "2- Plot the education level of the credit applicants, show the percentages of each category. Also print the total counts for each category."
   ]
  },
  {
   "cell_type": "code",
   "execution_count": null,
   "id": "406d7d06-b21a-4938-8e3d-11798def489b",
   "metadata": {
    "colab": {
     "base_uri": "https://localhost:8080/"
    },
    "id": "406d7d06-b21a-4938-8e3d-11798def489b",
    "outputId": "c9ee71eb-9b89-4d80-a542-a949f6be23c9"
   },
   "outputs": [
    {
     "data": {
      "text/plain": [
       "NAME_EDUCATION_TYPE\n",
       "Academic degree                     164\n",
       "Higher education                  74863\n",
       "Incomplete higher                 10277\n",
       "Lower secondary                    3816\n",
       "Secondary / secondary special    218391\n",
       "dtype: int64"
      ]
     },
     "execution_count": 26,
     "metadata": {},
     "output_type": "execute_result"
    }
   ],
   "source": [
    "application_train.groupby(\"NAME_EDUCATION_TYPE\").size()"
   ]
  },
  {
   "cell_type": "code",
   "execution_count": null,
   "id": "ECkt-p3RTJKB",
   "metadata": {
    "colab": {
     "base_uri": "https://localhost:8080/"
    },
    "id": "ECkt-p3RTJKB",
    "outputId": "6e33762e-c2c1-4650-a4d4-6b57d4cbf128"
   },
   "outputs": [
    {
     "data": {
      "text/plain": [
       "NAME_EDUCATION_TYPE\n",
       "Secondary / secondary special    71.02\n",
       "Higher education                 24.34\n",
       "Incomplete higher                 3.34\n",
       "Lower secondary                   1.24\n",
       "Academic degree                   0.05\n",
       "dtype: float64"
      ]
     },
     "execution_count": 27,
     "metadata": {},
     "output_type": "execute_result"
    }
   ],
   "source": [
    "round(application_train.groupby(\"NAME_EDUCATION_TYPE\").size()/len(\n",
    "    application_train[\"NAME_EDUCATION_TYPE\"])*100,2).sort_values(ascending=False)"
   ]
  },
  {
   "cell_type": "markdown",
   "id": "78e17d30-acce-4b7f-bacc-af488cda3e7d",
   "metadata": {
    "id": "78e17d30-acce-4b7f-bacc-af488cda3e7d"
   },
   "source": [
    "3- Plot the distribution of ocupation of the loan applicants"
   ]
  },
  {
   "cell_type": "code",
   "execution_count": null,
   "id": "UgeGkWEDOV1H",
   "metadata": {
    "colab": {
     "base_uri": "https://localhost:8080/"
    },
    "id": "UgeGkWEDOV1H",
    "outputId": "002661bb-ca51-47d2-8b5c-dd7375f0a6c7"
   },
   "outputs": [
    {
     "data": {
      "text/plain": [
       "OCCUPATION_TYPE\n",
       "Laborers                 17.95\n",
       "Sales staff              10.44\n",
       "Core staff                8.97\n",
       "Managers                  6.95\n",
       "Drivers                   6.05\n",
       "High skill tech staff     3.70\n",
       "Accountants               3.19\n",
       "Medicine staff            2.78\n",
       "Security staff            2.19\n",
       "Cooking staff             1.93\n",
       "Cleaning staff            1.51\n",
       "Private service staff     0.86\n",
       "Low-skill Laborers        0.68\n",
       "Waiters/barmen staff      0.44\n",
       "Secretaries               0.42\n",
       "Realty agents             0.24\n",
       "HR staff                  0.18\n",
       "IT staff                  0.17\n",
       "dtype: float64"
      ]
     },
     "execution_count": 28,
     "metadata": {},
     "output_type": "execute_result"
    }
   ],
   "source": [
    "round(application_train.groupby(\"OCCUPATION_TYPE\").size()/len(\n",
    "    application_train[\"OCCUPATION_TYPE\"])*100,2).sort_values(ascending=False)"
   ]
  },
  {
   "cell_type": "markdown",
   "id": "824b1bc0-4dad-4ce8-b574-cbae5984a589",
   "metadata": {
    "id": "824b1bc0-4dad-4ce8-b574-cbae5984a589"
   },
   "source": [
    "4- Plot the family status of the applicants"
   ]
  },
  {
   "cell_type": "code",
   "execution_count": null,
   "id": "95463328-4392-435e-a203-95e28998930b",
   "metadata": {
    "colab": {
     "base_uri": "https://localhost:8080/"
    },
    "id": "95463328-4392-435e-a203-95e28998930b",
    "outputId": "dc9b44bd-aa45-4dd7-8859-715a7aebeb13"
   },
   "outputs": [
    {
     "data": {
      "text/plain": [
       "NAME_FAMILY_STATUS\n",
       "Married                 63.88\n",
       "Single / not married    14.78\n",
       "Civil marriage           9.68\n",
       "Separated                6.43\n",
       "Widow                    5.23\n",
       "Unknown                  0.00\n",
       "dtype: float64"
      ]
     },
     "execution_count": 29,
     "metadata": {},
     "output_type": "execute_result"
    }
   ],
   "source": [
    "round(application_train.groupby(\"NAME_FAMILY_STATUS\").size()/len(\n",
    "    application_train[\"NAME_FAMILY_STATUS\"])*100,2).sort_values(ascending=False)\n"
   ]
  },
  {
   "cell_type": "markdown",
   "id": "efa77db6-a50a-454e-b1b2-83abe3c8baae",
   "metadata": {
    "id": "efa77db6-a50a-454e-b1b2-83abe3c8baae"
   },
   "source": [
    "5- Plot the income type of applicants grouped by the target variable"
   ]
  },
  {
   "cell_type": "code",
   "execution_count": null,
   "id": "V-efPOlIZsAm",
   "metadata": {
    "colab": {
     "base_uri": "https://localhost:8080/"
    },
    "id": "V-efPOlIZsAm",
    "outputId": "1b81847d-ed97-4e48-9026-13f1a577aa74"
   },
   "outputs": [
    {
     "data": {
      "text/plain": [
       "NAME_INCOME_TYPE\n",
       "Working                 51.63\n",
       "Commercial associate    23.29\n",
       "Pensioner               18.00\n",
       "State servant            7.06\n",
       "Student                  0.01\n",
       "Unemployed               0.01\n",
       "Businessman              0.00\n",
       "Maternity leave          0.00\n",
       "dtype: float64"
      ]
     },
     "execution_count": 30,
     "metadata": {},
     "output_type": "execute_result"
    }
   ],
   "source": [
    "round(application_train.groupby(\"NAME_INCOME_TYPE\").size()/len(\n",
    "    application_train[\"NAME_INCOME_TYPE\"])*100,2).sort_values(ascending=False)"
   ]
  },
  {
   "cell_type": "code",
   "execution_count": null,
   "id": "2a3-8zjiVOhW",
   "metadata": {
    "colab": {
     "base_uri": "https://localhost:8080/",
     "height": 488
    },
    "id": "2a3-8zjiVOhW",
    "outputId": "791a6447-e2a2-4c4e-b212-6991eac00ab6"
   },
   "outputs": [
    {
     "data": {
      "text/html": [
       "\n",
       "  <div id=\"df-cd4c7d13-6203-4c22-82b1-8ee9908a3d17\">\n",
       "    <div class=\"colab-df-container\">\n",
       "      <div>\n",
       "<style scoped>\n",
       "    .dataframe tbody tr th:only-of-type {\n",
       "        vertical-align: middle;\n",
       "    }\n",
       "\n",
       "    .dataframe tbody tr th {\n",
       "        vertical-align: top;\n",
       "    }\n",
       "\n",
       "    .dataframe thead th {\n",
       "        text-align: right;\n",
       "    }\n",
       "</style>\n",
       "<table border=\"1\" class=\"dataframe\">\n",
       "  <thead>\n",
       "    <tr style=\"text-align: right;\">\n",
       "      <th></th>\n",
       "      <th>NAME_INCOME_TYPE</th>\n",
       "      <th>TARGET</th>\n",
       "      <th>Count</th>\n",
       "    </tr>\n",
       "  </thead>\n",
       "  <tbody>\n",
       "    <tr>\n",
       "      <th>12</th>\n",
       "      <td>Working</td>\n",
       "      <td>0</td>\n",
       "      <td>46.68</td>\n",
       "    </tr>\n",
       "    <tr>\n",
       "      <th>1</th>\n",
       "      <td>Commercial associate</td>\n",
       "      <td>0</td>\n",
       "      <td>21.55</td>\n",
       "    </tr>\n",
       "    <tr>\n",
       "      <th>5</th>\n",
       "      <td>Pensioner</td>\n",
       "      <td>0</td>\n",
       "      <td>17.03</td>\n",
       "    </tr>\n",
       "    <tr>\n",
       "      <th>7</th>\n",
       "      <td>State servant</td>\n",
       "      <td>0</td>\n",
       "      <td>6.65</td>\n",
       "    </tr>\n",
       "    <tr>\n",
       "      <th>13</th>\n",
       "      <td>Working</td>\n",
       "      <td>1</td>\n",
       "      <td>4.95</td>\n",
       "    </tr>\n",
       "    <tr>\n",
       "      <th>2</th>\n",
       "      <td>Commercial associate</td>\n",
       "      <td>1</td>\n",
       "      <td>1.74</td>\n",
       "    </tr>\n",
       "    <tr>\n",
       "      <th>6</th>\n",
       "      <td>Pensioner</td>\n",
       "      <td>1</td>\n",
       "      <td>0.97</td>\n",
       "    </tr>\n",
       "    <tr>\n",
       "      <th>8</th>\n",
       "      <td>State servant</td>\n",
       "      <td>1</td>\n",
       "      <td>0.41</td>\n",
       "    </tr>\n",
       "    <tr>\n",
       "      <th>9</th>\n",
       "      <td>Student</td>\n",
       "      <td>0</td>\n",
       "      <td>0.01</td>\n",
       "    </tr>\n",
       "    <tr>\n",
       "      <th>0</th>\n",
       "      <td>Businessman</td>\n",
       "      <td>0</td>\n",
       "      <td>0.00</td>\n",
       "    </tr>\n",
       "    <tr>\n",
       "      <th>3</th>\n",
       "      <td>Maternity leave</td>\n",
       "      <td>0</td>\n",
       "      <td>0.00</td>\n",
       "    </tr>\n",
       "    <tr>\n",
       "      <th>4</th>\n",
       "      <td>Maternity leave</td>\n",
       "      <td>1</td>\n",
       "      <td>0.00</td>\n",
       "    </tr>\n",
       "    <tr>\n",
       "      <th>10</th>\n",
       "      <td>Unemployed</td>\n",
       "      <td>0</td>\n",
       "      <td>0.00</td>\n",
       "    </tr>\n",
       "    <tr>\n",
       "      <th>11</th>\n",
       "      <td>Unemployed</td>\n",
       "      <td>1</td>\n",
       "      <td>0.00</td>\n",
       "    </tr>\n",
       "  </tbody>\n",
       "</table>\n",
       "</div>\n",
       "      <button class=\"colab-df-convert\" onclick=\"convertToInteractive('df-cd4c7d13-6203-4c22-82b1-8ee9908a3d17')\"\n",
       "              title=\"Convert this dataframe to an interactive table.\"\n",
       "              style=\"display:none;\">\n",
       "        \n",
       "  <svg xmlns=\"http://www.w3.org/2000/svg\" height=\"24px\"viewBox=\"0 0 24 24\"\n",
       "       width=\"24px\">\n",
       "    <path d=\"M0 0h24v24H0V0z\" fill=\"none\"/>\n",
       "    <path d=\"M18.56 5.44l.94 2.06.94-2.06 2.06-.94-2.06-.94-.94-2.06-.94 2.06-2.06.94zm-11 1L8.5 8.5l.94-2.06 2.06-.94-2.06-.94L8.5 2.5l-.94 2.06-2.06.94zm10 10l.94 2.06.94-2.06 2.06-.94-2.06-.94-.94-2.06-.94 2.06-2.06.94z\"/><path d=\"M17.41 7.96l-1.37-1.37c-.4-.4-.92-.59-1.43-.59-.52 0-1.04.2-1.43.59L10.3 9.45l-7.72 7.72c-.78.78-.78 2.05 0 2.83L4 21.41c.39.39.9.59 1.41.59.51 0 1.02-.2 1.41-.59l7.78-7.78 2.81-2.81c.8-.78.8-2.07 0-2.86zM5.41 20L4 18.59l7.72-7.72 1.47 1.35L5.41 20z\"/>\n",
       "  </svg>\n",
       "      </button>\n",
       "      \n",
       "  <style>\n",
       "    .colab-df-container {\n",
       "      display:flex;\n",
       "      flex-wrap:wrap;\n",
       "      gap: 12px;\n",
       "    }\n",
       "\n",
       "    .colab-df-convert {\n",
       "      background-color: #E8F0FE;\n",
       "      border: none;\n",
       "      border-radius: 50%;\n",
       "      cursor: pointer;\n",
       "      display: none;\n",
       "      fill: #1967D2;\n",
       "      height: 32px;\n",
       "      padding: 0 0 0 0;\n",
       "      width: 32px;\n",
       "    }\n",
       "\n",
       "    .colab-df-convert:hover {\n",
       "      background-color: #E2EBFA;\n",
       "      box-shadow: 0px 1px 2px rgba(60, 64, 67, 0.3), 0px 1px 3px 1px rgba(60, 64, 67, 0.15);\n",
       "      fill: #174EA6;\n",
       "    }\n",
       "\n",
       "    [theme=dark] .colab-df-convert {\n",
       "      background-color: #3B4455;\n",
       "      fill: #D2E3FC;\n",
       "    }\n",
       "\n",
       "    [theme=dark] .colab-df-convert:hover {\n",
       "      background-color: #434B5C;\n",
       "      box-shadow: 0px 1px 3px 1px rgba(0, 0, 0, 0.15);\n",
       "      filter: drop-shadow(0px 1px 2px rgba(0, 0, 0, 0.3));\n",
       "      fill: #FFFFFF;\n",
       "    }\n",
       "  </style>\n",
       "\n",
       "      <script>\n",
       "        const buttonEl =\n",
       "          document.querySelector('#df-cd4c7d13-6203-4c22-82b1-8ee9908a3d17 button.colab-df-convert');\n",
       "        buttonEl.style.display =\n",
       "          google.colab.kernel.accessAllowed ? 'block' : 'none';\n",
       "\n",
       "        async function convertToInteractive(key) {\n",
       "          const element = document.querySelector('#df-cd4c7d13-6203-4c22-82b1-8ee9908a3d17');\n",
       "          const dataTable =\n",
       "            await google.colab.kernel.invokeFunction('convertToInteractive',\n",
       "                                                     [key], {});\n",
       "          if (!dataTable) return;\n",
       "\n",
       "          const docLinkHtml = 'Like what you see? Visit the ' +\n",
       "            '<a target=\"_blank\" href=https://colab.research.google.com/notebooks/data_table.ipynb>data table notebook</a>'\n",
       "            + ' to learn more about interactive tables.';\n",
       "          element.innerHTML = '';\n",
       "          dataTable['output_type'] = 'display_data';\n",
       "          await google.colab.output.renderOutput(dataTable, element);\n",
       "          const docLink = document.createElement('div');\n",
       "          docLink.innerHTML = docLinkHtml;\n",
       "          element.appendChild(docLink);\n",
       "        }\n",
       "      </script>\n",
       "    </div>\n",
       "  </div>\n",
       "  "
      ],
      "text/plain": [
       "        NAME_INCOME_TYPE  TARGET  Count\n",
       "12               Working       0  46.68\n",
       "1   Commercial associate       0  21.55\n",
       "5              Pensioner       0  17.03\n",
       "7          State servant       0   6.65\n",
       "13               Working       1   4.95\n",
       "2   Commercial associate       1   1.74\n",
       "6              Pensioner       1   0.97\n",
       "8          State servant       1   0.41\n",
       "9                Student       0   0.01\n",
       "0            Businessman       0   0.00\n",
       "3        Maternity leave       0   0.00\n",
       "4        Maternity leave       1   0.00\n",
       "10            Unemployed       0   0.00\n",
       "11            Unemployed       1   0.00"
      ]
     },
     "execution_count": 31,
     "metadata": {},
     "output_type": "execute_result"
    }
   ],
   "source": [
    "INCOME_TYPE = pd.DataFrame(round(application_train.groupby([\"NAME_INCOME_TYPE\",\"TARGET\"]).size()/len(\n",
    "    application_train[\"NAME_INCOME_TYPE\"])*100,2).reset_index(name=\"Count\").sort_values(by=\"Count\", ascending=False))\n",
    "\n",
    "INCOME_TYPE"
   ]
  },
  {
   "cell_type": "code",
   "execution_count": null,
   "id": "HvdLsrUUOryu",
   "metadata": {
    "colab": {
     "base_uri": "https://localhost:8080/",
     "height": 386
    },
    "id": "HvdLsrUUOryu",
    "outputId": "ca371c46-4aad-4da8-a5b7-11420c30de61"
   },
   "outputs": [
    {
     "data": {
      "text/plain": [
       "<seaborn.axisgrid.FacetGrid at 0x7f458badcf10>"
      ]
     },
     "execution_count": 32,
     "metadata": {},
     "output_type": "execute_result"
    },
    {
     "data": {
      "image/png": "[encoded data removed]",
      "text/plain": [
       "<Figure size 407x360 with 1 Axes>"
      ]
     },
     "metadata": {
      "needs_background": "light"
     },
     "output_type": "display_data"
    }
   ],
   "source": [
    "sns.catplot(y=\"NAME_INCOME_TYPE\",x=\"Count\", hue=\"TARGET\", kind=\"bar\" ,data=INCOME_TYPE)"
   ]
  },
  {
   "cell_type": "markdown",
   "id": "HaOfVLPgVgJo",
   "metadata": {
    "id": "HaOfVLPgVgJo"
   },
   "source": [
    "**The maternity leave and unknown tags have null values, the XNA in gender will be corrected.**"
   ]
  },
  {
   "cell_type": "markdown",
   "id": "qB7jnNjlOCAK",
   "metadata": {
    "id": "qB7jnNjlOCAK"
   },
   "source": [
    "**Graph for each qualitative variable**"
   ]
  },
  {
   "cell_type": "code",
   "execution_count": null,
   "id": "cZQDaZiMMIpj",
   "metadata": {
    "colab": {
     "base_uri": "https://localhost:8080/",
     "height": 726
    },
    "id": "cZQDaZiMMIpj",
    "outputId": "233a3021-b7de-4368-fd41-6b8eca23d5ca"
   },
   "outputs": [
    {
     "data": {
      "image/png": "[encoded data removed]",
      "text/plain": [
       "<Figure size 1080x720 with 4 Axes>"
      ]
     },
     "metadata": {
      "needs_background": "light"
     },
     "output_type": "display_data"
    }
   ],
   "source": [
    "# Graph for each qualitative variable\n",
    "\n",
    "fig, axes = plt.subplots(nrows=2, ncols=2, figsize=(15, 10))\n",
    "axes = axes.flat\n",
    "columnas_object = application_train[[\"NAME_INCOME_TYPE\",\"NAME_FAMILY_STATUS\",\n",
    "                                     \"OCCUPATION_TYPE\",\"NAME_EDUCATION_TYPE\"]\n",
    "                                    ].columns\n",
    "\n",
    "for i, colum in enumerate(columnas_object):\n",
    "    application_train[colum].value_counts().plot.barh(ax = axes[i])\n",
    "    axes[i].set_title(colum, fontsize = 10, fontweight = \"bold\")\n",
    "    axes[i].tick_params(labelsize = 10)\n",
    "    axes[i].set_xlabel(\"\")\n",
    "    \n",
    "fig.tight_layout()\n",
    "plt.subplots_adjust(top=0.9)\n",
    "fig.suptitle('Distribution of qualitative variables',\n",
    "             fontsize = 10, fontweight = \"bold\");"
   ]
  },
  {
   "cell_type": "markdown",
   "id": "30GXvqghZH0f",
   "metadata": {
    "id": "30GXvqghZH0f"
   },
   "source": [
    "**We have a very unbalanced dataset since only 8% of the target variable corresponds to an approved loan.\n",
    "Regarding the applicants, we can see that half obtain their income from a job, the majority are workers, are married (>50%) and have a secondary/special secondary level of study.**"
   ]
  },
  {
   "cell_type": "markdown",
   "id": "vRbl_vJ8aO4s",
   "metadata": {
    "id": "vRbl_vJ8aO4s"
   },
   "source": [
    "**Of 122 columns, 41 have more than half of their null values.**"
   ]
  },
  {
   "cell_type": "markdown",
   "id": "xzwkp-nMV8kI",
   "metadata": {
    "id": "xzwkp-nMV8kI"
   },
   "source": [
    "**Columns with more than 50% of their null values will be removed.**"
   ]
  },
  {
   "cell_type": "markdown",
   "id": "675b1ae3-c943-4737-bdb8-2ecff733b27b",
   "metadata": {
    "id": "675b1ae3-c943-4737-bdb8-2ecff733b27b"
   },
   "source": [
    "## Preprocessing"
   ]
  },
  {
   "cell_type": "markdown",
   "id": "51397c38-0204-454b-8fe6-011dc8c38418",
   "metadata": {
    "id": "51397c38-0204-454b-8fe6-011dc8c38418"
   },
   "source": [
    "In this section, you will code a function to make all the data pre processing for the dataset. What you have to deliver is a function that takes the train and test dataframes, processes all features, and returns the transformed data as numpy arrays ready to be used for training."
   ]
  },
  {
   "cell_type": "markdown",
   "id": "b72d36eb-3ae5-40b3-b9d2-48f6abdeb734",
   "metadata": {
    "id": "b72d36eb-3ae5-40b3-b9d2-48f6abdeb734"
   },
   "source": [
    "The function should perform these activities:\n",
    "\n",
    "- Correct outliers/anomalous values in numerical columns (hint: take a look at the DAYS_EMPLOYED column)\n",
    "- Impute values for all columns with missing data (use median as imputing value)\n",
    "- Encode categorical features:\n",
    "    - If feature has 2 categories encode using binary encoding\n",
    "    - More than 2 categories, use one hot encoding \n",
    "- Feature scaling\n",
    "\n",
    "Keep in mind that you could get different number of columns in train and test because some category could only be present in one of the dataframes, this could create more one hot encoded columns. You should align train and test to have the same number of columns"
   ]
  },
  {
   "cell_type": "code",
   "execution_count": null,
   "id": "4IcUdj-eqeZb",
   "metadata": {
    "id": "4IcUdj-eqeZb"
   },
   "outputs": [],
   "source": [
    "numerical_features = application_train.select_dtypes(exclude=['object'])"
   ]
  },
  {
   "cell_type": "code",
   "execution_count": null,
   "id": "ljZ-Lzrz3EeX",
   "metadata": {
    "colab": {
     "base_uri": "https://localhost:8080/"
    },
    "id": "ljZ-Lzrz3EeX",
    "outputId": "e909139e-7ccc-4929-cd42-08543b972500"
   },
   "outputs": [
    {
     "data": {
      "text/plain": [
       "Index(['SK_ID_CURR', 'TARGET', 'CNT_CHILDREN', 'AMT_INCOME_TOTAL',\n",
       "       'AMT_CREDIT', 'AMT_ANNUITY', 'AMT_GOODS_PRICE',\n",
       "       'REGION_POPULATION_RELATIVE', 'DAYS_BIRTH', 'DAYS_EMPLOYED',\n",
       "       ...\n",
       "       'FLAG_DOCUMENT_18', 'FLAG_DOCUMENT_19', 'FLAG_DOCUMENT_20',\n",
       "       'FLAG_DOCUMENT_21', 'AMT_REQ_CREDIT_BUREAU_HOUR',\n",
       "       'AMT_REQ_CREDIT_BUREAU_DAY', 'AMT_REQ_CREDIT_BUREAU_WEEK',\n",
       "       'AMT_REQ_CREDIT_BUREAU_MON', 'AMT_REQ_CREDIT_BUREAU_QRT',\n",
       "       'AMT_REQ_CREDIT_BUREAU_YEAR'],\n",
       "      dtype='object', length=106)"
      ]
     },
     "execution_count": 35,
     "metadata": {},
     "output_type": "execute_result"
    }
   ],
   "source": [
    "numerical_features.columns"
   ]
  },
  {
   "cell_type": "code",
   "execution_count": null,
   "id": "xx73P7Mq6Ui4",
   "metadata": {
    "colab": {
     "base_uri": "https://localhost:8080/"
    },
    "id": "xx73P7Mq6Ui4",
    "outputId": "5dcad20e-5d97-424a-a4fe-5a4b2cc2ff09"
   },
   "outputs": [
    {
     "name": "stdout",
     "output_type": "stream",
     "text": [
      "TARGET                         1.000000\n",
      "DAYS_BIRTH                     0.078239\n",
      "REGION_RATING_CLIENT_W_CITY    0.060893\n",
      "REGION_RATING_CLIENT           0.058899\n",
      "DAYS_LAST_PHONE_CHANGE         0.055218\n",
      "Name: TARGET, dtype: float64\n",
      "\n",
      "------------------------------------\n",
      "\n",
      "EXT_SOURCE_3    -0.178919\n",
      "EXT_SOURCE_2    -0.160472\n",
      "EXT_SOURCE_1    -0.155317\n",
      "DAYS_EMPLOYED   -0.044932\n",
      "FLOORSMAX_AVG   -0.044003\n",
      "Name: TARGET, dtype: float64\n"
     ]
    }
   ],
   "source": [
    "corr_matrix = numerical_features.corr()\n",
    "print(corr_matrix[\"TARGET\"].sort_values(ascending=False)[0:5])\n",
    "print(\"\\n------------------------------------\\n\")\n",
    "print(corr_matrix[\"TARGET\"].sort_values(ascending=True)[0:5])\n"
   ]
  },
  {
   "cell_type": "code",
   "execution_count": null,
   "id": "cExQZTadbXjM",
   "metadata": {
    "id": "cExQZTadbXjM"
   },
   "outputs": [],
   "source": [
    "valores_unicos = []\n",
    "\n",
    "for (index, colname) in enumerate(numerical_features):\n",
    "    valor_unico = {\n",
    "        colname: len(application_train[colname].unique())}\n",
    "    \n",
    "    valores_unicos.append(valor_unico)"
   ]
  },
  {
   "cell_type": "code",
   "execution_count": null,
   "id": "WbJ5s66VQbcI",
   "metadata": {
    "id": "WbJ5s66VQbcI"
   },
   "outputs": [],
   "source": [
    "columns_features = []\n",
    "\n",
    "for i in valores_unicos:\n",
    "  for j,k in i.items():\n",
    "    if k > 3:\n",
    "      columns_features.append(j)"
   ]
  },
  {
   "cell_type": "code",
   "execution_count": null,
   "id": "AsoO2h5da7KI",
   "metadata": {
    "id": "AsoO2h5da7KI"
   },
   "outputs": [],
   "source": [
    "columns_categorics = []\n",
    "\n",
    "for i in application_train.columns:\n",
    "  if i not in columns_features:\n",
    "    if i != \"TARGET\":\n",
    "      columns_categorics.append(i)"
   ]
  },
  {
   "cell_type": "code",
   "execution_count": null,
   "id": "Yi9s4rJ5bP1H",
   "metadata": {
    "id": "Yi9s4rJ5bP1H"
   },
   "outputs": [],
   "source": [
    "numerical_features = application_train.drop(list(columns_categorics), axis=1)"
   ]
  },
  {
   "cell_type": "code",
   "execution_count": null,
   "id": "5mIjSQZaW9jO",
   "metadata": {
    "colab": {
     "base_uri": "https://localhost:8080/",
     "height": 1000
    },
    "id": "5mIjSQZaW9jO",
    "outputId": "d7c46ed1-7226-4937-97fa-a4516877d027"
   },
   "outputs": [
    {
     "data": {
      "image/png": "[encoded data removed]",
      "text/plain": [
       "<Figure size 1800x1800 with 72 Axes>"
      ]
     },
     "metadata": {
      "needs_background": "light"
     },
     "output_type": "display_data"
    }
   ],
   "source": [
    "plt.figure(figsize=(25, 25))\n",
    "for i, col in enumerate(numerical_features.columns):\n",
    "    plt.subplot(16, 5, i+1)\n",
    "    sns.boxplot(data=numerical_features, x=col)\n",
    "    plt.title(col)"
   ]
  },
  {
   "cell_type": "markdown",
   "id": "t6voMoCee3hr",
   "metadata": {
    "id": "t6voMoCee3hr"
   },
   "source": [
    "**Tenemos puntos atipicos en AMT_INCOME_TOTAL, OWN_CAR_AGE, DAYS_EMPLOYED.**"
   ]
  },
  {
   "cell_type": "code",
   "execution_count": null,
   "id": "Ll7IzHT8cBJt",
   "metadata": {
    "colab": {
     "base_uri": "https://localhost:8080/"
    },
    "id": "Ll7IzHT8cBJt",
    "outputId": "3a2aef08-2dcb-4095-9ab6-f656923f0d6f"
   },
   "outputs": [
    {
     "name": "stdout",
     "output_type": "stream",
     "text": [
      " 365243    55374\n",
      "-200         156\n",
      "-224         152\n",
      "-230         151\n",
      "-199         151\n",
      "Name: DAYS_EMPLOYED, dtype: int64, \n",
      "12840     117000000.0\n",
      "203693     18000090.0\n",
      "246858     13500000.0\n",
      "77768       9000000.0\n",
      "131127      6750000.0\n",
      "Name: AMT_INCOME_TOTAL, dtype: float64\n",
      "135000.0    35750\n",
      "112500.0    31019\n",
      "157500.0    26556\n",
      "180000.0    24719\n",
      "90000.0     22483\n",
      "Name: AMT_INCOME_TOTAL, dtype: int64\n",
      "7.0    7424\n",
      "6.0    6382\n",
      "3.0    6370\n",
      "8.0    5887\n",
      "2.0    5852\n",
      "Name: OWN_CAR_AGE, dtype: int64\n",
      "294131    91.0\n",
      "271741    91.0\n",
      "161390    69.0\n",
      "39936     65.0\n",
      "84173     65.0\n",
      "Name: OWN_CAR_AGE, dtype: float64\n"
     ]
    }
   ],
   "source": [
    "print(f\"{application_train['DAYS_EMPLOYED'].value_counts(ascending=False).head(5)}, \")\n",
    "print(f\"{application_train['AMT_INCOME_TOTAL'].sort_values(ascending=False).head(5)}\")\n",
    "print(f\"{application_train['AMT_INCOME_TOTAL'].value_counts(ascending=False).head(5)}\")\n",
    "print(f\"{application_train['OWN_CAR_AGE'].value_counts(ascending=False).head(5)}\")\n",
    "print(f\"{application_train['OWN_CAR_AGE'].sort_values(ascending=False).head(5)}\")"
   ]
  },
  {
   "cell_type": "markdown",
   "id": "Pw8dCCGAnNjv",
   "metadata": {
    "id": "Pw8dCCGAnNjv"
   },
   "source": [
    "**We will transform the positive employee days into NaN and then replace them with the average.\n",
    "In the case of AMT_INCOME_TOTAL it looks like a missing value so we'll remove it just like in the case of OWN_CAR_AGE.**"
   ]
  },
  {
   "cell_type": "code",
   "execution_count": null,
   "id": "6IzeyhCX60kt",
   "metadata": {
    "colab": {
     "base_uri": "https://localhost:8080/"
    },
    "id": "6IzeyhCX60kt",
    "outputId": "05392d00-c00a-4420-ac8b-15b0294a31df"
   },
   "outputs": [
    {
     "data": {
      "text/plain": [
       "((307511, 122), (48744, 121))"
      ]
     },
     "execution_count": 43,
     "metadata": {},
     "output_type": "execute_result"
    }
   ],
   "source": [
    "application_train.shape, application_test.shape"
   ]
  },
  {
   "cell_type": "code",
   "execution_count": null,
   "id": "tp3RBK-VlUo_",
   "metadata": {
    "id": "tp3RBK-VlUo_"
   },
   "outputs": [],
   "source": [
    "X_train = application_train.copy()\n",
    "X_test = application_test.copy()"
   ]
  },
  {
   "cell_type": "code",
   "execution_count": null,
   "id": "kK7rzSC1oBmN",
   "metadata": {
    "id": "kK7rzSC1oBmN"
   },
   "outputs": [],
   "source": [
    "def preprocessing(data):\n",
    "\n",
    "#We remove the columns that have more than 40% null values#\n",
    "  \n",
    "  columns_drop = []\n",
    "  for i, col in enumerate(data):\n",
    "    if data[col].isnull().sum()/len(data) > 0.4:\n",
    "      columns_drop.append(col)\n",
    "\n",
    "  data = data.drop(columns_drop, axis=1)\n",
    "  \n",
    "\n",
    "#Correction of outliers#\n",
    "  try:\n",
    "    data.drop(data[data[\"CODE_GENDER\"] == \"XNA\"].index, inplace=True)\n",
    "    data.drop(data[data[\"NAME_INCOME_TYPE\"] == \"Maternity leave\"].index, inplace=True)\n",
    "    data.drop(data[data[\"NAME_FAMILY_STATUS\"] == \"Unknown\"].index, inplace=True)\n",
    "    data.drop(data[data[\"AMT_INCOME_TOTAL\"] == 117000000].index, inplace=True)\n",
    "    data.drop(data[data[\"OWN_CAR_AGE\"] == 91].index, inplace=True)\n",
    "    data[\"DAYS_EMPLOYED\"] = data[\"DAYS_EMPLOYED\"].replace(365243, 0)\n",
    "  except:\n",
    "    pass\n",
    " \n",
    "#Correction missing values#\n",
    "  imputer = SimpleImputer(strategy=\"mean\")\n",
    "  data_num = data.select_dtypes(exclude=['object'])\n",
    "  data_num = data_num.drop(\"SK_ID_CURR\", axis=1).reset_index(drop=True)\n",
    "  columns_num = data_num.columns\n",
    "  imputer.fit(data_num)\n",
    "  X = imputer.transform(data_num)\n",
    "  data_tr = pd.DataFrame(X, columns=columns_num,\n",
    "                          index=data_num.index)\n",
    "    \n",
    "#Encode categorical features#\n",
    "  Binary_Encoder = []\n",
    "  One_Hot_Encoder = []\n",
    "\n",
    "  data_cat = data.select_dtypes(include=['object'])  \n",
    "\n",
    "  for i, col in enumerate(data_cat):\n",
    "    if data_cat[col].nunique() == 2:\n",
    "      Binary_Encoder.append(col)\n",
    "    else:\n",
    "      One_Hot_Encoder.append(col)\n",
    "\n",
    "  data_cat_binary = data_cat[Binary_Encoder].reset_index(drop=True)\n",
    "  data_cat_OneHot = data_cat[One_Hot_Encoder].reset_index(drop=True)\n",
    "\n",
    "  #\"More than 2 categories\"#\n",
    "\n",
    "  cat_encoder1 = OneHotEncoder()  \n",
    "  data_cat_1Hot = cat_encoder1.fit_transform(data_cat_OneHot).toarray()\n",
    "  cat_encoder1_names = cat_encoder1.get_feature_names_out()\n",
    "  data_1Hot = pd.DataFrame(data_cat_1Hot, columns = cat_encoder1_names)\n",
    "\n",
    "  #\"2 categories\"#\n",
    "\n",
    "  cat_encoder2 = ce.BinaryEncoder(cols=Binary_Encoder,return_df=True)\n",
    "  data_binary = cat_encoder2.fit_transform(data_cat_binary)\n",
    "\n",
    "  #\"merge df\"#\n",
    "  \n",
    "  df_cat = data_1Hot.merge(data_binary, left_index=True,\n",
    "                                    right_index=True).reset_index(drop=True)\n",
    "\n",
    "#Feature scaling#\n",
    "  scaler = MinMaxScaler()\n",
    "  scaler.fit(data_tr)\n",
    "  data_tr[columns_num] = scaler.transform(data_tr[columns_num])\n",
    "  data_tr = data_tr.reset_index(drop=True)\n",
    "\n",
    "#Preprocessed dataframe#    \n",
    "\n",
    "  df = data_tr.merge(df_cat, left_index=True,\n",
    "                                    right_index=True).reset_index(drop=True)\n",
    "\n",
    "  return df\n"
   ]
  },
  {
   "cell_type": "code",
   "execution_count": null,
   "id": "_6H2UiejX-7I",
   "metadata": {
    "id": "_6H2UiejX-7I"
   },
   "outputs": [],
   "source": [
    "X_train_p = preprocessing(X_train)"
   ]
  },
  {
   "cell_type": "code",
   "execution_count": null,
   "id": "tbAZa5Xhqy3F",
   "metadata": {
    "id": "tbAZa5Xhqy3F"
   },
   "outputs": [],
   "source": [
    "X_test_p = preprocessing(X_test)"
   ]
  },
  {
   "cell_type": "code",
   "execution_count": null,
   "id": "o7o5JCCs_equ",
   "metadata": {
    "colab": {
     "base_uri": "https://localhost:8080/"
    },
    "id": "o7o5JCCs_equ",
    "outputId": "73b0f270-9802-4bbc-be6e-7e3ce594fc2c"
   },
   "outputs": [
    {
     "data": {
      "text/plain": [
       "((307499, 183), (48744, 182))"
      ]
     },
     "execution_count": 48,
     "metadata": {},
     "output_type": "execute_result"
    }
   ],
   "source": [
    "X_train_p.shape, X_test_p.shape"
   ]
  },
  {
   "cell_type": "markdown",
   "id": "2f5df1e8-1f03-4f14-9dbd-292d3b84859d",
   "metadata": {
    "id": "2f5df1e8-1f03-4f14-9dbd-292d3b84859d"
   },
   "source": [
    "## Training Models"
   ]
  },
  {
   "cell_type": "markdown",
   "id": "83062f02-7157-4083-b57b-78fbc95fe39b",
   "metadata": {
    "id": "83062f02-7157-4083-b57b-78fbc95fe39b"
   },
   "source": [
    "As usual, you will start training simple models and will progressively move to more complex models and pipelines."
   ]
  },
  {
   "cell_type": "markdown",
   "id": "7e99a786-a17e-4caa-9ac7-48fced40fa71",
   "metadata": {
    "id": "7e99a786-a17e-4caa-9ac7-48fced40fa71"
   },
   "source": [
    "### Baseline: LogisticRegression"
   ]
  },
  {
   "cell_type": "markdown",
   "id": "91e10796-6d86-4fce-8738-4b9c4fbbf359",
   "metadata": {
    "id": "91e10796-6d86-4fce-8738-4b9c4fbbf359"
   },
   "source": [
    "1- Import LogisticRegression from sklearn and train a model using the preprocesed train data from the previous section, and just default parameters. If you receive a warning because the algorithm failed to converge, try increasing the number of iterations or decreasing the C parameter "
   ]
  },
  {
   "cell_type": "code",
   "execution_count": null,
   "id": "d3HIqM9jucEt",
   "metadata": {
    "id": "d3HIqM9jucEt"
   },
   "outputs": [],
   "source": [
    "y = X_train_p[[\"TARGET\"]]\n",
    "X = X_train_p.drop(\"TARGET\", axis=1)"
   ]
  },
  {
   "cell_type": "code",
   "execution_count": null,
   "id": "e1285054-4ea6-4bdb-9477-e774fc3d04c5",
   "metadata": {
    "colab": {
     "base_uri": "https://localhost:8080/"
    },
    "id": "e1285054-4ea6-4bdb-9477-e774fc3d04c5",
    "outputId": "0ad412b8-d6c8-4ba6-b817-af6455f75070"
   },
   "outputs": [
    {
     "name": "stderr",
     "output_type": "stream",
     "text": [
      "/usr/local/lib/python3.7/dist-packages/sklearn/utils/validation.py:993: DataConversionWarning: A column-vector y was passed when a 1d array was expected. Please change the shape of y to (n_samples, ), for example using ravel().\n",
      "  y = column_or_1d(y, warn=True)\n"
     ]
    }
   ],
   "source": [
    "model = LogisticRegression(max_iter=1000)\n",
    "model.fit(X, y)\n",
    "y_pred_1 = model.predict(X_test_p)\n",
    "y_prob_1 = model.predict_proba(X_test_p)"
   ]
  },
  {
   "cell_type": "markdown",
   "id": "018d5c7e-012f-47cc-8bfc-0332de907ae9",
   "metadata": {
    "id": "018d5c7e-012f-47cc-8bfc-0332de907ae9"
   },
   "source": [
    "2- Use the trained model to predict probabilites for the test data, and then save the results to a csv in the format expected in the competition: a SK_ID_CURR column and a TARGET column with probabilities. REMEMBER: the TARGET columns should ONLY contain the probabilities that the debt is not repaid (equivalent to the class 1)."
   ]
  },
  {
   "cell_type": "code",
   "execution_count": null,
   "id": "21rwJWLVgpbJ",
   "metadata": {
    "id": "21rwJWLVgpbJ"
   },
   "outputs": [],
   "source": [
    "y_prob_1 = pd.DataFrame(y_prob_1, columns=['PREDICTION_0', 'TARGET']\n",
    "                        ).reset_index(drop=True)"
   ]
  },
  {
   "cell_type": "code",
   "execution_count": null,
   "id": "wuCSM-Zt2RWw",
   "metadata": {
    "id": "wuCSM-Zt2RWw"
   },
   "outputs": [],
   "source": [
    "X_ID =  application_test[[\"SK_ID_CURR\"]].reset_index(drop=True)"
   ]
  },
  {
   "cell_type": "code",
   "execution_count": null,
   "id": "VN6G_68Xpn3r",
   "metadata": {
    "id": "VN6G_68Xpn3r"
   },
   "outputs": [],
   "source": [
    "y_LogisticRegression = y_prob_1.merge(X_ID, left_index=True, right_index=True)"
   ]
  },
  {
   "cell_type": "code",
   "execution_count": null,
   "id": "vLctc_OglQas",
   "metadata": {
    "colab": {
     "base_uri": "https://localhost:8080/"
    },
    "id": "vLctc_OglQas",
    "outputId": "c1349757-9961-4090-9b94-43e0acdf5d7e"
   },
   "outputs": [
    {
     "name": "stdout",
     "output_type": "stream",
     "text": [
      "<class 'pandas.core.frame.DataFrame'>\n",
      "RangeIndex: 48744 entries, 0 to 48743\n",
      "Data columns (total 3 columns):\n",
      " #   Column        Non-Null Count  Dtype  \n",
      "---  ------        --------------  -----  \n",
      " 0   PREDICTION_0  48744 non-null  float64\n",
      " 1   TARGET        48744 non-null  float64\n",
      " 2   SK_ID_CURR    48744 non-null  int64  \n",
      "dtypes: float64(2), int64(1)\n",
      "memory usage: 1.1 MB\n"
     ]
    }
   ],
   "source": [
    "y_LogisticRegression.info()"
   ]
  },
  {
   "cell_type": "code",
   "execution_count": null,
   "id": "jlZj-d8W5nDj",
   "metadata": {
    "id": "jlZj-d8W5nDj"
   },
   "outputs": [],
   "source": [
    "y_LogisticRegression['TARGET'] = round(y_LogisticRegression['TARGET']).astype(\"int32\")"
   ]
  },
  {
   "cell_type": "code",
   "execution_count": null,
   "id": "OTzar-ZD2gfz",
   "metadata": {
    "id": "OTzar-ZD2gfz"
   },
   "outputs": [],
   "source": [
    "y_LogisticRegression = y_LogisticRegression[[\"SK_ID_CURR\", \"TARGET\"]]"
   ]
  },
  {
   "cell_type": "code",
   "execution_count": null,
   "id": "pxl-wbh164qg",
   "metadata": {
    "colab": {
     "base_uri": "https://localhost:8080/",
     "height": 206
    },
    "id": "pxl-wbh164qg",
    "outputId": "e6d3b78b-d211-4757-cc68-639e614fd9cd"
   },
   "outputs": [
    {
     "data": {
      "text/html": [
       "\n",
       "  <div id=\"df-8a85fce4-3dcc-40ff-afc9-2969a6fca4f3\">\n",
       "    <div class=\"colab-df-container\">\n",
       "      <div>\n",
       "<style scoped>\n",
       "    .dataframe tbody tr th:only-of-type {\n",
       "        vertical-align: middle;\n",
       "    }\n",
       "\n",
       "    .dataframe tbody tr th {\n",
       "        vertical-align: top;\n",
       "    }\n",
       "\n",
       "    .dataframe thead th {\n",
       "        text-align: right;\n",
       "    }\n",
       "</style>\n",
       "<table border=\"1\" class=\"dataframe\">\n",
       "  <thead>\n",
       "    <tr style=\"text-align: right;\">\n",
       "      <th></th>\n",
       "      <th>SK_ID_CURR</th>\n",
       "      <th>TARGET</th>\n",
       "    </tr>\n",
       "  </thead>\n",
       "  <tbody>\n",
       "    <tr>\n",
       "      <th>0</th>\n",
       "      <td>100001</td>\n",
       "      <td>0</td>\n",
       "    </tr>\n",
       "    <tr>\n",
       "      <th>1</th>\n",
       "      <td>100005</td>\n",
       "      <td>0</td>\n",
       "    </tr>\n",
       "    <tr>\n",
       "      <th>2</th>\n",
       "      <td>100013</td>\n",
       "      <td>0</td>\n",
       "    </tr>\n",
       "    <tr>\n",
       "      <th>3</th>\n",
       "      <td>100028</td>\n",
       "      <td>0</td>\n",
       "    </tr>\n",
       "    <tr>\n",
       "      <th>4</th>\n",
       "      <td>100038</td>\n",
       "      <td>0</td>\n",
       "    </tr>\n",
       "  </tbody>\n",
       "</table>\n",
       "</div>\n",
       "      <button class=\"colab-df-convert\" onclick=\"convertToInteractive('df-8a85fce4-3dcc-40ff-afc9-2969a6fca4f3')\"\n",
       "              title=\"Convert this dataframe to an interactive table.\"\n",
       "              style=\"display:none;\">\n",
       "        \n",
       "  <svg xmlns=\"http://www.w3.org/2000/svg\" height=\"24px\"viewBox=\"0 0 24 24\"\n",
       "       width=\"24px\">\n",
       "    <path d=\"M0 0h24v24H0V0z\" fill=\"none\"/>\n",
       "    <path d=\"M18.56 5.44l.94 2.06.94-2.06 2.06-.94-2.06-.94-.94-2.06-.94 2.06-2.06.94zm-11 1L8.5 8.5l.94-2.06 2.06-.94-2.06-.94L8.5 2.5l-.94 2.06-2.06.94zm10 10l.94 2.06.94-2.06 2.06-.94-2.06-.94-.94-2.06-.94 2.06-2.06.94z\"/><path d=\"M17.41 7.96l-1.37-1.37c-.4-.4-.92-.59-1.43-.59-.52 0-1.04.2-1.43.59L10.3 9.45l-7.72 7.72c-.78.78-.78 2.05 0 2.83L4 21.41c.39.39.9.59 1.41.59.51 0 1.02-.2 1.41-.59l7.78-7.78 2.81-2.81c.8-.78.8-2.07 0-2.86zM5.41 20L4 18.59l7.72-7.72 1.47 1.35L5.41 20z\"/>\n",
       "  </svg>\n",
       "      </button>\n",
       "      \n",
       "  <style>\n",
       "    .colab-df-container {\n",
       "      display:flex;\n",
       "      flex-wrap:wrap;\n",
       "      gap: 12px;\n",
       "    }\n",
       "\n",
       "    .colab-df-convert {\n",
       "      background-color: #E8F0FE;\n",
       "      border: none;\n",
       "      border-radius: 50%;\n",
       "      cursor: pointer;\n",
       "      display: none;\n",
       "      fill: #1967D2;\n",
       "      height: 32px;\n",
       "      padding: 0 0 0 0;\n",
       "      width: 32px;\n",
       "    }\n",
       "\n",
       "    .colab-df-convert:hover {\n",
       "      background-color: #E2EBFA;\n",
       "      box-shadow: 0px 1px 2px rgba(60, 64, 67, 0.3), 0px 1px 3px 1px rgba(60, 64, 67, 0.15);\n",
       "      fill: #174EA6;\n",
       "    }\n",
       "\n",
       "    [theme=dark] .colab-df-convert {\n",
       "      background-color: #3B4455;\n",
       "      fill: #D2E3FC;\n",
       "    }\n",
       "\n",
       "    [theme=dark] .colab-df-convert:hover {\n",
       "      background-color: #434B5C;\n",
       "      box-shadow: 0px 1px 3px 1px rgba(0, 0, 0, 0.15);\n",
       "      filter: drop-shadow(0px 1px 2px rgba(0, 0, 0, 0.3));\n",
       "      fill: #FFFFFF;\n",
       "    }\n",
       "  </style>\n",
       "\n",
       "      <script>\n",
       "        const buttonEl =\n",
       "          document.querySelector('#df-8a85fce4-3dcc-40ff-afc9-2969a6fca4f3 button.colab-df-convert');\n",
       "        buttonEl.style.display =\n",
       "          google.colab.kernel.accessAllowed ? 'block' : 'none';\n",
       "\n",
       "        async function convertToInteractive(key) {\n",
       "          const element = document.querySelector('#df-8a85fce4-3dcc-40ff-afc9-2969a6fca4f3');\n",
       "          const dataTable =\n",
       "            await google.colab.kernel.invokeFunction('convertToInteractive',\n",
       "                                                     [key], {});\n",
       "          if (!dataTable) return;\n",
       "\n",
       "          const docLinkHtml = 'Like what you see? Visit the ' +\n",
       "            '<a target=\"_blank\" href=https://colab.research.google.com/notebooks/data_table.ipynb>data table notebook</a>'\n",
       "            + ' to learn more about interactive tables.';\n",
       "          element.innerHTML = '';\n",
       "          dataTable['output_type'] = 'display_data';\n",
       "          await google.colab.output.renderOutput(dataTable, element);\n",
       "          const docLink = document.createElement('div');\n",
       "          docLink.innerHTML = docLinkHtml;\n",
       "          element.appendChild(docLink);\n",
       "        }\n",
       "      </script>\n",
       "    </div>\n",
       "  </div>\n",
       "  "
      ],
      "text/plain": [
       "   SK_ID_CURR  TARGET\n",
       "0      100001       0\n",
       "1      100005       0\n",
       "2      100013       0\n",
       "3      100028       0\n",
       "4      100038       0"
      ]
     },
     "execution_count": 57,
     "metadata": {},
     "output_type": "execute_result"
    }
   ],
   "source": [
    "y_LogisticRegression.head()"
   ]
  },
  {
   "cell_type": "code",
   "execution_count": null,
   "id": "sjJHg0a024Kh",
   "metadata": {
    "id": "sjJHg0a024Kh"
   },
   "outputs": [],
   "source": [
    "y_LogisticRegression.to_csv('csv_LR.csv', index=False)"
   ]
  },
  {
   "cell_type": "markdown",
   "id": "b0826305-4900-4ba1-bf25-48205be980c6",
   "metadata": {
    "id": "b0826305-4900-4ba1-bf25-48205be980c6"
   },
   "source": [
    "3- Go to the Kaggle competition, and in the [submissions page](https://www.kaggle.com/competitions/home-credit-default-risk/submit) load your csv file. Report here the result in the private score you obtained."
   ]
  },
  {
   "cell_type": "markdown",
   "id": "AHx_OjWFJUfZ",
   "metadata": {
    "id": "AHx_OjWFJUfZ"
   },
   "source": [
    "**0.50216**"
   ]
  },
  {
   "cell_type": "markdown",
   "id": "4d889582-0c21-4789-acac-4d58f8eb74d9",
   "metadata": {
    "id": "4d889582-0c21-4789-acac-4d58f8eb74d9"
   },
   "source": [
    "At this point, the model should produce a result around 0.67 "
   ]
  },
  {
   "cell_type": "markdown",
   "id": "8f8300cc-d8be-4303-9042-757cb9e15d3e",
   "metadata": {
    "id": "8f8300cc-d8be-4303-9042-757cb9e15d3e"
   },
   "source": [
    "### Training a Random Forest Classifier "
   ]
  },
  {
   "cell_type": "markdown",
   "id": "05280b49-11af-4fe6-9236-95f31fb5e0d5",
   "metadata": {
    "id": "05280b49-11af-4fe6-9236-95f31fb5e0d5"
   },
   "source": [
    "You're gonna start working in more complex models: ensambles, particularly, you're going to use the Random Forest Classifier from Scikit Learn. "
   ]
  },
  {
   "cell_type": "markdown",
   "id": "0efdfd67-ec68-49b3-8727-7ab9784b5e54",
   "metadata": {
    "id": "0efdfd67-ec68-49b3-8727-7ab9784b5e54"
   },
   "source": [
    "1- Train a RandomForestClassifier, print the time taken by the fit function. Just use default hyperparameters, except for n_jobs, which should be set to \"-1\" to allow the library to use all CPU cores to speed up training time."
   ]
  },
  {
   "cell_type": "code",
   "execution_count": null,
   "id": "YI4KuHiMg4tg",
   "metadata": {
    "colab": {
     "base_uri": "https://localhost:8080/"
    },
    "id": "YI4KuHiMg4tg",
    "outputId": "4210e8cf-3f4c-45e3-b04b-c8e7587e7204"
   },
   "outputs": [
    {
     "name": "stderr",
     "output_type": "stream",
     "text": [
      "/usr/local/lib/python3.7/dist-packages/ipykernel_launcher.py:2: DataConversionWarning: A column-vector y was passed when a 1d array was expected. Please change the shape of y to (n_samples,), for example using ravel().\n",
      "  \n"
     ]
    }
   ],
   "source": [
    "model2 = RandomForestClassifier()\n",
    "model2.fit(X, y)\n",
    "y_pred_2 = model.predict_proba(X_test_p)"
   ]
  },
  {
   "cell_type": "markdown",
   "id": "3b12a0a5-8ff1-4cb6-9928-37122d2a3435",
   "metadata": {
    "id": "3b12a0a5-8ff1-4cb6-9928-37122d2a3435"
   },
   "source": [
    "2- Use the classifier to predict probabilities on the test set, and save the results to a csv file."
   ]
  },
  {
   "cell_type": "code",
   "execution_count": null,
   "id": "gvG51Z3dJjdz",
   "metadata": {
    "id": "gvG51Z3dJjdz"
   },
   "outputs": [],
   "source": [
    "y_pred_2 = pd.DataFrame(y_pred_2, columns=['PREDICTION_0', 'TARGET']\n",
    "                        ).reset_index(drop=True)"
   ]
  },
  {
   "cell_type": "code",
   "execution_count": null,
   "id": "Wk6_mgwLJjdz",
   "metadata": {
    "id": "Wk6_mgwLJjdz"
   },
   "outputs": [],
   "source": [
    "y_RandomForestClassifier = y_pred_2.merge(X_ID, left_index=True, right_index=True)"
   ]
  },
  {
   "cell_type": "code",
   "execution_count": null,
   "id": "cJugjBWLJjdz",
   "metadata": {
    "colab": {
     "base_uri": "https://localhost:8080/"
    },
    "id": "cJugjBWLJjdz",
    "outputId": "8ea324d3-7cb9-4973-dfcc-d16476bafa70"
   },
   "outputs": [
    {
     "name": "stdout",
     "output_type": "stream",
     "text": [
      "<class 'pandas.core.frame.DataFrame'>\n",
      "RangeIndex: 48744 entries, 0 to 48743\n",
      "Data columns (total 3 columns):\n",
      " #   Column        Non-Null Count  Dtype  \n",
      "---  ------        --------------  -----  \n",
      " 0   PREDICTION_0  48744 non-null  float64\n",
      " 1   TARGET        48744 non-null  float64\n",
      " 2   SK_ID_CURR    48744 non-null  int64  \n",
      "dtypes: float64(2), int64(1)\n",
      "memory usage: 1.1 MB\n"
     ]
    }
   ],
   "source": [
    "y_RandomForestClassifier.info()"
   ]
  },
  {
   "cell_type": "code",
   "execution_count": null,
   "id": "siB89ZqwJjd0",
   "metadata": {
    "id": "siB89ZqwJjd0"
   },
   "outputs": [],
   "source": [
    "y_RandomForestClassifier['TARGET'] = round(y_RandomForestClassifier['TARGET']).astype(\"int32\")"
   ]
  },
  {
   "cell_type": "code",
   "execution_count": null,
   "id": "8npFTzvuJjd0",
   "metadata": {
    "id": "8npFTzvuJjd0"
   },
   "outputs": [],
   "source": [
    "y_RandomForestClassifier = y_RandomForestClassifier[[\"SK_ID_CURR\", \"TARGET\"]]"
   ]
  },
  {
   "cell_type": "code",
   "execution_count": null,
   "id": "MN8V6hGIJjd0",
   "metadata": {
    "colab": {
     "base_uri": "https://localhost:8080/",
     "height": 206
    },
    "id": "MN8V6hGIJjd0",
    "outputId": "a9005f47-13f0-4610-f100-c5745dcdafa5"
   },
   "outputs": [
    {
     "data": {
      "text/html": [
       "\n",
       "  <div id=\"df-cc4ded5a-10aa-4013-b5fe-ee63b23960c6\">\n",
       "    <div class=\"colab-df-container\">\n",
       "      <div>\n",
       "<style scoped>\n",
       "    .dataframe tbody tr th:only-of-type {\n",
       "        vertical-align: middle;\n",
       "    }\n",
       "\n",
       "    .dataframe tbody tr th {\n",
       "        vertical-align: top;\n",
       "    }\n",
       "\n",
       "    .dataframe thead th {\n",
       "        text-align: right;\n",
       "    }\n",
       "</style>\n",
       "<table border=\"1\" class=\"dataframe\">\n",
       "  <thead>\n",
       "    <tr style=\"text-align: right;\">\n",
       "      <th></th>\n",
       "      <th>SK_ID_CURR</th>\n",
       "      <th>TARGET</th>\n",
       "    </tr>\n",
       "  </thead>\n",
       "  <tbody>\n",
       "    <tr>\n",
       "      <th>0</th>\n",
       "      <td>100001</td>\n",
       "      <td>0</td>\n",
       "    </tr>\n",
       "    <tr>\n",
       "      <th>1</th>\n",
       "      <td>100005</td>\n",
       "      <td>0</td>\n",
       "    </tr>\n",
       "    <tr>\n",
       "      <th>2</th>\n",
       "      <td>100013</td>\n",
       "      <td>0</td>\n",
       "    </tr>\n",
       "    <tr>\n",
       "      <th>3</th>\n",
       "      <td>100028</td>\n",
       "      <td>0</td>\n",
       "    </tr>\n",
       "    <tr>\n",
       "      <th>4</th>\n",
       "      <td>100038</td>\n",
       "      <td>0</td>\n",
       "    </tr>\n",
       "  </tbody>\n",
       "</table>\n",
       "</div>\n",
       "      <button class=\"colab-df-convert\" onclick=\"convertToInteractive('df-cc4ded5a-10aa-4013-b5fe-ee63b23960c6')\"\n",
       "              title=\"Convert this dataframe to an interactive table.\"\n",
       "              style=\"display:none;\">\n",
       "        \n",
       "  <svg xmlns=\"http://www.w3.org/2000/svg\" height=\"24px\"viewBox=\"0 0 24 24\"\n",
       "       width=\"24px\">\n",
       "    <path d=\"M0 0h24v24H0V0z\" fill=\"none\"/>\n",
       "    <path d=\"M18.56 5.44l.94 2.06.94-2.06 2.06-.94-2.06-.94-.94-2.06-.94 2.06-2.06.94zm-11 1L8.5 8.5l.94-2.06 2.06-.94-2.06-.94L8.5 2.5l-.94 2.06-2.06.94zm10 10l.94 2.06.94-2.06 2.06-.94-2.06-.94-.94-2.06-.94 2.06-2.06.94z\"/><path d=\"M17.41 7.96l-1.37-1.37c-.4-.4-.92-.59-1.43-.59-.52 0-1.04.2-1.43.59L10.3 9.45l-7.72 7.72c-.78.78-.78 2.05 0 2.83L4 21.41c.39.39.9.59 1.41.59.51 0 1.02-.2 1.41-.59l7.78-7.78 2.81-2.81c.8-.78.8-2.07 0-2.86zM5.41 20L4 18.59l7.72-7.72 1.47 1.35L5.41 20z\"/>\n",
       "  </svg>\n",
       "      </button>\n",
       "      \n",
       "  <style>\n",
       "    .colab-df-container {\n",
       "      display:flex;\n",
       "      flex-wrap:wrap;\n",
       "      gap: 12px;\n",
       "    }\n",
       "\n",
       "    .colab-df-convert {\n",
       "      background-color: #E8F0FE;\n",
       "      border: none;\n",
       "      border-radius: 50%;\n",
       "      cursor: pointer;\n",
       "      display: none;\n",
       "      fill: #1967D2;\n",
       "      height: 32px;\n",
       "      padding: 0 0 0 0;\n",
       "      width: 32px;\n",
       "    }\n",
       "\n",
       "    .colab-df-convert:hover {\n",
       "      background-color: #E2EBFA;\n",
       "      box-shadow: 0px 1px 2px rgba(60, 64, 67, 0.3), 0px 1px 3px 1px rgba(60, 64, 67, 0.15);\n",
       "      fill: #174EA6;\n",
       "    }\n",
       "\n",
       "    [theme=dark] .colab-df-convert {\n",
       "      background-color: #3B4455;\n",
       "      fill: #D2E3FC;\n",
       "    }\n",
       "\n",
       "    [theme=dark] .colab-df-convert:hover {\n",
       "      background-color: #434B5C;\n",
       "      box-shadow: 0px 1px 3px 1px rgba(0, 0, 0, 0.15);\n",
       "      filter: drop-shadow(0px 1px 2px rgba(0, 0, 0, 0.3));\n",
       "      fill: #FFFFFF;\n",
       "    }\n",
       "  </style>\n",
       "\n",
       "      <script>\n",
       "        const buttonEl =\n",
       "          document.querySelector('#df-cc4ded5a-10aa-4013-b5fe-ee63b23960c6 button.colab-df-convert');\n",
       "        buttonEl.style.display =\n",
       "          google.colab.kernel.accessAllowed ? 'block' : 'none';\n",
       "\n",
       "        async function convertToInteractive(key) {\n",
       "          const element = document.querySelector('#df-cc4ded5a-10aa-4013-b5fe-ee63b23960c6');\n",
       "          const dataTable =\n",
       "            await google.colab.kernel.invokeFunction('convertToInteractive',\n",
       "                                                     [key], {});\n",
       "          if (!dataTable) return;\n",
       "\n",
       "          const docLinkHtml = 'Like what you see? Visit the ' +\n",
       "            '<a target=\"_blank\" href=https://colab.research.google.com/notebooks/data_table.ipynb>data table notebook</a>'\n",
       "            + ' to learn more about interactive tables.';\n",
       "          element.innerHTML = '';\n",
       "          dataTable['output_type'] = 'display_data';\n",
       "          await google.colab.output.renderOutput(dataTable, element);\n",
       "          const docLink = document.createElement('div');\n",
       "          docLink.innerHTML = docLinkHtml;\n",
       "          element.appendChild(docLink);\n",
       "        }\n",
       "      </script>\n",
       "    </div>\n",
       "  </div>\n",
       "  "
      ],
      "text/plain": [
       "   SK_ID_CURR  TARGET\n",
       "0      100001       0\n",
       "1      100005       0\n",
       "2      100013       0\n",
       "3      100028       0\n",
       "4      100038       0"
      ]
     },
     "execution_count": 65,
     "metadata": {},
     "output_type": "execute_result"
    }
   ],
   "source": [
    "y_RandomForestClassifier.head()"
   ]
  },
  {
   "cell_type": "code",
   "execution_count": null,
   "id": "-xv0vAAaJjd0",
   "metadata": {
    "id": "-xv0vAAaJjd0"
   },
   "outputs": [],
   "source": [
    "y_RandomForestClassifier.to_csv('csv_RFC.csv', index=False)"
   ]
  },
  {
   "cell_type": "markdown",
   "id": "40be1079-e800-42b1-96b0-dce1d04c0a86",
   "metadata": {
    "id": "40be1079-e800-42b1-96b0-dce1d04c0a86"
   },
   "source": [
    "3- Load the predictions to the competition. Report the private score here."
   ]
  },
  {
   "cell_type": "markdown",
   "id": "8TVMutwlK6ZT",
   "metadata": {
    "id": "8TVMutwlK6ZT"
   },
   "source": [
    "**0.50216**"
   ]
  },
  {
   "cell_type": "markdown",
   "id": "4acfcc24-62b6-4118-9c42-a0268dcf5c53",
   "metadata": {
    "id": "4acfcc24-62b6-4118-9c42-a0268dcf5c53"
   },
   "source": [
    "### Randomized Search with Cross Validation"
   ]
  },
  {
   "cell_type": "markdown",
   "id": "dd634b2b-68af-4db1-b062-1496f8d1179e",
   "metadata": {
    "id": "dd634b2b-68af-4db1-b062-1496f8d1179e"
   },
   "source": [
    "So far, we've only created models using the default hyperparameters of each algorithm. This is usually something that we would only do for baseline models, hyperparameter tuning is a very important part of the modeling process and is often the difference between having an acceptable model or not.\n",
    "\n",
    "But, there are usually lots of hyperparameters to tune and a finite amount of time to do it, you have to consider the time and resources it takes to find an optimal combination of them. In the previous section you trained a random forest classifier and saw how much it took to train it once in your PC. If you want to do hyperparameter optimization you now have to consider that you will have to train the algorithm N number of times, with N being the cartesian product of all parameters. \n",
    "\n",
    "Furthermore, you can't validate the performance of your trained models on the test set, as this data should only be used to validate the final model. So we have to implement a validation strategy, K-Fold Cross Validation being the most common. But this also adds time complexity to our training, because we will have to train each combinations of hyperparameters M number of times, X being the number of folds in which we divided our dataset, so the total number of training iterations will be NxM... this resulting number can grow VERY quickly.\n",
    "\n",
    "Fortunately there are strategies to mitigate this, here you're going to select a small number of hyperparameters to test a RandomForestClassifier, and use a Randomized Search algorithm with K-Fold Cross Validation to avoid doing a full search across the grid. \n",
    "\n",
    "Remember: take in consideration how much time it took to train a single classifier, and define the number of cross validations folds and iterations of the search accordingly. \n",
    "A recommendation: run the training process, go make yourself a cup of coffee, sit somewhere comfortably and forget about it for a while.\n"
   ]
  },
  {
   "cell_type": "markdown",
   "id": "c49a11c7-156f-46bb-8bba-be29d1b2ed1a",
   "metadata": {
    "id": "c49a11c7-156f-46bb-8bba-be29d1b2ed1a"
   },
   "source": [
    "1- Use RandomizedSearchCV to find the best combination of hyperparameters for a RandomForestClassifier. The validation metric used to evaluate the models should be \"roc_auc\"."
   ]
  },
  {
   "cell_type": "code",
   "execution_count": null,
   "id": "0cb4c536-82d8-49f8-a0b6-fede491055c1",
   "metadata": {
    "colab": {
     "base_uri": "https://localhost:8080/"
    },
    "id": "0cb4c536-82d8-49f8-a0b6-fede491055c1",
    "outputId": "dd761d09-c2a2-460f-e19b-f8d269ee2870"
   },
   "outputs": [
    {
     "name": "stderr",
     "output_type": "stream",
     "text": [
      "/usr/local/lib/python3.7/dist-packages/sklearn/model_selection/_validation.py:680: DataConversionWarning: A column-vector y was passed when a 1d array was expected. Please change the shape of y to (n_samples,), for example using ravel().\n",
      "  estimator.fit(X_train, y_train, **fit_params)\n",
      "/usr/local/lib/python3.7/dist-packages/sklearn/model_selection/_validation.py:680: DataConversionWarning: A column-vector y was passed when a 1d array was expected. Please change the shape of y to (n_samples,), for example using ravel().\n",
      "  estimator.fit(X_train, y_train, **fit_params)\n",
      "/usr/local/lib/python3.7/dist-packages/sklearn/model_selection/_validation.py:680: DataConversionWarning: A column-vector y was passed when a 1d array was expected. Please change the shape of y to (n_samples,), for example using ravel().\n",
      "  estimator.fit(X_train, y_train, **fit_params)\n",
      "/usr/local/lib/python3.7/dist-packages/sklearn/model_selection/_validation.py:680: DataConversionWarning: A column-vector y was passed when a 1d array was expected. Please change the shape of y to (n_samples,), for example using ravel().\n",
      "  estimator.fit(X_train, y_train, **fit_params)\n",
      "/usr/local/lib/python3.7/dist-packages/sklearn/model_selection/_validation.py:680: DataConversionWarning: A column-vector y was passed when a 1d array was expected. Please change the shape of y to (n_samples,), for example using ravel().\n",
      "  estimator.fit(X_train, y_train, **fit_params)\n",
      "/usr/local/lib/python3.7/dist-packages/sklearn/model_selection/_validation.py:680: DataConversionWarning: A column-vector y was passed when a 1d array was expected. Please change the shape of y to (n_samples,), for example using ravel().\n",
      "  estimator.fit(X_train, y_train, **fit_params)\n",
      "/usr/local/lib/python3.7/dist-packages/sklearn/model_selection/_validation.py:680: DataConversionWarning: A column-vector y was passed when a 1d array was expected. Please change the shape of y to (n_samples,), for example using ravel().\n",
      "  estimator.fit(X_train, y_train, **fit_params)\n",
      "/usr/local/lib/python3.7/dist-packages/sklearn/model_selection/_validation.py:680: DataConversionWarning: A column-vector y was passed when a 1d array was expected. Please change the shape of y to (n_samples,), for example using ravel().\n",
      "  estimator.fit(X_train, y_train, **fit_params)\n",
      "/usr/local/lib/python3.7/dist-packages/sklearn/model_selection/_validation.py:680: DataConversionWarning: A column-vector y was passed when a 1d array was expected. Please change the shape of y to (n_samples,), for example using ravel().\n",
      "  estimator.fit(X_train, y_train, **fit_params)\n",
      "/usr/local/lib/python3.7/dist-packages/sklearn/model_selection/_validation.py:680: DataConversionWarning: A column-vector y was passed when a 1d array was expected. Please change the shape of y to (n_samples,), for example using ravel().\n",
      "  estimator.fit(X_train, y_train, **fit_params)\n",
      "/usr/local/lib/python3.7/dist-packages/sklearn/model_selection/_validation.py:680: DataConversionWarning: A column-vector y was passed when a 1d array was expected. Please change the shape of y to (n_samples,), for example using ravel().\n",
      "  estimator.fit(X_train, y_train, **fit_params)\n",
      "/usr/local/lib/python3.7/dist-packages/sklearn/model_selection/_validation.py:680: DataConversionWarning: A column-vector y was passed when a 1d array was expected. Please change the shape of y to (n_samples,), for example using ravel().\n",
      "  estimator.fit(X_train, y_train, **fit_params)\n",
      "/usr/local/lib/python3.7/dist-packages/sklearn/model_selection/_validation.py:680: DataConversionWarning: A column-vector y was passed when a 1d array was expected. Please change the shape of y to (n_samples,), for example using ravel().\n",
      "  estimator.fit(X_train, y_train, **fit_params)\n",
      "/usr/local/lib/python3.7/dist-packages/sklearn/model_selection/_validation.py:680: DataConversionWarning: A column-vector y was passed when a 1d array was expected. Please change the shape of y to (n_samples,), for example using ravel().\n",
      "  estimator.fit(X_train, y_train, **fit_params)\n",
      "/usr/local/lib/python3.7/dist-packages/sklearn/model_selection/_validation.py:680: DataConversionWarning: A column-vector y was passed when a 1d array was expected. Please change the shape of y to (n_samples,), for example using ravel().\n",
      "  estimator.fit(X_train, y_train, **fit_params)\n",
      "/usr/local/lib/python3.7/dist-packages/sklearn/model_selection/_validation.py:680: DataConversionWarning: A column-vector y was passed when a 1d array was expected. Please change the shape of y to (n_samples,), for example using ravel().\n",
      "  estimator.fit(X_train, y_train, **fit_params)\n",
      "/usr/local/lib/python3.7/dist-packages/sklearn/model_selection/_validation.py:680: DataConversionWarning: A column-vector y was passed when a 1d array was expected. Please change the shape of y to (n_samples,), for example using ravel().\n",
      "  estimator.fit(X_train, y_train, **fit_params)\n",
      "/usr/local/lib/python3.7/dist-packages/sklearn/model_selection/_validation.py:680: DataConversionWarning: A column-vector y was passed when a 1d array was expected. Please change the shape of y to (n_samples,), for example using ravel().\n",
      "  estimator.fit(X_train, y_train, **fit_params)\n",
      "/usr/local/lib/python3.7/dist-packages/sklearn/model_selection/_validation.py:680: DataConversionWarning: A column-vector y was passed when a 1d array was expected. Please change the shape of y to (n_samples,), for example using ravel().\n",
      "  estimator.fit(X_train, y_train, **fit_params)\n",
      "/usr/local/lib/python3.7/dist-packages/sklearn/model_selection/_validation.py:680: DataConversionWarning: A column-vector y was passed when a 1d array was expected. Please change the shape of y to (n_samples,), for example using ravel().\n",
      "  estimator.fit(X_train, y_train, **fit_params)\n",
      "/usr/local/lib/python3.7/dist-packages/sklearn/model_selection/_validation.py:680: DataConversionWarning: A column-vector y was passed when a 1d array was expected. Please change the shape of y to (n_samples,), for example using ravel().\n",
      "  estimator.fit(X_train, y_train, **fit_params)\n",
      "/usr/local/lib/python3.7/dist-packages/sklearn/model_selection/_validation.py:680: DataConversionWarning: A column-vector y was passed when a 1d array was expected. Please change the shape of y to (n_samples,), for example using ravel().\n",
      "  estimator.fit(X_train, y_train, **fit_params)\n",
      "/usr/local/lib/python3.7/dist-packages/sklearn/model_selection/_validation.py:680: DataConversionWarning: A column-vector y was passed when a 1d array was expected. Please change the shape of y to (n_samples,), for example using ravel().\n",
      "  estimator.fit(X_train, y_train, **fit_params)\n",
      "/usr/local/lib/python3.7/dist-packages/sklearn/model_selection/_validation.py:680: DataConversionWarning: A column-vector y was passed when a 1d array was expected. Please change the shape of y to (n_samples,), for example using ravel().\n",
      "  estimator.fit(X_train, y_train, **fit_params)\n",
      "/usr/local/lib/python3.7/dist-packages/sklearn/model_selection/_validation.py:680: DataConversionWarning: A column-vector y was passed when a 1d array was expected. Please change the shape of y to (n_samples,), for example using ravel().\n",
      "  estimator.fit(X_train, y_train, **fit_params)\n",
      "/usr/local/lib/python3.7/dist-packages/sklearn/model_selection/_validation.py:680: DataConversionWarning: A column-vector y was passed when a 1d array was expected. Please change the shape of y to (n_samples,), for example using ravel().\n",
      "  estimator.fit(X_train, y_train, **fit_params)\n",
      "/usr/local/lib/python3.7/dist-packages/sklearn/model_selection/_validation.py:680: DataConversionWarning: A column-vector y was passed when a 1d array was expected. Please change the shape of y to (n_samples,), for example using ravel().\n",
      "  estimator.fit(X_train, y_train, **fit_params)\n",
      "/usr/local/lib/python3.7/dist-packages/sklearn/model_selection/_validation.py:680: DataConversionWarning: A column-vector y was passed when a 1d array was expected. Please change the shape of y to (n_samples,), for example using ravel().\n",
      "  estimator.fit(X_train, y_train, **fit_params)\n",
      "/usr/local/lib/python3.7/dist-packages/sklearn/model_selection/_validation.py:680: DataConversionWarning: A column-vector y was passed when a 1d array was expected. Please change the shape of y to (n_samples,), for example using ravel().\n",
      "  estimator.fit(X_train, y_train, **fit_params)\n",
      "/usr/local/lib/python3.7/dist-packages/sklearn/model_selection/_validation.py:680: DataConversionWarning: A column-vector y was passed when a 1d array was expected. Please change the shape of y to (n_samples,), for example using ravel().\n",
      "  estimator.fit(X_train, y_train, **fit_params)\n",
      "/usr/local/lib/python3.7/dist-packages/sklearn/model_selection/_validation.py:680: DataConversionWarning: A column-vector y was passed when a 1d array was expected. Please change the shape of y to (n_samples,), for example using ravel().\n",
      "  estimator.fit(X_train, y_train, **fit_params)\n",
      "/usr/local/lib/python3.7/dist-packages/sklearn/model_selection/_validation.py:680: DataConversionWarning: A column-vector y was passed when a 1d array was expected. Please change the shape of y to (n_samples,), for example using ravel().\n",
      "  estimator.fit(X_train, y_train, **fit_params)\n",
      "/usr/local/lib/python3.7/dist-packages/sklearn/model_selection/_validation.py:680: DataConversionWarning: A column-vector y was passed when a 1d array was expected. Please change the shape of y to (n_samples,), for example using ravel().\n",
      "  estimator.fit(X_train, y_train, **fit_params)\n",
      "/usr/local/lib/python3.7/dist-packages/sklearn/model_selection/_validation.py:680: DataConversionWarning: A column-vector y was passed when a 1d array was expected. Please change the shape of y to (n_samples,), for example using ravel().\n",
      "  estimator.fit(X_train, y_train, **fit_params)\n",
      "/usr/local/lib/python3.7/dist-packages/sklearn/model_selection/_validation.py:680: DataConversionWarning: A column-vector y was passed when a 1d array was expected. Please change the shape of y to (n_samples,), for example using ravel().\n",
      "  estimator.fit(X_train, y_train, **fit_params)\n",
      "/usr/local/lib/python3.7/dist-packages/sklearn/model_selection/_validation.py:680: DataConversionWarning: A column-vector y was passed when a 1d array was expected. Please change the shape of y to (n_samples,), for example using ravel().\n",
      "  estimator.fit(X_train, y_train, **fit_params)\n",
      "/usr/local/lib/python3.7/dist-packages/sklearn/model_selection/_validation.py:680: DataConversionWarning: A column-vector y was passed when a 1d array was expected. Please change the shape of y to (n_samples,), for example using ravel().\n",
      "  estimator.fit(X_train, y_train, **fit_params)\n",
      "/usr/local/lib/python3.7/dist-packages/sklearn/model_selection/_validation.py:680: DataConversionWarning: A column-vector y was passed when a 1d array was expected. Please change the shape of y to (n_samples,), for example using ravel().\n",
      "  estimator.fit(X_train, y_train, **fit_params)\n",
      "/usr/local/lib/python3.7/dist-packages/sklearn/model_selection/_validation.py:680: DataConversionWarning: A column-vector y was passed when a 1d array was expected. Please change the shape of y to (n_samples,), for example using ravel().\n",
      "  estimator.fit(X_train, y_train, **fit_params)\n",
      "/usr/local/lib/python3.7/dist-packages/sklearn/model_selection/_validation.py:680: DataConversionWarning: A column-vector y was passed when a 1d array was expected. Please change the shape of y to (n_samples,), for example using ravel().\n",
      "  estimator.fit(X_train, y_train, **fit_params)\n",
      "/usr/local/lib/python3.7/dist-packages/sklearn/model_selection/_validation.py:680: DataConversionWarning: A column-vector y was passed when a 1d array was expected. Please change the shape of y to (n_samples,), for example using ravel().\n",
      "  estimator.fit(X_train, y_train, **fit_params)\n",
      "/usr/local/lib/python3.7/dist-packages/sklearn/model_selection/_validation.py:680: DataConversionWarning: A column-vector y was passed when a 1d array was expected. Please change the shape of y to (n_samples,), for example using ravel().\n",
      "  estimator.fit(X_train, y_train, **fit_params)\n",
      "/usr/local/lib/python3.7/dist-packages/sklearn/model_selection/_validation.py:680: DataConversionWarning: A column-vector y was passed when a 1d array was expected. Please change the shape of y to (n_samples,), for example using ravel().\n",
      "  estimator.fit(X_train, y_train, **fit_params)\n",
      "/usr/local/lib/python3.7/dist-packages/sklearn/model_selection/_validation.py:680: DataConversionWarning: A column-vector y was passed when a 1d array was expected. Please change the shape of y to (n_samples,), for example using ravel().\n",
      "  estimator.fit(X_train, y_train, **fit_params)\n",
      "/usr/local/lib/python3.7/dist-packages/sklearn/model_selection/_validation.py:680: DataConversionWarning: A column-vector y was passed when a 1d array was expected. Please change the shape of y to (n_samples,), for example using ravel().\n",
      "  estimator.fit(X_train, y_train, **fit_params)\n",
      "/usr/local/lib/python3.7/dist-packages/sklearn/model_selection/_validation.py:680: DataConversionWarning: A column-vector y was passed when a 1d array was expected. Please change the shape of y to (n_samples,), for example using ravel().\n",
      "  estimator.fit(X_train, y_train, **fit_params)\n",
      "/usr/local/lib/python3.7/dist-packages/sklearn/model_selection/_validation.py:680: DataConversionWarning: A column-vector y was passed when a 1d array was expected. Please change the shape of y to (n_samples,), for example using ravel().\n",
      "  estimator.fit(X_train, y_train, **fit_params)\n",
      "/usr/local/lib/python3.7/dist-packages/sklearn/model_selection/_validation.py:680: DataConversionWarning: A column-vector y was passed when a 1d array was expected. Please change the shape of y to (n_samples,), for example using ravel().\n",
      "  estimator.fit(X_train, y_train, **fit_params)\n",
      "/usr/local/lib/python3.7/dist-packages/sklearn/model_selection/_validation.py:680: DataConversionWarning: A column-vector y was passed when a 1d array was expected. Please change the shape of y to (n_samples,), for example using ravel().\n",
      "  estimator.fit(X_train, y_train, **fit_params)\n",
      "/usr/local/lib/python3.7/dist-packages/sklearn/model_selection/_validation.py:680: DataConversionWarning: A column-vector y was passed when a 1d array was expected. Please change the shape of y to (n_samples,), for example using ravel().\n",
      "  estimator.fit(X_train, y_train, **fit_params)\n",
      "/usr/local/lib/python3.7/dist-packages/sklearn/model_selection/_search.py:926: DataConversionWarning: A column-vector y was passed when a 1d array was expected. Please change the shape of y to (n_samples,), for example using ravel().\n",
      "  self.best_estimator_.fit(X, y, **fit_params)\n"
     ]
    },
    {
     "data": {
      "text/plain": [
       "{'bootstrap': False,\n",
       " 'max_depth': 50,\n",
       " 'max_features': 'auto',\n",
       " 'min_samples_leaf': 1,\n",
       " 'min_samples_split': 5,\n",
       " 'n_estimators': 100}"
      ]
     },
     "execution_count": 148,
     "metadata": {},
     "output_type": "execute_result"
    }
   ],
   "source": [
    "### Complete in this cell: Use RandomizedSearchCV to find the best combination of hyperparameters for a RandomForestClassifier\n",
    "example_hyperparameter_grid = {\n",
    " 'bootstrap': [True, False],\n",
    " 'max_depth': [10, 50, 100, None],\n",
    " 'max_features': ['auto', 'sqrt'],\n",
    " 'min_samples_leaf': [1, 2, 4],\n",
    " 'min_samples_split': [2, 5, 10],\n",
    " 'n_estimators': [100, 200]\n",
    "}\n",
    "clf = RandomizedSearchCV(model2, example_hyperparameter_grid, random_state=0)\n",
    "search = clf.fit(X, y)\n",
    "search.best_params_"
   ]
  },
  {
   "cell_type": "markdown",
   "id": "4aHPFbO34yNC",
   "metadata": {
    "id": "4aHPFbO34yNC"
   },
   "source": [
    "{'bootstrap': False,\n",
    " 'max_depth': 50,\n",
    " 'max_features': 'auto',\n",
    " 'min_samples_leaf': 1,\n",
    " 'min_samples_split': 5,\n",
    " 'n_estimators': 100}"
   ]
  },
  {
   "cell_type": "code",
   "execution_count": null,
   "id": "lC9loiTcC_Up",
   "metadata": {
    "colab": {
     "base_uri": "https://localhost:8080/"
    },
    "id": "lC9loiTcC_Up",
    "outputId": "60ec29ca-d97e-45c7-82cb-9a8e9125b1d3"
   },
   "outputs": [
    {
     "name": "stderr",
     "output_type": "stream",
     "text": [
      "/usr/local/lib/python3.7/dist-packages/ipykernel_launcher.py:7: DataConversionWarning: A column-vector y was passed when a 1d array was expected. Please change the shape of y to (n_samples,), for example using ravel().\n",
      "  import sys\n"
     ]
    }
   ],
   "source": [
    "model2 = RandomForestClassifier(bootstrap= False,\n",
    "                                max_depth= 50,\n",
    "                                max_features= 'auto',\n",
    "                                min_samples_leaf= 1,\n",
    "                                min_samples_split= 5,\n",
    "                                n_estimators= 100)\n",
    "model2.fit(X, y)\n",
    "y_pred_3 = model.predict_proba(X_test_p) "
   ]
  },
  {
   "cell_type": "markdown",
   "id": "b09205aa-5afc-481a-b45b-d5e80b56d804",
   "metadata": {
    "id": "b09205aa-5afc-481a-b45b-d5e80b56d804"
   },
   "source": [
    "2- Use the classifier to predict probabilities on the test set, and save the results to a csv file."
   ]
  },
  {
   "cell_type": "code",
   "execution_count": null,
   "id": "h3Hro0wcU90b",
   "metadata": {
    "id": "h3Hro0wcU90b"
   },
   "outputs": [],
   "source": [
    "y_pred_3 = pd.DataFrame(y_pred_3, columns=['PREDICTION_0', 'TARGET']\n",
    "                        ).reset_index(drop=True)"
   ]
  },
  {
   "cell_type": "code",
   "execution_count": null,
   "id": "ZKb8ukdsU90b",
   "metadata": {
    "id": "ZKb8ukdsU90b"
   },
   "outputs": [],
   "source": [
    "y_RandomizedSearch = y_pred_3.merge(X_ID, left_index=True, right_index=True)"
   ]
  },
  {
   "cell_type": "code",
   "execution_count": null,
   "id": "WiCx7ukCU90b",
   "metadata": {
    "colab": {
     "base_uri": "https://localhost:8080/"
    },
    "id": "WiCx7ukCU90b",
    "outputId": "2450a2b0-2891-4289-a5ac-2e9a1b0f4489"
   },
   "outputs": [
    {
     "name": "stdout",
     "output_type": "stream",
     "text": [
      "<class 'pandas.core.frame.DataFrame'>\n",
      "RangeIndex: 48744 entries, 0 to 48743\n",
      "Data columns (total 3 columns):\n",
      " #   Column        Non-Null Count  Dtype  \n",
      "---  ------        --------------  -----  \n",
      " 0   PREDICTION_0  48744 non-null  float64\n",
      " 1   TARGET        48744 non-null  float64\n",
      " 2   SK_ID_CURR    48744 non-null  int64  \n",
      "dtypes: float64(2), int64(1)\n",
      "memory usage: 1.1 MB\n"
     ]
    }
   ],
   "source": [
    "y_RandomizedSearch.info()"
   ]
  },
  {
   "cell_type": "code",
   "execution_count": null,
   "id": "HWqfDV0HU90c",
   "metadata": {
    "id": "HWqfDV0HU90c"
   },
   "outputs": [],
   "source": [
    "y_RandomizedSearch['TARGET'] = round(y_RandomizedSearch['TARGET']).astype(\"int32\")"
   ]
  },
  {
   "cell_type": "code",
   "execution_count": null,
   "id": "YcWZ5R6lU90c",
   "metadata": {
    "id": "YcWZ5R6lU90c"
   },
   "outputs": [],
   "source": [
    "y_RandomizedSearch = y_RandomizedSearch[[\"SK_ID_CURR\", \"TARGET\"]]"
   ]
  },
  {
   "cell_type": "code",
   "execution_count": null,
   "id": "J3N0jF99U90c",
   "metadata": {
    "colab": {
     "base_uri": "https://localhost:8080/",
     "height": 206
    },
    "id": "J3N0jF99U90c",
    "outputId": "24fa36d8-187d-43e1-a1a9-723a261a4d15"
   },
   "outputs": [
    {
     "data": {
      "text/html": [
       "\n",
       "  <div id=\"df-9f501e1a-bed4-448c-b133-3c218d75ec81\">\n",
       "    <div class=\"colab-df-container\">\n",
       "      <div>\n",
       "<style scoped>\n",
       "    .dataframe tbody tr th:only-of-type {\n",
       "        vertical-align: middle;\n",
       "    }\n",
       "\n",
       "    .dataframe tbody tr th {\n",
       "        vertical-align: top;\n",
       "    }\n",
       "\n",
       "    .dataframe thead th {\n",
       "        text-align: right;\n",
       "    }\n",
       "</style>\n",
       "<table border=\"1\" class=\"dataframe\">\n",
       "  <thead>\n",
       "    <tr style=\"text-align: right;\">\n",
       "      <th></th>\n",
       "      <th>SK_ID_CURR</th>\n",
       "      <th>TARGET</th>\n",
       "    </tr>\n",
       "  </thead>\n",
       "  <tbody>\n",
       "    <tr>\n",
       "      <th>0</th>\n",
       "      <td>100001</td>\n",
       "      <td>0</td>\n",
       "    </tr>\n",
       "    <tr>\n",
       "      <th>1</th>\n",
       "      <td>100005</td>\n",
       "      <td>0</td>\n",
       "    </tr>\n",
       "    <tr>\n",
       "      <th>2</th>\n",
       "      <td>100013</td>\n",
       "      <td>0</td>\n",
       "    </tr>\n",
       "    <tr>\n",
       "      <th>3</th>\n",
       "      <td>100028</td>\n",
       "      <td>0</td>\n",
       "    </tr>\n",
       "    <tr>\n",
       "      <th>4</th>\n",
       "      <td>100038</td>\n",
       "      <td>0</td>\n",
       "    </tr>\n",
       "  </tbody>\n",
       "</table>\n",
       "</div>\n",
       "      <button class=\"colab-df-convert\" onclick=\"convertToInteractive('df-9f501e1a-bed4-448c-b133-3c218d75ec81')\"\n",
       "              title=\"Convert this dataframe to an interactive table.\"\n",
       "              style=\"display:none;\">\n",
       "        \n",
       "  <svg xmlns=\"http://www.w3.org/2000/svg\" height=\"24px\"viewBox=\"0 0 24 24\"\n",
       "       width=\"24px\">\n",
       "    <path d=\"M0 0h24v24H0V0z\" fill=\"none\"/>\n",
       "    <path d=\"M18.56 5.44l.94 2.06.94-2.06 2.06-.94-2.06-.94-.94-2.06-.94 2.06-2.06.94zm-11 1L8.5 8.5l.94-2.06 2.06-.94-2.06-.94L8.5 2.5l-.94 2.06-2.06.94zm10 10l.94 2.06.94-2.06 2.06-.94-2.06-.94-.94-2.06-.94 2.06-2.06.94z\"/><path d=\"M17.41 7.96l-1.37-1.37c-.4-.4-.92-.59-1.43-.59-.52 0-1.04.2-1.43.59L10.3 9.45l-7.72 7.72c-.78.78-.78 2.05 0 2.83L4 21.41c.39.39.9.59 1.41.59.51 0 1.02-.2 1.41-.59l7.78-7.78 2.81-2.81c.8-.78.8-2.07 0-2.86zM5.41 20L4 18.59l7.72-7.72 1.47 1.35L5.41 20z\"/>\n",
       "  </svg>\n",
       "      </button>\n",
       "      \n",
       "  <style>\n",
       "    .colab-df-container {\n",
       "      display:flex;\n",
       "      flex-wrap:wrap;\n",
       "      gap: 12px;\n",
       "    }\n",
       "\n",
       "    .colab-df-convert {\n",
       "      background-color: #E8F0FE;\n",
       "      border: none;\n",
       "      border-radius: 50%;\n",
       "      cursor: pointer;\n",
       "      display: none;\n",
       "      fill: #1967D2;\n",
       "      height: 32px;\n",
       "      padding: 0 0 0 0;\n",
       "      width: 32px;\n",
       "    }\n",
       "\n",
       "    .colab-df-convert:hover {\n",
       "      background-color: #E2EBFA;\n",
       "      box-shadow: 0px 1px 2px rgba(60, 64, 67, 0.3), 0px 1px 3px 1px rgba(60, 64, 67, 0.15);\n",
       "      fill: #174EA6;\n",
       "    }\n",
       "\n",
       "    [theme=dark] .colab-df-convert {\n",
       "      background-color: #3B4455;\n",
       "      fill: #D2E3FC;\n",
       "    }\n",
       "\n",
       "    [theme=dark] .colab-df-convert:hover {\n",
       "      background-color: #434B5C;\n",
       "      box-shadow: 0px 1px 3px 1px rgba(0, 0, 0, 0.15);\n",
       "      filter: drop-shadow(0px 1px 2px rgba(0, 0, 0, 0.3));\n",
       "      fill: #FFFFFF;\n",
       "    }\n",
       "  </style>\n",
       "\n",
       "      <script>\n",
       "        const buttonEl =\n",
       "          document.querySelector('#df-9f501e1a-bed4-448c-b133-3c218d75ec81 button.colab-df-convert');\n",
       "        buttonEl.style.display =\n",
       "          google.colab.kernel.accessAllowed ? 'block' : 'none';\n",
       "\n",
       "        async function convertToInteractive(key) {\n",
       "          const element = document.querySelector('#df-9f501e1a-bed4-448c-b133-3c218d75ec81');\n",
       "          const dataTable =\n",
       "            await google.colab.kernel.invokeFunction('convertToInteractive',\n",
       "                                                     [key], {});\n",
       "          if (!dataTable) return;\n",
       "\n",
       "          const docLinkHtml = 'Like what you see? Visit the ' +\n",
       "            '<a target=\"_blank\" href=https://colab.research.google.com/notebooks/data_table.ipynb>data table notebook</a>'\n",
       "            + ' to learn more about interactive tables.';\n",
       "          element.innerHTML = '';\n",
       "          dataTable['output_type'] = 'display_data';\n",
       "          await google.colab.output.renderOutput(dataTable, element);\n",
       "          const docLink = document.createElement('div');\n",
       "          docLink.innerHTML = docLinkHtml;\n",
       "          element.appendChild(docLink);\n",
       "        }\n",
       "      </script>\n",
       "    </div>\n",
       "  </div>\n",
       "  "
      ],
      "text/plain": [
       "   SK_ID_CURR  TARGET\n",
       "0      100001       0\n",
       "1      100005       0\n",
       "2      100013       0\n",
       "3      100028       0\n",
       "4      100038       0"
      ]
     },
     "execution_count": 155,
     "metadata": {},
     "output_type": "execute_result"
    }
   ],
   "source": [
    "y_RandomizedSearch.head()"
   ]
  },
  {
   "cell_type": "code",
   "execution_count": null,
   "id": "5ssdI69KU90c",
   "metadata": {
    "id": "5ssdI69KU90c"
   },
   "outputs": [],
   "source": [
    "y_RandomizedSearch.to_csv('csv_RS.csv', index=False)"
   ]
  },
  {
   "cell_type": "markdown",
   "id": "e645e849-a7e0-43af-b7d1-0b84c29f0e70",
   "metadata": {
    "id": "e645e849-a7e0-43af-b7d1-0b84c29f0e70"
   },
   "source": [
    "3- Load the predictions to the competition. Report the private score here."
   ]
  },
  {
   "cell_type": "markdown",
   "id": "HgyNN4-CuvKL",
   "metadata": {
    "id": "HgyNN4-CuvKL"
   },
   "source": [
    "**0.50216**"
   ]
  },
  {
   "cell_type": "markdown",
   "id": "be101430-3682-468d-a43d-8c78f60f96a5",
   "metadata": {
    "id": "be101430-3682-468d-a43d-8c78f60f96a5"
   },
   "source": [
    "4- If you have the time and resources, you can train the model for longer iterations, or select more estimator sizes. This is optional, but if you, we would love to see your results."
   ]
  },
  {
   "cell_type": "markdown",
   "id": "d72e7335-f3cc-410d-81f2-f110f3fbb252",
   "metadata": {
    "id": "d72e7335-f3cc-410d-81f2-f110f3fbb252"
   },
   "source": [
    "### Optional: Training a LightGBM model "
   ]
  },
  {
   "cell_type": "markdown",
   "id": "015d58b7-9f70-4bfb-8b72-20a626e00ea0",
   "metadata": {
    "id": "015d58b7-9f70-4bfb-8b72-20a626e00ea0"
   },
   "source": [
    "Gradient Boosting Machine is one of the most used machine learning algorithms for tabular data. Lots of competitions have been won using models from libraries like XGBoost or LightGBM. You can try using [LightGBM](https://lightgbm.readthedocs.io/en/latest/) to train a new model an see how it performs compared to the other classifiers you trained. "
   ]
  },
  {
   "cell_type": "code",
   "execution_count": null,
   "id": "91d497eb-2b8b-43fe-945e-26a04b8fc004",
   "metadata": {
    "id": "91d497eb-2b8b-43fe-945e-26a04b8fc004"
   },
   "outputs": [],
   "source": [
    "### Complete in this cell: train a LightGBM model\n"
   ]
  },
  {
   "cell_type": "markdown",
   "id": "c2d1a1f4-5e1e-4982-a6ae-a27b8c11428e",
   "metadata": {
    "id": "c2d1a1f4-5e1e-4982-a6ae-a27b8c11428e"
   },
   "source": [
    "### Optional: Using Scikit Learn Pipelines "
   ]
  },
  {
   "cell_type": "markdown",
   "id": "2e4f95fb-73bf-42c4-97a3-80078f2496aa",
   "metadata": {
    "id": "2e4f95fb-73bf-42c4-97a3-80078f2496aa"
   },
   "source": [
    "So far you've created special functions or blocks or code to chain operations on data and then train the models. But, reproducibility is important, and you don't want to have to remember the correct steps to follow each time you have new data to train your models. There are a lots of tools out there that can help you with that, here you can use a [Sklearn Pipeline](https://scikit-learn.org/stable/modules/generated/sklearn.pipeline.Pipeline.html) to process your data."
   ]
  }
 ],
 "metadata": {
  "colab": {
   "collapsed_sections": [
    "9d3c07ee-c3bf-4530-812a-36405502b38d"
   ],
   "provenance": []
  },
  "kernelspec": {
   "display_name": "Python 3 (ipykernel)",
   "language": "python",
   "name": "python3"
  },
  "language_info": {
   "codemirror_mode": {
    "name": "ipython",
    "version": 3
   },
   "file_extension": ".py",
   "mimetype": "text/x-python",
   "name": "python",
   "nbconvert_exporter": "python",
   "pygments_lexer": "ipython3",
   "version": "3.8.13"
  },
  "vscode": {
   "interpreter": {
    "hash": "916dbcbb3f70747c44a77c7bcd40155683ae19c65e1c03b4aa3499c5328201f1"
   }
  }
 },
 "nbformat": 4,
 "nbformat_minor": 5
}
